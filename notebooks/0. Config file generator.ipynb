{
 "cells": [
  {
   "cell_type": "markdown",
   "metadata": {},
   "source": [
    "### Config file generator\n",
    "<img src='../graphics/loop_sm.png'>\n",
    "This simple notebook provides a tool for generating map2loop config files, one of the more annoying parts of the process.\n",
    "   \n",
    "1. It first gets the project name and destination projection system (as EPSG number)\n",
    "2. then asks for the paths to the different shape files (for WFS you will have to edit this manually afterwards)   \n",
    "3. Finally for each input file, you have to defien which fields to use, and which keyords to look for in some of these fields   "
   ]
  },
  {
   "cell_type": "code",
   "execution_count": 54,
   "metadata": {},
   "outputs": [],
   "source": [
    "from ipyfilechooser import FileChooser\n",
    "import geopandas as gpd\n",
    "import ipywidgets as widgets\n",
    "import pandas as pd\n",
    "import os\n",
    "from IPython.display import Markdown, display\n",
    "def printmd(string):\n",
    "    display(Markdown(string))\n",
    "\n",
    "\n",
    "pd.options.display.max_columns = None\n",
    "style = {'description_width': 'initial'}\n",
    "c_l= {\n",
    "#Orientations\n",
    "  \"d\": \"dip\",                  #field that contains dip information\n",
    "  \"dd\": \"azimuth\",             #field that contains dip direction information\n",
    "  \"sf\": 'codedescpt',             #field that contains information on type of structure\n",
    "  \"bedding\": 'bedding',            #text to search for in field defined by sf code to show that this is a bedding measurement\n",
    "  \"otype\": 'dip direction',            #flag to determine measurement convention (currently 'strike' or 'dip direction')\n",
    "  \"bo\": \"deform\",             #field that contains type of foliation\n",
    "  \"btype\": 'BEOI',            #text to search for in field defined by bo code to show that this is an overturned bedding measurement\n",
    "#stratigraphy\n",
    "  \"g\": 'sub_provin',               #field that contains coarser stratigraphic coding\n",
    "  \"g2\": 'province',              #field that contains alternate coarser stratigraphic coding if 'g' is blank\n",
    "  \"c\": 'unit_name',                 #field that contains finer stratigraphic coding\n",
    "  \"ds\": 'deposition',           #field that contains information about lithology\n",
    "  \"u\": 'nsw_code',             #field that contains alternate stratigraphic coding (not used??)\n",
    "  \"r1\": 'class',           #field that contains  extra lithology information\n",
    "  \"r2\": 'igneous_ty',           #field that contains even more lithology information\n",
    "  \"sill\": 'sill',              #text to search for in field defined by ds code to show that this is a sill\n",
    "  \"intrusive\": 'intrusive',    #text to search for in field defined by r1 code to show that this is an intrusion\n",
    "  \"volcanic\": 'volcanic',      #text to search for in field defined by ds code to show that this is an volcanic (not intrusion)\n",
    "#mineral deposits\n",
    "  \"msc\": 'occurrence',          #field that contains site code of deposit\n",
    "  \"msn\": 'deposit_na',         #field that contains short name of deposit\n",
    "  \"mst\": 'comm_type',         #field that contains site type of deposit\n",
    "  \"mtc\": 'major_comm',         #field that contains target commodity of deposit\n",
    "  \"mscm\": 'ore_min',        #field that contains site commodity of deposit\n",
    "  \"mcom\": 'comm_type',        #field that contains commodity group of deposit\n",
    "  \"minf\": 'CONSTR',    #text to search for in field defined by mst code that shows site to ignore\n",
    "#timing\n",
    "  \"min\": 'top_end_ag',         #field that contains minimum age of unit defined by ccode\n",
    "  \"max\": 'base_start',         #field that contains maximum age of unit defined by ccode\n",
    "#faults and folds\n",
    "  \"f\": 'boundaryty',              #field that contains information on type of structure\n",
    "  \"fault\": 'Fault',            #text to search for in field defined by f code to show that this is a fault\n",
    "  \"ff\": 'codedescpt',  # field that contains information on type of structure\n",
    "  \"fold\": 'cline',  #text to search for in field defined by ff code to show that this is a fold axial trace\n",
    "  \"fdip\": 'dip',               # field for numeric fault dip value\n",
    "  \"fdipnull\": '0',         # text to search for in field defined by fdip to show that this has no known dip\n",
    "  \"fdipdir\": 'faultdipdi',        # field for text fault dip direction value \n",
    "  \"fdipdir_flag\": 'alpha',        # flag for text fault dip direction type num e.g. 045 or alpha e.g. southeast    \n",
    "  \"fdipest\": 'faultdipan',        # field for text fault dip estimate value\n",
    "  \"fdipest_vals\": 'Moderate,Listric,Steep,Vertical',        # text to search for in field defined by fdipest to give fault dip estimate in increasing steepness\n",
    "  \"n\": 'name',                 #field that contains information on name of fault (not used??)\n",
    "  \"t\": 'codedescpt',                 #field that contains information on type of fold\n",
    "  \"syn\": 'Syncline',           #text to search for in field defined by t to show that this is a syncline\n",
    "#ids\n",
    "  \"o\": 'unique_id',             #field that contains unique id of geometry object\n",
    "  \"gi\": 'objectid'            #field that contains unique id of structure point\n",
    "}"
   ]
  },
  {
   "cell_type": "code",
   "execution_count": 34,
   "metadata": {
    "scrolled": true
   },
   "outputs": [
    {
     "data": {
      "application/vnd.jupyter.widget-view+json": {
       "model_id": "f1071773d6054517aec84cf3f06cd638",
       "version_major": 2,
       "version_minor": 0
      },
      "text/plain": [
       "Text(value='Test', description='Project Name:', placeholder='Test', style=DescriptionStyle(description_width='…"
      ]
     },
     "metadata": {},
     "output_type": "display_data"
    },
    {
     "data": {
      "application/vnd.jupyter.widget-view+json": {
       "model_id": "6cae22a71e0d4afeaed8c5d6e879308e",
       "version_major": 2,
       "version_minor": 0
      },
      "text/plain": [
       "Dropdown(description='CRS EPSG:', options=('28348: GDA94 // MGA zone 48', '28349: GDA94 // MGA zone 49', '2835…"
      ]
     },
     "metadata": {},
     "output_type": "display_data"
    }
   ],
   "source": [
    "root_name_choice=widgets.Text(\n",
    "    placeholder='Test',\n",
    "    value='Test',\n",
    "    description='Project Name:',\n",
    "    disabled=False,\n",
    "    style=style,\n",
    "    tooltip='Name of directory to hold cpnfig file (relative path)'\n",
    ")\n",
    "display(root_name_choice)\n",
    "\n",
    "epsg=pd.read_csv('../source_data/epsg.csv')\n",
    "\n",
    "crs_choice=widgets.Dropdown(\n",
    "    options=epsg['epsg'],\n",
    "    description='CRS EPSG:',\n",
    "    disabled=False\n",
    ")\n",
    "display(crs_choice)\n"
   ]
  },
  {
   "cell_type": "code",
   "execution_count": 61,
   "metadata": {},
   "outputs": [
    {
     "data": {
      "text/markdown": [
       "**Test, epsg:28348**"
      ],
      "text/plain": [
       "<IPython.core.display.Markdown object>"
      ]
     },
     "metadata": {},
     "output_type": "display_data"
    }
   ],
   "source": [
    "root_name=root_name_choice.value\n",
    "epsg_code=crs_choice.value.split(\":\")\n",
    "dst_crs='epsg:'+epsg_code[0]\n",
    "printmd('**'+root_name+\", \"+dst_crs+'**')"
   ]
  },
  {
   "cell_type": "code",
   "execution_count": 62,
   "metadata": {
    "scrolled": false
   },
   "outputs": [
    {
     "data": {
      "application/vnd.jupyter.widget-view+json": {
       "model_id": "dda6f8c806624d958aa620c0ad321448",
       "version_major": 2,
       "version_minor": 0
      },
      "text/plain": [
       "FileChooser(path='../', filename='', show_hidden='False')"
      ]
     },
     "metadata": {},
     "output_type": "display_data"
    },
    {
     "data": {
      "application/vnd.jupyter.widget-view+json": {
       "model_id": "d9c99d7692e94d2a8c83f6c347aca1a1",
       "version_major": 2,
       "version_minor": 0
      },
      "text/plain": [
       "FileChooser(path='../', filename='', show_hidden='False')"
      ]
     },
     "metadata": {},
     "output_type": "display_data"
    },
    {
     "data": {
      "application/vnd.jupyter.widget-view+json": {
       "model_id": "83b4a4e1de0e4fae8e1fba131f572c7e",
       "version_major": 2,
       "version_minor": 0
      },
      "text/plain": [
       "FileChooser(path='../', filename='', show_hidden='False')"
      ]
     },
     "metadata": {},
     "output_type": "display_data"
    },
    {
     "data": {
      "application/vnd.jupyter.widget-view+json": {
       "model_id": "ce1181737df2469e886369648f3fa27e",
       "version_major": 2,
       "version_minor": 0
      },
      "text/plain": [
       "FileChooser(path='../', filename='', show_hidden='False')"
      ]
     },
     "metadata": {},
     "output_type": "display_data"
    },
    {
     "data": {
      "application/vnd.jupyter.widget-view+json": {
       "model_id": "f6acb3f86d8c495e88476928098e9543",
       "version_major": 2,
       "version_minor": 0
      },
      "text/plain": [
       "FileChooser(path='../', filename='', show_hidden='False')"
      ]
     },
     "metadata": {},
     "output_type": "display_data"
    }
   ],
   "source": [
    "structure_file_m = FileChooser('../')\n",
    "structure_file_m.title = '<b>Choose Bedding Orientation point file</b>'\n",
    "display(structure_file_m)\n",
    "\n",
    "fault_file_m = FileChooser('../')\n",
    "fault_file_m.title = '<b>Choose Fault polyline file</b>'\n",
    "display(fault_file_m)\n",
    "\n",
    "fold_file_m = FileChooser('../')\n",
    "fold_file_m.title = '<b>Choose Fold polyline file</b>'\n",
    "display(fold_file_m)\n",
    "\n",
    "geology_file_m = FileChooser('../')\n",
    "geology_file_m.title = '<b>Choose Geology Polygon file</b>'\n",
    "display(geology_file_m)\n",
    "\n",
    "mindep_file_m = FileChooser('../')\n",
    "mindep_file_m.title = '<b>Choose Mineral Deposit file</b>'\n",
    "display(mindep_file_m)\n",
    "\n"
   ]
  },
  {
   "cell_type": "code",
   "execution_count": 65,
   "metadata": {},
   "outputs": [
    {
     "data": {
      "text/plain": [
       "''"
      ]
     },
     "metadata": {},
     "output_type": "display_data"
    },
    {
     "data": {
      "text/plain": [
       "''"
      ]
     },
     "metadata": {},
     "output_type": "display_data"
    },
    {
     "data": {
      "text/plain": [
       "''"
      ]
     },
     "metadata": {},
     "output_type": "display_data"
    },
    {
     "data": {
      "text/plain": [
       "''"
      ]
     },
     "metadata": {},
     "output_type": "display_data"
    },
    {
     "data": {
      "text/plain": [
       "''"
      ]
     },
     "metadata": {},
     "output_type": "display_data"
    }
   ],
   "source": [
    "if(str(structure_file_m.selected_path) =='None'):\n",
    "    structure_file=''\n",
    "else:\n",
    "    structure_file=structure_file_m.selected_path+'\\\\'+structure_file_m.selected_filename\n",
    "if(str(fault_file_m.selected_path) =='None'):\n",
    "    fault_file=''\n",
    "else:\n",
    "    fault_file=fault_file_m.selected_path+'\\\\'+fault_file_m.selected_filename\n",
    "if(str(fold_file_m.selected_path) =='None'):\n",
    "    fold_file=''\n",
    "else:\n",
    "    fold_file=fold_file_m.selected_path+'\\\\'+fold_file_m.selected_filename\n",
    "if(str(geology_file_m.selected_path) =='None'):\n",
    "    geology_file=''\n",
    "else:\n",
    "    geology_file=geology_file_m.selected_path+'\\\\'+geology_file_m.selected_filename\n",
    "if(str(mindep_file_m.selected_path) =='None'):\n",
    "    mindep_file=''\n",
    "else:\n",
    "    mindep_file=mindep_file_m.selected_path+'\\\\'+mindep_file_m.selected_filename\n",
    "\n",
    "display(structure_file,fault_file,fold_file,geology_file,mindep_file)"
   ]
  },
  {
   "cell_type": "code",
   "execution_count": 74,
   "metadata": {},
   "outputs": [
    {
     "data": {
      "text/markdown": [
       "**Based on file: **"
      ],
      "text/plain": [
       "<IPython.core.display.Markdown object>"
      ]
     },
     "metadata": {},
     "output_type": "display_data"
    },
    {
     "data": {
      "text/markdown": [
       "\n",
       "**Field that contas unique id of structure point**"
      ],
      "text/plain": [
       "<IPython.core.display.Markdown object>"
      ]
     },
     "metadata": {},
     "output_type": "display_data"
    },
    {
     "data": {
      "application/vnd.jupyter.widget-view+json": {
       "model_id": "42c7fa22277843678dd6b7fa0ccc9bf0",
       "version_major": 2,
       "version_minor": 0
      },
      "text/plain": [
       "Dropdown(description='Unique ID', options=('objectid', 'site_id_gb', 'dmrcode', 'codedescpt', 'azimuth', 'dip'…"
      ]
     },
     "metadata": {},
     "output_type": "display_data"
    },
    {
     "data": {
      "text/markdown": [
       "**Field that contains information on type of structure**"
      ],
      "text/plain": [
       "<IPython.core.display.Markdown object>"
      ]
     },
     "metadata": {},
     "output_type": "display_data"
    },
    {
     "data": {
      "application/vnd.jupyter.widget-view+json": {
       "model_id": "697603afb0d84326b31551d43b639280",
       "version_major": 2,
       "version_minor": 0
      },
      "text/plain": [
       "Dropdown(description='Structure', options=('objectid', 'site_id_gb', 'dmrcode', 'codedescpt', 'azimuth', 'dip'…"
      ]
     },
     "metadata": {},
     "output_type": "display_data"
    },
    {
     "data": {
      "text/markdown": [
       "**Text to search for in field defined by type of structure code to show that this is a bedding measurement**"
      ],
      "text/plain": [
       "<IPython.core.display.Markdown object>"
      ]
     },
     "metadata": {},
     "output_type": "display_data"
    },
    {
     "data": {
      "application/vnd.jupyter.widget-view+json": {
       "model_id": "8d8e506ed7ca4c2cb03835cc0c3342cc",
       "version_major": 2,
       "version_minor": 0
      },
      "text/plain": [
       "Text(value='Bed', description='Bedding text', placeholder='Bed')"
      ]
     },
     "metadata": {},
     "output_type": "display_data"
    },
    {
     "data": {
      "text/markdown": [
       "**Field that contains dip information**"
      ],
      "text/plain": [
       "<IPython.core.display.Markdown object>"
      ]
     },
     "metadata": {},
     "output_type": "display_data"
    },
    {
     "data": {
      "application/vnd.jupyter.widget-view+json": {
       "model_id": "92f1c46a39864c0fa33c599f114f3041",
       "version_major": 2,
       "version_minor": 0
      },
      "text/plain": [
       "Dropdown(description='Dip', options=('objectid', 'site_id_gb', 'dmrcode', 'codedescpt', 'azimuth', 'dip', 'def…"
      ]
     },
     "metadata": {},
     "output_type": "display_data"
    },
    {
     "data": {
      "text/markdown": [
       "**Field that contains dip direction information**"
      ],
      "text/plain": [
       "<IPython.core.display.Markdown object>"
      ]
     },
     "metadata": {},
     "output_type": "display_data"
    },
    {
     "data": {
      "application/vnd.jupyter.widget-view+json": {
       "model_id": "ae3f23654afb411b9456b1d70337a096",
       "version_major": 2,
       "version_minor": 0
      },
      "text/plain": [
       "Dropdown(description='Dip Direction', options=('objectid', 'site_id_gb', 'dmrcode', 'codedescpt', 'azimuth', '…"
      ]
     },
     "metadata": {},
     "output_type": "display_data"
    },
    {
     "data": {
      "text/markdown": [
       "**Flag to determine measurement convention**"
      ],
      "text/plain": [
       "<IPython.core.display.Markdown object>"
      ]
     },
     "metadata": {},
     "output_type": "display_data"
    },
    {
     "data": {
      "application/vnd.jupyter.widget-view+json": {
       "model_id": "ac9a03fb9c7444ce990fb0a6b152559d",
       "version_major": 2,
       "version_minor": 0
      },
      "text/plain": [
       "Dropdown(description='Convention', options=('dip direction', 'strike'), value='dip direction')"
      ]
     },
     "metadata": {},
     "output_type": "display_data"
    },
    {
     "data": {
      "text/markdown": [
       "**Field that contains polarity of foliation**"
      ],
      "text/plain": [
       "<IPython.core.display.Markdown object>"
      ]
     },
     "metadata": {},
     "output_type": "display_data"
    },
    {
     "data": {
      "application/vnd.jupyter.widget-view+json": {
       "model_id": "39e3d853fc1c42ccb9db191cce2c098d",
       "version_major": 2,
       "version_minor": 0
      },
      "text/plain": [
       "Dropdown(description='Polarity', options=('objectid', 'site_id_gb', 'dmrcode', 'codedescpt', 'azimuth', 'dip',…"
      ]
     },
     "metadata": {},
     "output_type": "display_data"
    },
    {
     "data": {
      "text/markdown": [
       "**Text to search for in field defined by Polarity code to show that this is an overturned bedding measurement**"
      ],
      "text/plain": [
       "<IPython.core.display.Markdown object>"
      ]
     },
     "metadata": {},
     "output_type": "display_data"
    },
    {
     "data": {
      "application/vnd.jupyter.widget-view+json": {
       "model_id": "197d54236a104ddcac0b4ac43b77c363",
       "version_major": 2,
       "version_minor": 0
      },
      "text/plain": [
       "Text(value='Blah', description='Pol. text', placeholder='Blah')"
      ]
     },
     "metadata": {},
     "output_type": "display_data"
    }
   ],
   "source": [
    "if(not structure_file==''):\n",
    "    structure=gpd.read_file(structure_file)\n",
    "    display(structure.head())\n",
    "\n",
    "printmd('**Based on file: '+structure_file+'**')\n",
    "printmd('\\n**Field that contas unique id of structure point**')\n",
    "gi_choice=widgets.Dropdown(\n",
    "    options=structure.columns,\n",
    "    description='Unique ID',\n",
    "    disabled=False\n",
    "\n",
    ")\n",
    "display(gi_choice)\n",
    "\n",
    "printmd('**Field that contains information on type of structure**')\n",
    "\n",
    "sf_choice=widgets.Dropdown(\n",
    "    options=structure.columns,\n",
    "    description='Structure',\n",
    "    disabled=False\n",
    ")\n",
    "display(sf_choice)\n",
    "\n",
    "printmd('**Text to search for in field defined by type of structure code to show that this is a bedding measurement**')\n",
    "\n",
    "bedding_choice=widgets.Text(\n",
    "    placeholder='Bed',\n",
    "    value='Bed',\n",
    "    description='Bedding text',\n",
    "    disabled=False\n",
    ")\n",
    "display(bedding_choice)\n",
    "\n",
    "printmd('**Field that contains dip information**')\n",
    "\n",
    "d_choice=widgets.Dropdown(\n",
    "    options=structure.columns,\n",
    "    description='Dip',\n",
    "    disabled=False\n",
    ")\n",
    "display(d_choice)\n",
    "\n",
    "printmd('**Field that contains dip direction information**')\n",
    "\n",
    "dd_choice=widgets.Dropdown(\n",
    "    options=structure.columns,\n",
    "    description='Dip Direction',\n",
    "    disabled=False\n",
    ")\n",
    "display(dd_choice)\n",
    "\n",
    "printmd('**Flag to determine measurement convention**')\n",
    "\n",
    "otype_choice=widgets.Dropdown(\n",
    "    options=('dip direction','strike'),\n",
    "    description='Convention',\n",
    "    disabled=False\n",
    ")\n",
    "display(otype_choice)\n",
    "\n",
    "printmd('**Field that contains polarity of foliation**')\n",
    "\n",
    "bo_choice=widgets.Dropdown(\n",
    "    options=structure.columns,\n",
    "    description='Polarity',\n",
    "    disabled=False\n",
    ")\n",
    "display(bo_choice)\n",
    "\n",
    "printmd('**Text to search for in field defined by Polarity code to show that this is an overturned bedding measurement**')\n",
    "\n",
    "btype_choice=widgets.Text(\n",
    "    placeholder='Blah',\n",
    "    value='Blah',\n",
    "    description='Pol. text',\n",
    "    disabled=False\n",
    ")\n",
    "display(btype_choice)\n",
    "\n"
   ]
  },
  {
   "cell_type": "code",
   "execution_count": 67,
   "metadata": {},
   "outputs": [
    {
     "data": {
      "text/markdown": [
       "**Based on file: **"
      ],
      "text/plain": [
       "<IPython.core.display.Markdown object>"
      ]
     },
     "metadata": {},
     "output_type": "display_data"
    },
    {
     "data": {
      "text/markdown": [
       "\n",
       "**Field that contains information on type of structure**"
      ],
      "text/plain": [
       "<IPython.core.display.Markdown object>"
      ]
     },
     "metadata": {},
     "output_type": "display_data"
    },
    {
     "data": {
      "application/vnd.jupyter.widget-view+json": {
       "model_id": "c24559405c0a480f96dd29166faa0da1",
       "version_major": 2,
       "version_minor": 0
      },
      "text/plain": [
       "Dropdown(description='Fault field:', options=('ID', 'Length', 'Angle', 'index_righ', 'objectid', 'boundaryty',…"
      ]
     },
     "metadata": {},
     "output_type": "display_data"
    },
    {
     "data": {
      "text/markdown": [
       "**Text to search for in field defined by Fault field code to show that this is a fault**"
      ],
      "text/plain": [
       "<IPython.core.display.Markdown object>"
      ]
     },
     "metadata": {},
     "output_type": "display_data"
    },
    {
     "data": {
      "application/vnd.jupyter.widget-view+json": {
       "model_id": "151b7b27b6ed4bd7b082f3c608bc4ed0",
       "version_major": 2,
       "version_minor": 0
      },
      "text/plain": [
       "Text(value='Fault', description='Fault text:', placeholder='Fault')"
      ]
     },
     "metadata": {},
     "output_type": "display_data"
    },
    {
     "data": {
      "text/markdown": [
       "**Field for numeric fault dip value**"
      ],
      "text/plain": [
       "<IPython.core.display.Markdown object>"
      ]
     },
     "metadata": {},
     "output_type": "display_data"
    },
    {
     "data": {
      "application/vnd.jupyter.widget-view+json": {
       "model_id": "6bf9cc9529504617bb14e1a6c37a3f15",
       "version_major": 2,
       "version_minor": 0
      },
      "text/plain": [
       "Dropdown(description='Dip:', options=('ID', 'Length', 'Angle', 'index_righ', 'objectid', 'boundaryty', 'exposu…"
      ]
     },
     "metadata": {},
     "output_type": "display_data"
    },
    {
     "data": {
      "text/markdown": [
       "**Text to search for in field defined by fdip to show that this has no known dip**"
      ],
      "text/plain": [
       "<IPython.core.display.Markdown object>"
      ]
     },
     "metadata": {},
     "output_type": "display_data"
    },
    {
     "data": {
      "application/vnd.jupyter.widget-view+json": {
       "model_id": "265dd80bc3464453a9b0f92e22335038",
       "version_major": 2,
       "version_minor": 0
      },
      "text/plain": [
       "Text(value='0', description='NULL dip:', placeholder='0')"
      ]
     },
     "metadata": {},
     "output_type": "display_data"
    },
    {
     "data": {
      "text/markdown": [
       "**Field for text fault dip direction value**"
      ],
      "text/plain": [
       "<IPython.core.display.Markdown object>"
      ]
     },
     "metadata": {},
     "output_type": "display_data"
    },
    {
     "data": {
      "application/vnd.jupyter.widget-view+json": {
       "model_id": "7b9a9fda00e6416f931afee30c32f2bb",
       "version_major": 2,
       "version_minor": 0
      },
      "text/plain": [
       "Dropdown(description='Dip Direction:', options=('ID', 'Length', 'Angle', 'index_righ', 'objectid', 'boundaryty…"
      ]
     },
     "metadata": {},
     "output_type": "display_data"
    },
    {
     "data": {
      "text/markdown": [
       "**Flag for text fault dip direction type num e.g. 045 or alpha e.g. southeast**"
      ],
      "text/plain": [
       "<IPython.core.display.Markdown object>"
      ]
     },
     "metadata": {},
     "output_type": "display_data"
    },
    {
     "data": {
      "application/vnd.jupyter.widget-view+json": {
       "model_id": "9d4e5d130ae74d269029d1c620ad7db8",
       "version_major": 2,
       "version_minor": 0
      },
      "text/plain": [
       "Dropdown(description='Dip Convention:', options=('alpha', 'num'), style=DescriptionStyle(description_width='in…"
      ]
     },
     "metadata": {},
     "output_type": "display_data"
    },
    {
     "data": {
      "text/markdown": [
       "**Field for text fault dip estimate value**"
      ],
      "text/plain": [
       "<IPython.core.display.Markdown object>"
      ]
     },
     "metadata": {},
     "output_type": "display_data"
    },
    {
     "data": {
      "application/vnd.jupyter.widget-view+json": {
       "model_id": "fa966719bc9d4965a5ad025de8e69831",
       "version_major": 2,
       "version_minor": 0
      },
      "text/plain": [
       "Dropdown(description='Dip estimate:', options=('ID', 'Length', 'Angle', 'index_righ', 'objectid', 'boundaryty'…"
      ]
     },
     "metadata": {},
     "output_type": "display_data"
    },
    {
     "data": {
      "text/markdown": [
       "**Text to search for in field defined by fdipest to give fault dip estimate in increasing steepness**"
      ],
      "text/plain": [
       "<IPython.core.display.Markdown object>"
      ]
     },
     "metadata": {},
     "output_type": "display_data"
    },
    {
     "data": {
      "application/vnd.jupyter.widget-view+json": {
       "model_id": "ef9f987becdd46889053df48ff9522a7",
       "version_major": 2,
       "version_minor": 0
      },
      "text/plain": [
       "Text(value='Shallow, Steep', description='Text Dips:', placeholder='Shallow, Steep')"
      ]
     },
     "metadata": {},
     "output_type": "display_data"
    },
    {
     "data": {
      "text/markdown": [
       "**Field that contains information on name of fault (not used??)**"
      ],
      "text/plain": [
       "<IPython.core.display.Markdown object>"
      ]
     },
     "metadata": {},
     "output_type": "display_data"
    },
    {
     "data": {
      "application/vnd.jupyter.widget-view+json": {
       "model_id": "bfad501d3a2c40d4800eba605d163018",
       "version_major": 2,
       "version_minor": 0
      },
      "text/plain": [
       "Dropdown(description='Name:', options=('ID', 'Length', 'Angle', 'index_righ', 'objectid', 'boundaryty', 'expos…"
      ]
     },
     "metadata": {},
     "output_type": "display_data"
    }
   ],
   "source": [
    "c_l['gi']=gi_choice.value\n",
    "c_l['sf']=sf_choice.value\n",
    "c_l['bedding']=bedding_choice.value\n",
    "c_l['d']=d_choice.value\n",
    "c_l['dd']=dd_choice.value\n",
    "c_l['otype']=otype_choice.value\n",
    "c_l['bo']=bo_choice.value\n",
    "c_l['btype']=btype_choice.value\n",
    "\n",
    "if(not fault_file==''):\n",
    "    fault=gpd.read_file(fault_file)\n",
    "    display(fault.head())\n",
    "printmd('**Based on file: '+fault_file+'**')\n",
    "\n",
    "printmd('\\n**Field that contains information on type of structure**')\n",
    "\n",
    "\n",
    "f_choice=widgets.Dropdown(\n",
    "    options=fault.columns,\n",
    "    description='Fault field:',\n",
    "    disabled=False\n",
    ")\n",
    "display(f_choice)\n",
    "\n",
    "printmd('**Text to search for in field defined by Fault field code to show that this is a fault**')\n",
    "\n",
    "fault_choice=widgets.Text(\n",
    "    placeholder='Fault',\n",
    "    value='Fault',\n",
    "    description='Fault text:',\n",
    "    disabled=False\n",
    ")\n",
    "display(fault_choice)\n",
    "\n",
    "printmd('**Field for numeric fault dip value**')\n",
    "\n",
    "fdip_choice=widgets.Dropdown(\n",
    "    options=fault.columns,\n",
    "    description='Dip:',\n",
    "    disabled=False\n",
    ")\n",
    "display(fdip_choice)\n",
    "\n",
    "printmd('**Text to search for in field defined by fdip to show that this has no known dip**')\n",
    "\n",
    "fdipnull_choice=widgets.Text(\n",
    "    placeholder='0',\n",
    "    value='0',\n",
    "    description='NULL dip:',\n",
    "    disabled=False\n",
    ")\n",
    "display(fdipnull_choice)\n",
    "\n",
    "printmd('**Field for text fault dip direction value**')\n",
    "\n",
    "fdipdir_choice=widgets.Dropdown(\n",
    "    options=fault.columns,\n",
    "    description='Dip Direction:',\n",
    "    disabled=False\n",
    ")\n",
    "display(fdipdir_choice)\n",
    "\n",
    "printmd('**Flag for text fault dip direction type num e.g. 045 or alpha e.g. southeast**')\n",
    "\n",
    "fdipdir_flag_choice=widgets.Dropdown(\n",
    "    options=('alpha','num'),\n",
    "    description='Dip Convention:',\n",
    "    disabled=False,\n",
    "    style=style\n",
    ")\n",
    "display(fdipdir_flag_choice)\n",
    "\n",
    "printmd('**Field for text fault dip estimate value**')\n",
    "\n",
    "fdipest_choice=widgets.Dropdown(\n",
    "    options=fault.columns,\n",
    "    description='Dip estimate:',\n",
    "    disabled=False\n",
    ")\n",
    "display(fdipest_choice)\n",
    "\n",
    "printmd('**Text to search for in field defined by fdipest to give fault dip estimate in increasing steepness**')\n",
    "\n",
    "fdipest_vals_choice=widgets.Text(\n",
    "    placeholder='Shallow, Steep',\n",
    "    value='Shallow, Steep',\n",
    "    description='Text Dips:',\n",
    "    disabled=False\n",
    ")\n",
    "display(fdipest_vals_choice)\n",
    "\n",
    "printmd('**Field that contains information on name of fault (not used??)**')\n",
    "\n",
    "n_choice=widgets.Dropdown(\n",
    "    options=fault.columns,\n",
    "    description='Name:',\n",
    "    disabled=False\n",
    ")\n",
    "display(n_choice)\n",
    "\n",
    "\n",
    "\n",
    "\n"
   ]
  },
  {
   "cell_type": "code",
   "execution_count": 68,
   "metadata": {},
   "outputs": [
    {
     "data": {
      "text/markdown": [
       "**Based on file: **"
      ],
      "text/plain": [
       "<IPython.core.display.Markdown object>"
      ]
     },
     "metadata": {},
     "output_type": "display_data"
    },
    {
     "data": {
      "text/markdown": [
       "\n",
       "**Field that contains information on type of structure**"
      ],
      "text/plain": [
       "<IPython.core.display.Markdown object>"
      ]
     },
     "metadata": {},
     "output_type": "display_data"
    },
    {
     "data": {
      "application/vnd.jupyter.widget-view+json": {
       "model_id": "b1364fb743ac4003aff46a51d7e94788",
       "version_major": 2,
       "version_minor": 0
      },
      "text/plain": [
       "Dropdown(description='Fold field:', options=('objectid', 'dmrcode', 'codedescpt', 'strucname', 'foldgen', 'map…"
      ]
     },
     "metadata": {},
     "output_type": "display_data"
    },
    {
     "data": {
      "text/markdown": [
       "**Text to search for in field defined by ff code to show that this is a fold axial trace**"
      ],
      "text/plain": [
       "<IPython.core.display.Markdown object>"
      ]
     },
     "metadata": {},
     "output_type": "display_data"
    },
    {
     "data": {
      "application/vnd.jupyter.widget-view+json": {
       "model_id": "a77fa6a3dea54f26956d3d773f12d1c8",
       "version_major": 2,
       "version_minor": 0
      },
      "text/plain": [
       "Text(value='Fold', description='Fold text:', placeholder='Fold')"
      ]
     },
     "metadata": {},
     "output_type": "display_data"
    },
    {
     "data": {
      "text/markdown": [
       "**Field that contains information on type of fold**"
      ],
      "text/plain": [
       "<IPython.core.display.Markdown object>"
      ]
     },
     "metadata": {},
     "output_type": "display_data"
    },
    {
     "data": {
      "application/vnd.jupyter.widget-view+json": {
       "model_id": "b782325cf6ef4b3792dce7fe4d5b4f3c",
       "version_major": 2,
       "version_minor": 0
      },
      "text/plain": [
       "Dropdown(description='Polarity field:', options=('objectid', 'dmrcode', 'codedescpt', 'strucname', 'foldgen', …"
      ]
     },
     "metadata": {},
     "output_type": "display_data"
    },
    {
     "data": {
      "text/markdown": [
       "**Text to search for in field defined by t to show that this is a syncline**"
      ],
      "text/plain": [
       "<IPython.core.display.Markdown object>"
      ]
     },
     "metadata": {},
     "output_type": "display_data"
    },
    {
     "data": {
      "application/vnd.jupyter.widget-view+json": {
       "model_id": "a240779e52764908b9af06605bd91b2a",
       "version_major": 2,
       "version_minor": 0
      },
      "text/plain": [
       "Text(value='syn', description='Syncline text:', placeholder='syn')"
      ]
     },
     "metadata": {},
     "output_type": "display_data"
    }
   ],
   "source": [
    "c_l['f']=f_choice.value\n",
    "c_l['fault']=fault_choice.value\n",
    "c_l['fdip']=fdip_choice.value\n",
    "c_l['fdipnull']=fdipnull_choice.value\n",
    "c_l['fdipdir']=fdipdir_choice.value\n",
    "c_l['fdipdir_flag']=fdipdir_flag_choice.value\n",
    "c_l['fdipest']=fdipest_choice.value\n",
    "c_l['n']=n_choice.value\n",
    "\n",
    "if(not fold_file==''):\n",
    "    fold=gpd.read_file(fold_file)\n",
    "    display(fold.head())\n",
    "printmd('**Based on file:'+' '+fault_file+'**')\n",
    "\n",
    "printmd('\\n**Field that contains information on type of structure**')\n",
    "\n",
    "ff_choice=widgets.Dropdown(\n",
    "    options=fold.columns,\n",
    "    description='Fold field:',\n",
    "    disabled=False\n",
    ")\n",
    "display(ff_choice)\n",
    "\n",
    "printmd('**Text to search for in field defined by ff code to show that this is a fold axial trace**')\n",
    "\n",
    "fold_choice=widgets.Text(\n",
    "    placeholder='Fold',\n",
    "    value='Fold',\n",
    "    description='Fold text:',\n",
    "    disabled=False\n",
    ")\n",
    "display(fold_choice)\n",
    "\n",
    "printmd('**Field that contains information on type of fold**')\n",
    "\n",
    "t_choice=widgets.Dropdown(\n",
    "    options=fold.columns,\n",
    "    description='Polarity field:',\n",
    "    disabled=False\n",
    ")\n",
    "display(t_choice)\n",
    "\n",
    "printmd('**Text to search for in field defined by t to show that this is a syncline**')\n",
    "\n",
    "syn_choice=widgets.Text(\n",
    "    placeholder='syn',\n",
    "    value='syn',\n",
    "    description='Syncline text:',\n",
    "    disabled=False\n",
    ")\n",
    "display(syn_choice)\n"
   ]
  },
  {
   "cell_type": "code",
   "execution_count": 69,
   "metadata": {},
   "outputs": [
    {
     "data": {
      "text/markdown": [
       "**Based on file: **"
      ],
      "text/plain": [
       "<IPython.core.display.Markdown object>"
      ]
     },
     "metadata": {},
     "output_type": "display_data"
    },
    {
     "data": {
      "text/markdown": [
       "\n",
       "**Field that contains coarser stratigraphic coding**"
      ],
      "text/plain": [
       "<IPython.core.display.Markdown object>"
      ]
     },
     "metadata": {},
     "output_type": "display_data"
    },
    {
     "data": {
      "application/vnd.jupyter.widget-view+json": {
       "model_id": "312f878cc4cd4bd299103db094f3c869",
       "version_major": 2,
       "version_minor": 0
      },
      "text/plain": [
       "Dropdown(description='Group', options=('objectid', 'nsw_code', 'unit_name', 'all_strati', 'province', 'sub_pro…"
      ]
     },
     "metadata": {},
     "output_type": "display_data"
    },
    {
     "data": {
      "text/markdown": [
       "**Field that contains alternate coarser stratigraphic coding if Group is blank**"
      ],
      "text/plain": [
       "<IPython.core.display.Markdown object>"
      ]
     },
     "metadata": {},
     "output_type": "display_data"
    },
    {
     "data": {
      "application/vnd.jupyter.widget-view+json": {
       "model_id": "1d17fc3f8c4e4aefa7008a99d09368a9",
       "version_major": 2,
       "version_minor": 0
      },
      "text/plain": [
       "Dropdown(description='Group alt', options=('objectid', 'nsw_code', 'unit_name', 'all_strati', 'province', 'sub…"
      ]
     },
     "metadata": {},
     "output_type": "display_data"
    },
    {
     "data": {
      "text/markdown": [
       "**Field that contains finer stratigraphic coding**"
      ],
      "text/plain": [
       "<IPython.core.display.Markdown object>"
      ]
     },
     "metadata": {},
     "output_type": "display_data"
    },
    {
     "data": {
      "application/vnd.jupyter.widget-view+json": {
       "model_id": "aa875c4533534cceadb3a5566e619f72",
       "version_major": 2,
       "version_minor": 0
      },
      "text/plain": [
       "Dropdown(description='Formation', options=('objectid', 'nsw_code', 'unit_name', 'all_strati', 'province', 'sub…"
      ]
     },
     "metadata": {},
     "output_type": "display_data"
    },
    {
     "data": {
      "text/markdown": [
       "**Field that contains information about lithology**"
      ],
      "text/plain": [
       "<IPython.core.display.Markdown object>"
      ]
     },
     "metadata": {},
     "output_type": "display_data"
    },
    {
     "data": {
      "application/vnd.jupyter.widget-view+json": {
       "model_id": "14915622d1ff413abffa48496dce85e7",
       "version_major": 2,
       "version_minor": 0
      },
      "text/plain": [
       "Dropdown(description='Description:', options=('objectid', 'nsw_code', 'unit_name', 'all_strati', 'province', '…"
      ]
     },
     "metadata": {},
     "output_type": "display_data"
    },
    {
     "data": {
      "text/markdown": [
       "**Field that contains alternate stratigraphic coding (not used??)**"
      ],
      "text/plain": [
       "<IPython.core.display.Markdown object>"
      ]
     },
     "metadata": {},
     "output_type": "display_data"
    },
    {
     "data": {
      "application/vnd.jupyter.widget-view+json": {
       "model_id": "96f3ef9a274d42e0aa173ccb0df3db36",
       "version_major": 2,
       "version_minor": 0
      },
      "text/plain": [
       "Dropdown(description='Strat alt', options=('objectid', 'nsw_code', 'unit_name', 'all_strati', 'province', 'sub…"
      ]
     },
     "metadata": {},
     "output_type": "display_data"
    },
    {
     "data": {
      "text/markdown": [
       "**Field that contains extra lithology information**"
      ],
      "text/plain": [
       "<IPython.core.display.Markdown object>"
      ]
     },
     "metadata": {},
     "output_type": "display_data"
    },
    {
     "data": {
      "application/vnd.jupyter.widget-view+json": {
       "model_id": "2469383485cb473686f78243b4b2b7c2",
       "version_major": 2,
       "version_minor": 0
      },
      "text/plain": [
       "Dropdown(description='Litho', options=('objectid', 'nsw_code', 'unit_name', 'all_strati', 'province', 'sub_pro…"
      ]
     },
     "metadata": {},
     "output_type": "display_data"
    },
    {
     "data": {
      "text/markdown": [
       "**Field that contains even more lithology information**"
      ],
      "text/plain": [
       "<IPython.core.display.Markdown object>"
      ]
     },
     "metadata": {},
     "output_type": "display_data"
    },
    {
     "data": {
      "application/vnd.jupyter.widget-view+json": {
       "model_id": "e4f386b0fe1947ee8b85eec9b27b8c3f",
       "version_major": 2,
       "version_minor": 0
      },
      "text/plain": [
       "Dropdown(description='Litho alt', options=('objectid', 'nsw_code', 'unit_name', 'all_strati', 'province', 'sub…"
      ]
     },
     "metadata": {},
     "output_type": "display_data"
    },
    {
     "data": {
      "text/markdown": [
       "**Text to search for in field defined by ds code to show that this is a sill**"
      ],
      "text/plain": [
       "<IPython.core.display.Markdown object>"
      ]
     },
     "metadata": {},
     "output_type": "display_data"
    },
    {
     "data": {
      "application/vnd.jupyter.widget-view+json": {
       "model_id": "0ee258daf95c4422856f4c2ea64fee74",
       "version_major": 2,
       "version_minor": 0
      },
      "text/plain": [
       "Text(value='sill', description='Sill text', placeholder='sill')"
      ]
     },
     "metadata": {},
     "output_type": "display_data"
    },
    {
     "data": {
      "text/markdown": [
       "**Text to search for in field defined by r1 code to show that this is an intrusion**"
      ],
      "text/plain": [
       "<IPython.core.display.Markdown object>"
      ]
     },
     "metadata": {},
     "output_type": "display_data"
    },
    {
     "data": {
      "application/vnd.jupyter.widget-view+json": {
       "model_id": "28289e08c2bc40458b69550737405a80",
       "version_major": 2,
       "version_minor": 0
      },
      "text/plain": [
       "Text(value='intrusive', description='Intrusive text', placeholder='intrusive')"
      ]
     },
     "metadata": {},
     "output_type": "display_data"
    },
    {
     "data": {
      "text/markdown": [
       "**Text to search for in field defined by ds code to show that this is an volcanic (not intrusion)**"
      ],
      "text/plain": [
       "<IPython.core.display.Markdown object>"
      ]
     },
     "metadata": {},
     "output_type": "display_data"
    },
    {
     "data": {
      "application/vnd.jupyter.widget-view+json": {
       "model_id": "c0b4207d43fd478b94f2d463a187758e",
       "version_major": 2,
       "version_minor": 0
      },
      "text/plain": [
       "Text(value='volc', description='Volc text', placeholder='volc')"
      ]
     },
     "metadata": {},
     "output_type": "display_data"
    },
    {
     "data": {
      "text/markdown": [
       "**Field that contains minimum age of unit defined by Formation**"
      ],
      "text/plain": [
       "<IPython.core.display.Markdown object>"
      ]
     },
     "metadata": {},
     "output_type": "display_data"
    },
    {
     "data": {
      "application/vnd.jupyter.widget-view+json": {
       "model_id": "2d31c9fa431540a4b9115d6c6059a3b0",
       "version_major": 2,
       "version_minor": 0
      },
      "text/plain": [
       "Dropdown(description='Min age', options=('objectid', 'nsw_code', 'unit_name', 'all_strati', 'province', 'sub_p…"
      ]
     },
     "metadata": {},
     "output_type": "display_data"
    },
    {
     "data": {
      "text/markdown": [
       "**Field that contains maximum age of unit defined by Formation**"
      ],
      "text/plain": [
       "<IPython.core.display.Markdown object>"
      ]
     },
     "metadata": {},
     "output_type": "display_data"
    },
    {
     "data": {
      "application/vnd.jupyter.widget-view+json": {
       "model_id": "7d86750d42ae4828b02b193cae0bcbe1",
       "version_major": 2,
       "version_minor": 0
      },
      "text/plain": [
       "Dropdown(description='Max age', options=('objectid', 'nsw_code', 'unit_name', 'all_strati', 'province', 'sub_p…"
      ]
     },
     "metadata": {},
     "output_type": "display_data"
    }
   ],
   "source": [
    "c_l['ff']=ff_choice.value\n",
    "c_l['fold']=fold_choice.value\n",
    "c_l['t']=t_choice.value\n",
    "c_l['syn']=syn_choice.value\n",
    "\n",
    "if(not geology_file==''):\n",
    "    geology=gpd.read_file(geology_file)\n",
    "    display(geology.head())\n",
    "printmd('**Based on file:'+' '+geology_file+'**')\n",
    "\n",
    "printmd('\\n**Field that contains coarser stratigraphic coding**')\n",
    "\n",
    "g_choice=widgets.Dropdown(\n",
    "    options=geology.columns,\n",
    "    description='Group',\n",
    "    disabled=False\n",
    ")\n",
    "display(g_choice)\n",
    "\n",
    "printmd('**Field that contains alternate coarser stratigraphic coding if Group is blank**')\n",
    "\n",
    "g2_choice=widgets.Dropdown(\n",
    "    options=geology.columns,\n",
    "    description='Group alt',\n",
    "    disabled=False\n",
    ")\n",
    "display(g2_choice)\n",
    "\n",
    "printmd('**Field that contains finer stratigraphic coding**')\n",
    "\n",
    "c_choice=widgets.Dropdown(\n",
    "    options=geology.columns,\n",
    "    description='Formation',\n",
    "    disabled=False\n",
    ")\n",
    "display(c_choice)\n",
    "\n",
    "printmd('**Field that contains information about lithology**')\n",
    "\n",
    "ds_choice=widgets.Dropdown(\n",
    "    options=geology.columns,\n",
    "    description='Description:',\n",
    "    disabled=False\n",
    ")\n",
    "display(ds_choice)\n",
    "\n",
    "printmd('**Field that contains alternate stratigraphic coding (not used??)**')\n",
    "\n",
    "u_choice=widgets.Dropdown(\n",
    "    options=geology.columns,\n",
    "    description='Strat alt',\n",
    "    disabled=False\n",
    ")\n",
    "display(u_choice)\n",
    "\n",
    "printmd('**Field that contains extra lithology information**')\n",
    "\n",
    "r1_choice=widgets.Dropdown(\n",
    "    options=geology.columns,\n",
    "    description='Litho',\n",
    "    disabled=False\n",
    ")\n",
    "display(r1_choice)\n",
    "\n",
    "printmd('**Field that contains even more lithology information**')\n",
    "\n",
    "r2_choice=widgets.Dropdown(\n",
    "    options=geology.columns,\n",
    "    description='Litho alt',\n",
    "    disabled=False\n",
    ")\n",
    "display(r2_choice)\n",
    "\n",
    "printmd('**Text to search for in field defined by ds code to show that this is a sill**')\n",
    "\n",
    "sill_choice=widgets.Text(\n",
    "    placeholder='sill',\n",
    "    value='sill',\n",
    "    description='Sill text',\n",
    "    disabled=False\n",
    ")\n",
    "display(sill_choice)\n",
    "\n",
    "printmd('**Text to search for in field defined by r1 code to show that this is an intrusion**')\n",
    "\n",
    "intrusive_choice=widgets.Text(\n",
    "    placeholder='intrusive',\n",
    "    value='intrusive',\n",
    "    description='Intrusive text',\n",
    "    disabled=False\n",
    ")\n",
    "display(intrusive_choice)\n",
    "\n",
    "printmd('**Text to search for in field defined by ds code to show that this is an volcanic (not intrusion)**')\n",
    "\n",
    "\n",
    "volcanic_choice=widgets.Text(\n",
    "    placeholder='volc',\n",
    "    value='volc',\n",
    "    description='Volc text',\n",
    "    disabled=False\n",
    ")\n",
    "display(volcanic_choice)\n",
    "\n",
    "printmd('**Field that contains minimum age of unit defined by Formation**')\n",
    "\n",
    "min_choice=widgets.Dropdown(\n",
    "    options=geology.columns,\n",
    "    description='Min age',\n",
    "    disabled=False\n",
    ")\n",
    "display(min_choice)\n",
    "\n",
    "printmd('**Field that contains maximum age of unit defined by Formation**')\n",
    "\n",
    "max_choice=widgets.Dropdown(\n",
    "    options=geology.columns,\n",
    "    description='Max age',\n",
    "    disabled=False\n",
    ")\n",
    "display(max_choice)\n",
    "\n"
   ]
  },
  {
   "cell_type": "code",
   "execution_count": 70,
   "metadata": {},
   "outputs": [
    {
     "data": {
      "text/markdown": [
       "**Based on file: **"
      ],
      "text/plain": [
       "<IPython.core.display.Markdown object>"
      ]
     },
     "metadata": {},
     "output_type": "display_data"
    },
    {
     "data": {
      "text/markdown": [
       "\n",
       "**Field that contains site code of deposit**"
      ],
      "text/plain": [
       "<IPython.core.display.Markdown object>"
      ]
     },
     "metadata": {},
     "output_type": "display_data"
    },
    {
     "data": {
      "application/vnd.jupyter.widget-view+json": {
       "model_id": "b46ddf586b3b445b89d29b5f9cfb96de",
       "version_major": 2,
       "version_minor": 0
      },
      "text/plain": [
       "Dropdown(description='Site code', options=('occurrence', 'deposit_na', 'comm_type', 'field_no', 'metal_no', 'o…"
      ]
     },
     "metadata": {},
     "output_type": "display_data"
    },
    {
     "data": {
      "text/markdown": [
       "**Field that contains short name of deposit**"
      ],
      "text/plain": [
       "<IPython.core.display.Markdown object>"
      ]
     },
     "metadata": {},
     "output_type": "display_data"
    },
    {
     "data": {
      "application/vnd.jupyter.widget-view+json": {
       "model_id": "336c6bb4ad6c4200b5f20d0e4d29f2f7",
       "version_major": 2,
       "version_minor": 0
      },
      "text/plain": [
       "Dropdown(description='Name', options=('occurrence', 'deposit_na', 'comm_type', 'field_no', 'metal_no', 'old_no…"
      ]
     },
     "metadata": {},
     "output_type": "display_data"
    },
    {
     "data": {
      "text/markdown": [
       "**Field that contains site type of deposit**"
      ],
      "text/plain": [
       "<IPython.core.display.Markdown object>"
      ]
     },
     "metadata": {},
     "output_type": "display_data"
    },
    {
     "data": {
      "application/vnd.jupyter.widget-view+json": {
       "model_id": "92df3eadafdb4336bb82edce0046a8b3",
       "version_major": 2,
       "version_minor": 0
      },
      "text/plain": [
       "Dropdown(description='Site type', options=('occurrence', 'deposit_na', 'comm_type', 'field_no', 'metal_no', 'o…"
      ]
     },
     "metadata": {},
     "output_type": "display_data"
    },
    {
     "data": {
      "text/markdown": [
       "**Field that contains target commodity of deposit**"
      ],
      "text/plain": [
       "<IPython.core.display.Markdown object>"
      ]
     },
     "metadata": {},
     "output_type": "display_data"
    },
    {
     "data": {
      "application/vnd.jupyter.widget-view+json": {
       "model_id": "43783fd698d6470e964f6c19f8aa6e67",
       "version_major": 2,
       "version_minor": 0
      },
      "text/plain": [
       "Dropdown(description='Major Comm', options=('occurrence', 'deposit_na', 'comm_type', 'field_no', 'metal_no', '…"
      ]
     },
     "metadata": {},
     "output_type": "display_data"
    },
    {
     "data": {
      "text/markdown": [
       "**Field that contains site commodity of deposit**"
      ],
      "text/plain": [
       "<IPython.core.display.Markdown object>"
      ]
     },
     "metadata": {},
     "output_type": "display_data"
    },
    {
     "data": {
      "application/vnd.jupyter.widget-view+json": {
       "model_id": "0d408b25cc0549ebae207946dceeffe8",
       "version_major": 2,
       "version_minor": 0
      },
      "text/plain": [
       "Dropdown(description='Ore Min', options=('occurrence', 'deposit_na', 'comm_type', 'field_no', 'metal_no', 'old…"
      ]
     },
     "metadata": {},
     "output_type": "display_data"
    },
    {
     "data": {
      "text/markdown": [
       "**Field that contains commodity group of deposit**"
      ],
      "text/plain": [
       "<IPython.core.display.Markdown object>"
      ]
     },
     "metadata": {},
     "output_type": "display_data"
    },
    {
     "data": {
      "application/vnd.jupyter.widget-view+json": {
       "model_id": "4c63b267911e450abe5a84e6a50d2087",
       "version_major": 2,
       "version_minor": 0
      },
      "text/plain": [
       "Dropdown(description='Commodity Group', options=('occurrence', 'deposit_na', 'comm_type', 'field_no', 'metal_n…"
      ]
     },
     "metadata": {},
     "output_type": "display_data"
    },
    {
     "data": {
      "text/markdown": [
       "**Text to search for in field defined by Site type code that shows site to ignore**"
      ],
      "text/plain": [
       "<IPython.core.display.Markdown object>"
      ]
     },
     "metadata": {},
     "output_type": "display_data"
    },
    {
     "data": {
      "application/vnd.jupyter.widget-view+json": {
       "model_id": "e6e7315ba48c4a238791fc72cdecd0ae",
       "version_major": 2,
       "version_minor": 0
      },
      "text/plain": [
       "Text(value='Cons', description='Not mine text', placeholder='Cons')"
      ]
     },
     "metadata": {},
     "output_type": "display_data"
    }
   ],
   "source": [
    "c_l['g']=g_choice.value\n",
    "c_l['g2']=g2_choice.value\n",
    "c_l['c']=c_choice.value\n",
    "c_l['ds']=ds_choice.value\n",
    "c_l['u']=u_choice.value\n",
    "c_l['r1']=r1_choice.value\n",
    "c_l['r2']=r2_choice.value\n",
    "c_l['sill']=sill_choice.value\n",
    "c_l['intrusive']=intrusive_choice.value\n",
    "c_l['volcanic']=volcanic_choice.value\n",
    "c_l['min']=min_choice.value\n",
    "c_l['max']=max_choice.value\n",
    "\n",
    "if(not mindep_file==''):\n",
    "    mindep=gpd.read_file(mindep_file)\n",
    "    display(mindep.head())\n",
    "    \n",
    "printmd('**Based on file:'+' '+mindep_file+'**')\n",
    "\n",
    "printmd('\\n**Field that contains site code of deposit**')\n",
    "\n",
    "msc_choice=widgets.Dropdown(\n",
    "    options=mindep.columns,\n",
    "    description='Site code',\n",
    "    disabled=False\n",
    ")\n",
    "display(msc_choice)\n",
    "\n",
    "printmd('**Field that contains short name of deposit**')\n",
    "\n",
    "msn_choice=widgets.Dropdown(\n",
    "    options=mindep.columns,\n",
    "    description='Name',\n",
    "    disabled=False\n",
    ")\n",
    "display(msn_choice)\n",
    "\n",
    "printmd('**Field that contains site type of deposit**')\n",
    "\n",
    "mst_choice=widgets.Dropdown(\n",
    "    options=mindep.columns,\n",
    "    description='Site type',\n",
    "    disabled=False\n",
    ")\n",
    "display(mst_choice)\n",
    "\n",
    "printmd('**Field that contains target commodity of deposit**')\n",
    "\n",
    "mtc_choice=widgets.Dropdown(\n",
    "    options=mindep.columns,\n",
    "    description='Major Comm',\n",
    "    disabled=False\n",
    ")\n",
    "display(mtc_choice)\n",
    "\n",
    "printmd('**Field that contains site commodity of deposit**')\n",
    "\n",
    "mscm_choice=widgets.Dropdown(\n",
    "    options=mindep.columns,\n",
    "    description='Ore Min',\n",
    "    disabled=False\n",
    ")\n",
    "display(mscm_choice)\n",
    "\n",
    "printmd('**Field that contains commodity group of deposit**')\n",
    "\n",
    "mcom_choice=widgets.Dropdown(\n",
    "    options=mindep.columns,\n",
    "    description='Commodity Group',\n",
    "    disabled=False,\n",
    "    style=style\n",
    ")\n",
    "display(mcom_choice)\n",
    "\n",
    "printmd('**Text to search for in field defined by Site type code that shows site to ignore**')\n",
    "\n",
    "minf_choice=widgets.Text(\n",
    "    placeholder='Cons',\n",
    "    value='Cons',\n",
    "    description='Not mine text',\n",
    "    disabled=False\n",
    ")\n",
    "display(minf_choice)\n"
   ]
  },
  {
   "cell_type": "code",
   "execution_count": 71,
   "metadata": {},
   "outputs": [],
   "source": [
    "c_l['msc']=msc_choice.value\n",
    "c_l['msn']=msn_choice.value\n",
    "c_l['mst']=mst_choice.value\n",
    "c_l['mtc']=mtc_choice.value\n",
    "c_l['mscm']=mscm_choice.value\n",
    "c_l['mcom']=mcom_choice.value\n",
    "c_l['minf']=minf_choice.value\n",
    "\n",
    "\n",
    "if(not os.path.isdir('../'+root_name)):\n",
    "    os.mkdir('../'+root_name)\n",
    "f=open('../'+root_name+'/m2l_config.py',\"w\")\n",
    "\n",
    "f.write(\"#ROI\\n\")\n",
    "f.write(\"\\n\")\n",
    "f.write(\"step_out=0.1   #padding around dtm to ensure reprojected dtm covers target area (in degrees)\\n\")\n",
    "f.write(\"inset=0      #unused??\\n\")\n",
    "f.write(\"\\n\")\n",
    "f.write(\"#\\n\")\n",
    "f.write(\"#minx=500057  #region of interest coordinates in metre-based system (or non-degree system)\\n\")\n",
    "f.write(\"#maxx=603028\\n\")\n",
    "f.write(\"#miny=7455348\\n\")\n",
    "f.write(\"#maxy=7567953\\n\")\n",
    "f.write(\"model_top=1200\\n\")\n",
    "f.write(\"model_base=-3200\\n\")\n",
    "f.write(\"\\n\")\n",
    "f.write(\"#PATHS\\n\")\n",
    "f.write(\"\\n\")\n",
    "f.write(\"local_paths=False       #flag to use local or WFS source for data inputs (True = local)\\n\")\n",
    "f.write(\"\\n\")\n",
    "f.write(\"\\n\")\n",
    "f.write(\"data_path=''\\n\")\n",
    "f.write(\"clut_path=''\\n\")\n",
    "f.write(\"base_url='https://gs-seamless.geoscience.nsw.gov.au/geoserver/ows?service=wfs&version=2.0.0&request=GetFeature&typeName='\\n\")\n",
    "f.write(\"\\n\")\n",
    "f.write(\"structure_file='\"+structure_file+\"'\\n\")\n",
    "f.write(\"fault_file='\"+fault_file+\"'\\n\")\n",
    "f.write(\"fold_file='\"+fold_file+\"'\\n\")\n",
    "f.write(\"geology_file='\"+geology_file+\"'\\n\")\n",
    "f.write(\"mindep_file='\"+mindep_file+\"'\\n\")\n",
    "f.write(\"\\n\")\n",
    "f.write(\"#CRS\\n\")\n",
    "f.write(\"\\n\")\n",
    "f.write(\"src_crs = 'epsg:4326'  # coordinate reference system for imported dtms (geodetic lat/long WGS84)\\n\")\n",
    "f.write(\"dst_crs = '\"+dst_crs+\"' # coordinate system for data\\n\")\n",
    "f.write(\"\\n\")\n",
    "f.write(\"#CODES AND LABELS \\n\")\n",
    "f.write(\"# these refer to specific fields (codes) in GIS layer or database that contain the info needed for these calcs and text substrings (labels) in the contents of these fields\\n\")\n",
    "f.write(\"c_l= {\\n\")\n",
    "f.write(str(c_l)+\"\\n\")\n",
    "f.write(\"\\n\")\n",
    "f.write(\"#DECIMATION\\n\")\n",
    "f.write(\"\\n\")\n",
    "f.write(\"orientation_decimate=0  #store every nth orientation (in object order) 0 = save all\\n\")\n",
    "f.write(\"contact_decimate=10     #store every nth contact point (in object order) 0 = save all\\n\")\n",
    "f.write(\"fault_decimate=5        #store every nth fault point (in object order) 0 = save all\\n\")\n",
    "f.write(\"fold_decimate=5         #store every nth fold axial trace point (in object order) 0 = save all\\n\")\n",
    "f.write(\"\\n\")\n",
    "f.write(\"#INTERPOLATION\\n\")\n",
    "f.write(\"\\n\")\n",
    "f.write(\"gridx=50                #x grid dimensions (no of points, not distance) for interpolations\\n\")\n",
    "f.write(\"gridy=50                #x grid dimensions (no of points, not distance) for interpolations\\n\")\n",
    "f.write(\"scheme='scipy_rbf'      #interpolation scheme\\n\")\n",
    "f.write(\"dist_buffer=5           #buffer distance for clipping points by faults (in metres or same units as dst_crs)\\n\")\n",
    "f.write(\"intrusion_mode=0        # 1 all intrusions exluded from basal contacts, 0 only sills\\n\")\n",
    "f.write(\"use_interpolations=False    # flag to use interpolated orientations or not.\\n\")\n",
    "f.write(\"\\n\")\n",
    "f.write(\"#ASSUMPTIONS\\n\")\n",
    "f.write(\"\\n\")\n",
    "f.write(\"pluton_dip=45           #surface dip of pluton contacts\\n\")\n",
    "f.write(\"pluton_form='domes'     #saucers: \\__+_+__/  batholith: +/       \\+   domes: /  +  + \\  pendant: +\\_____/+\\n\")\n",
    "f.write(\"fault_dip=90            #surface dip of faults\\n\")\n",
    "f.write(\"\\n\")\n",
    "f.write(\"#DERIVED AND FIXED PATHS\\n\")\n",
    "f.write(\"\\n\")\n",
    "f.write(\"m2m_cpp_path='../m2m_cpp/'\\n\")\n",
    "f.write(\"\\n\")\n",
    "f.write(\"graph_path=test_data_path+'graph/'\\n\")\n",
    "f.write(\"tmp_path=test_data_path+'tmp/'\\n\")\n",
    "f.write(\"#data_path=test_data_path+'data/'\\n\")\n",
    "f.write(\"dtm_path=test_data_path+'dtm/'\\n\")\n",
    "f.write(\"output_path=test_data_path+'output/'\\n\")\n",
    "f.write(\"vtk_path=test_data_path+'vtk/'\\n\")\n",
    "f.write(\"\\n\")\n",
    "f.write(\"fault_file_csv=tmp_path+'fault_file.csv'\\n\")\n",
    "f.write(\"structure_file_csv=tmp_path+'structure_file.csv'\\n\")\n",
    "f.write(\"geology_file_csv=tmp_path+'geology_file.csv'\\n\")\n",
    "f.write(\"mindep_file_csv=tmp_path+'mindep_file.csv'\\n\")\n",
    "f.write(\"\\n\")\n",
    "f.write(\"fault_file=data_path+fault_file\\n\")\n",
    "f.write(\"fold_file=data_path+fold_file\\n\")\n",
    "f.write(\"structure_file=data_path+structure_file\\n\")\n",
    "f.write(\"geology_file=data_path+geology_file\\n\")\n",
    "f.write(\"mindep_file=data_path+mindep_file\\n\")\n",
    "f.write(\"\\n\")\n",
    "f.write(\"strat_graph_file=test_data_path+'graph/graph_strat_NONE.gml'\\n\")\n",
    "f.write(\"\\n\")\n",
    "f.write(\"dtm_file=dtm_path+'dtm.tif'\\n\")\n",
    "f.write(\"dtm_reproj_file=dtm_path+'dtm_rp.tif'\\n\")\n",
    "f.write(\"\\n\")\n",
    "f.write(\"if(not os.path.isdir(test_data_path)):\\n\")\n",
    "f.write(\"   os.mkdir(test_data_path)\\n\")\n",
    "f.write(\"if(not os.path.isdir(tmp_path)):\\n\")\n",
    "f.write(\"   os.mkdir(tmp_path)\\n\")\n",
    "f.write(\"if(not os.path.isdir(output_path)):\\n\")\n",
    "f.write(\"   os.mkdir(output_path)\\n\")\n",
    "f.write(\"if(not os.path.isdir(dtm_path)):\\n\")\n",
    "f.write(\"   os.mkdir(dtm_path)\\n\")\n",
    "f.write(\"if(not os.path.isdir(vtk_path)):\\n\")\n",
    "f.write(\"   os.mkdir(vtk_path)\\n\")\n",
    "f.write(\"if(not os.path.isdir(graph_path)):\\n\")\n",
    "f.write(\"   os.mkdir(graph_path)\\n\")\n",
    "f.write(\"\\n\")\n",
    "f.write(\"print('Default parameters loaded from '+test_data_path+'m2l_config_remote.py:')\\n\")\n",
    "f.write(\"with open('../\"+root_name+\"/m2l_config_remote.py', 'r') as myfile:\\n\")\n",
    "f.write(\"  data = myfile.read()\\n\")\n",
    "f.write(\"  print(data)\\n\")\n",
    "f.write(\"  myfile.close()\\n\")\n",
    "f.write(\"\\n\")\n",
    "f.write(\"print('\\nModify these parameters in the cell below'\\n\")\n",
    "f.close()"
   ]
  },
  {
   "cell_type": "code",
   "execution_count": null,
   "metadata": {},
   "outputs": [],
   "source": []
  }
 ],
 "metadata": {
  "kernelspec": {
   "display_name": "Python 3",
   "language": "python",
   "name": "python3"
  },
  "language_info": {
   "codemirror_mode": {
    "name": "ipython",
    "version": 3
   },
   "file_extension": ".py",
   "mimetype": "text/x-python",
   "name": "python",
   "nbconvert_exporter": "python",
   "pygments_lexer": "ipython3",
   "version": "3.7.7"
  }
 },
 "nbformat": 4,
 "nbformat_minor": 4
}
