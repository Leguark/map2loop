{
 "cells": [
  {
   "cell_type": "markdown",
   "metadata": {},
   "source": [
    "### Config file generator\n",
    "<img src='../graphics/loop_sm.png'>\n",
    "This simple notebook provides a tool for generating map2loop config files, one of the more annoying parts of the process.\n",
    "   \n",
    "1. It first gets the project name and destination projection system (as EPSG number)   \n",
    "   \n",
    "2. It then asks for the paths to the different shape files (for WFS you will have to edit this manually afterwards)   \n",
    "   \n",
    "3. Finally for each input file, you have to define which fields to use, and which keywords to look for in some of these fields   \n",
    "     \n",
    "4. Finally, make a copy of the <a href=\"0.%20Generic%20config%20file.ipynb\" target=\"_blank\">0. Generic config file notebook</a> and update the **test_data_name** parameter   \n",
    "   \n",
    "Lots of the parameters not related to the GIS layers are hard-wired by this notebook, but can be easily overridden in the notebooks and are much less fiddly to deal with."
   ]
  },
  {
   "cell_type": "code",
   "execution_count": 4,
   "metadata": {},
   "outputs": [],
   "source": [
    "from ipyfilechooser import FileChooser\n",
    "import geopandas as gpd\n",
    "import ipywidgets as widgets\n",
    "import pandas as pd\n",
    "import os\n",
    "from IPython.display import Markdown, display\n",
    "\n",
    "def printmd(string):\n",
    "    display(Markdown(string))\n",
    "    \n",
    "pd.options.display.max_columns = None\n",
    "style = {'description_width': 'initial'}\n",
    "c_l= {\n",
    "#Orientations\n",
    "  \"d\": \"dip\",                  #field that contains dip information\n",
    "  \"dd\": \"azimuth\",             #field that contains dip direction information\n",
    "  \"sf\": 'codedescpt',             #field that contains information on type of structure\n",
    "  \"bedding\": 'bedding',            #text to search for in field defined by sf code to show that this is a bedding measurement\n",
    "  \"otype\": 'dip direction',            #flag to determine measurement convention (currently 'strike' or 'dip direction')\n",
    "  \"bo\": \"deform\",             #field that contains type of foliation\n",
    "  \"btype\": 'BEOI',            #text to search for in field defined by bo code to show that this is an overturned bedding measurement\n",
    "#stratigraphy\n",
    "  \"g\": 'sub_provin',               #field that contains coarser stratigraphic coding\n",
    "  \"g2\": 'province',              #field that contains alternate coarser stratigraphic coding if 'g' is blank\n",
    "  \"c\": 'unit_name',                 #field that contains finer stratigraphic coding\n",
    "  \"ds\": 'deposition',           #field that contains information about lithology\n",
    "  \"u\": 'nsw_code',             #field that contains alternate stratigraphic coding (not used??)\n",
    "  \"r1\": 'class',           #field that contains  extra lithology information\n",
    "  \"r2\": 'igneous_ty',           #field that contains even more lithology information\n",
    "  \"sill\": 'sill',              #text to search for in field defined by ds code to show that this is a sill\n",
    "  \"intrusive\": 'intrusive',    #text to search for in field defined by r1 code to show that this is an intrusion\n",
    "  \"volcanic\": 'volcanic',      #text to search for in field defined by ds code to show that this is an volcanic (not intrusion)\n",
    "#mineral deposits\n",
    "  \"msc\": 'SITE_CODE',          #field that contains site code of deposit\n",
    "  \"msn\": 'SHORT_NAME',         #field that contains short name of deposit\n",
    "  \"mst\": 'SITE_TYPE_',         #field that contains site type of deposit\n",
    "  \"mtc\": 'TARGET_COM',         #field that contains target commodity of deposit\n",
    "  \"mscm\": 'SITE_COMMO',        #field that contains site commodity of deposit\n",
    "  \"mcom\": 'COMMODITY_',        #field that contains commodity group of deposit\n",
    "  \"minf\": 'Infrastructure',    #text to search for in field defined by mst code that shows site to ignore\n",
    "#timing\n",
    "  \"min\": 'top_end_ag',         #field that contains minimum age of unit defined by ccode\n",
    "  \"max\": 'base_start',         #field that contains maximum age of unit defined by ccode\n",
    "#faults and folds\n",
    "  \"f\": 'boundaryty',              #field that contains information on type of structure\n",
    "  \"fault\": 'Fault',            #text to search for in field defined by f code to show that this is a fault\n",
    "  \"ff\": 'codedescpt',  # field that contains information on type of structure\n",
    "  \"fold\": 'cline',  #text to search for in field defined by ff code to show that this is a fold axial trace\n",
    "  \"fdip\": 'dip',               # field for numeric fault dip value\n",
    "  \"fdipnull\": '0',         # text to search for in field defined by fdip to show that this has no known dip\n",
    "  \"fdipdir\": 'faultdipdi',        # field for text fault dip direction value \n",
    "  \"fdipdir_flag\": 'alpha',        # flag for text fault dip direction type num e.g. 045 or alpha e.g. southeast    \n",
    "  \"fdipest\": 'faultdipan',        # field for text fault dip estimate value\n",
    "  \"fdipest_vals\": 'Moderate,Listric,Steep,Vertical',        # text to search for in field defined by fdipest to give fault dip estimate in increasing steepness\n",
    "  \"n\": 'name',                 #field that contains information on name of fault (not used??)\n",
    "  \"t\": 'codedescpt',                 #field that contains information on type of fold\n",
    "  \"syn\": 'Syncline',           #text to search for in field defined by t to show that this is a syncline\n",
    "#ids\n",
    "  \"o\": 'unique_id',             #field that contains unique id of geometry object\n",
    "  \"gi\": 'objectid'            #field that contains unique id of structure point\n",
    "}"
   ]
  },
  {
   "cell_type": "code",
   "execution_count": 5,
   "metadata": {
    "scrolled": true
   },
   "outputs": [
    {
     "data": {
      "application/vnd.jupyter.widget-view+json": {
       "model_id": "ee4a50a3a10441b9915bc80aecbbce95",
       "version_major": 2,
       "version_minor": 0
      },
      "text/plain": [
       "Text(value='Test', description='Project Name:', placeholder='Test', style=DescriptionStyle(description_width='…"
      ]
     },
     "metadata": {},
     "output_type": "display_data"
    },
    {
     "data": {
      "application/vnd.jupyter.widget-view+json": {
       "model_id": "b65abf35fd7146329a36b55138042ca1",
       "version_major": 2,
       "version_minor": 0
      },
      "text/plain": [
       "Dropdown(description='CRS EPSG:', options=('28348: GDA94 // MGA zone 48', '28349: GDA94 // MGA zone 49', '2835…"
      ]
     },
     "metadata": {},
     "output_type": "display_data"
    }
   ],
   "source": [
    "test_data_name_choice=widgets.Text(\n",
    "    placeholder='Test',\n",
    "    value='Test',\n",
    "    description='Project Name:',\n",
    "    disabled=False,\n",
    "    style=style,\n",
    "    tooltip='Name of directory to hold config file (relative path)'\n",
    ")\n",
    "display(test_data_name_choice)\n",
    "\n",
    "epsg=pd.read_csv('../source_data/epsg.csv')\n",
    "\n",
    "crs_choice=widgets.Dropdown(\n",
    "    options=epsg['epsg'],\n",
    "    description='CRS EPSG:',\n",
    "    disabled=False\n",
    ")\n",
    "display(crs_choice)\n"
   ]
  },
  {
   "cell_type": "code",
   "execution_count": 6,
   "metadata": {},
   "outputs": [
    {
     "data": {
      "text/markdown": [
       "**TAS, epsg:28355**"
      ],
      "text/plain": [
       "<IPython.core.display.Markdown object>"
      ]
     },
     "metadata": {},
     "output_type": "display_data"
    }
   ],
   "source": [
    "test_data_name=test_data_name_choice.value\n",
    "epsg_code=crs_choice.value.split(\":\")\n",
    "dst_crs='epsg:'+epsg_code[0]\n",
    "printmd('**'+test_data_name+\", \"+dst_crs+'**')"
   ]
  },
  {
   "cell_type": "code",
   "execution_count": 7,
   "metadata": {},
   "outputs": [
    {
     "data": {
      "application/vnd.jupyter.widget-view+json": {
       "model_id": "f664ac5e92074236b3d9314c5b8ff3c2",
       "version_major": 2,
       "version_minor": 0
      },
      "text/plain": [
       "Text(value='0', description='min x:', placeholder='0', style=DescriptionStyle(description_width='initial'))"
      ]
     },
     "metadata": {},
     "output_type": "display_data"
    },
    {
     "data": {
      "application/vnd.jupyter.widget-view+json": {
       "model_id": "51cc614bb0654979ad8bf01dd935178a",
       "version_major": 2,
       "version_minor": 0
      },
      "text/plain": [
       "Text(value='1', description='max x:', placeholder='1', style=DescriptionStyle(description_width='initial'))"
      ]
     },
     "metadata": {},
     "output_type": "display_data"
    },
    {
     "data": {
      "application/vnd.jupyter.widget-view+json": {
       "model_id": "48869fb1e12740fc9b67d82fe612f872",
       "version_major": 2,
       "version_minor": 0
      },
      "text/plain": [
       "Text(value='0', description='min y:', placeholder='0', style=DescriptionStyle(description_width='initial'))"
      ]
     },
     "metadata": {},
     "output_type": "display_data"
    },
    {
     "data": {
      "application/vnd.jupyter.widget-view+json": {
       "model_id": "1353f7313f44451c962f8a6de01808f5",
       "version_major": 2,
       "version_minor": 0
      },
      "text/plain": [
       "Text(value='1', description='max y:', placeholder='1', style=DescriptionStyle(description_width='initial'))"
      ]
     },
     "metadata": {},
     "output_type": "display_data"
    }
   ],
   "source": [
    "minx_choice=widgets.Text(\n",
    "    placeholder='0',\n",
    "    value='0',\n",
    "    description='min x:',\n",
    "    disabled=False,\n",
    "    style=style\n",
    ")\n",
    "display(minx_choice)\n",
    "\n",
    "maxx_choice=widgets.Text(\n",
    "    placeholder='1',\n",
    "    value='1',\n",
    "    description='max x:',\n",
    "    disabled=False,\n",
    "    style=style\n",
    ")\n",
    "display(maxx_choice)\n",
    "\n",
    "miny_choice=widgets.Text(\n",
    "    placeholder='0',\n",
    "    value='0',\n",
    "    description='min y:',\n",
    "    disabled=False,\n",
    "    style=style\n",
    ")\n",
    "display(miny_choice)\n",
    "\n",
    "maxy_choice=widgets.Text(\n",
    "    placeholder='1',\n",
    "    value='1',\n",
    "    description='max y:',\n",
    "    disabled=False,\n",
    "    style=style\n",
    ")\n",
    "display(maxy_choice)\n"
   ]
  },
  {
   "cell_type": "code",
   "execution_count": 8,
   "metadata": {
    "scrolled": false
   },
   "outputs": [
    {
     "data": {
      "application/vnd.jupyter.widget-view+json": {
       "model_id": "0156d0b46b674cd58bb814c189b68941",
       "version_major": 2,
       "version_minor": 0
      },
      "text/plain": [
       "FileChooser(path='../', filename='', show_hidden='False')"
      ]
     },
     "metadata": {},
     "output_type": "display_data"
    },
    {
     "data": {
      "application/vnd.jupyter.widget-view+json": {
       "model_id": "27654ddb44fb44f19431bbcdc8ba925f",
       "version_major": 2,
       "version_minor": 0
      },
      "text/plain": [
       "FileChooser(path='../', filename='', show_hidden='False')"
      ]
     },
     "metadata": {},
     "output_type": "display_data"
    },
    {
     "data": {
      "application/vnd.jupyter.widget-view+json": {
       "model_id": "3c505ec49063401f8c143cd5578c4dd2",
       "version_major": 2,
       "version_minor": 0
      },
      "text/plain": [
       "FileChooser(path='../', filename='', show_hidden='False')"
      ]
     },
     "metadata": {},
     "output_type": "display_data"
    },
    {
     "data": {
      "application/vnd.jupyter.widget-view+json": {
       "model_id": "555bbed0ab63409b87d8d2b51424cd14",
       "version_major": 2,
       "version_minor": 0
      },
      "text/plain": [
       "FileChooser(path='../', filename='', show_hidden='False')"
      ]
     },
     "metadata": {},
     "output_type": "display_data"
    },
    {
     "data": {
      "application/vnd.jupyter.widget-view+json": {
       "model_id": "dfc4ea6472e74601906b55a3829c8b68",
       "version_major": 2,
       "version_minor": 0
      },
      "text/plain": [
       "FileChooser(path='../source_data/', filename='null_mindeps.shp', show_hidden='False')"
      ]
     },
     "metadata": {},
     "output_type": "display_data"
    }
   ],
   "source": [
    "minx=minx_choice.value\n",
    "maxx=maxx_choice.value\n",
    "miny=miny_choice.value\n",
    "maxy=maxy_choice.value\n",
    "\n",
    "structure_file_m = FileChooser('../')\n",
    "structure_file_m.title = '<b>Choose Bedding Orientation point file</b>'\n",
    "display(structure_file_m)\n",
    "\n",
    "fault_file_m = FileChooser('../')\n",
    "fault_file_m.title = '<b>Choose Fault polyline file</b>'\n",
    "display(fault_file_m)\n",
    "\n",
    "fold_file_m = FileChooser('../')\n",
    "fold_file_m.title = '<b>Choose Fold polyline file</b>'\n",
    "display(fold_file_m)\n",
    "\n",
    "geology_file_m = FileChooser('../')\n",
    "geology_file_m.title = '<b>Choose Geology polygon file</b>'\n",
    "display(geology_file_m)\n",
    "\n",
    "mindep_file_m = FileChooser('../')\n",
    "mindep_file_m.title = '<b>Choose Mineral Deposit point file (or use null_mindeps.shp from source_data directory)</b>'\n",
    "mindep_file_m.default_path = '../source_data/'\n",
    "mindep_file_m.default_filename = 'null_mindeps.shp'\n",
    "display(mindep_file_m)\n",
    "\n"
   ]
  },
  {
   "cell_type": "code",
   "execution_count": 9,
   "metadata": {},
   "outputs": [
    {
     "data": {
      "text/plain": [
       "'C:/Users/00073294/Dropbox/1_Jupyter_notebooks/map2loop/TAS/data/geol_struc_250.shp'"
      ]
     },
     "metadata": {},
     "output_type": "display_data"
    },
    {
     "data": {
      "text/plain": [
       "'C:/Users/00073294/Dropbox/1_Jupyter_notebooks/map2loop/TAS/data/geol_line_250.shp'"
      ]
     },
     "metadata": {},
     "output_type": "display_data"
    },
    {
     "data": {
      "text/plain": [
       "'C:/Users/00073294/Dropbox/1_Jupyter_notebooks/map2loop/TAS/data/geol_line_250.shp'"
      ]
     },
     "metadata": {},
     "output_type": "display_data"
    },
    {
     "data": {
      "text/plain": [
       "'C:/Users/00073294/Dropbox/1_Jupyter_notebooks/map2loop/TAS/data/geol_poly_250.shp'"
      ]
     },
     "metadata": {},
     "output_type": "display_data"
    },
    {
     "data": {
      "text/plain": [
       "'../source_data//null_mindeps.shp'"
      ]
     },
     "metadata": {},
     "output_type": "display_data"
    }
   ],
   "source": [
    "if(str(structure_file_m.selected_path) =='None'):\n",
    "    structure_file=''\n",
    "else:\n",
    "    structure_file=structure_file_m.selected_path.replace('\\\\','/')+'/'+structure_file_m.selected_filename\n",
    "if(str(fault_file_m.selected_path) =='None'):\n",
    "    fault_file=''\n",
    "else:\n",
    "    fault_file=fault_file_m.selected_path.replace('\\\\','/')+'/'+fault_file_m.selected_filename\n",
    "if(str(fold_file_m.selected_path) =='None'):\n",
    "    fold_file=''\n",
    "else:\n",
    "    fold_file=fold_file_m.selected_path.replace('\\\\','/')+'/'+fold_file_m.selected_filename\n",
    "if(str(geology_file_m.selected_path) =='None'):\n",
    "    geology_file=''\n",
    "else:\n",
    "    geology_file=geology_file_m.selected_path.replace('\\\\','/')+'/'+geology_file_m.selected_filename\n",
    "if(str(mindep_file_m.selected_path) =='None'):\n",
    "    mindep_file=''\n",
    "else:\n",
    "    mindep_file=mindep_file_m.selected_path.replace('\\\\','/')+'/'+mindep_file_m.selected_filename\n",
    "\n",
    "display(structure_file,fault_file,fold_file,geology_file,mindep_file)"
   ]
  },
  {
   "cell_type": "code",
   "execution_count": 10,
   "metadata": {},
   "outputs": [
    {
     "data": {
      "text/html": [
       "<div>\n",
       "<style scoped>\n",
       "    .dataframe tbody tr th:only-of-type {\n",
       "        vertical-align: middle;\n",
       "    }\n",
       "\n",
       "    .dataframe tbody tr th {\n",
       "        vertical-align: top;\n",
       "    }\n",
       "\n",
       "    .dataframe thead th {\n",
       "        text-align: right;\n",
       "    }\n",
       "</style>\n",
       "<table border=\"1\" class=\"dataframe\">\n",
       "  <thead>\n",
       "    <tr style=\"text-align: right;\">\n",
       "      <th></th>\n",
       "      <th>GID</th>\n",
       "      <th>CODE</th>\n",
       "      <th>STRUCTTYPE</th>\n",
       "      <th>DESCRIPT</th>\n",
       "      <th>DIP</th>\n",
       "      <th>AZIMUTH</th>\n",
       "      <th>ANGLE</th>\n",
       "      <th>O_SCALE</th>\n",
       "      <th>geometry</th>\n",
       "    </tr>\n",
       "  </thead>\n",
       "  <tbody>\n",
       "    <tr>\n",
       "      <th>0</th>\n",
       "      <td>4412737</td>\n",
       "      <td>2</td>\n",
       "      <td>Baa</td>\n",
       "      <td>Strike and dip of bedding, right way up</td>\n",
       "      <td>7</td>\n",
       "      <td>277</td>\n",
       "      <td>187</td>\n",
       "      <td>250</td>\n",
       "      <td>POINT (146.51295 -42.08444)</td>\n",
       "    </tr>\n",
       "    <tr>\n",
       "      <th>1</th>\n",
       "      <td>4412738</td>\n",
       "      <td>2</td>\n",
       "      <td>Baa</td>\n",
       "      <td>Strike and dip of bedding, right way up</td>\n",
       "      <td>10</td>\n",
       "      <td>280</td>\n",
       "      <td>190</td>\n",
       "      <td>250</td>\n",
       "      <td>POINT (146.50950 -42.09800)</td>\n",
       "    </tr>\n",
       "    <tr>\n",
       "      <th>2</th>\n",
       "      <td>4412739</td>\n",
       "      <td>2</td>\n",
       "      <td>Baa</td>\n",
       "      <td>Strike and dip of bedding, right way up</td>\n",
       "      <td>10</td>\n",
       "      <td>84</td>\n",
       "      <td>354</td>\n",
       "      <td>250</td>\n",
       "      <td>POINT (146.50598 -42.10984)</td>\n",
       "    </tr>\n",
       "    <tr>\n",
       "      <th>3</th>\n",
       "      <td>4412740</td>\n",
       "      <td>2</td>\n",
       "      <td>Baa</td>\n",
       "      <td>Strike and dip of bedding, right way up</td>\n",
       "      <td>35</td>\n",
       "      <td>191</td>\n",
       "      <td>101</td>\n",
       "      <td>250</td>\n",
       "      <td>POINT (146.50485 -43.52693)</td>\n",
       "    </tr>\n",
       "    <tr>\n",
       "      <th>4</th>\n",
       "      <td>4412741</td>\n",
       "      <td>4</td>\n",
       "      <td>Baf</td>\n",
       "      <td>Strike and dip of bedding, facing unknown</td>\n",
       "      <td>75</td>\n",
       "      <td>61</td>\n",
       "      <td>331</td>\n",
       "      <td>250</td>\n",
       "      <td>POINT (147.52282 -41.32051)</td>\n",
       "    </tr>\n",
       "  </tbody>\n",
       "</table>\n",
       "</div>"
      ],
      "text/plain": [
       "       GID  CODE STRUCTTYPE                                   DESCRIPT  DIP  \\\n",
       "0  4412737     2        Baa    Strike and dip of bedding, right way up    7   \n",
       "1  4412738     2        Baa    Strike and dip of bedding, right way up   10   \n",
       "2  4412739     2        Baa    Strike and dip of bedding, right way up   10   \n",
       "3  4412740     2        Baa    Strike and dip of bedding, right way up   35   \n",
       "4  4412741     4        Baf  Strike and dip of bedding, facing unknown   75   \n",
       "\n",
       "   AZIMUTH  ANGLE  O_SCALE                     geometry  \n",
       "0      277    187      250  POINT (146.51295 -42.08444)  \n",
       "1      280    190      250  POINT (146.50950 -42.09800)  \n",
       "2       84    354      250  POINT (146.50598 -42.10984)  \n",
       "3      191    101      250  POINT (146.50485 -43.52693)  \n",
       "4       61    331      250  POINT (147.52282 -41.32051)  "
      ]
     },
     "metadata": {},
     "output_type": "display_data"
    },
    {
     "data": {
      "text/markdown": [
       "**Based on file: C:/Users/00073294/Dropbox/1_Jupyter_notebooks/map2loop/TAS/data/geol_struc_250.shp**"
      ],
      "text/plain": [
       "<IPython.core.display.Markdown object>"
      ]
     },
     "metadata": {},
     "output_type": "display_data"
    },
    {
     "data": {
      "text/markdown": [
       "\n",
       "**Field that contains unique id of structure point**"
      ],
      "text/plain": [
       "<IPython.core.display.Markdown object>"
      ]
     },
     "metadata": {},
     "output_type": "display_data"
    },
    {
     "data": {
      "application/vnd.jupyter.widget-view+json": {
       "model_id": "4d026dcba4a84ba3b5c433c22706c8c3",
       "version_major": 2,
       "version_minor": 0
      },
      "text/plain": [
       "Dropdown(description='Unique ID', options=('No_col', 'GID', 'CODE', 'STRUCTTYPE', 'DESCRIPT', 'DIP', 'AZIMUTH'…"
      ]
     },
     "metadata": {},
     "output_type": "display_data"
    },
    {
     "data": {
      "text/markdown": [
       "**Field that contains information on type of structure (e.g. bedding, cleavage etc.)**"
      ],
      "text/plain": [
       "<IPython.core.display.Markdown object>"
      ]
     },
     "metadata": {},
     "output_type": "display_data"
    },
    {
     "data": {
      "application/vnd.jupyter.widget-view+json": {
       "model_id": "f8f6863087eb4751a2c655404e11cf50",
       "version_major": 2,
       "version_minor": 0
      },
      "text/plain": [
       "Dropdown(description='Structure', options=('No_col', 'GID', 'CODE', 'STRUCTTYPE', 'DESCRIPT', 'DIP', 'AZIMUTH'…"
      ]
     },
     "metadata": {},
     "output_type": "display_data"
    },
    {
     "data": {
      "text/markdown": [
       "**Text to search for in field defined by type of structure code to show that this is a bedding measurement**"
      ],
      "text/plain": [
       "<IPython.core.display.Markdown object>"
      ]
     },
     "metadata": {},
     "output_type": "display_data"
    },
    {
     "data": {
      "application/vnd.jupyter.widget-view+json": {
       "model_id": "224c98c4507e4b46a387ff3205350501",
       "version_major": 2,
       "version_minor": 0
      },
      "text/plain": [
       "Text(value='Bed', description='Bedding text', placeholder='Bed')"
      ]
     },
     "metadata": {},
     "output_type": "display_data"
    },
    {
     "data": {
      "text/markdown": [
       "**Field that contains dip information**"
      ],
      "text/plain": [
       "<IPython.core.display.Markdown object>"
      ]
     },
     "metadata": {},
     "output_type": "display_data"
    },
    {
     "data": {
      "application/vnd.jupyter.widget-view+json": {
       "model_id": "1e859bb7c5d34e1ca05cf6233a60f012",
       "version_major": 2,
       "version_minor": 0
      },
      "text/plain": [
       "Dropdown(description='Dip', options=('No_col', 'GID', 'CODE', 'STRUCTTYPE', 'DESCRIPT', 'DIP', 'AZIMUTH', 'ANG…"
      ]
     },
     "metadata": {},
     "output_type": "display_data"
    },
    {
     "data": {
      "text/markdown": [
       "**Field that contains dip direction or strike information**"
      ],
      "text/plain": [
       "<IPython.core.display.Markdown object>"
      ]
     },
     "metadata": {},
     "output_type": "display_data"
    },
    {
     "data": {
      "application/vnd.jupyter.widget-view+json": {
       "model_id": "eb339584b15d4c15a64d35a7c9f18210",
       "version_major": 2,
       "version_minor": 0
      },
      "text/plain": [
       "Dropdown(description='Dip Direction', options=('No_col', 'GID', 'CODE', 'STRUCTTYPE', 'DESCRIPT', 'DIP', 'AZIM…"
      ]
     },
     "metadata": {},
     "output_type": "display_data"
    },
    {
     "data": {
      "text/markdown": [
       "**Flag to determine measurement convention**"
      ],
      "text/plain": [
       "<IPython.core.display.Markdown object>"
      ]
     },
     "metadata": {},
     "output_type": "display_data"
    },
    {
     "data": {
      "application/vnd.jupyter.widget-view+json": {
       "model_id": "7ad22b8b47f345c8a74c960ec5b3d050",
       "version_major": 2,
       "version_minor": 0
      },
      "text/plain": [
       "Dropdown(description='Convention', options=('dip direction', 'strike'), value='dip direction')"
      ]
     },
     "metadata": {},
     "output_type": "display_data"
    },
    {
     "data": {
      "text/markdown": [
       "**Field that contains polarity of foliation (upward facing or not)**"
      ],
      "text/plain": [
       "<IPython.core.display.Markdown object>"
      ]
     },
     "metadata": {},
     "output_type": "display_data"
    },
    {
     "data": {
      "application/vnd.jupyter.widget-view+json": {
       "model_id": "6ee0417891ab436dad4ca58b79f76af0",
       "version_major": 2,
       "version_minor": 0
      },
      "text/plain": [
       "Dropdown(description='Polarity', options=('No_col', 'GID', 'CODE', 'STRUCTTYPE', 'DESCRIPT', 'DIP', 'AZIMUTH',…"
      ]
     },
     "metadata": {},
     "output_type": "display_data"
    },
    {
     "data": {
      "text/markdown": [
       "**Text to search for in field defined by Polarity code to show that this is an overturned bedding measurement**"
      ],
      "text/plain": [
       "<IPython.core.display.Markdown object>"
      ]
     },
     "metadata": {},
     "output_type": "display_data"
    },
    {
     "data": {
      "application/vnd.jupyter.widget-view+json": {
       "model_id": "2aca714b23bf4bd1959a858bb2a78c80",
       "version_major": 2,
       "version_minor": 0
      },
      "text/plain": [
       "Text(value='Blah', description='Pol. text', placeholder='Blah')"
      ]
     },
     "metadata": {},
     "output_type": "display_data"
    }
   ],
   "source": [
    "if(not structure_file==''):\n",
    "    structure=gpd.read_file(structure_file)\n",
    "    display(structure.head())\n",
    "    \n",
    "    cols=['No_col']\n",
    "    for sc in structure.columns:\n",
    "        cols.append(sc)\n",
    "        \n",
    "    printmd('**Based on file: '+structure_file+'**')\n",
    "    printmd('\\n**Field that contains unique id of structure point**')\n",
    "    gi_choice=widgets.Dropdown(\n",
    "        options=cols,\n",
    "        description='Unique ID',\n",
    "        disabled=False\n",
    "\n",
    "    )\n",
    "    display(gi_choice)\n",
    "\n",
    "    printmd('**Field that contains information on type of structure (e.g. bedding, cleavage etc.)**')\n",
    "\n",
    "    sf_choice=widgets.Dropdown(\n",
    "        options=cols,\n",
    "        description='Structure',\n",
    "        disabled=False\n",
    "    )\n",
    "    display(sf_choice)\n",
    "\n",
    "    printmd('**Text to search for in field defined by type of structure code to show that this is a bedding measurement**')\n",
    "\n",
    "    bedding_choice=widgets.Text(\n",
    "        placeholder='Bed',\n",
    "        value='Bed',\n",
    "        description='Bedding text',\n",
    "        disabled=False\n",
    "    )\n",
    "    display(bedding_choice)\n",
    "\n",
    "    printmd('**Field that contains dip information**')\n",
    "\n",
    "    d_choice=widgets.Dropdown(\n",
    "        options=cols,\n",
    "        description='Dip',\n",
    "        disabled=False\n",
    "    )\n",
    "    display(d_choice)\n",
    "\n",
    "    printmd('**Field that contains dip direction or strike information**')\n",
    "\n",
    "    dd_choice=widgets.Dropdown(\n",
    "        options=cols,\n",
    "        description='Dip Direction',\n",
    "        disabled=False\n",
    "    )\n",
    "    display(dd_choice)\n",
    "\n",
    "    printmd('**Flag to determine measurement convention**')\n",
    "\n",
    "    otype_choice=widgets.Dropdown(\n",
    "        options=('dip direction','strike'),\n",
    "        description='Convention',\n",
    "        disabled=False\n",
    "    )\n",
    "    display(otype_choice)\n",
    "\n",
    "    printmd('**Field that contains polarity of foliation (upward facing or not)**')\n",
    "\n",
    "    bo_choice=widgets.Dropdown(\n",
    "        options=cols,\n",
    "        description='Polarity',\n",
    "        disabled=False\n",
    "    )\n",
    "    display(bo_choice)\n",
    "\n",
    "    printmd('**Text to search for in field defined by Polarity code to show that this is an overturned bedding measurement**')\n",
    "\n",
    "    btype_choice=widgets.Text(\n",
    "        placeholder='Blah',\n",
    "        value='Blah',\n",
    "        description='Pol. text',\n",
    "        disabled=False\n",
    "    )\n",
    "    display(btype_choice)\n",
    "\n"
   ]
  },
  {
   "cell_type": "code",
   "execution_count": 11,
   "metadata": {},
   "outputs": [
    {
     "data": {
      "text/html": [
       "<div>\n",
       "<style scoped>\n",
       "    .dataframe tbody tr th:only-of-type {\n",
       "        vertical-align: middle;\n",
       "    }\n",
       "\n",
       "    .dataframe tbody tr th {\n",
       "        vertical-align: top;\n",
       "    }\n",
       "\n",
       "    .dataframe thead th {\n",
       "        text-align: right;\n",
       "    }\n",
       "</style>\n",
       "<table border=\"1\" class=\"dataframe\">\n",
       "  <thead>\n",
       "    <tr style=\"text-align: right;\">\n",
       "      <th></th>\n",
       "      <th>GID</th>\n",
       "      <th>LINECODE</th>\n",
       "      <th>TYPE</th>\n",
       "      <th>geometry</th>\n",
       "    </tr>\n",
       "  </thead>\n",
       "  <tbody>\n",
       "    <tr>\n",
       "      <th>0</th>\n",
       "      <td>5162611</td>\n",
       "      <td>1</td>\n",
       "      <td>Geological boundary</td>\n",
       "      <td>LINESTRING (143.95176 -39.58129, 143.95179 -39...</td>\n",
       "    </tr>\n",
       "    <tr>\n",
       "      <th>1</th>\n",
       "      <td>5162612</td>\n",
       "      <td>1</td>\n",
       "      <td>Geological boundary</td>\n",
       "      <td>LINESTRING (143.95176 -39.58129, 143.95175 -39...</td>\n",
       "    </tr>\n",
       "    <tr>\n",
       "      <th>2</th>\n",
       "      <td>5162613</td>\n",
       "      <td>1</td>\n",
       "      <td>Geological boundary</td>\n",
       "      <td>LINESTRING (143.96247 -39.58766, 143.96261 -39...</td>\n",
       "    </tr>\n",
       "    <tr>\n",
       "      <th>3</th>\n",
       "      <td>5162615</td>\n",
       "      <td>1</td>\n",
       "      <td>Geological boundary</td>\n",
       "      <td>LINESTRING (143.96312 -39.58683, 143.96337 -39...</td>\n",
       "    </tr>\n",
       "    <tr>\n",
       "      <th>4</th>\n",
       "      <td>5162617</td>\n",
       "      <td>1</td>\n",
       "      <td>Geological boundary</td>\n",
       "      <td>LINESTRING (143.96570 -39.58852, 143.96572 -39...</td>\n",
       "    </tr>\n",
       "  </tbody>\n",
       "</table>\n",
       "</div>"
      ],
      "text/plain": [
       "       GID  LINECODE                 TYPE  \\\n",
       "0  5162611         1  Geological boundary   \n",
       "1  5162612         1  Geological boundary   \n",
       "2  5162613         1  Geological boundary   \n",
       "3  5162615         1  Geological boundary   \n",
       "4  5162617         1  Geological boundary   \n",
       "\n",
       "                                            geometry  \n",
       "0  LINESTRING (143.95176 -39.58129, 143.95179 -39...  \n",
       "1  LINESTRING (143.95176 -39.58129, 143.95175 -39...  \n",
       "2  LINESTRING (143.96247 -39.58766, 143.96261 -39...  \n",
       "3  LINESTRING (143.96312 -39.58683, 143.96337 -39...  \n",
       "4  LINESTRING (143.96570 -39.58852, 143.96572 -39...  "
      ]
     },
     "metadata": {},
     "output_type": "display_data"
    },
    {
     "data": {
      "text/markdown": [
       "**Based on file: C:/Users/00073294/Dropbox/1_Jupyter_notebooks/map2loop/TAS/data/geol_line_250.shp**"
      ],
      "text/plain": [
       "<IPython.core.display.Markdown object>"
      ]
     },
     "metadata": {},
     "output_type": "display_data"
    },
    {
     "data": {
      "text/markdown": [
       "\n",
       "**Field that contains information on type of structure (fault, fold axial trace etc.)**"
      ],
      "text/plain": [
       "<IPython.core.display.Markdown object>"
      ]
     },
     "metadata": {},
     "output_type": "display_data"
    },
    {
     "data": {
      "application/vnd.jupyter.widget-view+json": {
       "model_id": "fd9fe48346ad458d83bd74eef8abc4a0",
       "version_major": 2,
       "version_minor": 0
      },
      "text/plain": [
       "Dropdown(description='Fault field:', options=('No_col', 'GID', 'LINECODE', 'TYPE', 'geometry'), value='No_col'…"
      ]
     },
     "metadata": {},
     "output_type": "display_data"
    },
    {
     "data": {
      "text/markdown": [
       "**Text to search for in field defined by Fault field code to show that this is a fault**"
      ],
      "text/plain": [
       "<IPython.core.display.Markdown object>"
      ]
     },
     "metadata": {},
     "output_type": "display_data"
    },
    {
     "data": {
      "application/vnd.jupyter.widget-view+json": {
       "model_id": "e7fb6001a2b8462d8c97678a5770868c",
       "version_major": 2,
       "version_minor": 0
      },
      "text/plain": [
       "Text(value='Fault', description='Fault text:', placeholder='Fault')"
      ]
     },
     "metadata": {},
     "output_type": "display_data"
    },
    {
     "data": {
      "text/markdown": [
       "**Field for numeric fault dip value**"
      ],
      "text/plain": [
       "<IPython.core.display.Markdown object>"
      ]
     },
     "metadata": {},
     "output_type": "display_data"
    },
    {
     "data": {
      "application/vnd.jupyter.widget-view+json": {
       "model_id": "2bdb42c949b044348553621f696b51bb",
       "version_major": 2,
       "version_minor": 0
      },
      "text/plain": [
       "Dropdown(description='Dip:', options=('No_col', 'GID', 'LINECODE', 'TYPE', 'geometry'), value='No_col')"
      ]
     },
     "metadata": {},
     "output_type": "display_data"
    },
    {
     "data": {
      "text/markdown": [
       "**Text to search for in field defined by Dip to show that this has no known dip**"
      ],
      "text/plain": [
       "<IPython.core.display.Markdown object>"
      ]
     },
     "metadata": {},
     "output_type": "display_data"
    },
    {
     "data": {
      "application/vnd.jupyter.widget-view+json": {
       "model_id": "51fe92784fa342c3b4d59705b7be2fc3",
       "version_major": 2,
       "version_minor": 0
      },
      "text/plain": [
       "Text(value='0', description='NULL dip:', placeholder='0')"
      ]
     },
     "metadata": {},
     "output_type": "display_data"
    },
    {
     "data": {
      "text/markdown": [
       "**Field for text fault dip direction value (southeast etc.)**"
      ],
      "text/plain": [
       "<IPython.core.display.Markdown object>"
      ]
     },
     "metadata": {},
     "output_type": "display_data"
    },
    {
     "data": {
      "application/vnd.jupyter.widget-view+json": {
       "model_id": "ff9984bd31de46159f73ba6effa46508",
       "version_major": 2,
       "version_minor": 0
      },
      "text/plain": [
       "Dropdown(description='Dip Direction:', options=('No_col', 'GID', 'LINECODE', 'TYPE', 'geometry'), value='No_co…"
      ]
     },
     "metadata": {},
     "output_type": "display_data"
    },
    {
     "data": {
      "text/markdown": [
       "**Flag for text fault dip direction type num e.g. 045 or alpha e.g. southeast**"
      ],
      "text/plain": [
       "<IPython.core.display.Markdown object>"
      ]
     },
     "metadata": {},
     "output_type": "display_data"
    },
    {
     "data": {
      "application/vnd.jupyter.widget-view+json": {
       "model_id": "71203aa33f704d38a2dbaed3d9d5c81b",
       "version_major": 2,
       "version_minor": 0
      },
      "text/plain": [
       "Dropdown(description='Dip Convention:', options=('alpha', 'num'), style=DescriptionStyle(description_width='in…"
      ]
     },
     "metadata": {},
     "output_type": "display_data"
    },
    {
     "data": {
      "text/markdown": [
       "**Field for text fault dip estimate value (Moderate, Steep etc.)**"
      ],
      "text/plain": [
       "<IPython.core.display.Markdown object>"
      ]
     },
     "metadata": {},
     "output_type": "display_data"
    },
    {
     "data": {
      "application/vnd.jupyter.widget-view+json": {
       "model_id": "80d8cbc09c184eb88559d1a016541772",
       "version_major": 2,
       "version_minor": 0
      },
      "text/plain": [
       "Dropdown(description='Dip estimate:', options=('No_col', 'GID', 'LINECODE', 'TYPE', 'geometry'), value='No_col…"
      ]
     },
     "metadata": {},
     "output_type": "display_data"
    }
   ],
   "source": [
    "c_l['gi']=gi_choice.value\n",
    "c_l['sf']=sf_choice.value\n",
    "c_l['bedding']=bedding_choice.value\n",
    "c_l['d']=d_choice.value\n",
    "c_l['dd']=dd_choice.value\n",
    "c_l['otype']=otype_choice.value\n",
    "c_l['bo']=bo_choice.value\n",
    "c_l['btype']=btype_choice.value\n",
    "\n",
    "if(not fault_file==''):\n",
    "    fault=gpd.read_file(fault_file)\n",
    "    display(fault.head())\n",
    "    printmd('**Based on file: '+fault_file+'**')\n",
    "\n",
    "    cols=['No_col']\n",
    "    for sc in fault.columns:\n",
    "        cols.append(sc)\n",
    "        \n",
    "    printmd('\\n**Field that contains information on type of structure (fault, fold axial trace etc.)**')\n",
    "\n",
    "\n",
    "    f_choice=widgets.Dropdown(\n",
    "        options=cols,\n",
    "        description='Fault field:',\n",
    "        disabled=False\n",
    "    )\n",
    "    display(f_choice)\n",
    "\n",
    "    printmd('**Text to search for in field defined by Fault field code to show that this is a fault**')\n",
    "\n",
    "    fault_choice=widgets.Text(\n",
    "        placeholder='Fault',\n",
    "        value='Fault',\n",
    "        description='Fault text:',\n",
    "        disabled=False\n",
    "    )\n",
    "    display(fault_choice)\n",
    "\n",
    "    printmd('**Field for numeric fault dip value**')\n",
    "\n",
    "    fdip_choice=widgets.Dropdown(\n",
    "        options=cols,\n",
    "        description='Dip:',\n",
    "        disabled=False\n",
    "    )\n",
    "    display(fdip_choice)\n",
    "\n",
    "    printmd('**Text to search for in field defined by Dip to show that this has no known dip**')\n",
    "\n",
    "    fdipnull_choice=widgets.Text(\n",
    "        placeholder='0',\n",
    "        value='0',\n",
    "        description='NULL dip:',\n",
    "        disabled=False\n",
    "    )\n",
    "    display(fdipnull_choice)\n",
    "\n",
    "    printmd('**Field for text fault dip direction value (southeast etc.)**')\n",
    "\n",
    "    fdipdir_choice=widgets.Dropdown(\n",
    "        options=cols,\n",
    "        description='Dip Direction:',\n",
    "        disabled=False\n",
    "    )\n",
    "    display(fdipdir_choice)\n",
    "\n",
    "    printmd('**Flag for text fault dip direction type num e.g. 045 or alpha e.g. southeast**')\n",
    "\n",
    "    fdipdir_flag_choice=widgets.Dropdown(\n",
    "        options=('alpha','num'),\n",
    "        description='Dip Convention:',\n",
    "        disabled=False,\n",
    "        style=style\n",
    "    )\n",
    "    display(fdipdir_flag_choice)\n",
    "\n",
    "    printmd('**Field for text fault dip estimate value (Moderate, Steep etc.)**')\n",
    "\n",
    "    fdipest_choice=widgets.Dropdown(\n",
    "        options=cols,\n",
    "        description='Dip estimate:',\n",
    "        disabled=False\n",
    "    )\n",
    "    display(fdipest_choice)"
   ]
  },
  {
   "cell_type": "code",
   "execution_count": 12,
   "metadata": {},
   "outputs": [
    {
     "data": {
      "text/markdown": [
       "**Text to search for in field defined by fdipest to give fault dip estimate in increasing steepness**"
      ],
      "text/plain": [
       "<IPython.core.display.Markdown object>"
      ]
     },
     "metadata": {},
     "output_type": "display_data"
    },
    {
     "data": {
      "text/markdown": [
       "**Field that contains information on name of fault (not used??)**"
      ],
      "text/plain": [
       "<IPython.core.display.Markdown object>"
      ]
     },
     "metadata": {},
     "output_type": "display_data"
    },
    {
     "data": {
      "application/vnd.jupyter.widget-view+json": {
       "model_id": "1ac22ae10a0b47fba4ce637d5e59dbf7",
       "version_major": 2,
       "version_minor": 0
      },
      "text/plain": [
       "Dropdown(description='Name:', options=('No_col', 'GID', 'LINECODE', 'TYPE', 'geometry'), value='No_col')"
      ]
     },
     "metadata": {},
     "output_type": "display_data"
    }
   ],
   "source": [
    "printmd('**Text to search for in field defined by fdipest to give fault dip estimate in increasing steepness**')\n",
    "\n",
    "if(fdipest_choice.value=='No_col'):\n",
    "    c_l['fdipest_vals']='No_col'\n",
    "else:\n",
    "    fdipest_vals_choice=widgets.Text(\n",
    "        placeholder='Sorted dip order (shallow to steep)',\n",
    "        value=str(fault[fdipest_choice.value].unique()).replace(\"[\",\"\").replace(\"]\",\"\").replace(\" \",\",\"),\n",
    "        description='Text Dips:',\n",
    "        disabled=False\n",
    "    )\n",
    "    display(fdipest_vals)\n",
    "    c_l['fdipest_vals']=fdipest_vals_choice.value\n",
    "\n",
    "\n",
    "    \n",
    "printmd('**Field that contains information on name of fault (not used??)**')\n",
    "\n",
    "n_choice=widgets.Dropdown(\n",
    "    options=cols,\n",
    "    description='Name:',\n",
    "    disabled=False\n",
    ")\n",
    "display(n_choice)"
   ]
  },
  {
   "cell_type": "code",
   "execution_count": 13,
   "metadata": {},
   "outputs": [
    {
     "data": {
      "text/html": [
       "<div>\n",
       "<style scoped>\n",
       "    .dataframe tbody tr th:only-of-type {\n",
       "        vertical-align: middle;\n",
       "    }\n",
       "\n",
       "    .dataframe tbody tr th {\n",
       "        vertical-align: top;\n",
       "    }\n",
       "\n",
       "    .dataframe thead th {\n",
       "        text-align: right;\n",
       "    }\n",
       "</style>\n",
       "<table border=\"1\" class=\"dataframe\">\n",
       "  <thead>\n",
       "    <tr style=\"text-align: right;\">\n",
       "      <th></th>\n",
       "      <th>GID</th>\n",
       "      <th>LINECODE</th>\n",
       "      <th>TYPE</th>\n",
       "      <th>geometry</th>\n",
       "    </tr>\n",
       "  </thead>\n",
       "  <tbody>\n",
       "    <tr>\n",
       "      <th>0</th>\n",
       "      <td>5162611</td>\n",
       "      <td>1</td>\n",
       "      <td>Geological boundary</td>\n",
       "      <td>LINESTRING (143.95176 -39.58129, 143.95179 -39...</td>\n",
       "    </tr>\n",
       "    <tr>\n",
       "      <th>1</th>\n",
       "      <td>5162612</td>\n",
       "      <td>1</td>\n",
       "      <td>Geological boundary</td>\n",
       "      <td>LINESTRING (143.95176 -39.58129, 143.95175 -39...</td>\n",
       "    </tr>\n",
       "    <tr>\n",
       "      <th>2</th>\n",
       "      <td>5162613</td>\n",
       "      <td>1</td>\n",
       "      <td>Geological boundary</td>\n",
       "      <td>LINESTRING (143.96247 -39.58766, 143.96261 -39...</td>\n",
       "    </tr>\n",
       "    <tr>\n",
       "      <th>3</th>\n",
       "      <td>5162615</td>\n",
       "      <td>1</td>\n",
       "      <td>Geological boundary</td>\n",
       "      <td>LINESTRING (143.96312 -39.58683, 143.96337 -39...</td>\n",
       "    </tr>\n",
       "    <tr>\n",
       "      <th>4</th>\n",
       "      <td>5162617</td>\n",
       "      <td>1</td>\n",
       "      <td>Geological boundary</td>\n",
       "      <td>LINESTRING (143.96570 -39.58852, 143.96572 -39...</td>\n",
       "    </tr>\n",
       "  </tbody>\n",
       "</table>\n",
       "</div>"
      ],
      "text/plain": [
       "       GID  LINECODE                 TYPE  \\\n",
       "0  5162611         1  Geological boundary   \n",
       "1  5162612         1  Geological boundary   \n",
       "2  5162613         1  Geological boundary   \n",
       "3  5162615         1  Geological boundary   \n",
       "4  5162617         1  Geological boundary   \n",
       "\n",
       "                                            geometry  \n",
       "0  LINESTRING (143.95176 -39.58129, 143.95179 -39...  \n",
       "1  LINESTRING (143.95176 -39.58129, 143.95175 -39...  \n",
       "2  LINESTRING (143.96247 -39.58766, 143.96261 -39...  \n",
       "3  LINESTRING (143.96312 -39.58683, 143.96337 -39...  \n",
       "4  LINESTRING (143.96570 -39.58852, 143.96572 -39...  "
      ]
     },
     "metadata": {},
     "output_type": "display_data"
    },
    {
     "data": {
      "text/markdown": [
       "**Based on file: C:/Users/00073294/Dropbox/1_Jupyter_notebooks/map2loop/TAS/data/geol_line_250.shp**"
      ],
      "text/plain": [
       "<IPython.core.display.Markdown object>"
      ]
     },
     "metadata": {},
     "output_type": "display_data"
    },
    {
     "data": {
      "text/markdown": [
       "\n",
       "**Field that contains information on type of structure (fold, fault etc.)**"
      ],
      "text/plain": [
       "<IPython.core.display.Markdown object>"
      ]
     },
     "metadata": {},
     "output_type": "display_data"
    },
    {
     "data": {
      "application/vnd.jupyter.widget-view+json": {
       "model_id": "f6fffe5561c54fe1a07fb75611744450",
       "version_major": 2,
       "version_minor": 0
      },
      "text/plain": [
       "Dropdown(description='Fold field:', options=('No_col', 'GID', 'LINECODE', 'TYPE', 'geometry'), value='No_col')"
      ]
     },
     "metadata": {},
     "output_type": "display_data"
    },
    {
     "data": {
      "text/markdown": [
       "**Text to search for in field defined by Fold field to show that this is a fold axial trace**"
      ],
      "text/plain": [
       "<IPython.core.display.Markdown object>"
      ]
     },
     "metadata": {},
     "output_type": "display_data"
    },
    {
     "data": {
      "application/vnd.jupyter.widget-view+json": {
       "model_id": "c37913f70ef540588c3812f9b3a507d8",
       "version_major": 2,
       "version_minor": 0
      },
      "text/plain": [
       "Text(value='Fold', description='Fold text:', placeholder='Fold')"
      ]
     },
     "metadata": {},
     "output_type": "display_data"
    },
    {
     "data": {
      "text/markdown": [
       "**Field that contains information on type of fold (anticline, syncline)**"
      ],
      "text/plain": [
       "<IPython.core.display.Markdown object>"
      ]
     },
     "metadata": {},
     "output_type": "display_data"
    },
    {
     "data": {
      "application/vnd.jupyter.widget-view+json": {
       "model_id": "52f0a4c4ce9a4ff69490d8937c7d1459",
       "version_major": 2,
       "version_minor": 0
      },
      "text/plain": [
       "Dropdown(description='Polarity field:', options=('No_col', 'GID', 'LINECODE', 'TYPE', 'geometry'), value='No_c…"
      ]
     },
     "metadata": {},
     "output_type": "display_data"
    },
    {
     "data": {
      "text/markdown": [
       "**Text to search for in field defined by Polarity Field to show that this is a syncline**"
      ],
      "text/plain": [
       "<IPython.core.display.Markdown object>"
      ]
     },
     "metadata": {},
     "output_type": "display_data"
    },
    {
     "data": {
      "application/vnd.jupyter.widget-view+json": {
       "model_id": "b3cc237918984d028fe0b037bad0d7bb",
       "version_major": 2,
       "version_minor": 0
      },
      "text/plain": [
       "Text(value='syn', description='Syncline text:', placeholder='syn')"
      ]
     },
     "metadata": {},
     "output_type": "display_data"
    }
   ],
   "source": [
    "c_l['f']=f_choice.value\n",
    "c_l['fault']=fault_choice.value\n",
    "c_l['fdip']=fdip_choice.value\n",
    "c_l['fdipnull']=fdipnull_choice.value\n",
    "c_l['fdipdir']=fdipdir_choice.value\n",
    "c_l['fdipdir_flag']=fdipdir_flag_choice.value\n",
    "c_l['fdipest']=fdipest_choice.value\n",
    "c_l['n']=n_choice.value\n",
    "\n",
    "if(not fold_file==''):\n",
    "    fold=gpd.read_file(fold_file)\n",
    "    display(fold.head())\n",
    "    cols=['No_col']\n",
    "    for sc in fold.columns:\n",
    "        cols.append(sc)\n",
    "        \n",
    "    printmd('**Based on file:'+' '+fold_file+'**')\n",
    "\n",
    "    printmd('\\n**Field that contains information on type of structure (fold, fault etc.)**')\n",
    "\n",
    "    ff_choice=widgets.Dropdown(\n",
    "        options=cols,\n",
    "        description='Fold field:',\n",
    "        disabled=False\n",
    "    )\n",
    "    display(ff_choice)\n",
    "\n",
    "    printmd('**Text to search for in field defined by Fold field to show that this is a fold axial trace**')\n",
    "\n",
    "    fold_choice=widgets.Text(\n",
    "        placeholder='Fold',\n",
    "        value='Fold',\n",
    "        description='Fold text:',\n",
    "        disabled=False\n",
    "    )\n",
    "    display(fold_choice)\n",
    "\n",
    "    printmd('**Field that contains information on type of fold (anticline, syncline)**')\n",
    "\n",
    "    t_choice=widgets.Dropdown(\n",
    "        options=cols,\n",
    "        description='Polarity field:',\n",
    "        disabled=False\n",
    "    )\n",
    "    display(t_choice)\n",
    "\n",
    "    printmd('**Text to search for in field defined by Polarity Field to show that this is a syncline**')\n",
    "\n",
    "    syn_choice=widgets.Text(\n",
    "        placeholder='syn',\n",
    "        value='syn',\n",
    "        description='Syncline text:',\n",
    "        disabled=False\n",
    "    )\n",
    "    display(syn_choice)\n"
   ]
  },
  {
   "cell_type": "code",
   "execution_count": 14,
   "metadata": {
    "scrolled": false
   },
   "outputs": [
    {
     "data": {
      "text/html": [
       "<div>\n",
       "<style scoped>\n",
       "    .dataframe tbody tr th:only-of-type {\n",
       "        vertical-align: middle;\n",
       "    }\n",
       "\n",
       "    .dataframe tbody tr th {\n",
       "        vertical-align: top;\n",
       "    }\n",
       "\n",
       "    .dataframe thead th {\n",
       "        text-align: right;\n",
       "    }\n",
       "</style>\n",
       "<table border=\"1\" class=\"dataframe\">\n",
       "  <thead>\n",
       "    <tr style=\"text-align: right;\">\n",
       "      <th></th>\n",
       "      <th>GID</th>\n",
       "      <th>RCODE</th>\n",
       "      <th>SYMBOL</th>\n",
       "      <th>REGION</th>\n",
       "      <th>SUPERGROUP</th>\n",
       "      <th>GRP</th>\n",
       "      <th>SUBGROUP</th>\n",
       "      <th>FORMATION</th>\n",
       "      <th>MEMBER</th>\n",
       "      <th>ERA</th>\n",
       "      <th>PERIOD</th>\n",
       "      <th>EPOCH</th>\n",
       "      <th>AGE</th>\n",
       "      <th>MINAGE</th>\n",
       "      <th>MAXAGE</th>\n",
       "      <th>DESCRIPT</th>\n",
       "      <th>RCODE_500K</th>\n",
       "      <th>SYMB_500K</th>\n",
       "      <th>geometry</th>\n",
       "    </tr>\n",
       "  </thead>\n",
       "  <tbody>\n",
       "    <tr>\n",
       "      <th>0</th>\n",
       "      <td>5223440</td>\n",
       "      <td>1414</td>\n",
       "      <td>Lb</td>\n",
       "      <td>King Island</td>\n",
       "      <td>None</td>\n",
       "      <td>None</td>\n",
       "      <td>None</td>\n",
       "      <td>Surprise Bay Formation</td>\n",
       "      <td>None</td>\n",
       "      <td>None</td>\n",
       "      <td>None</td>\n",
       "      <td>None</td>\n",
       "      <td>None</td>\n",
       "      <td>1330.0</td>\n",
       "      <td>1450.0000</td>\n",
       "      <td>Micaceous quartzite, schist, phyllite and mino...</td>\n",
       "      <td>1400</td>\n",
       "      <td>Lb</td>\n",
       "      <td>POLYGON ((143.95169 -39.58262, 143.95145 -39.5...</td>\n",
       "    </tr>\n",
       "    <tr>\n",
       "      <th>1</th>\n",
       "      <td>5223441</td>\n",
       "      <td>1499</td>\n",
       "      <td>Lg</td>\n",
       "      <td>King Island</td>\n",
       "      <td>None</td>\n",
       "      <td>None</td>\n",
       "      <td>None</td>\n",
       "      <td>None</td>\n",
       "      <td>None</td>\n",
       "      <td>None</td>\n",
       "      <td>None</td>\n",
       "      <td>None</td>\n",
       "      <td>None</td>\n",
       "      <td>746.0</td>\n",
       "      <td>776.0000</td>\n",
       "      <td>Granitic rocks.</td>\n",
       "      <td>1455</td>\n",
       "      <td>Lg</td>\n",
       "      <td>POLYGON ((143.95169 -39.58262, 143.95176 -39.5...</td>\n",
       "    </tr>\n",
       "    <tr>\n",
       "      <th>2</th>\n",
       "      <td>5223442</td>\n",
       "      <td>8499</td>\n",
       "      <td>Qh</td>\n",
       "      <td>Cenozoic cover sequences</td>\n",
       "      <td>None</td>\n",
       "      <td>None</td>\n",
       "      <td>None</td>\n",
       "      <td>None</td>\n",
       "      <td>None</td>\n",
       "      <td>Cenozoic</td>\n",
       "      <td>Quaternary</td>\n",
       "      <td>Pleistocene</td>\n",
       "      <td>Upper Pliestocene</td>\n",
       "      <td>0.0</td>\n",
       "      <td>0.0117</td>\n",
       "      <td>Sand gravel and mud of alluvial, lacustrine an...</td>\n",
       "      <td>8491</td>\n",
       "      <td>Qh</td>\n",
       "      <td>POLYGON ((143.96054 -39.59407, 143.96025 -39.5...</td>\n",
       "    </tr>\n",
       "    <tr>\n",
       "      <th>3</th>\n",
       "      <td>5223443</td>\n",
       "      <td>1480</td>\n",
       "      <td>Laa</td>\n",
       "      <td>Western Tasmania</td>\n",
       "      <td>None</td>\n",
       "      <td>None</td>\n",
       "      <td>None</td>\n",
       "      <td>None</td>\n",
       "      <td>None</td>\n",
       "      <td>None</td>\n",
       "      <td>None</td>\n",
       "      <td>None</td>\n",
       "      <td>None</td>\n",
       "      <td>770.0</td>\n",
       "      <td>1180.0000</td>\n",
       "      <td>Amphibolite ( Arthur and Forth Metamorphic Com...</td>\n",
       "      <td>1443</td>\n",
       "      <td>Laa</td>\n",
       "      <td>POLYGON ((143.94010 -39.58390, 143.94007 -39.5...</td>\n",
       "    </tr>\n",
       "    <tr>\n",
       "      <th>4</th>\n",
       "      <td>5223444</td>\n",
       "      <td>1499</td>\n",
       "      <td>Lg</td>\n",
       "      <td>King Island</td>\n",
       "      <td>None</td>\n",
       "      <td>None</td>\n",
       "      <td>None</td>\n",
       "      <td>None</td>\n",
       "      <td>None</td>\n",
       "      <td>None</td>\n",
       "      <td>None</td>\n",
       "      <td>None</td>\n",
       "      <td>None</td>\n",
       "      <td>746.0</td>\n",
       "      <td>776.0000</td>\n",
       "      <td>Granitic rocks.</td>\n",
       "      <td>1455</td>\n",
       "      <td>Lg</td>\n",
       "      <td>POLYGON ((143.96560 -39.58909, 143.96469 -39.5...</td>\n",
       "    </tr>\n",
       "  </tbody>\n",
       "</table>\n",
       "</div>"
      ],
      "text/plain": [
       "       GID  RCODE SYMBOL                    REGION SUPERGROUP   GRP SUBGROUP  \\\n",
       "0  5223440   1414     Lb               King Island       None  None     None   \n",
       "1  5223441   1499     Lg               King Island       None  None     None   \n",
       "2  5223442   8499     Qh  Cenozoic cover sequences       None  None     None   \n",
       "3  5223443   1480    Laa          Western Tasmania       None  None     None   \n",
       "4  5223444   1499     Lg               King Island       None  None     None   \n",
       "\n",
       "                FORMATION MEMBER       ERA      PERIOD        EPOCH  \\\n",
       "0  Surprise Bay Formation   None      None        None         None   \n",
       "1                    None   None      None        None         None   \n",
       "2                    None   None  Cenozoic  Quaternary  Pleistocene   \n",
       "3                    None   None      None        None         None   \n",
       "4                    None   None      None        None         None   \n",
       "\n",
       "                 AGE  MINAGE     MAXAGE  \\\n",
       "0               None  1330.0  1450.0000   \n",
       "1               None   746.0   776.0000   \n",
       "2  Upper Pliestocene     0.0     0.0117   \n",
       "3               None   770.0  1180.0000   \n",
       "4               None   746.0   776.0000   \n",
       "\n",
       "                                            DESCRIPT  RCODE_500K SYMB_500K  \\\n",
       "0  Micaceous quartzite, schist, phyllite and mino...        1400        Lb   \n",
       "1                                    Granitic rocks.        1455        Lg   \n",
       "2  Sand gravel and mud of alluvial, lacustrine an...        8491        Qh   \n",
       "3  Amphibolite ( Arthur and Forth Metamorphic Com...        1443       Laa   \n",
       "4                                    Granitic rocks.        1455        Lg   \n",
       "\n",
       "                                            geometry  \n",
       "0  POLYGON ((143.95169 -39.58262, 143.95145 -39.5...  \n",
       "1  POLYGON ((143.95169 -39.58262, 143.95176 -39.5...  \n",
       "2  POLYGON ((143.96054 -39.59407, 143.96025 -39.5...  \n",
       "3  POLYGON ((143.94010 -39.58390, 143.94007 -39.5...  \n",
       "4  POLYGON ((143.96560 -39.58909, 143.96469 -39.5...  "
      ]
     },
     "metadata": {},
     "output_type": "display_data"
    },
    {
     "data": {
      "text/markdown": [
       "**Based on file: C:/Users/00073294/Dropbox/1_Jupyter_notebooks/map2loop/TAS/data/geol_poly_250.shp**"
      ],
      "text/plain": [
       "<IPython.core.display.Markdown object>"
      ]
     },
     "metadata": {},
     "output_type": "display_data"
    },
    {
     "data": {
      "text/markdown": [
       "\n",
       "**Field that contains unique ID**"
      ],
      "text/plain": [
       "<IPython.core.display.Markdown object>"
      ]
     },
     "metadata": {},
     "output_type": "display_data"
    },
    {
     "data": {
      "application/vnd.jupyter.widget-view+json": {
       "model_id": "761f0a301991467ba90049caa02e236d",
       "version_major": 2,
       "version_minor": 0
      },
      "text/plain": [
       "Dropdown(description='Unique ID', options=('No_col', 'GID', 'RCODE', 'SYMBOL', 'REGION', 'SUPERGROUP', 'GRP', …"
      ]
     },
     "metadata": {},
     "output_type": "display_data"
    },
    {
     "data": {
      "text/markdown": [
       "**Field that contains finer stratigraphic coding**"
      ],
      "text/plain": [
       "<IPython.core.display.Markdown object>"
      ]
     },
     "metadata": {},
     "output_type": "display_data"
    },
    {
     "data": {
      "application/vnd.jupyter.widget-view+json": {
       "model_id": "e377f67d589b45da9696dd924e49e825",
       "version_major": 2,
       "version_minor": 0
      },
      "text/plain": [
       "Dropdown(description='Formation', options=('No_col', 'GID', 'RCODE', 'SYMBOL', 'REGION', 'SUPERGROUP', 'GRP', …"
      ]
     },
     "metadata": {},
     "output_type": "display_data"
    },
    {
     "data": {
      "text/markdown": [
       "\n",
       "**Field that contains coarser stratigraphic coding**"
      ],
      "text/plain": [
       "<IPython.core.display.Markdown object>"
      ]
     },
     "metadata": {},
     "output_type": "display_data"
    },
    {
     "data": {
      "application/vnd.jupyter.widget-view+json": {
       "model_id": "633bcb8c9a1748b49a17ac28fbb583e7",
       "version_major": 2,
       "version_minor": 0
      },
      "text/plain": [
       "Dropdown(description='Group', options=('No_col', 'GID', 'RCODE', 'SYMBOL', 'REGION', 'SUPERGROUP', 'GRP', 'SUB…"
      ]
     },
     "metadata": {},
     "output_type": "display_data"
    },
    {
     "data": {
      "text/markdown": [
       "**Field that contains alternate coarser stratigraphic coding if Group is blank**"
      ],
      "text/plain": [
       "<IPython.core.display.Markdown object>"
      ]
     },
     "metadata": {},
     "output_type": "display_data"
    },
    {
     "data": {
      "application/vnd.jupyter.widget-view+json": {
       "model_id": "957edd9055344f50bd0faad8abe61c5e",
       "version_major": 2,
       "version_minor": 0
      },
      "text/plain": [
       "Dropdown(description='Group alt', options=('No_col', 'GID', 'RCODE', 'SYMBOL', 'REGION', 'SUPERGROUP', 'GRP', …"
      ]
     },
     "metadata": {},
     "output_type": "display_data"
    },
    {
     "data": {
      "text/markdown": [
       "**Field that contains alternate stratigraphic coding (not used??)**"
      ],
      "text/plain": [
       "<IPython.core.display.Markdown object>"
      ]
     },
     "metadata": {},
     "output_type": "display_data"
    },
    {
     "data": {
      "application/vnd.jupyter.widget-view+json": {
       "model_id": "ac2babf70c7d49aebba28babfaad1e02",
       "version_major": 2,
       "version_minor": 0
      },
      "text/plain": [
       "Dropdown(description='Strat alt', options=('No_col', 'GID', 'RCODE', 'SYMBOL', 'REGION', 'SUPERGROUP', 'GRP', …"
      ]
     },
     "metadata": {},
     "output_type": "display_data"
    },
    {
     "data": {
      "text/markdown": [
       "**Field that contains information about lithology**"
      ],
      "text/plain": [
       "<IPython.core.display.Markdown object>"
      ]
     },
     "metadata": {},
     "output_type": "display_data"
    },
    {
     "data": {
      "application/vnd.jupyter.widget-view+json": {
       "model_id": "4cbc88856b47439197cd7474c407e262",
       "version_major": 2,
       "version_minor": 0
      },
      "text/plain": [
       "Dropdown(description='Description:', options=('No_col', 'GID', 'RCODE', 'SYMBOL', 'REGION', 'SUPERGROUP', 'GRP…"
      ]
     },
     "metadata": {},
     "output_type": "display_data"
    },
    {
     "data": {
      "text/markdown": [
       "**Field that contains extra lithology information**"
      ],
      "text/plain": [
       "<IPython.core.display.Markdown object>"
      ]
     },
     "metadata": {},
     "output_type": "display_data"
    },
    {
     "data": {
      "application/vnd.jupyter.widget-view+json": {
       "model_id": "f66465334bbe43128bd75b27b79139d3",
       "version_major": 2,
       "version_minor": 0
      },
      "text/plain": [
       "Dropdown(description='Litho', options=('No_col', 'GID', 'RCODE', 'SYMBOL', 'REGION', 'SUPERGROUP', 'GRP', 'SUB…"
      ]
     },
     "metadata": {},
     "output_type": "display_data"
    },
    {
     "data": {
      "text/markdown": [
       "**Field that contains even more lithology information**"
      ],
      "text/plain": [
       "<IPython.core.display.Markdown object>"
      ]
     },
     "metadata": {},
     "output_type": "display_data"
    },
    {
     "data": {
      "application/vnd.jupyter.widget-view+json": {
       "model_id": "43091c4011e14c5584da51020a3d6519",
       "version_major": 2,
       "version_minor": 0
      },
      "text/plain": [
       "Dropdown(description='Litho alt', options=('No_col', 'GID', 'RCODE', 'SYMBOL', 'REGION', 'SUPERGROUP', 'GRP', …"
      ]
     },
     "metadata": {},
     "output_type": "display_data"
    },
    {
     "data": {
      "text/markdown": [
       "**Text to search for in field defined by Description code to show that this is a sill**"
      ],
      "text/plain": [
       "<IPython.core.display.Markdown object>"
      ]
     },
     "metadata": {},
     "output_type": "display_data"
    },
    {
     "data": {
      "application/vnd.jupyter.widget-view+json": {
       "model_id": "e8d95b3a222c413bbccb09837d2fdf4d",
       "version_major": 2,
       "version_minor": 0
      },
      "text/plain": [
       "Text(value='sill', description='Sill text', placeholder='sill')"
      ]
     },
     "metadata": {},
     "output_type": "display_data"
    },
    {
     "data": {
      "text/markdown": [
       "**Text to search for in field defined by Litho code to show that this is an intrusion**"
      ],
      "text/plain": [
       "<IPython.core.display.Markdown object>"
      ]
     },
     "metadata": {},
     "output_type": "display_data"
    },
    {
     "data": {
      "application/vnd.jupyter.widget-view+json": {
       "model_id": "683337dbd57245939353b64908b5c4f2",
       "version_major": 2,
       "version_minor": 0
      },
      "text/plain": [
       "Text(value='intrusive', description='Intrusive text', placeholder='intrusive')"
      ]
     },
     "metadata": {},
     "output_type": "display_data"
    },
    {
     "data": {
      "text/markdown": [
       "**Text to search for in field defined by Description code to show that this is an volcanic (not intrusion)**"
      ],
      "text/plain": [
       "<IPython.core.display.Markdown object>"
      ]
     },
     "metadata": {},
     "output_type": "display_data"
    },
    {
     "data": {
      "application/vnd.jupyter.widget-view+json": {
       "model_id": "d397f6c7dac64d9c882f43836d012a2d",
       "version_major": 2,
       "version_minor": 0
      },
      "text/plain": [
       "Text(value='volc', description='Volc text', placeholder='volc')"
      ]
     },
     "metadata": {},
     "output_type": "display_data"
    },
    {
     "data": {
      "text/markdown": [
       "**Field that contains minimum age of unit defined by Formation**"
      ],
      "text/plain": [
       "<IPython.core.display.Markdown object>"
      ]
     },
     "metadata": {},
     "output_type": "display_data"
    },
    {
     "data": {
      "application/vnd.jupyter.widget-view+json": {
       "model_id": "e5f4b66aefc34a7f8ac4465d88f34c37",
       "version_major": 2,
       "version_minor": 0
      },
      "text/plain": [
       "Dropdown(description='Min age', options=('No_col', 'GID', 'RCODE', 'SYMBOL', 'REGION', 'SUPERGROUP', 'GRP', 'S…"
      ]
     },
     "metadata": {},
     "output_type": "display_data"
    },
    {
     "data": {
      "text/markdown": [
       "**Field that contains maximum age of unit defined by Formation**"
      ],
      "text/plain": [
       "<IPython.core.display.Markdown object>"
      ]
     },
     "metadata": {},
     "output_type": "display_data"
    },
    {
     "data": {
      "application/vnd.jupyter.widget-view+json": {
       "model_id": "0e03ff57fbae44d5ae60613e033c4cab",
       "version_major": 2,
       "version_minor": 0
      },
      "text/plain": [
       "Dropdown(description='Max age', options=('No_col', 'GID', 'RCODE', 'SYMBOL', 'REGION', 'SUPERGROUP', 'GRP', 'S…"
      ]
     },
     "metadata": {},
     "output_type": "display_data"
    }
   ],
   "source": [
    "c_l['ff']=ff_choice.value\n",
    "c_l['fold']=fold_choice.value\n",
    "c_l['t']=t_choice.value\n",
    "c_l['syn']=syn_choice.value\n",
    "\n",
    "if(not geology_file==''):\n",
    "    geology=gpd.read_file(geology_file)\n",
    "    display(geology.head())\n",
    "    cols=['No_col']\n",
    "    for sc in geology.columns:\n",
    "        cols.append(sc)\n",
    "    printmd('**Based on file:'+' '+geology_file+'**')\n",
    "\n",
    "    printmd('\\n**Field that contains unique ID**')\n",
    "\n",
    "    o_choice=widgets.Dropdown(\n",
    "        options=cols,\n",
    "        description='Unique ID',\n",
    "        disabled=False\n",
    "    )\n",
    "    display(o_choice)\n",
    "\n",
    "    printmd('**Field that contains finer stratigraphic coding**')\n",
    "\n",
    "    c_choice=widgets.Dropdown(\n",
    "        options=cols,\n",
    "        description='Formation',\n",
    "        disabled=False\n",
    "    )\n",
    "    display(c_choice)\n",
    "\n",
    "    printmd('\\n**Field that contains coarser stratigraphic coding**')\n",
    "\n",
    "    g_choice=widgets.Dropdown(\n",
    "        options=cols,\n",
    "        description='Group',\n",
    "        disabled=False\n",
    "    )\n",
    "    display(g_choice)\n",
    "\n",
    "    printmd('**Field that contains alternate coarser stratigraphic coding if Group is blank**')\n",
    "\n",
    "    g2_choice=widgets.Dropdown(\n",
    "        options=cols,\n",
    "        description='Group alt',\n",
    "        disabled=False\n",
    "    )\n",
    "    display(g2_choice)\n",
    "\n",
    "\n",
    "    printmd('**Field that contains alternate stratigraphic coding (used to check for \"drift\" formations'')**')\n",
    "\n",
    "    u_choice=widgets.Dropdown(\n",
    "        options=cols,\n",
    "        description='Strat alt',\n",
    "        disabled=False\n",
    "    )\n",
    "    display(u_choice)\n",
    "\n",
    "    printmd('**Field that contains information about lithology**')\n",
    "\n",
    "    ds_choice=widgets.Dropdown(\n",
    "        options=cols,\n",
    "        description='Description:',\n",
    "        disabled=False\n",
    "    )\n",
    "    display(ds_choice)\n",
    "\n",
    "    printmd('**Field that contains extra lithology information**')\n",
    "\n",
    "    r1_choice=widgets.Dropdown(\n",
    "        options=cols,\n",
    "        description='Litho',\n",
    "        disabled=False\n",
    "    )\n",
    "    display(r1_choice)\n",
    "\n",
    "    printmd('**Field that contains even more lithology information**')\n",
    "\n",
    "    r2_choice=widgets.Dropdown(\n",
    "        options=cols,\n",
    "        description='Litho alt',\n",
    "        disabled=False\n",
    "    )\n",
    "    display(r2_choice)\n",
    "\n",
    "    printmd('**Text to search for in field defined by Description code to show that this is a sill**')\n",
    "\n",
    "    sill_choice=widgets.Text(\n",
    "        placeholder='sill',\n",
    "        value='sill',\n",
    "        description='Sill text',\n",
    "        disabled=False\n",
    "    )\n",
    "    display(sill_choice)\n",
    "\n",
    "    printmd('**Text to search for in field defined by Litho code to show that this is an intrusion**')\n",
    "\n",
    "    intrusive_choice=widgets.Text(\n",
    "        placeholder='intrusive',\n",
    "        value='intrusive',\n",
    "        description='Intrusive text',\n",
    "        disabled=False\n",
    "    )\n",
    "    display(intrusive_choice)\n",
    "\n",
    "    printmd('**Text to search for in field defined by Description code to show that this is an volcanic (not intrusion)**')\n",
    "\n",
    "\n",
    "    volcanic_choice=widgets.Text(\n",
    "        placeholder='volc',\n",
    "        value='volc',\n",
    "        description='Volc text',\n",
    "        disabled=False\n",
    "    )\n",
    "    display(volcanic_choice)\n",
    "\n",
    "    printmd('**Field that contains minimum age of unit defined by Formation**')\n",
    "\n",
    "    min_choice=widgets.Dropdown(\n",
    "        options=cols,\n",
    "        description='Min age',\n",
    "        disabled=False\n",
    "    )\n",
    "    display(min_choice)\n",
    "\n",
    "    printmd('**Field that contains maximum age of unit defined by Formation**')\n",
    "\n",
    "    max_choice=widgets.Dropdown(\n",
    "        options=cols,\n",
    "        description='Max age',\n",
    "        disabled=False\n",
    "    )\n",
    "    display(max_choice)\n",
    "\n"
   ]
  },
  {
   "cell_type": "code",
   "execution_count": 17,
   "metadata": {},
   "outputs": [
    {
     "data": {
      "text/html": [
       "<div>\n",
       "<style scoped>\n",
       "    .dataframe tbody tr th:only-of-type {\n",
       "        vertical-align: middle;\n",
       "    }\n",
       "\n",
       "    .dataframe tbody tr th {\n",
       "        vertical-align: top;\n",
       "    }\n",
       "\n",
       "    .dataframe thead th {\n",
       "        text-align: right;\n",
       "    }\n",
       "</style>\n",
       "<table border=\"1\" class=\"dataframe\">\n",
       "  <thead>\n",
       "    <tr style=\"text-align: right;\">\n",
       "      <th></th>\n",
       "      <th>SITE_CODE</th>\n",
       "      <th>SITE_TITLE</th>\n",
       "      <th>SHORT_NAME</th>\n",
       "      <th>SITE_COMMO</th>\n",
       "      <th>SITE_TYPE_</th>\n",
       "      <th>SITE_SUB_T</th>\n",
       "      <th>SITE_STAGE</th>\n",
       "      <th>TARGET_COM</th>\n",
       "      <th>COMMODITY_</th>\n",
       "      <th>PROJ_CODE</th>\n",
       "      <th>PROJ_TITLE</th>\n",
       "      <th>WEB_LINK</th>\n",
       "      <th>EXTRACT_DA</th>\n",
       "      <th>geometry</th>\n",
       "    </tr>\n",
       "  </thead>\n",
       "  <tbody>\n",
       "    <tr>\n",
       "      <th>0</th>\n",
       "      <td>S0001482</td>\n",
       "      <td>Vivash Gorge</td>\n",
       "      <td>Vivash Gorge</td>\n",
       "      <td>Fe</td>\n",
       "      <td>Deposit</td>\n",
       "      <td>Unspecified</td>\n",
       "      <td>Undeveloped</td>\n",
       "      <td>IRON ORE</td>\n",
       "      <td>IRON</td>\n",
       "      <td>J03931</td>\n",
       "      <td>Brockman 4 Area / Rio Tinto</td>\n",
       "      <td>http://minedexext.dmp.wa.gov.au/minedex/extern...</td>\n",
       "      <td>2018-05-07</td>\n",
       "      <td>POINT (505671.537 7495706.968)</td>\n",
       "    </tr>\n",
       "    <tr>\n",
       "      <th>1</th>\n",
       "      <td>S0231563</td>\n",
       "      <td>Eliwana Exploration Camp</td>\n",
       "      <td>Exploration camp</td>\n",
       "      <td>Fe</td>\n",
       "      <td>Infrastructure</td>\n",
       "      <td>Town/Village/Camp</td>\n",
       "      <td>Operating</td>\n",
       "      <td>IRON ORE</td>\n",
       "      <td>IRON</td>\n",
       "      <td>J03436</td>\n",
       "      <td>Western Hub / FMG</td>\n",
       "      <td>http://minedexext.dmp.wa.gov.au/minedex/extern...</td>\n",
       "      <td>2018-05-07</td>\n",
       "      <td>POINT (503344.199 7511681.103)</td>\n",
       "    </tr>\n",
       "    <tr>\n",
       "      <th>2</th>\n",
       "      <td>S0233921</td>\n",
       "      <td>Eliwana Far East 2 Marra Mamba</td>\n",
       "      <td>Eliwana Far East 2 Marra Mamba</td>\n",
       "      <td>Fe</td>\n",
       "      <td>Deposit</td>\n",
       "      <td>Unspecified</td>\n",
       "      <td>Undeveloped</td>\n",
       "      <td>IRON ORE</td>\n",
       "      <td>IRON</td>\n",
       "      <td>J03436</td>\n",
       "      <td>Western Hub / FMG</td>\n",
       "      <td>http://minedexext.dmp.wa.gov.au/minedex/extern...</td>\n",
       "      <td>2018-05-07</td>\n",
       "      <td>POINT (505699.008 7509917.737)</td>\n",
       "    </tr>\n",
       "  </tbody>\n",
       "</table>\n",
       "</div>"
      ],
      "text/plain": [
       "  SITE_CODE                      SITE_TITLE                      SHORT_NAME  \\\n",
       "0  S0001482                    Vivash Gorge                    Vivash Gorge   \n",
       "1  S0231563        Eliwana Exploration Camp                Exploration camp   \n",
       "2  S0233921  Eliwana Far East 2 Marra Mamba  Eliwana Far East 2 Marra Mamba   \n",
       "\n",
       "  SITE_COMMO      SITE_TYPE_         SITE_SUB_T   SITE_STAGE TARGET_COM  \\\n",
       "0         Fe         Deposit        Unspecified  Undeveloped   IRON ORE   \n",
       "1         Fe  Infrastructure  Town/Village/Camp    Operating   IRON ORE   \n",
       "2         Fe         Deposit        Unspecified  Undeveloped   IRON ORE   \n",
       "\n",
       "  COMMODITY_ PROJ_CODE                   PROJ_TITLE  \\\n",
       "0       IRON    J03931  Brockman 4 Area / Rio Tinto   \n",
       "1       IRON    J03436            Western Hub / FMG   \n",
       "2       IRON    J03436            Western Hub / FMG   \n",
       "\n",
       "                                            WEB_LINK  EXTRACT_DA  \\\n",
       "0  http://minedexext.dmp.wa.gov.au/minedex/extern...  2018-05-07   \n",
       "1  http://minedexext.dmp.wa.gov.au/minedex/extern...  2018-05-07   \n",
       "2  http://minedexext.dmp.wa.gov.au/minedex/extern...  2018-05-07   \n",
       "\n",
       "                         geometry  \n",
       "0  POINT (505671.537 7495706.968)  \n",
       "1  POINT (503344.199 7511681.103)  \n",
       "2  POINT (505699.008 7509917.737)  "
      ]
     },
     "metadata": {},
     "output_type": "display_data"
    },
    {
     "data": {
      "text/markdown": [
       "**Based on file: ../source_data//null_mindeps.shp**"
      ],
      "text/plain": [
       "<IPython.core.display.Markdown object>"
      ]
     },
     "metadata": {},
     "output_type": "display_data"
    },
    {
     "data": {
      "text/markdown": [
       "\n",
       "**Field that contains site code of deposit**"
      ],
      "text/plain": [
       "<IPython.core.display.Markdown object>"
      ]
     },
     "metadata": {},
     "output_type": "display_data"
    },
    {
     "data": {
      "application/vnd.jupyter.widget-view+json": {
       "model_id": "a0a5a36808994556b5bea6445f4db039",
       "version_major": 2,
       "version_minor": 0
      },
      "text/plain": [
       "Dropdown(description='Site code', options=('No_col', 'SITE_CODE', 'SITE_TITLE', 'SHORT_NAME', 'SITE_COMMO', 'S…"
      ]
     },
     "metadata": {},
     "output_type": "display_data"
    },
    {
     "data": {
      "text/markdown": [
       "**Field that contains short name of deposit (e.g. Jones deposit)**"
      ],
      "text/plain": [
       "<IPython.core.display.Markdown object>"
      ]
     },
     "metadata": {},
     "output_type": "display_data"
    },
    {
     "data": {
      "application/vnd.jupyter.widget-view+json": {
       "model_id": "3f43e66b63e64736bdb7e4fa8ed0485c",
       "version_major": 2,
       "version_minor": 0
      },
      "text/plain": [
       "Dropdown(description='Short Name', options=('No_col', 'SITE_CODE', 'SITE_TITLE', 'SHORT_NAME', 'SITE_COMMO', '…"
      ]
     },
     "metadata": {},
     "output_type": "display_data"
    },
    {
     "data": {
      "text/markdown": [
       "**Field that contains site type of deposit (Mine, occurrence etc.)**"
      ],
      "text/plain": [
       "<IPython.core.display.Markdown object>"
      ]
     },
     "metadata": {},
     "output_type": "display_data"
    },
    {
     "data": {
      "application/vnd.jupyter.widget-view+json": {
       "model_id": "08379212ecce4d08bbde354ba6c94e9f",
       "version_major": 2,
       "version_minor": 0
      },
      "text/plain": [
       "Dropdown(description='Site type', options=('No_col', 'SITE_CODE', 'SITE_TITLE', 'SHORT_NAME', 'SITE_COMMO', 'S…"
      ]
     },
     "metadata": {},
     "output_type": "display_data"
    },
    {
     "data": {
      "text/markdown": [
       "**Field that contains target commodity of deposit (Commodity)**"
      ],
      "text/plain": [
       "<IPython.core.display.Markdown object>"
      ]
     },
     "metadata": {},
     "output_type": "display_data"
    },
    {
     "data": {
      "application/vnd.jupyter.widget-view+json": {
       "model_id": "74d292d99eec42ca9f4c6bf5aaefd6d0",
       "version_major": 2,
       "version_minor": 0
      },
      "text/plain": [
       "Dropdown(description='Target Comm', options=('No_col', 'SITE_CODE', 'SITE_TITLE', 'SHORT_NAME', 'SITE_COMMO', …"
      ]
     },
     "metadata": {},
     "output_type": "display_data"
    },
    {
     "data": {
      "text/markdown": [
       "**Field that contains site commodity of deposit (ore Mineral)**"
      ],
      "text/plain": [
       "<IPython.core.display.Markdown object>"
      ]
     },
     "metadata": {},
     "output_type": "display_data"
    },
    {
     "data": {
      "application/vnd.jupyter.widget-view+json": {
       "model_id": "a0b85a8f078a44129b2e00998f70bf1c",
       "version_major": 2,
       "version_minor": 0
      },
      "text/plain": [
       "Dropdown(description='Site Commodity', options=('No_col', 'SITE_CODE', 'SITE_TITLE', 'SHORT_NAME', 'SITE_COMMO…"
      ]
     },
     "metadata": {},
     "output_type": "display_data"
    },
    {
     "data": {
      "text/markdown": [
       "**Field that contains commodity group of deposit (e.g. Metal)**"
      ],
      "text/plain": [
       "<IPython.core.display.Markdown object>"
      ]
     },
     "metadata": {},
     "output_type": "display_data"
    },
    {
     "data": {
      "application/vnd.jupyter.widget-view+json": {
       "model_id": "51b1c31d54a04709a7ea7f7f054df9a2",
       "version_major": 2,
       "version_minor": 0
      },
      "text/plain": [
       "Dropdown(description='Commodity', options=('No_col', 'SITE_CODE', 'SITE_TITLE', 'SHORT_NAME', 'SITE_COMMO', 'S…"
      ]
     },
     "metadata": {},
     "output_type": "display_data"
    },
    {
     "data": {
      "text/markdown": [
       "**Text to search for in field defined by Site type code that shows site to ignore**"
      ],
      "text/plain": [
       "<IPython.core.display.Markdown object>"
      ]
     },
     "metadata": {},
     "output_type": "display_data"
    },
    {
     "data": {
      "application/vnd.jupyter.widget-view+json": {
       "model_id": "9e78a129d1a94f62bf8f11f706f6e78f",
       "version_major": 2,
       "version_minor": 0
      },
      "text/plain": [
       "Text(value='Cons', description='Not mine text', placeholder='Cons')"
      ]
     },
     "metadata": {},
     "output_type": "display_data"
    }
   ],
   "source": [
    "c_l['o']=o_choice.value\n",
    "c_l['g']=g_choice.value\n",
    "c_l['g2']=g2_choice.value\n",
    "c_l['c']=c_choice.value\n",
    "c_l['ds']=ds_choice.value\n",
    "c_l['u']=u_choice.value\n",
    "c_l['r1']=r1_choice.value\n",
    "c_l['r2']=r2_choice.value\n",
    "c_l['sill']=sill_choice.value\n",
    "c_l['intrusive']=intrusive_choice.value\n",
    "c_l['volcanic']=volcanic_choice.value\n",
    "c_l['min']=min_choice.value\n",
    "c_l['max']=max_choice.value\n",
    "\n",
    "mindep=gpd.read_file(mindep_file)\n",
    "display(mindep.head())\n",
    "cols=['No_col']\n",
    "for sc in mindep.columns:\n",
    "    cols.append(sc)\n",
    "\n",
    "printmd('**Based on file:'+' '+mindep_file+'**')\n",
    "\n",
    "printmd('\\n**Field that contains site code of deposit**')\n",
    "\n",
    "msc_choice=widgets.Dropdown(\n",
    "    options=cols,\n",
    "    description='Site code',\n",
    "    disabled=False\n",
    ")\n",
    "display(msc_choice)\n",
    "\n",
    "printmd('**Field that contains short name of deposit (e.g. Jones deposit)**')\n",
    "\n",
    "msn_choice=widgets.Dropdown(\n",
    "    options=cols,\n",
    "    description='Short Name',\n",
    "    disabled=False\n",
    ")\n",
    "display(msn_choice)\n",
    "\n",
    "printmd('**Field that contains site type of deposit (Mine, occurrence etc.)**')\n",
    "\n",
    "mst_choice=widgets.Dropdown(\n",
    "    options=cols,\n",
    "    description='Site type',\n",
    "    disabled=False\n",
    ")\n",
    "display(mst_choice)\n",
    "\n",
    "\n",
    "printmd('**Field that contains target commodity of deposit (Commodity)**')\n",
    "\n",
    "mtc_choice=widgets.Dropdown(\n",
    "    options=cols,\n",
    "    description='Target Comm',\n",
    "    disabled=False\n",
    ")\n",
    "display(mtc_choice)\n",
    "\n",
    "printmd('**Field that contains site commodity of deposit (ore Mineral)**')\n",
    "\n",
    "mscm_choice=widgets.Dropdown(\n",
    "    options=cols,\n",
    "    description='Site Commodity',\n",
    "    disabled=False\n",
    ")\n",
    "display(mscm_choice)\n",
    "\n",
    "printmd('**Field that contains commodity group of deposit (e.g. Metal)**')\n",
    "\n",
    "mcom_choice=widgets.Dropdown(\n",
    "    options=cols,\n",
    "    description='Commodity',\n",
    "    disabled=False,\n",
    "    style=style\n",
    ")\n",
    "display(mcom_choice)\n",
    "\n",
    "printmd('**Text to search for in field defined by Site type code that shows site to ignore**')\n",
    "\n",
    "minf_choice=widgets.Text(\n",
    "    placeholder='Cons',\n",
    "    value='Cons',\n",
    "    description='Not mine text',\n",
    "    disabled=False\n",
    ")\n",
    "display(minf_choice)\n"
   ]
  },
  {
   "cell_type": "code",
   "execution_count": 18,
   "metadata": {},
   "outputs": [],
   "source": [
    "c_l['msc']=msc_choice.value\n",
    "c_l['msn']=msn_choice.value\n",
    "c_l['mst']=mst_choice.value\n",
    "c_l['mtc']=mtc_choice.value\n",
    "c_l['mscm']=mscm_choice.value\n",
    "c_l['mcom']=mcom_choice.value\n",
    "c_l['minf']=minf_choice.value\n",
    "\n",
    "\n",
    "if(not os.path.isdir('../'+test_data_name)):\n",
    "    os.mkdir('../'+test_data_name)\n",
    "f=open('../'+test_data_name+'/m2l_config.py',\"w\")\n",
    "\n",
    "f.write(\"#ROI\\n\")\n",
    "f.write(\"\\n\")\n",
    "f.write(\"step_out=0.1   #padding around dtm to ensure reprojected dtm covers target area (in degrees)\\n\")\n",
    "f.write(\"inset=0      #unused??\\n\")\n",
    "f.write(\"\\n\")\n",
    "f.write(\"#\\n\")\n",
    "f.write(\"#minx=\"+minx+\"  #region of interest coordinates in metre-based system (or non-degree system)\\n\")\n",
    "f.write(\"#maxx=\"+maxx+\"\\n\")\n",
    "f.write(\"#miny=\"+miny+\"\\n\")\n",
    "f.write(\"#maxy=\"+maxy+\"\\n\")\n",
    "f.write(\"model_top=1200\\n\")\n",
    "f.write(\"model_base=-3200\\n\")\n",
    "f.write(\"\\n\")\n",
    "f.write(\"#PATHS\\n\")\n",
    "f.write(\"\\n\")\n",
    "f.write(\"local_paths=False       #flag to use local or WFS source for data inputs (True = local)\\n\")\n",
    "f.write(\"\\n\")\n",
    "f.write(\"\\n\")\n",
    "f.write(\"data_path=''\\n\")\n",
    "f.write(\"clut_path=''\\n\")\n",
    "f.write(\"base_url='https://gs-seamless.geoscience.nsw.gov.au/geoserver/ows?service=wfs&version=2.0.0&request=GetFeature&typeName='\\n\")\n",
    "f.write(\"\\n\")\n",
    "f.write(\"structure_file='\"+structure_file+\"'\\n\")\n",
    "f.write(\"fault_file='\"+fault_file+\"'\\n\")\n",
    "f.write(\"fold_file='\"+fold_file+\"'\\n\")\n",
    "f.write(\"geology_file='\"+geology_file+\"'\\n\")\n",
    "f.write(\"mindep_file='\"+mindep_file+\"'\\n\")\n",
    "f.write(\"\\n\")\n",
    "f.write(\"#CRS\\n\")\n",
    "f.write(\"\\n\")\n",
    "f.write(\"src_crs = 'epsg:4326'  # coordinate reference system for imported dtms (geodetic lat/long WGS84)\\n\")\n",
    "f.write(\"dst_crs = '\"+dst_crs+\"' # coordinate system for data\\n\")\n",
    "f.write(\"\\n\")\n",
    "f.write(\"#CODES AND LABELS \\n\")\n",
    "f.write(\"# these refer to specific fields (codes) in GIS layer or database that contain the info needed for these calcs and text substrings (labels) in the contents of these fields\\n\")\n",
    "f.write(\"c_l=\")\n",
    "f.write(str(c_l)+\"\\n\")\n",
    "f.write(\"\\n\")\n",
    "f.write(\"#DECIMATION\\n\")\n",
    "f.write(\"\\n\")\n",
    "f.write(\"orientation_decimate=0  #store every nth orientation (in object order) 0 = save all\\n\")\n",
    "f.write(\"contact_decimate=10     #store every nth contact point (in object order) 0 = save all\\n\")\n",
    "f.write(\"fault_decimate=5        #store every nth fault point (in object order) 0 = save all\\n\")\n",
    "f.write(\"fold_decimate=5         #store every nth fold axial trace point (in object order) 0 = save all\\n\")\n",
    "f.write(\"\\n\")\n",
    "f.write(\"#INTERPOLATION\\n\")\n",
    "f.write(\"\\n\")\n",
    "f.write(\"gridx=50                #x grid dimensions (no of points, not distance) for interpolations\\n\")\n",
    "f.write(\"gridy=50                #x grid dimensions (no of points, not distance) for interpolations\\n\")\n",
    "f.write(\"scheme='scipy_rbf'      #interpolation scheme\\n\")\n",
    "f.write(\"dist_buffer=5           #buffer distance for clipping points by faults (in metres or same units as dst_crs)\\n\")\n",
    "f.write(\"intrusion_mode=0        # 1 all intrusions exluded from basal contacts, 0 only sills\\n\")\n",
    "f.write(\"use_interpolations=False    # flag to use interpolated orientations or not.\\n\")\n",
    "f.write(\"\\n\")\n",
    "f.write(\"#ASSUMPTIONS\\n\")\n",
    "f.write(\"\\n\")\n",
    "f.write(\"pluton_dip=45           #surface dip of pluton contacts\\n\")\n",
    "f.write(\"pluton_form='domes'     #saucers: \\__+_+__/  batholith: +/       \\+   domes: /  +  + \\  pendant: +\\_____/+\\n\")\n",
    "f.write(\"fault_dip=90            #surface dip of faults\\n\")\n",
    "f.write(\"\\n\")\n",
    "f.write(\"#DERIVED AND FIXED PATHS\\n\")\n",
    "f.write(\"\\n\")\n",
    "f.write(\"m2m_cpp_path='../m2m_cpp/'\\n\")\n",
    "f.write(\"\\n\")\n",
    "f.write(\"graph_path=test_data_path+'graph/'\\n\")\n",
    "f.write(\"tmp_path=test_data_path+'tmp/'\\n\")\n",
    "f.write(\"#data_path=test_data_path+'data/'\\n\")\n",
    "f.write(\"dtm_path=test_data_path+'dtm/'\\n\")\n",
    "f.write(\"output_path=test_data_path+'output/'\\n\")\n",
    "f.write(\"vtk_path=test_data_path+'vtk/'\\n\")\n",
    "f.write(\"\\n\")\n",
    "f.write(\"fault_file_csv=tmp_path+'fault_file.csv'\\n\")\n",
    "f.write(\"structure_file_csv=tmp_path+'structure_file.csv'\\n\")\n",
    "f.write(\"geology_file_csv=tmp_path+'geology_file.csv'\\n\")\n",
    "f.write(\"mindep_file_csv=tmp_path+'mindep_file.csv'\\n\")\n",
    "f.write(\"\\n\")\n",
    "f.write(\"fault_file=data_path+fault_file\\n\")\n",
    "f.write(\"fold_file=data_path+fold_file\\n\")\n",
    "f.write(\"structure_file=data_path+structure_file\\n\")\n",
    "f.write(\"geology_file=data_path+geology_file\\n\")\n",
    "f.write(\"mindep_file=data_path+mindep_file\\n\")\n",
    "f.write(\"\\n\")\n",
    "f.write(\"strat_graph_file=test_data_path+'graph/graph_strat_NONE.gml'\\n\")\n",
    "f.write(\"\\n\")\n",
    "f.write(\"dtm_file=dtm_path+'dtm.tif'\\n\")\n",
    "f.write(\"dtm_reproj_file=dtm_path+'dtm_rp.tif'\\n\")\n",
    "f.write(\"\\n\")\n",
    "f.write(\"if(not os.path.isdir(test_data_path)):\\n\")\n",
    "f.write(\"   os.mkdir(test_data_path)\\n\")\n",
    "f.write(\"if(not os.path.isdir(tmp_path)):\\n\")\n",
    "f.write(\"   os.mkdir(tmp_path)\\n\")\n",
    "f.write(\"if(not os.path.isdir(output_path)):\\n\")\n",
    "f.write(\"   os.mkdir(output_path)\\n\")\n",
    "f.write(\"if(not os.path.isdir(dtm_path)):\\n\")\n",
    "f.write(\"   os.mkdir(dtm_path)\\n\")\n",
    "f.write(\"if(not os.path.isdir(vtk_path)):\\n\")\n",
    "f.write(\"   os.mkdir(vtk_path)\\n\")\n",
    "f.write(\"if(not os.path.isdir(graph_path)):\\n\")\n",
    "f.write(\"   os.mkdir(graph_path)\\n\")\n",
    "f.write(\"\\n\")\n",
    "f.write(\"print('Default parameters loaded from '+test_data_path+'m2l_config.py:')\\n\")\n",
    "f.write(\"with open('../\"+test_data_name+\"/m2l_config.py', 'r') as myfile:\\n\")\n",
    "f.write(\"  data = myfile.read()\\n\")\n",
    "f.write(\"  print(data)\\n\")\n",
    "f.write(\"  myfile.close()\\n\")\n",
    "f.write(\"\\n\")\n",
    "f.write(\"print('Modify these parameters in the cell below')\\n\")\n",
    "f.close()"
   ]
  },
  {
   "cell_type": "code",
   "execution_count": null,
   "metadata": {},
   "outputs": [],
   "source": [
    "c_l"
   ]
  },
  {
   "cell_type": "code",
   "execution_count": null,
   "metadata": {},
   "outputs": [],
   "source": []
  }
 ],
 "metadata": {
  "kernelspec": {
   "display_name": "Python 3",
   "language": "python",
   "name": "python3"
  },
  "language_info": {
   "codemirror_mode": {
    "name": "ipython",
    "version": 3
   },
   "file_extension": ".py",
   "mimetype": "text/x-python",
   "name": "python",
   "nbconvert_exporter": "python",
   "pygments_lexer": "ipython3",
   "version": "3.7.7"
  }
 },
 "nbformat": 4,
 "nbformat_minor": 4
}
