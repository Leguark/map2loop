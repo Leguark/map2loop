{
 "cells": [
  {
   "cell_type": "markdown",
   "metadata": {},
   "source": [
    "### Config file generator\n",
    "<img src='../graphics/loop_sm.png'>\n",
    "This simple notebook provides a tool for generating map2loop config files, one of the more annoying parts of the process.\n",
    "   \n",
    "1. It first gets the project name and destination projection system (as EPSG number)   \n",
    "   \n",
    "2. It then asks for the paths to the different shape files (for WFS you will have to edit this manually afterwards)   \n",
    "   \n",
    "3. Finally for each input file, you have to define which fields to use, and which keywords to look for in some of these fields   \n",
    "     \n",
    "4. Finally, make a copy of the <a href=\"0.%20Generic%20config%20file.ipynb\" target=\"_blank\">0. Generic config file notebook</a> and update the **test_data_name** parameter   \n",
    "   \n",
    "Lots of the parameters not related to the GIS layers are hard-wired by this notebook, but can be easily overridden in the notebooks and are much less fiddly to deal with."
   ]
  },
  {
   "cell_type": "code",
   "execution_count": 1,
   "metadata": {},
   "outputs": [],
   "source": [
    "from ipyfilechooser import FileChooser\n",
    "import geopandas as gpd\n",
    "import ipywidgets as widgets\n",
    "import pandas as pd\n",
    "import os\n",
    "from IPython.display import Markdown, display\n",
    "\n",
    "def printmd(string):\n",
    "    display(Markdown(string))\n",
    "    \n",
    "pd.options.display.max_columns = None\n",
    "style = {'description_width': 'initial'}\n",
    "c_l= {\n",
    "#Orientations\n",
    "  \"d\": \"dip\",                  #field that contains dip information\n",
    "  \"dd\": \"azimuth\",             #field that contains dip direction information\n",
    "  \"sf\": 'codedescpt',             #field that contains information on type of structure\n",
    "  \"bedding\": 'bedding',            #text to search for in field defined by sf code to show that this is a bedding measurement\n",
    "  \"otype\": 'dip direction',            #flag to determine measurement convention (currently 'strike' or 'dip direction')\n",
    "  \"bo\": \"deform\",             #field that contains type of foliation\n",
    "  \"btype\": 'BEOI',            #text to search for in field defined by bo code to show that this is an overturned bedding measurement\n",
    "#stratigraphy\n",
    "  \"g\": 'sub_provin',               #field that contains coarser stratigraphic coding\n",
    "  \"g2\": 'province',              #field that contains alternate coarser stratigraphic coding if 'g' is blank\n",
    "  \"c\": 'unit_name',                 #field that contains finer stratigraphic coding\n",
    "  \"ds\": 'deposition',           #field that contains information about lithology\n",
    "  \"u\": 'nsw_code',             #field that contains alternate stratigraphic coding (not used??)\n",
    "  \"r1\": 'class',           #field that contains  extra lithology information\n",
    "  \"r2\": 'igneous_ty',           #field that contains even more lithology information\n",
    "  \"sill\": 'sill',              #text to search for in field defined by ds code to show that this is a sill\n",
    "  \"intrusive\": 'intrusive',    #text to search for in field defined by r1 code to show that this is an intrusion\n",
    "  \"volcanic\": 'volcanic',      #text to search for in field defined by ds code to show that this is an volcanic (not intrusion)\n",
    "#mineral deposits\n",
    "  \"msc\": 'SITE_CODE',          #field that contains site code of deposit\n",
    "  \"msn\": 'SHORT_NAME',         #field that contains short name of deposit\n",
    "  \"mst\": 'SITE_TYPE_',         #field that contains site type of deposit\n",
    "  \"mtc\": 'TARGET_COM',         #field that contains target commodity of deposit\n",
    "  \"mscm\": 'SITE_COMMO',        #field that contains site commodity of deposit\n",
    "  \"mcom\": 'COMMODITY_',        #field that contains commodity group of deposit\n",
    "  \"minf\": 'Infrastructure',    #text to search for in field defined by mst code that shows site to ignore\n",
    "#timing\n",
    "  \"min\": 'top_end_ag',         #field that contains minimum age of unit defined by ccode\n",
    "  \"max\": 'base_start',         #field that contains maximum age of unit defined by ccode\n",
    "#faults and folds\n",
    "  \"f\": 'boundaryty',              #field that contains information on type of structure\n",
    "  \"fault\": 'Fault',            #text to search for in field defined by f code to show that this is a fault\n",
    "  \"ff\": 'codedescpt',  # field that contains information on type of structure\n",
    "  \"fold\": 'cline',  #text to search for in field defined by ff code to show that this is a fold axial trace\n",
    "  \"fdip\": 'dip',               # field for numeric fault dip value\n",
    "  \"fdipnull\": '0',         # text to search for in field defined by fdip to show that this has no known dip\n",
    "  \"fdipdir\": 'faultdipdi',        # field for text fault dip direction value \n",
    "  \"fdipdir_flag\": 'alpha',        # flag for text fault dip direction type num e.g. 045 or alpha e.g. southeast    \n",
    "  \"fdipest\": 'faultdipan',        # field for text fault dip estimate value\n",
    "  \"fdipest_vals\": 'Moderate,Listric,Steep,Vertical',        # text to search for in field defined by fdipest to give fault dip estimate in increasing steepness\n",
    "  \"n\": 'name',                 #field that contains information on name of fault (not used??)\n",
    "  \"t\": 'codedescpt',                 #field that contains information on type of fold\n",
    "  \"syn\": 'Syncline',           #text to search for in field defined by t to show that this is a syncline\n",
    "#ids\n",
    "  \"o\": 'unique_id',             #field that contains unique id of geometry object\n",
    "  \"gi\": 'objectid'            #field that contains unique id of structure point\n",
    "}"
   ]
  },
  {
   "cell_type": "code",
   "execution_count": 2,
   "metadata": {
    "scrolled": true
   },
   "outputs": [
    {
     "data": {
      "application/vnd.jupyter.widget-view+json": {
       "model_id": "1d0d8e84547243d28184093bc1c92eb9",
       "version_major": 2,
       "version_minor": 0
      },
      "text/plain": [
       "Text(value='Test', description='Project Name:', placeholder='Test', style=DescriptionStyle(description_width='…"
      ]
     },
     "metadata": {},
     "output_type": "display_data"
    },
    {
     "data": {
      "application/vnd.jupyter.widget-view+json": {
       "model_id": "fc02310aec2944a5a5402ca806cfa411",
       "version_major": 2,
       "version_minor": 0
      },
      "text/plain": [
       "Dropdown(description='CRS EPSG:', options=('28348: GDA94 // MGA zone 48', '28349: GDA94 // MGA zone 49', '2835…"
      ]
     },
     "metadata": {},
     "output_type": "display_data"
    }
   ],
   "source": [
    "test_data_name_choice=widgets.Text(\n",
    "    placeholder='Test',\n",
    "    value='Test',\n",
    "    description='Project Name:',\n",
    "    disabled=False,\n",
    "    style=style,\n",
    "    tooltip='Name of directory to hold config file (relative path)'\n",
    ")\n",
    "display(test_data_name_choice)\n",
    "\n",
    "epsg=pd.read_csv('../source_data/epsg.csv')\n",
    "\n",
    "crs_choice=widgets.Dropdown(\n",
    "    options=epsg['epsg'],\n",
    "    description='CRS EPSG:',\n",
    "    disabled=False\n",
    ")\n",
    "display(crs_choice)\n"
   ]
  },
  {
   "cell_type": "code",
   "execution_count": 3,
   "metadata": {},
   "outputs": [
    {
     "data": {
      "text/markdown": [
       "**Test, epsg:28348**"
      ],
      "text/plain": [
       "<IPython.core.display.Markdown object>"
      ]
     },
     "metadata": {},
     "output_type": "display_data"
    }
   ],
   "source": [
    "test_data_name=test_data_name_choice.value\n",
    "epsg_code=crs_choice.value.split(\":\")\n",
    "dst_crs='epsg:'+epsg_code[0]\n",
    "printmd('**'+test_data_name+\", \"+dst_crs+'**')"
   ]
  },
  {
   "cell_type": "code",
   "execution_count": 4,
   "metadata": {},
   "outputs": [
    {
     "data": {
      "application/vnd.jupyter.widget-view+json": {
       "model_id": "8573d3865f0d45bd9102a1afdfbf869d",
       "version_major": 2,
       "version_minor": 0
      },
      "text/plain": [
       "Text(value='0', description='min x:', placeholder='0', style=DescriptionStyle(description_width='initial'))"
      ]
     },
     "metadata": {},
     "output_type": "display_data"
    },
    {
     "data": {
      "application/vnd.jupyter.widget-view+json": {
       "model_id": "d1e6319c93414427bacbc30bdbf04371",
       "version_major": 2,
       "version_minor": 0
      },
      "text/plain": [
       "Text(value='1', description='max x:', placeholder='1', style=DescriptionStyle(description_width='initial'))"
      ]
     },
     "metadata": {},
     "output_type": "display_data"
    },
    {
     "data": {
      "application/vnd.jupyter.widget-view+json": {
       "model_id": "f27f8374c84d414b9a5097193be42f52",
       "version_major": 2,
       "version_minor": 0
      },
      "text/plain": [
       "Text(value='0', description='min y:', placeholder='0', style=DescriptionStyle(description_width='initial'))"
      ]
     },
     "metadata": {},
     "output_type": "display_data"
    },
    {
     "data": {
      "application/vnd.jupyter.widget-view+json": {
       "model_id": "07de02a2efa54312b5245c6df0d241c7",
       "version_major": 2,
       "version_minor": 0
      },
      "text/plain": [
       "Text(value='1', description='max y:', placeholder='1', style=DescriptionStyle(description_width='initial'))"
      ]
     },
     "metadata": {},
     "output_type": "display_data"
    }
   ],
   "source": [
    "minx_choice=widgets.Text(\n",
    "    placeholder='0',\n",
    "    value='0',\n",
    "    description='min x:',\n",
    "    disabled=False,\n",
    "    style=style\n",
    ")\n",
    "display(minx_choice)\n",
    "\n",
    "maxx_choice=widgets.Text(\n",
    "    placeholder='1',\n",
    "    value='1',\n",
    "    description='max x:',\n",
    "    disabled=False,\n",
    "    style=style\n",
    ")\n",
    "display(maxx_choice)\n",
    "\n",
    "miny_choice=widgets.Text(\n",
    "    placeholder='0',\n",
    "    value='0',\n",
    "    description='min y:',\n",
    "    disabled=False,\n",
    "    style=style\n",
    ")\n",
    "display(miny_choice)\n",
    "\n",
    "maxy_choice=widgets.Text(\n",
    "    placeholder='1',\n",
    "    value='1',\n",
    "    description='max y:',\n",
    "    disabled=False,\n",
    "    style=style\n",
    ")\n",
    "display(maxy_choice)\n"
   ]
  },
  {
   "cell_type": "code",
   "execution_count": 5,
   "metadata": {
    "scrolled": false
   },
   "outputs": [
    {
     "data": {
      "application/vnd.jupyter.widget-view+json": {
       "model_id": "7c2de69bd9a74fa0816e5a5518bc8b32",
       "version_major": 2,
       "version_minor": 0
      },
      "text/plain": [
       "FileChooser(path='../', filename='', show_hidden='False')"
      ]
     },
     "metadata": {},
     "output_type": "display_data"
    },
    {
     "data": {
      "application/vnd.jupyter.widget-view+json": {
       "model_id": "5376dddb7782449d9527e4e114fff204",
       "version_major": 2,
       "version_minor": 0
      },
      "text/plain": [
       "FileChooser(path='../', filename='', show_hidden='False')"
      ]
     },
     "metadata": {},
     "output_type": "display_data"
    },
    {
     "data": {
      "application/vnd.jupyter.widget-view+json": {
       "model_id": "2bc9e9dc78334d0e904c1e13412f58b3",
       "version_major": 2,
       "version_minor": 0
      },
      "text/plain": [
       "FileChooser(path='../', filename='', show_hidden='False')"
      ]
     },
     "metadata": {},
     "output_type": "display_data"
    },
    {
     "data": {
      "application/vnd.jupyter.widget-view+json": {
       "model_id": "cdaf39127e74460682659eb0f45d0595",
       "version_major": 2,
       "version_minor": 0
      },
      "text/plain": [
       "FileChooser(path='../', filename='', show_hidden='False')"
      ]
     },
     "metadata": {},
     "output_type": "display_data"
    },
    {
     "data": {
      "application/vnd.jupyter.widget-view+json": {
       "model_id": "8071b9bd62b34e7e8e1b57a00eca54e0",
       "version_major": 2,
       "version_minor": 0
      },
      "text/plain": [
       "FileChooser(path='../source_data/', filename='null_mindeps.shp', show_hidden='False')"
      ]
     },
     "metadata": {},
     "output_type": "display_data"
    }
   ],
   "source": [
    "minx=minx_choice.value\n",
    "maxx=maxx_choice.value\n",
    "miny=miny_choice.value\n",
    "maxy=maxy_choice.value\n",
    "\n",
    "structure_file_m = FileChooser('../')\n",
    "structure_file_m.title = '<b>Choose Bedding Orientation point file</b>'\n",
    "display(structure_file_m)\n",
    "\n",
    "fault_file_m = FileChooser('../')\n",
    "fault_file_m.title = '<b>Choose Fault polyline file</b>'\n",
    "display(fault_file_m)\n",
    "\n",
    "fold_file_m = FileChooser('../')\n",
    "fold_file_m.title = '<b>Choose Fold polyline file</b>'\n",
    "display(fold_file_m)\n",
    "\n",
    "geology_file_m = FileChooser('../')\n",
    "geology_file_m.title = '<b>Choose Geology polygon file</b>'\n",
    "display(geology_file_m)\n",
    "\n",
    "mindep_file_m = FileChooser('../')\n",
    "mindep_file_m.title = '<b>Choose Mineral Deposit point file (or use null_mindeps.shp from source_data directory)</b>'\n",
    "mindep_file_m.default_path = '../source_data/'\n",
    "mindep_file_m.default_filename = 'null_mindeps.shp'\n",
    "display(mindep_file_m)\n",
    "\n"
   ]
  },
  {
   "cell_type": "code",
   "execution_count": 6,
   "metadata": {},
   "outputs": [
    {
     "data": {
      "text/plain": [
       "'C:/Users/00073294/Dropbox/1_Jupyter_notebooks/map2loop/NSW/data/lao_struct_pt.shp'"
      ]
     },
     "metadata": {},
     "output_type": "display_data"
    },
    {
     "data": {
      "text/plain": [
       "''"
      ]
     },
     "metadata": {},
     "output_type": "display_data"
    },
    {
     "data": {
      "text/plain": [
       "''"
      ]
     },
     "metadata": {},
     "output_type": "display_data"
    },
    {
     "data": {
      "text/plain": [
       "''"
      ]
     },
     "metadata": {},
     "output_type": "display_data"
    },
    {
     "data": {
      "text/plain": [
       "''"
      ]
     },
     "metadata": {},
     "output_type": "display_data"
    }
   ],
   "source": [
    "if(str(structure_file_m.selected_path) =='None'):\n",
    "    structure_file=''\n",
    "else:\n",
    "    structure_file=structure_file_m.selected_path.replace('\\\\','/')+'/'+structure_file_m.selected_filename\n",
    "if(str(fault_file_m.selected_path) =='None'):\n",
    "    fault_file=''\n",
    "else:\n",
    "    fault_file=fault_file_m.selected_path.replace('\\\\','/')+'/'+fault_file_m.selected_filename\n",
    "if(str(fold_file_m.selected_path) =='None'):\n",
    "    fold_file=''\n",
    "else:\n",
    "    fold_file=fold_file_m.selected_path.replace('\\\\','/')+'/'+fold_file_m.selected_filename\n",
    "if(str(geology_file_m.selected_path) =='None'):\n",
    "    geology_file=''\n",
    "else:\n",
    "    geology_file=geology_file_m.selected_path.replace('\\\\','/')+'/'+geology_file_m.selected_filename\n",
    "if(str(mindep_file_m.selected_path) =='None'):\n",
    "    mindep_file=''\n",
    "else:\n",
    "    mindep_file=mindep_file_m.selected_path.replace('\\\\','/')+'/'+mindep_file_m.selected_filename\n",
    "\n",
    "display(structure_file,fault_file,fold_file,geology_file,mindep_file)"
   ]
  },
  {
   "cell_type": "code",
   "execution_count": 7,
   "metadata": {},
   "outputs": [
    {
     "data": {
      "text/html": [
       "<div>\n",
       "<style scoped>\n",
       "    .dataframe tbody tr th:only-of-type {\n",
       "        vertical-align: middle;\n",
       "    }\n",
       "\n",
       "    .dataframe tbody tr th {\n",
       "        vertical-align: top;\n",
       "    }\n",
       "\n",
       "    .dataframe thead th {\n",
       "        text-align: right;\n",
       "    }\n",
       "</style>\n",
       "<table border=\"1\" class=\"dataframe\">\n",
       "  <thead>\n",
       "    <tr style=\"text-align: right;\">\n",
       "      <th></th>\n",
       "      <th>objectid</th>\n",
       "      <th>site_id_gb</th>\n",
       "      <th>dmrcode</th>\n",
       "      <th>codedescpt</th>\n",
       "      <th>azimuth</th>\n",
       "      <th>dip</th>\n",
       "      <th>deform</th>\n",
       "      <th>mapname</th>\n",
       "      <th>src_data</th>\n",
       "      <th>geometry</th>\n",
       "    </tr>\n",
       "  </thead>\n",
       "  <tbody>\n",
       "    <tr>\n",
       "      <th>0</th>\n",
       "      <td>1</td>\n",
       "      <td>None</td>\n",
       "      <td>06.02.01</td>\n",
       "      <td>Strike and dip of bedding</td>\n",
       "      <td>288</td>\n",
       "      <td>25</td>\n",
       "      <td>S0</td>\n",
       "      <td>Monaro 1:500,000 Geological Map</td>\n",
       "      <td>BRUNKER R.L. and OFFENBURG A.C., 1971, Monaro ...</td>\n",
       "      <td>POINT (751362.106 5852140.141)</td>\n",
       "    </tr>\n",
       "    <tr>\n",
       "      <th>1</th>\n",
       "      <td>2</td>\n",
       "      <td>None</td>\n",
       "      <td>06.02.01</td>\n",
       "      <td>Strike and dip of bedding</td>\n",
       "      <td>70</td>\n",
       "      <td>20</td>\n",
       "      <td>S0</td>\n",
       "      <td>Monaro 1:500,000 Geological Map</td>\n",
       "      <td>BRUNKER R.L. and OFFENBURG A.C., 1971, Monaro ...</td>\n",
       "      <td>POINT (750336.843 5852735.455)</td>\n",
       "    </tr>\n",
       "    <tr>\n",
       "      <th>2</th>\n",
       "      <td>3</td>\n",
       "      <td>None</td>\n",
       "      <td>06.02.01</td>\n",
       "      <td>Strike and dip of bedding</td>\n",
       "      <td>345</td>\n",
       "      <td>70</td>\n",
       "      <td>S0</td>\n",
       "      <td>Bega-Mallacoota 1:250,000 Geological Sheet - 2...</td>\n",
       "      <td>LEWIS P.C. &amp; GLEN R.A. 1995. Bega-Mallacoota 1...</td>\n",
       "      <td>POINT (749941.588 5853661.177)</td>\n",
       "    </tr>\n",
       "    <tr>\n",
       "      <th>3</th>\n",
       "      <td>4</td>\n",
       "      <td>None</td>\n",
       "      <td>06.02.01</td>\n",
       "      <td>Strike and dip of bedding</td>\n",
       "      <td>105</td>\n",
       "      <td>65</td>\n",
       "      <td>S0</td>\n",
       "      <td>Bega-Mallacoota 1:250,000 Geological Sheet - 2...</td>\n",
       "      <td>LEWIS P.C. &amp; GLEN R.A. 1995. Bega-Mallacoota 1...</td>\n",
       "      <td>POINT (750599.675 5853846.791)</td>\n",
       "    </tr>\n",
       "    <tr>\n",
       "      <th>4</th>\n",
       "      <td>5</td>\n",
       "      <td>None</td>\n",
       "      <td>06.02.01</td>\n",
       "      <td>Strike and dip of bedding</td>\n",
       "      <td>225</td>\n",
       "      <td>40</td>\n",
       "      <td>S0</td>\n",
       "      <td>Bega-Mallacoota 1:250,000 Geological Sheet - 2...</td>\n",
       "      <td>LEWIS P.C. &amp; GLEN R.A. 1995. Bega-Mallacoota 1...</td>\n",
       "      <td>POINT (749823.471 5854488.003)</td>\n",
       "    </tr>\n",
       "  </tbody>\n",
       "</table>\n",
       "</div>"
      ],
      "text/plain": [
       "   objectid site_id_gb   dmrcode                 codedescpt azimuth dip  \\\n",
       "0         1       None  06.02.01  Strike and dip of bedding     288  25   \n",
       "1         2       None  06.02.01  Strike and dip of bedding      70  20   \n",
       "2         3       None  06.02.01  Strike and dip of bedding     345  70   \n",
       "3         4       None  06.02.01  Strike and dip of bedding     105  65   \n",
       "4         5       None  06.02.01  Strike and dip of bedding     225  40   \n",
       "\n",
       "  deform                                            mapname  \\\n",
       "0     S0                    Monaro 1:500,000 Geological Map   \n",
       "1     S0                    Monaro 1:500,000 Geological Map   \n",
       "2     S0  Bega-Mallacoota 1:250,000 Geological Sheet - 2...   \n",
       "3     S0  Bega-Mallacoota 1:250,000 Geological Sheet - 2...   \n",
       "4     S0  Bega-Mallacoota 1:250,000 Geological Sheet - 2...   \n",
       "\n",
       "                                            src_data  \\\n",
       "0  BRUNKER R.L. and OFFENBURG A.C., 1971, Monaro ...   \n",
       "1  BRUNKER R.L. and OFFENBURG A.C., 1971, Monaro ...   \n",
       "2  LEWIS P.C. & GLEN R.A. 1995. Bega-Mallacoota 1...   \n",
       "3  LEWIS P.C. & GLEN R.A. 1995. Bega-Mallacoota 1...   \n",
       "4  LEWIS P.C. & GLEN R.A. 1995. Bega-Mallacoota 1...   \n",
       "\n",
       "                         geometry  \n",
       "0  POINT (751362.106 5852140.141)  \n",
       "1  POINT (750336.843 5852735.455)  \n",
       "2  POINT (749941.588 5853661.177)  \n",
       "3  POINT (750599.675 5853846.791)  \n",
       "4  POINT (749823.471 5854488.003)  "
      ]
     },
     "metadata": {},
     "output_type": "display_data"
    },
    {
     "data": {
      "text/markdown": [
       "**Based on file: C:/Users/00073294/Dropbox/1_Jupyter_notebooks/map2loop/NSW/data/lao_struct_pt.shp**"
      ],
      "text/plain": [
       "<IPython.core.display.Markdown object>"
      ]
     },
     "metadata": {},
     "output_type": "display_data"
    },
    {
     "data": {
      "text/markdown": [
       "\n",
       "**Field that contains unique id of structure point**"
      ],
      "text/plain": [
       "<IPython.core.display.Markdown object>"
      ]
     },
     "metadata": {},
     "output_type": "display_data"
    },
    {
     "data": {
      "application/vnd.jupyter.widget-view+json": {
       "model_id": "a14fbf5863634da0a2ec8314bd73ea34",
       "version_major": 2,
       "version_minor": 0
      },
      "text/plain": [
       "Dropdown(description='Unique ID', options=('No_col', 'objectid', 'site_id_gb', 'dmrcode', 'codedescpt', 'azimu…"
      ]
     },
     "metadata": {},
     "output_type": "display_data"
    },
    {
     "data": {
      "text/markdown": [
       "**Field that contains information on type of structure (e.g. bedding, cleavage etc.)**"
      ],
      "text/plain": [
       "<IPython.core.display.Markdown object>"
      ]
     },
     "metadata": {},
     "output_type": "display_data"
    },
    {
     "data": {
      "application/vnd.jupyter.widget-view+json": {
       "model_id": "99257c6d42474257b689363cbefaf103",
       "version_major": 2,
       "version_minor": 0
      },
      "text/plain": [
       "Dropdown(description='Structure', options=('No_col', 'objectid', 'site_id_gb', 'dmrcode', 'codedescpt', 'azimu…"
      ]
     },
     "metadata": {},
     "output_type": "display_data"
    },
    {
     "data": {
      "text/markdown": [
       "**Text to search for in field defined by type of structure code to show that this is a bedding measurement**"
      ],
      "text/plain": [
       "<IPython.core.display.Markdown object>"
      ]
     },
     "metadata": {},
     "output_type": "display_data"
    },
    {
     "data": {
      "application/vnd.jupyter.widget-view+json": {
       "model_id": "ff383be0189d43d99350f3a53189ad9d",
       "version_major": 2,
       "version_minor": 0
      },
      "text/plain": [
       "Text(value='Bed', description='Bedding text', placeholder='Bed')"
      ]
     },
     "metadata": {},
     "output_type": "display_data"
    },
    {
     "data": {
      "text/markdown": [
       "**Field that contains dip information**"
      ],
      "text/plain": [
       "<IPython.core.display.Markdown object>"
      ]
     },
     "metadata": {},
     "output_type": "display_data"
    },
    {
     "data": {
      "application/vnd.jupyter.widget-view+json": {
       "model_id": "ed69df2880f24c6bba193232fb4cb7b2",
       "version_major": 2,
       "version_minor": 0
      },
      "text/plain": [
       "Dropdown(description='Dip', options=('No_col', 'objectid', 'site_id_gb', 'dmrcode', 'codedescpt', 'azimuth', '…"
      ]
     },
     "metadata": {},
     "output_type": "display_data"
    },
    {
     "data": {
      "text/markdown": [
       "**Field that contains dip direction or strike information**"
      ],
      "text/plain": [
       "<IPython.core.display.Markdown object>"
      ]
     },
     "metadata": {},
     "output_type": "display_data"
    },
    {
     "data": {
      "application/vnd.jupyter.widget-view+json": {
       "model_id": "53f4a0303ce649a6bd393dfa358ebc28",
       "version_major": 2,
       "version_minor": 0
      },
      "text/plain": [
       "Dropdown(description='Dip Direction', options=('No_col', 'objectid', 'site_id_gb', 'dmrcode', 'codedescpt', 'a…"
      ]
     },
     "metadata": {},
     "output_type": "display_data"
    },
    {
     "data": {
      "text/markdown": [
       "**Flag to determine measurement convention**"
      ],
      "text/plain": [
       "<IPython.core.display.Markdown object>"
      ]
     },
     "metadata": {},
     "output_type": "display_data"
    },
    {
     "data": {
      "application/vnd.jupyter.widget-view+json": {
       "model_id": "b3ae90bdffcc4b94b6e751325500c855",
       "version_major": 2,
       "version_minor": 0
      },
      "text/plain": [
       "Dropdown(description='Convention', options=('dip direction', 'strike'), value='dip direction')"
      ]
     },
     "metadata": {},
     "output_type": "display_data"
    },
    {
     "data": {
      "text/markdown": [
       "**Field that contains polarity of foliation (upward facing or not)**"
      ],
      "text/plain": [
       "<IPython.core.display.Markdown object>"
      ]
     },
     "metadata": {},
     "output_type": "display_data"
    },
    {
     "data": {
      "application/vnd.jupyter.widget-view+json": {
       "model_id": "65002435e0614e66b90012253a9efd50",
       "version_major": 2,
       "version_minor": 0
      },
      "text/plain": [
       "Dropdown(description='Polarity', options=('No_col', 'objectid', 'site_id_gb', 'dmrcode', 'codedescpt', 'azimut…"
      ]
     },
     "metadata": {},
     "output_type": "display_data"
    },
    {
     "data": {
      "text/markdown": [
       "**Text to search for in field defined by Polarity code to show that this is an overturned bedding measurement**"
      ],
      "text/plain": [
       "<IPython.core.display.Markdown object>"
      ]
     },
     "metadata": {},
     "output_type": "display_data"
    },
    {
     "data": {
      "application/vnd.jupyter.widget-view+json": {
       "model_id": "8abf9b3fdb104c48aa16c7491baf8f07",
       "version_major": 2,
       "version_minor": 0
      },
      "text/plain": [
       "Text(value='Blah', description='Pol. text', placeholder='Blah')"
      ]
     },
     "metadata": {},
     "output_type": "display_data"
    }
   ],
   "source": [
    "if(not structure_file==''):\n",
    "    structure=gpd.read_file(structure_file)\n",
    "    display(structure.head())\n",
    "    \n",
    "    cols=['No_col']\n",
    "    for sc in structure.columns:\n",
    "        cols.append(sc)\n",
    "        \n",
    "    printmd('**Based on file: '+structure_file+'**')\n",
    "    printmd('\\n**Field that contains unique id of structure point**')\n",
    "    gi_choice=widgets.Dropdown(\n",
    "        options=cols,\n",
    "        description='Unique ID',\n",
    "        disabled=False\n",
    "\n",
    "    )\n",
    "    display(gi_choice)\n",
    "\n",
    "    printmd('**Field that contains information on type of structure (e.g. bedding, cleavage etc.)**')\n",
    "\n",
    "    sf_choice=widgets.Dropdown(\n",
    "        options=cols,\n",
    "        description='Structure',\n",
    "        disabled=False\n",
    "    )\n",
    "    display(sf_choice)\n",
    "\n",
    "    printmd('**Text to search for in field defined by type of structure code to show that this is a bedding measurement**')\n",
    "\n",
    "    bedding_choice=widgets.Text(\n",
    "        placeholder='Bed',\n",
    "        value='Bed',\n",
    "        description='Bedding text',\n",
    "        disabled=False\n",
    "    )\n",
    "    display(bedding_choice)\n",
    "\n",
    "    printmd('**Field that contains dip information**')\n",
    "\n",
    "    d_choice=widgets.Dropdown(\n",
    "        options=cols,\n",
    "        description='Dip',\n",
    "        disabled=False\n",
    "    )\n",
    "    display(d_choice)\n",
    "\n",
    "    printmd('**Field that contains dip direction or strike information**')\n",
    "\n",
    "    dd_choice=widgets.Dropdown(\n",
    "        options=cols,\n",
    "        description='Dip Direction',\n",
    "        disabled=False\n",
    "    )\n",
    "    display(dd_choice)\n",
    "\n",
    "    printmd('**Flag to determine measurement convention**')\n",
    "\n",
    "    otype_choice=widgets.Dropdown(\n",
    "        options=('dip direction','strike'),\n",
    "        description='Convention',\n",
    "        disabled=False\n",
    "    )\n",
    "    display(otype_choice)\n",
    "\n",
    "    printmd('**Field that contains polarity of foliation (upward facing or not)**')\n",
    "\n",
    "    bo_choice=widgets.Dropdown(\n",
    "        options=cols,\n",
    "        description='Polarity',\n",
    "        disabled=False\n",
    "    )\n",
    "    display(bo_choice)\n",
    "\n",
    "    printmd('**Text to search for in field defined by Polarity code to show that this is an overturned bedding measurement**')\n",
    "\n",
    "    btype_choice=widgets.Text(\n",
    "        placeholder='Blah',\n",
    "        value='Blah',\n",
    "        description='Pol. text',\n",
    "        disabled=False\n",
    "    )\n",
    "    display(btype_choice)\n",
    "\n"
   ]
  },
  {
   "cell_type": "code",
   "execution_count": 8,
   "metadata": {},
   "outputs": [
    {
     "data": {
      "text/html": [
       "<div>\n",
       "<style scoped>\n",
       "    .dataframe tbody tr th:only-of-type {\n",
       "        vertical-align: middle;\n",
       "    }\n",
       "\n",
       "    .dataframe tbody tr th {\n",
       "        vertical-align: top;\n",
       "    }\n",
       "\n",
       "    .dataframe thead th {\n",
       "        text-align: right;\n",
       "    }\n",
       "</style>\n",
       "<table border=\"1\" class=\"dataframe\">\n",
       "  <thead>\n",
       "    <tr style=\"text-align: right;\">\n",
       "      <th></th>\n",
       "      <th>OBJECTID</th>\n",
       "      <th>MAP_THEME</th>\n",
       "      <th>FEATURE</th>\n",
       "      <th>SUBFEATURE</th>\n",
       "      <th>ATTITUDE</th>\n",
       "      <th>CONFIDENCE</th>\n",
       "      <th>GENERATION</th>\n",
       "      <th>MAX_AGE</th>\n",
       "      <th>MIN_AGE</th>\n",
       "      <th>FOLDTREND</th>\n",
       "      <th>FOLDPLUNGE</th>\n",
       "      <th>NAME</th>\n",
       "      <th>PROPERTIES</th>\n",
       "      <th>REMARKS</th>\n",
       "      <th>REFERENCE</th>\n",
       "      <th>SOURCE_REF</th>\n",
       "      <th>MAP_ID</th>\n",
       "      <th>ARROW_DIR</th>\n",
       "      <th>SYMBOL</th>\n",
       "      <th>SHAPE_Leng</th>\n",
       "      <th>Shape_Le_1</th>\n",
       "      <th>geometry</th>\n",
       "    </tr>\n",
       "  </thead>\n",
       "  <tbody>\n",
       "    <tr>\n",
       "      <th>0</th>\n",
       "      <td>1</td>\n",
       "      <td>bedrock, at surface</td>\n",
       "      <td>fold</td>\n",
       "      <td>anticline</td>\n",
       "      <td>upright</td>\n",
       "      <td>approximate</td>\n",
       "      <td>None</td>\n",
       "      <td>None</td>\n",
       "      <td>None</td>\n",
       "      <td>None</td>\n",
       "      <td>None</td>\n",
       "      <td>None</td>\n",
       "      <td>None</td>\n",
       "      <td>None</td>\n",
       "      <td>McMechan, M.E., 2013, CGM 11</td>\n",
       "      <td>None</td>\n",
       "      <td>82J/11</td>\n",
       "      <td>None</td>\n",
       "      <td>05.01.03</td>\n",
       "      <td>1105.512135</td>\n",
       "      <td>1105.512135</td>\n",
       "      <td>LINESTRING (607521.300 5603715.350, 607597.280...</td>\n",
       "    </tr>\n",
       "    <tr>\n",
       "      <th>1</th>\n",
       "      <td>2</td>\n",
       "      <td>bedrock, at surface</td>\n",
       "      <td>fold</td>\n",
       "      <td>anticline</td>\n",
       "      <td>upright</td>\n",
       "      <td>approximate</td>\n",
       "      <td>None</td>\n",
       "      <td>None</td>\n",
       "      <td>None</td>\n",
       "      <td>None</td>\n",
       "      <td>None</td>\n",
       "      <td>None</td>\n",
       "      <td>None</td>\n",
       "      <td>None</td>\n",
       "      <td>McMechan, M.E., 2013, CGM 11</td>\n",
       "      <td>None</td>\n",
       "      <td>82J/11</td>\n",
       "      <td>None</td>\n",
       "      <td>05.01.03</td>\n",
       "      <td>3866.166670</td>\n",
       "      <td>2993.761868</td>\n",
       "      <td>LINESTRING (607196.200 5605635.920, 607349.940...</td>\n",
       "    </tr>\n",
       "    <tr>\n",
       "      <th>2</th>\n",
       "      <td>3</td>\n",
       "      <td>bedrock, at surface</td>\n",
       "      <td>fold</td>\n",
       "      <td>anticline</td>\n",
       "      <td>upright</td>\n",
       "      <td>approximate</td>\n",
       "      <td>None</td>\n",
       "      <td>None</td>\n",
       "      <td>None</td>\n",
       "      <td>None</td>\n",
       "      <td>None</td>\n",
       "      <td>None</td>\n",
       "      <td>None</td>\n",
       "      <td>None</td>\n",
       "      <td>McMechan, M.E., 2013, CGM 11</td>\n",
       "      <td>None</td>\n",
       "      <td>82J/11</td>\n",
       "      <td>None</td>\n",
       "      <td>05.01.03</td>\n",
       "      <td>2284.609022</td>\n",
       "      <td>2284.609022</td>\n",
       "      <td>LINESTRING (607147.480 5605589.940, 607099.210...</td>\n",
       "    </tr>\n",
       "    <tr>\n",
       "      <th>3</th>\n",
       "      <td>4</td>\n",
       "      <td>bedrock, at surface</td>\n",
       "      <td>fold</td>\n",
       "      <td>anticline</td>\n",
       "      <td>upright</td>\n",
       "      <td>approximate</td>\n",
       "      <td>None</td>\n",
       "      <td>None</td>\n",
       "      <td>None</td>\n",
       "      <td>None</td>\n",
       "      <td>None</td>\n",
       "      <td>None</td>\n",
       "      <td>None</td>\n",
       "      <td>None</td>\n",
       "      <td>McMechan, M.E., 2013, CGM 11</td>\n",
       "      <td>None</td>\n",
       "      <td>82J/11</td>\n",
       "      <td>None</td>\n",
       "      <td>05.01.03</td>\n",
       "      <td>8862.369543</td>\n",
       "      <td>958.219989</td>\n",
       "      <td>LINESTRING (617149.433 5607492.638, 617049.450...</td>\n",
       "    </tr>\n",
       "    <tr>\n",
       "      <th>4</th>\n",
       "      <td>5</td>\n",
       "      <td>bedrock, at surface</td>\n",
       "      <td>fold</td>\n",
       "      <td>anticline</td>\n",
       "      <td>upright</td>\n",
       "      <td>concealed</td>\n",
       "      <td>None</td>\n",
       "      <td>None</td>\n",
       "      <td>None</td>\n",
       "      <td>None</td>\n",
       "      <td>None</td>\n",
       "      <td>None</td>\n",
       "      <td>None</td>\n",
       "      <td>None</td>\n",
       "      <td>McMechan, M.E., 2013, CGM 11</td>\n",
       "      <td>None</td>\n",
       "      <td>82J/11</td>\n",
       "      <td>None</td>\n",
       "      <td>05.01.07</td>\n",
       "      <td>1050.032770</td>\n",
       "      <td>835.306068</td>\n",
       "      <td>LINESTRING (617211.457 5608464.485, 617478.743...</td>\n",
       "    </tr>\n",
       "  </tbody>\n",
       "</table>\n",
       "</div>"
      ],
      "text/plain": [
       "   OBJECTID            MAP_THEME FEATURE SUBFEATURE ATTITUDE   CONFIDENCE  \\\n",
       "0         1  bedrock, at surface    fold  anticline  upright  approximate   \n",
       "1         2  bedrock, at surface    fold  anticline  upright  approximate   \n",
       "2         3  bedrock, at surface    fold  anticline  upright  approximate   \n",
       "3         4  bedrock, at surface    fold  anticline  upright  approximate   \n",
       "4         5  bedrock, at surface    fold  anticline  upright    concealed   \n",
       "\n",
       "  GENERATION MAX_AGE MIN_AGE FOLDTREND FOLDPLUNGE  NAME PROPERTIES REMARKS  \\\n",
       "0       None    None    None      None       None  None       None    None   \n",
       "1       None    None    None      None       None  None       None    None   \n",
       "2       None    None    None      None       None  None       None    None   \n",
       "3       None    None    None      None       None  None       None    None   \n",
       "4       None    None    None      None       None  None       None    None   \n",
       "\n",
       "                      REFERENCE SOURCE_REF  MAP_ID ARROW_DIR    SYMBOL  \\\n",
       "0  McMechan, M.E., 2013, CGM 11       None  82J/11      None  05.01.03   \n",
       "1  McMechan, M.E., 2013, CGM 11       None  82J/11      None  05.01.03   \n",
       "2  McMechan, M.E., 2013, CGM 11       None  82J/11      None  05.01.03   \n",
       "3  McMechan, M.E., 2013, CGM 11       None  82J/11      None  05.01.03   \n",
       "4  McMechan, M.E., 2013, CGM 11       None  82J/11      None  05.01.07   \n",
       "\n",
       "    SHAPE_Leng   Shape_Le_1                                           geometry  \n",
       "0  1105.512135  1105.512135  LINESTRING (607521.300 5603715.350, 607597.280...  \n",
       "1  3866.166670  2993.761868  LINESTRING (607196.200 5605635.920, 607349.940...  \n",
       "2  2284.609022  2284.609022  LINESTRING (607147.480 5605589.940, 607099.210...  \n",
       "3  8862.369543   958.219989  LINESTRING (617149.433 5607492.638, 617049.450...  \n",
       "4  1050.032770   835.306068  LINESTRING (617211.457 5608464.485, 617478.743...  "
      ]
     },
     "metadata": {},
     "output_type": "display_data"
    },
    {
     "data": {
      "text/markdown": [
       "**Based on file: D:/Loop_Data/GSC/3D_Rockies/of_8576_2D_finaldata/of_8576_folds.shp**"
      ],
      "text/plain": [
       "<IPython.core.display.Markdown object>"
      ]
     },
     "metadata": {},
     "output_type": "display_data"
    },
    {
     "data": {
      "text/markdown": [
       "\n",
       "**Field that contains information on type of structure (fault, fold axial trace etc.)**"
      ],
      "text/plain": [
       "<IPython.core.display.Markdown object>"
      ]
     },
     "metadata": {},
     "output_type": "display_data"
    },
    {
     "data": {
      "application/vnd.jupyter.widget-view+json": {
       "model_id": "59d8f3ba306a48a3a934aa701d2e19ac",
       "version_major": 2,
       "version_minor": 0
      },
      "text/plain": [
       "Dropdown(description='Fault field:', options=('No_col', 'OBJECTID', 'MAP_THEME', 'FEATURE', 'SUBFEATURE', 'ATT…"
      ]
     },
     "metadata": {},
     "output_type": "display_data"
    },
    {
     "data": {
      "text/markdown": [
       "**Text to search for in field defined by Fault field code to show that this is a fault**"
      ],
      "text/plain": [
       "<IPython.core.display.Markdown object>"
      ]
     },
     "metadata": {},
     "output_type": "display_data"
    },
    {
     "data": {
      "application/vnd.jupyter.widget-view+json": {
       "model_id": "4bc6328c777b4507969ba4d4afdcee11",
       "version_major": 2,
       "version_minor": 0
      },
      "text/plain": [
       "Text(value='Fault', description='Fault text:', placeholder='Fault')"
      ]
     },
     "metadata": {},
     "output_type": "display_data"
    },
    {
     "data": {
      "text/markdown": [
       "**Field for numeric fault dip value**"
      ],
      "text/plain": [
       "<IPython.core.display.Markdown object>"
      ]
     },
     "metadata": {},
     "output_type": "display_data"
    },
    {
     "data": {
      "application/vnd.jupyter.widget-view+json": {
       "model_id": "aee3d11174a24f7c9f9bccc4db42f681",
       "version_major": 2,
       "version_minor": 0
      },
      "text/plain": [
       "Dropdown(description='Dip:', options=('No_col', 'OBJECTID', 'MAP_THEME', 'FEATURE', 'SUBFEATURE', 'ATTITUDE', …"
      ]
     },
     "metadata": {},
     "output_type": "display_data"
    },
    {
     "data": {
      "text/markdown": [
       "**Text to search for in field defined by Dip to show that this has no known dip**"
      ],
      "text/plain": [
       "<IPython.core.display.Markdown object>"
      ]
     },
     "metadata": {},
     "output_type": "display_data"
    },
    {
     "data": {
      "application/vnd.jupyter.widget-view+json": {
       "model_id": "e6fbae5a955c423ab8c2dc7503f3f81b",
       "version_major": 2,
       "version_minor": 0
      },
      "text/plain": [
       "Text(value='0', description='NULL dip:', placeholder='0')"
      ]
     },
     "metadata": {},
     "output_type": "display_data"
    },
    {
     "data": {
      "text/markdown": [
       "**Field for text fault dip direction value (southeast etc.)**"
      ],
      "text/plain": [
       "<IPython.core.display.Markdown object>"
      ]
     },
     "metadata": {},
     "output_type": "display_data"
    },
    {
     "data": {
      "application/vnd.jupyter.widget-view+json": {
       "model_id": "51f62843137c4fe0a5d84cfcc0d28b25",
       "version_major": 2,
       "version_minor": 0
      },
      "text/plain": [
       "Dropdown(description='Dip Direction:', options=('No_col', 'OBJECTID', 'MAP_THEME', 'FEATURE', 'SUBFEATURE', 'A…"
      ]
     },
     "metadata": {},
     "output_type": "display_data"
    },
    {
     "data": {
      "text/markdown": [
       "**Flag for text fault dip direction type num e.g. 045 or alpha e.g. southeast**"
      ],
      "text/plain": [
       "<IPython.core.display.Markdown object>"
      ]
     },
     "metadata": {},
     "output_type": "display_data"
    },
    {
     "data": {
      "application/vnd.jupyter.widget-view+json": {
       "model_id": "059588677a0c42faa1a6477f3ddb73c8",
       "version_major": 2,
       "version_minor": 0
      },
      "text/plain": [
       "Dropdown(description='Dip Convention:', options=('alpha', 'num'), style=DescriptionStyle(description_width='in…"
      ]
     },
     "metadata": {},
     "output_type": "display_data"
    },
    {
     "data": {
      "text/markdown": [
       "**Field for text fault dip estimate value (Moderate, Steep etc.)**"
      ],
      "text/plain": [
       "<IPython.core.display.Markdown object>"
      ]
     },
     "metadata": {},
     "output_type": "display_data"
    },
    {
     "data": {
      "application/vnd.jupyter.widget-view+json": {
       "model_id": "fdc1358fe1b64688a3ddba9de813c45d",
       "version_major": 2,
       "version_minor": 0
      },
      "text/plain": [
       "Dropdown(description='Dip estimate:', options=('No_col', 'OBJECTID', 'MAP_THEME', 'FEATURE', 'SUBFEATURE', 'AT…"
      ]
     },
     "metadata": {},
     "output_type": "display_data"
    }
   ],
   "source": [
    "c_l['gi']=gi_choice.value\n",
    "c_l['sf']=sf_choice.value\n",
    "c_l['bedding']=bedding_choice.value\n",
    "c_l['d']=d_choice.value\n",
    "c_l['dd']=dd_choice.value\n",
    "c_l['otype']=otype_choice.value\n",
    "c_l['bo']=bo_choice.value\n",
    "c_l['btype']=btype_choice.value\n",
    "\n",
    "if(not fault_file==''):\n",
    "    fault=gpd.read_file(fault_file)\n",
    "    display(fault.head())\n",
    "    printmd('**Based on file: '+fault_file+'**')\n",
    "\n",
    "    cols=['No_col']\n",
    "    for sc in fault.columns:\n",
    "        cols.append(sc)\n",
    "        \n",
    "    printmd('\\n**Field that contains information on type of structure (fault, fold axial trace etc.)**')\n",
    "\n",
    "\n",
    "    f_choice=widgets.Dropdown(\n",
    "        options=cols,\n",
    "        description='Fault field:',\n",
    "        disabled=False\n",
    "    )\n",
    "    display(f_choice)\n",
    "\n",
    "    printmd('**Text to search for in field defined by Fault field code to show that this is a fault**')\n",
    "\n",
    "    fault_choice=widgets.Text(\n",
    "        placeholder='Fault',\n",
    "        value='Fault',\n",
    "        description='Fault text:',\n",
    "        disabled=False\n",
    "    )\n",
    "    display(fault_choice)\n",
    "\n",
    "    printmd('**Field for numeric fault dip value**')\n",
    "\n",
    "    fdip_choice=widgets.Dropdown(\n",
    "        options=cols,\n",
    "        description='Dip:',\n",
    "        disabled=False\n",
    "    )\n",
    "    display(fdip_choice)\n",
    "\n",
    "    printmd('**Text to search for in field defined by Dip to show that this has no known dip**')\n",
    "\n",
    "    fdipnull_choice=widgets.Text(\n",
    "        placeholder='0',\n",
    "        value='0',\n",
    "        description='NULL dip:',\n",
    "        disabled=False\n",
    "    )\n",
    "    display(fdipnull_choice)\n",
    "\n",
    "    printmd('**Field for text fault dip direction value (southeast etc.)**')\n",
    "\n",
    "    fdipdir_choice=widgets.Dropdown(\n",
    "        options=cols,\n",
    "        description='Dip Direction:',\n",
    "        disabled=False\n",
    "    )\n",
    "    display(fdipdir_choice)\n",
    "\n",
    "    printmd('**Flag for text fault dip direction type num e.g. 045 or alpha e.g. southeast**')\n",
    "\n",
    "    fdipdir_flag_choice=widgets.Dropdown(\n",
    "        options=('alpha','num'),\n",
    "        description='Dip Convention:',\n",
    "        disabled=False,\n",
    "        style=style\n",
    "    )\n",
    "    display(fdipdir_flag_choice)\n",
    "\n",
    "    printmd('**Field for text fault dip estimate value (Moderate, Steep etc.)**')\n",
    "\n",
    "    fdipest_choice=widgets.Dropdown(\n",
    "        options=cols,\n",
    "        description='Dip estimate:',\n",
    "        disabled=False\n",
    "    )\n",
    "    display(fdipest_choice)"
   ]
  },
  {
   "cell_type": "code",
   "execution_count": 9,
   "metadata": {},
   "outputs": [
    {
     "data": {
      "text/markdown": [
       "**Text to search for in field defined by fdipest to give fault dip estimate in increasing steepness**"
      ],
      "text/plain": [
       "<IPython.core.display.Markdown object>"
      ]
     },
     "metadata": {},
     "output_type": "display_data"
    },
    {
     "data": {
      "text/markdown": [
       "**Field that contains information on name of fault (not used??)**"
      ],
      "text/plain": [
       "<IPython.core.display.Markdown object>"
      ]
     },
     "metadata": {},
     "output_type": "display_data"
    },
    {
     "data": {
      "application/vnd.jupyter.widget-view+json": {
       "model_id": "3d49ea649ee84b678ca01d91e34ece8f",
       "version_major": 2,
       "version_minor": 0
      },
      "text/plain": [
       "Dropdown(description='Name:', options=('No_col', 'OBJECTID', 'MAP_THEME', 'FEATURE', 'SUBFEATURE', 'ATTITUDE',…"
      ]
     },
     "metadata": {},
     "output_type": "display_data"
    }
   ],
   "source": [
    "printmd('**Text to search for in field defined by fdipest to give fault dip estimate in increasing steepness**')\n",
    "\n",
    "if(fdipest_choice.value=='No_col'):\n",
    "    c_l['fdipest_vals']='No_col'\n",
    "else:\n",
    "    fdipest_vals_choice=widgets.Text(\n",
    "        placeholder='Sorted dip order (shallow to steep)',\n",
    "        value=str(fault[fdipest_choice.value].unique()).replace(\"[\",\"\").replace(\"]\",\"\").replace(\" \",\",\"),\n",
    "        description='Text Dips:',\n",
    "        disabled=False\n",
    "    )\n",
    "    display(fdipest_vals)\n",
    "    c_l['fdipest_vals']=fdipest_vals_choice.value\n",
    "\n",
    "\n",
    "    \n",
    "printmd('**Field that contains information on name of fault (not used??)**')\n",
    "\n",
    "n_choice=widgets.Dropdown(\n",
    "    options=cols,\n",
    "    description='Name:',\n",
    "    disabled=False\n",
    ")\n",
    "display(n_choice)"
   ]
  },
  {
   "cell_type": "code",
   "execution_count": 10,
   "metadata": {},
   "outputs": [
    {
     "data": {
      "text/html": [
       "<div>\n",
       "<style scoped>\n",
       "    .dataframe tbody tr th:only-of-type {\n",
       "        vertical-align: middle;\n",
       "    }\n",
       "\n",
       "    .dataframe tbody tr th {\n",
       "        vertical-align: top;\n",
       "    }\n",
       "\n",
       "    .dataframe thead th {\n",
       "        text-align: right;\n",
       "    }\n",
       "</style>\n",
       "<table border=\"1\" class=\"dataframe\">\n",
       "  <thead>\n",
       "    <tr style=\"text-align: right;\">\n",
       "      <th></th>\n",
       "      <th>OBJECTID</th>\n",
       "      <th>MAP_THEME</th>\n",
       "      <th>FEATURE</th>\n",
       "      <th>SUBFEATURE</th>\n",
       "      <th>ATTITUDE</th>\n",
       "      <th>CONFIDENCE</th>\n",
       "      <th>GENERATION</th>\n",
       "      <th>MAX_AGE</th>\n",
       "      <th>MIN_AGE</th>\n",
       "      <th>NAME</th>\n",
       "      <th>PROPERTIES</th>\n",
       "      <th>MOVEMENT</th>\n",
       "      <th>HWALL_DIR</th>\n",
       "      <th>REMARKS</th>\n",
       "      <th>REFERENCE</th>\n",
       "      <th>SOURCE_REF</th>\n",
       "      <th>MAP_ID</th>\n",
       "      <th>SYMBOL</th>\n",
       "      <th>SHAPE_Leng</th>\n",
       "      <th>Shape_Le_1</th>\n",
       "      <th>geometry</th>\n",
       "    </tr>\n",
       "  </thead>\n",
       "  <tbody>\n",
       "    <tr>\n",
       "      <th>0</th>\n",
       "      <td>1</td>\n",
       "      <td>bedrock, at surface</td>\n",
       "      <td>fault</td>\n",
       "      <td>thrust</td>\n",
       "      <td>None</td>\n",
       "      <td>concealed</td>\n",
       "      <td>None</td>\n",
       "      <td>None</td>\n",
       "      <td>None</td>\n",
       "      <td>None</td>\n",
       "      <td>None</td>\n",
       "      <td>None</td>\n",
       "      <td>NE</td>\n",
       "      <td>None</td>\n",
       "      <td>McMechan, M.E., 2011, CGM 12</td>\n",
       "      <td>None</td>\n",
       "      <td>82J/12</td>\n",
       "      <td>02.08.07</td>\n",
       "      <td>0.001701</td>\n",
       "      <td>0.001701</td>\n",
       "      <td>LINESTRING (-115.69627 50.72102, -115.69769 50...</td>\n",
       "    </tr>\n",
       "    <tr>\n",
       "      <th>1</th>\n",
       "      <td>2</td>\n",
       "      <td>bedrock, at surface</td>\n",
       "      <td>fault</td>\n",
       "      <td>thrust</td>\n",
       "      <td>None</td>\n",
       "      <td>approximate</td>\n",
       "      <td>None</td>\n",
       "      <td>None</td>\n",
       "      <td>None</td>\n",
       "      <td>None</td>\n",
       "      <td>None</td>\n",
       "      <td>None</td>\n",
       "      <td>NE</td>\n",
       "      <td>None</td>\n",
       "      <td>McMechan, M.E., 2011, CGM 12</td>\n",
       "      <td>None</td>\n",
       "      <td>82J/12</td>\n",
       "      <td>02.08.03</td>\n",
       "      <td>0.054228</td>\n",
       "      <td>0.054228</td>\n",
       "      <td>LINESTRING (-115.65531 50.72889, -115.65215 50...</td>\n",
       "    </tr>\n",
       "    <tr>\n",
       "      <th>2</th>\n",
       "      <td>3</td>\n",
       "      <td>bedrock, at surface</td>\n",
       "      <td>fault</td>\n",
       "      <td>normal</td>\n",
       "      <td>None</td>\n",
       "      <td>inferred</td>\n",
       "      <td>None</td>\n",
       "      <td>None</td>\n",
       "      <td>None</td>\n",
       "      <td>MITCHELL FAULT</td>\n",
       "      <td>None</td>\n",
       "      <td>None</td>\n",
       "      <td>NE</td>\n",
       "      <td>None</td>\n",
       "      <td>McMechan, M.E., 2011, CGM 12</td>\n",
       "      <td>None</td>\n",
       "      <td>82J/12</td>\n",
       "      <td>02.02.05</td>\n",
       "      <td>0.021129</td>\n",
       "      <td>0.021129</td>\n",
       "      <td>LINESTRING (-115.67042 50.75000, -115.66833 50...</td>\n",
       "    </tr>\n",
       "    <tr>\n",
       "      <th>3</th>\n",
       "      <td>4</td>\n",
       "      <td>bedrock, at surface</td>\n",
       "      <td>fault</td>\n",
       "      <td>thrust</td>\n",
       "      <td>None</td>\n",
       "      <td>approximate</td>\n",
       "      <td>None</td>\n",
       "      <td>None</td>\n",
       "      <td>None</td>\n",
       "      <td>None</td>\n",
       "      <td>None</td>\n",
       "      <td>None</td>\n",
       "      <td>NE</td>\n",
       "      <td>None</td>\n",
       "      <td>McMechan, M.E., 2011, CGM 12</td>\n",
       "      <td>None</td>\n",
       "      <td>82J/12</td>\n",
       "      <td>02.08.03</td>\n",
       "      <td>0.036312</td>\n",
       "      <td>0.036312</td>\n",
       "      <td>LINESTRING (-115.71552 50.75000, -115.71533 50...</td>\n",
       "    </tr>\n",
       "    <tr>\n",
       "      <th>4</th>\n",
       "      <td>5</td>\n",
       "      <td>bedrock, at surface</td>\n",
       "      <td>fault</td>\n",
       "      <td>thrust</td>\n",
       "      <td>None</td>\n",
       "      <td>concealed</td>\n",
       "      <td>None</td>\n",
       "      <td>None</td>\n",
       "      <td>None</td>\n",
       "      <td>None</td>\n",
       "      <td>None</td>\n",
       "      <td>None</td>\n",
       "      <td>NE</td>\n",
       "      <td>None</td>\n",
       "      <td>McMechan, M.E., 2011, CGM 12</td>\n",
       "      <td>None</td>\n",
       "      <td>82J/12</td>\n",
       "      <td>02.08.07</td>\n",
       "      <td>0.000934</td>\n",
       "      <td>0.000934</td>\n",
       "      <td>LINESTRING (-115.70589 50.71624, -115.70547 50...</td>\n",
       "    </tr>\n",
       "  </tbody>\n",
       "</table>\n",
       "</div>"
      ],
      "text/plain": [
       "   OBJECTID            MAP_THEME FEATURE SUBFEATURE ATTITUDE   CONFIDENCE  \\\n",
       "0         1  bedrock, at surface   fault     thrust     None    concealed   \n",
       "1         2  bedrock, at surface   fault     thrust     None  approximate   \n",
       "2         3  bedrock, at surface   fault     normal     None     inferred   \n",
       "3         4  bedrock, at surface   fault     thrust     None  approximate   \n",
       "4         5  bedrock, at surface   fault     thrust     None    concealed   \n",
       "\n",
       "  GENERATION MAX_AGE MIN_AGE            NAME PROPERTIES MOVEMENT HWALL_DIR  \\\n",
       "0       None    None    None            None       None     None        NE   \n",
       "1       None    None    None            None       None     None        NE   \n",
       "2       None    None    None  MITCHELL FAULT       None     None        NE   \n",
       "3       None    None    None            None       None     None        NE   \n",
       "4       None    None    None            None       None     None        NE   \n",
       "\n",
       "  REMARKS                     REFERENCE SOURCE_REF  MAP_ID    SYMBOL  \\\n",
       "0    None  McMechan, M.E., 2011, CGM 12       None  82J/12  02.08.07   \n",
       "1    None  McMechan, M.E., 2011, CGM 12       None  82J/12  02.08.03   \n",
       "2    None  McMechan, M.E., 2011, CGM 12       None  82J/12  02.02.05   \n",
       "3    None  McMechan, M.E., 2011, CGM 12       None  82J/12  02.08.03   \n",
       "4    None  McMechan, M.E., 2011, CGM 12       None  82J/12  02.08.07   \n",
       "\n",
       "   SHAPE_Leng  Shape_Le_1                                           geometry  \n",
       "0    0.001701    0.001701  LINESTRING (-115.69627 50.72102, -115.69769 50...  \n",
       "1    0.054228    0.054228  LINESTRING (-115.65531 50.72889, -115.65215 50...  \n",
       "2    0.021129    0.021129  LINESTRING (-115.67042 50.75000, -115.66833 50...  \n",
       "3    0.036312    0.036312  LINESTRING (-115.71552 50.75000, -115.71533 50...  \n",
       "4    0.000934    0.000934  LINESTRING (-115.70589 50.71624, -115.70547 50...  "
      ]
     },
     "metadata": {},
     "output_type": "display_data"
    },
    {
     "data": {
      "text/markdown": [
       "**Based on file: D:/Loop_Data/GSC/3D_Rockies/of_8576_2D_finaldata/of_8576_faults.shp**"
      ],
      "text/plain": [
       "<IPython.core.display.Markdown object>"
      ]
     },
     "metadata": {},
     "output_type": "display_data"
    },
    {
     "data": {
      "text/markdown": [
       "\n",
       "**Field that contains information on type of structure (fold, fault etc.)**"
      ],
      "text/plain": [
       "<IPython.core.display.Markdown object>"
      ]
     },
     "metadata": {},
     "output_type": "display_data"
    },
    {
     "data": {
      "application/vnd.jupyter.widget-view+json": {
       "model_id": "7eb1f941f4cc446abda9bf716cf3cf31",
       "version_major": 2,
       "version_minor": 0
      },
      "text/plain": [
       "Dropdown(description='Fold field:', options=('No_col', 'OBJECTID', 'MAP_THEME', 'FEATURE', 'SUBFEATURE', 'ATTI…"
      ]
     },
     "metadata": {},
     "output_type": "display_data"
    },
    {
     "data": {
      "text/markdown": [
       "**Text to search for in field defined by Fold field to show that this is a fold axial trace**"
      ],
      "text/plain": [
       "<IPython.core.display.Markdown object>"
      ]
     },
     "metadata": {},
     "output_type": "display_data"
    },
    {
     "data": {
      "application/vnd.jupyter.widget-view+json": {
       "model_id": "d76c6bba69064219b5fda7bae34b546b",
       "version_major": 2,
       "version_minor": 0
      },
      "text/plain": [
       "Text(value='Fold', description='Fold text:', placeholder='Fold')"
      ]
     },
     "metadata": {},
     "output_type": "display_data"
    },
    {
     "data": {
      "text/markdown": [
       "**Field that contains information on type of fold (anticline, syncline)**"
      ],
      "text/plain": [
       "<IPython.core.display.Markdown object>"
      ]
     },
     "metadata": {},
     "output_type": "display_data"
    },
    {
     "data": {
      "application/vnd.jupyter.widget-view+json": {
       "model_id": "4d19529ca94242dbac4ad77ce47f7ba7",
       "version_major": 2,
       "version_minor": 0
      },
      "text/plain": [
       "Dropdown(description='Polarity field:', options=('No_col', 'OBJECTID', 'MAP_THEME', 'FEATURE', 'SUBFEATURE', '…"
      ]
     },
     "metadata": {},
     "output_type": "display_data"
    },
    {
     "data": {
      "text/markdown": [
       "**Text to search for in field defined by Polarity Field to show that this is a syncline**"
      ],
      "text/plain": [
       "<IPython.core.display.Markdown object>"
      ]
     },
     "metadata": {},
     "output_type": "display_data"
    },
    {
     "data": {
      "application/vnd.jupyter.widget-view+json": {
       "model_id": "fce830b46d3943bf92a6c57b28cea45e",
       "version_major": 2,
       "version_minor": 0
      },
      "text/plain": [
       "Text(value='syn', description='Syncline text:', placeholder='syn')"
      ]
     },
     "metadata": {},
     "output_type": "display_data"
    }
   ],
   "source": [
    "c_l['f']=f_choice.value\n",
    "c_l['fault']=fault_choice.value\n",
    "c_l['fdip']=fdip_choice.value\n",
    "c_l['fdipnull']=fdipnull_choice.value\n",
    "c_l['fdipdir']=fdipdir_choice.value\n",
    "c_l['fdipdir_flag']=fdipdir_flag_choice.value\n",
    "c_l['fdipest']=fdipest_choice.value\n",
    "c_l['n']=n_choice.value\n",
    "\n",
    "if(not fold_file==''):\n",
    "    fold=gpd.read_file(fold_file)\n",
    "    display(fold.head())\n",
    "    cols=['No_col']\n",
    "    for sc in fold.columns:\n",
    "        cols.append(sc)\n",
    "        \n",
    "    printmd('**Based on file:'+' '+fold_file+'**')\n",
    "\n",
    "    printmd('\\n**Field that contains information on type of structure (fold, fault etc.)**')\n",
    "\n",
    "    ff_choice=widgets.Dropdown(\n",
    "        options=cols,\n",
    "        description='Fold field:',\n",
    "        disabled=False\n",
    "    )\n",
    "    display(ff_choice)\n",
    "\n",
    "    printmd('**Text to search for in field defined by Fold field to show that this is a fold axial trace**')\n",
    "\n",
    "    fold_choice=widgets.Text(\n",
    "        placeholder='Fold',\n",
    "        value='Fold',\n",
    "        description='Fold text:',\n",
    "        disabled=False\n",
    "    )\n",
    "    display(fold_choice)\n",
    "\n",
    "    printmd('**Field that contains information on type of fold (anticline, syncline)**')\n",
    "\n",
    "    t_choice=widgets.Dropdown(\n",
    "        options=cols,\n",
    "        description='Polarity field:',\n",
    "        disabled=False\n",
    "    )\n",
    "    display(t_choice)\n",
    "\n",
    "    printmd('**Text to search for in field defined by Polarity Field to show that this is a syncline**')\n",
    "\n",
    "    syn_choice=widgets.Text(\n",
    "        placeholder='syn',\n",
    "        value='syn',\n",
    "        description='Syncline text:',\n",
    "        disabled=False\n",
    "    )\n",
    "    display(syn_choice)\n"
   ]
  },
  {
   "cell_type": "code",
   "execution_count": 11,
   "metadata": {
    "scrolled": false
   },
   "outputs": [
    {
     "data": {
      "text/html": [
       "<div>\n",
       "<style scoped>\n",
       "    .dataframe tbody tr th:only-of-type {\n",
       "        vertical-align: middle;\n",
       "    }\n",
       "\n",
       "    .dataframe tbody tr th {\n",
       "        vertical-align: top;\n",
       "    }\n",
       "\n",
       "    .dataframe thead th {\n",
       "        text-align: right;\n",
       "    }\n",
       "</style>\n",
       "<table border=\"1\" class=\"dataframe\">\n",
       "  <thead>\n",
       "    <tr style=\"text-align: right;\">\n",
       "      <th></th>\n",
       "      <th>MAP_THEME</th>\n",
       "      <th>FEATURE</th>\n",
       "      <th>MAP_UNIT</th>\n",
       "      <th>PARENTS</th>\n",
       "      <th>MAX_AGE</th>\n",
       "      <th>MIN_AGE</th>\n",
       "      <th>LITH_LIST</th>\n",
       "      <th>GENESIS</th>\n",
       "      <th>REMARKS</th>\n",
       "      <th>LABEL</th>\n",
       "      <th>REFERENCE</th>\n",
       "      <th>SOURCE_REF</th>\n",
       "      <th>MAP_ID</th>\n",
       "      <th>STYLE_ID</th>\n",
       "      <th>Shape_Leng</th>\n",
       "      <th>SYMBOL</th>\n",
       "      <th>Anno</th>\n",
       "      <th>Transparen</th>\n",
       "      <th>Shape_Le_1</th>\n",
       "      <th>Shape_Area</th>\n",
       "      <th>geometry</th>\n",
       "    </tr>\n",
       "  </thead>\n",
       "  <tbody>\n",
       "    <tr>\n",
       "      <th>0</th>\n",
       "      <td>bedrock, at surface</td>\n",
       "      <td>map unit</td>\n",
       "      <td>Sullivan Formation, Lower part</td>\n",
       "      <td>&lt;Null&gt;</td>\n",
       "      <td>UPPER CAMBRIAN</td>\n",
       "      <td>UPPER CAMBRIAN</td>\n",
       "      <td>limestone, shale, dolostone, conglomerate</td>\n",
       "      <td>None</td>\n",
       "      <td>None</td>\n",
       "      <td>Cm-Su-l</td>\n",
       "      <td>McMechan, M.E., 2011, CGM 13</td>\n",
       "      <td>None</td>\n",
       "      <td>82J/13</td>\n",
       "      <td>01990_Cm-Su_334</td>\n",
       "      <td>0.003782</td>\n",
       "      <td>None</td>\n",
       "      <td>None</td>\n",
       "      <td>0</td>\n",
       "      <td>272.929055</td>\n",
       "      <td>1969.434795</td>\n",
       "      <td>POLYGON Z ((597521.477 5622935.685 2435.918, 5...</td>\n",
       "    </tr>\n",
       "    <tr>\n",
       "      <th>1</th>\n",
       "      <td>bedrock, at surface</td>\n",
       "      <td>map unit</td>\n",
       "      <td>Sullivan Formation, Lower part</td>\n",
       "      <td>&lt;Null&gt;</td>\n",
       "      <td>UPPER CAMBRIAN</td>\n",
       "      <td>UPPER CAMBRIAN</td>\n",
       "      <td>limestone, shale, dolostone, conglomerate</td>\n",
       "      <td>None</td>\n",
       "      <td>None</td>\n",
       "      <td>Cm-Su-l</td>\n",
       "      <td>McMechan, M.E., 2011, CGM 13</td>\n",
       "      <td>None</td>\n",
       "      <td>82J/13</td>\n",
       "      <td>01990_Cm-Su_334</td>\n",
       "      <td>0.006182</td>\n",
       "      <td>None</td>\n",
       "      <td>None</td>\n",
       "      <td>0</td>\n",
       "      <td>443.878982</td>\n",
       "      <td>4646.905416</td>\n",
       "      <td>POLYGON Z ((597990.977 5622944.503 1948.603, 5...</td>\n",
       "    </tr>\n",
       "    <tr>\n",
       "      <th>2</th>\n",
       "      <td>bedrock, at surface</td>\n",
       "      <td>map unit</td>\n",
       "      <td>Sullivan Formation, Lower part</td>\n",
       "      <td>&lt;Null&gt;</td>\n",
       "      <td>UPPER CAMBRIAN</td>\n",
       "      <td>UPPER CAMBRIAN</td>\n",
       "      <td>limestone, shale, dolostone, conglomerate</td>\n",
       "      <td>None</td>\n",
       "      <td>None</td>\n",
       "      <td>Cm-Su-l</td>\n",
       "      <td>McMechan, M.E., 2011, CGM 13</td>\n",
       "      <td>None</td>\n",
       "      <td>82J/13</td>\n",
       "      <td>01990_Cm-Su_334</td>\n",
       "      <td>0.013434</td>\n",
       "      <td>None</td>\n",
       "      <td>None</td>\n",
       "      <td>0</td>\n",
       "      <td>964.712913</td>\n",
       "      <td>21177.178308</td>\n",
       "      <td>POLYGON Z ((598951.692 5622962.620 2058.970, 5...</td>\n",
       "    </tr>\n",
       "    <tr>\n",
       "      <th>3</th>\n",
       "      <td>bedrock, at surface</td>\n",
       "      <td>map unit</td>\n",
       "      <td>Arctomys (upper part) and Waterfowl formations</td>\n",
       "      <td>None</td>\n",
       "      <td>MIDDLE CAMBRIAN</td>\n",
       "      <td>UPPER CAMBRIAN</td>\n",
       "      <td>dolostone, limestone, siltstone, sandstone</td>\n",
       "      <td>None</td>\n",
       "      <td>None</td>\n",
       "      <td>Cm-Ar-uWf</td>\n",
       "      <td>McMechan, M.E., 2011, CGM 13</td>\n",
       "      <td>None</td>\n",
       "      <td>82J/13</td>\n",
       "      <td>02100_Cm-Ar-uWf_147</td>\n",
       "      <td>0.003478</td>\n",
       "      <td>None</td>\n",
       "      <td>None</td>\n",
       "      <td>0</td>\n",
       "      <td>388.437547</td>\n",
       "      <td>3021.263571</td>\n",
       "      <td>POLYGON Z ((600445.669 5622991.177 2093.456, 6...</td>\n",
       "    </tr>\n",
       "    <tr>\n",
       "      <th>4</th>\n",
       "      <td>bedrock, at surface</td>\n",
       "      <td>map unit</td>\n",
       "      <td>Tokumm Formation</td>\n",
       "      <td>Chancellor Group</td>\n",
       "      <td>MIDDLE CAMBRIAN</td>\n",
       "      <td>MIDDLE CAMBRIAN</td>\n",
       "      <td>limestone, argillite</td>\n",
       "      <td>None</td>\n",
       "      <td>None</td>\n",
       "      <td>Cm-T</td>\n",
       "      <td>McMechan, M.E., 2011, CGM 13</td>\n",
       "      <td>None</td>\n",
       "      <td>82J/13</td>\n",
       "      <td>02390_Cm-T_217</td>\n",
       "      <td>0.009466</td>\n",
       "      <td>None</td>\n",
       "      <td>None</td>\n",
       "      <td>50</td>\n",
       "      <td>863.910823</td>\n",
       "      <td>45027.987234</td>\n",
       "      <td>POLYGON Z ((590943.753 5622816.932 2111.472, 5...</td>\n",
       "    </tr>\n",
       "  </tbody>\n",
       "</table>\n",
       "</div>"
      ],
      "text/plain": [
       "             MAP_THEME   FEATURE  \\\n",
       "0  bedrock, at surface  map unit   \n",
       "1  bedrock, at surface  map unit   \n",
       "2  bedrock, at surface  map unit   \n",
       "3  bedrock, at surface  map unit   \n",
       "4  bedrock, at surface  map unit   \n",
       "\n",
       "                                         MAP_UNIT           PARENTS  \\\n",
       "0                  Sullivan Formation, Lower part            <Null>   \n",
       "1                  Sullivan Formation, Lower part            <Null>   \n",
       "2                  Sullivan Formation, Lower part            <Null>   \n",
       "3  Arctomys (upper part) and Waterfowl formations              None   \n",
       "4                                Tokumm Formation  Chancellor Group   \n",
       "\n",
       "           MAX_AGE          MIN_AGE  \\\n",
       "0   UPPER CAMBRIAN   UPPER CAMBRIAN   \n",
       "1   UPPER CAMBRIAN   UPPER CAMBRIAN   \n",
       "2   UPPER CAMBRIAN   UPPER CAMBRIAN   \n",
       "3  MIDDLE CAMBRIAN   UPPER CAMBRIAN   \n",
       "4  MIDDLE CAMBRIAN  MIDDLE CAMBRIAN   \n",
       "\n",
       "                                    LITH_LIST GENESIS REMARKS      LABEL  \\\n",
       "0   limestone, shale, dolostone, conglomerate    None    None    Cm-Su-l   \n",
       "1   limestone, shale, dolostone, conglomerate    None    None    Cm-Su-l   \n",
       "2   limestone, shale, dolostone, conglomerate    None    None    Cm-Su-l   \n",
       "3  dolostone, limestone, siltstone, sandstone    None    None  Cm-Ar-uWf   \n",
       "4                        limestone, argillite    None    None       Cm-T   \n",
       "\n",
       "                      REFERENCE SOURCE_REF  MAP_ID             STYLE_ID  \\\n",
       "0  McMechan, M.E., 2011, CGM 13       None  82J/13      01990_Cm-Su_334   \n",
       "1  McMechan, M.E., 2011, CGM 13       None  82J/13      01990_Cm-Su_334   \n",
       "2  McMechan, M.E., 2011, CGM 13       None  82J/13      01990_Cm-Su_334   \n",
       "3  McMechan, M.E., 2011, CGM 13       None  82J/13  02100_Cm-Ar-uWf_147   \n",
       "4  McMechan, M.E., 2011, CGM 13       None  82J/13       02390_Cm-T_217   \n",
       "\n",
       "   Shape_Leng SYMBOL  Anno  Transparen  Shape_Le_1    Shape_Area  \\\n",
       "0    0.003782   None  None           0  272.929055   1969.434795   \n",
       "1    0.006182   None  None           0  443.878982   4646.905416   \n",
       "2    0.013434   None  None           0  964.712913  21177.178308   \n",
       "3    0.003478   None  None           0  388.437547   3021.263571   \n",
       "4    0.009466   None  None          50  863.910823  45027.987234   \n",
       "\n",
       "                                            geometry  \n",
       "0  POLYGON Z ((597521.477 5622935.685 2435.918, 5...  \n",
       "1  POLYGON Z ((597990.977 5622944.503 1948.603, 5...  \n",
       "2  POLYGON Z ((598951.692 5622962.620 2058.970, 5...  \n",
       "3  POLYGON Z ((600445.669 5622991.177 2093.456, 6...  \n",
       "4  POLYGON Z ((590943.753 5622816.932 2111.472, 5...  "
      ]
     },
     "metadata": {},
     "output_type": "display_data"
    },
    {
     "data": {
      "text/markdown": [
       "**Based on file: D:/Loop_Data/GSC/3D_Rockies/of_8576_2D_finaldata/of_8576_geology.shp**"
      ],
      "text/plain": [
       "<IPython.core.display.Markdown object>"
      ]
     },
     "metadata": {},
     "output_type": "display_data"
    },
    {
     "data": {
      "text/markdown": [
       "\n",
       "**Field that contains unique ID**"
      ],
      "text/plain": [
       "<IPython.core.display.Markdown object>"
      ]
     },
     "metadata": {},
     "output_type": "display_data"
    },
    {
     "data": {
      "application/vnd.jupyter.widget-view+json": {
       "model_id": "7c569141911941f2acad4f6ce7a6ac61",
       "version_major": 2,
       "version_minor": 0
      },
      "text/plain": [
       "Dropdown(description='Unique ID', options=('No_col', 'MAP_THEME', 'FEATURE', 'MAP_UNIT', 'PARENTS', 'MAX_AGE',…"
      ]
     },
     "metadata": {},
     "output_type": "display_data"
    },
    {
     "data": {
      "text/markdown": [
       "**Field that contains finer stratigraphic coding**"
      ],
      "text/plain": [
       "<IPython.core.display.Markdown object>"
      ]
     },
     "metadata": {},
     "output_type": "display_data"
    },
    {
     "data": {
      "application/vnd.jupyter.widget-view+json": {
       "model_id": "be18a76d539c42e588db6e7787803d65",
       "version_major": 2,
       "version_minor": 0
      },
      "text/plain": [
       "Dropdown(description='Formation', options=('No_col', 'MAP_THEME', 'FEATURE', 'MAP_UNIT', 'PARENTS', 'MAX_AGE',…"
      ]
     },
     "metadata": {},
     "output_type": "display_data"
    },
    {
     "data": {
      "text/markdown": [
       "\n",
       "**Field that contains coarser stratigraphic coding**"
      ],
      "text/plain": [
       "<IPython.core.display.Markdown object>"
      ]
     },
     "metadata": {},
     "output_type": "display_data"
    },
    {
     "data": {
      "application/vnd.jupyter.widget-view+json": {
       "model_id": "4fb76cc9ab7e4d5e83ba3cca0ce42f88",
       "version_major": 2,
       "version_minor": 0
      },
      "text/plain": [
       "Dropdown(description='Group', options=('No_col', 'MAP_THEME', 'FEATURE', 'MAP_UNIT', 'PARENTS', 'MAX_AGE', 'MI…"
      ]
     },
     "metadata": {},
     "output_type": "display_data"
    },
    {
     "data": {
      "text/markdown": [
       "**Field that contains alternate coarser stratigraphic coding if Group is blank**"
      ],
      "text/plain": [
       "<IPython.core.display.Markdown object>"
      ]
     },
     "metadata": {},
     "output_type": "display_data"
    },
    {
     "data": {
      "application/vnd.jupyter.widget-view+json": {
       "model_id": "33255cf696a542b896256e55b563e381",
       "version_major": 2,
       "version_minor": 0
      },
      "text/plain": [
       "Dropdown(description='Group alt', options=('No_col', 'MAP_THEME', 'FEATURE', 'MAP_UNIT', 'PARENTS', 'MAX_AGE',…"
      ]
     },
     "metadata": {},
     "output_type": "display_data"
    },
    {
     "data": {
      "text/markdown": [
       "**Field that contains alternate stratigraphic coding (used to check for \"drift\" formations)**"
      ],
      "text/plain": [
       "<IPython.core.display.Markdown object>"
      ]
     },
     "metadata": {},
     "output_type": "display_data"
    },
    {
     "data": {
      "application/vnd.jupyter.widget-view+json": {
       "model_id": "079be0d260de466eb5e6a6954660af67",
       "version_major": 2,
       "version_minor": 0
      },
      "text/plain": [
       "Dropdown(description='Strat alt', options=('No_col', 'MAP_THEME', 'FEATURE', 'MAP_UNIT', 'PARENTS', 'MAX_AGE',…"
      ]
     },
     "metadata": {},
     "output_type": "display_data"
    },
    {
     "data": {
      "text/markdown": [
       "**Field that contains information about lithology**"
      ],
      "text/plain": [
       "<IPython.core.display.Markdown object>"
      ]
     },
     "metadata": {},
     "output_type": "display_data"
    },
    {
     "data": {
      "application/vnd.jupyter.widget-view+json": {
       "model_id": "b6033de4d03d47cfac916469a788b1a7",
       "version_major": 2,
       "version_minor": 0
      },
      "text/plain": [
       "Dropdown(description='Description:', options=('No_col', 'MAP_THEME', 'FEATURE', 'MAP_UNIT', 'PARENTS', 'MAX_AG…"
      ]
     },
     "metadata": {},
     "output_type": "display_data"
    },
    {
     "data": {
      "text/markdown": [
       "**Field that contains extra lithology information**"
      ],
      "text/plain": [
       "<IPython.core.display.Markdown object>"
      ]
     },
     "metadata": {},
     "output_type": "display_data"
    },
    {
     "data": {
      "application/vnd.jupyter.widget-view+json": {
       "model_id": "721c70f4a36343708f45be3ad8981657",
       "version_major": 2,
       "version_minor": 0
      },
      "text/plain": [
       "Dropdown(description='Litho', options=('No_col', 'MAP_THEME', 'FEATURE', 'MAP_UNIT', 'PARENTS', 'MAX_AGE', 'MI…"
      ]
     },
     "metadata": {},
     "output_type": "display_data"
    },
    {
     "data": {
      "text/markdown": [
       "**Field that contains even more lithology information**"
      ],
      "text/plain": [
       "<IPython.core.display.Markdown object>"
      ]
     },
     "metadata": {},
     "output_type": "display_data"
    },
    {
     "data": {
      "application/vnd.jupyter.widget-view+json": {
       "model_id": "0314267ee6a44875a08127ed48e56805",
       "version_major": 2,
       "version_minor": 0
      },
      "text/plain": [
       "Dropdown(description='Litho alt', options=('No_col', 'MAP_THEME', 'FEATURE', 'MAP_UNIT', 'PARENTS', 'MAX_AGE',…"
      ]
     },
     "metadata": {},
     "output_type": "display_data"
    },
    {
     "data": {
      "text/markdown": [
       "**Text to search for in field defined by Description code to show that this is a sill**"
      ],
      "text/plain": [
       "<IPython.core.display.Markdown object>"
      ]
     },
     "metadata": {},
     "output_type": "display_data"
    },
    {
     "data": {
      "application/vnd.jupyter.widget-view+json": {
       "model_id": "95e267f6725a4b748f7430d9d93fb9df",
       "version_major": 2,
       "version_minor": 0
      },
      "text/plain": [
       "Text(value='sill', description='Sill text', placeholder='sill')"
      ]
     },
     "metadata": {},
     "output_type": "display_data"
    },
    {
     "data": {
      "text/markdown": [
       "**Text to search for in field defined by Litho code to show that this is an intrusion**"
      ],
      "text/plain": [
       "<IPython.core.display.Markdown object>"
      ]
     },
     "metadata": {},
     "output_type": "display_data"
    },
    {
     "data": {
      "application/vnd.jupyter.widget-view+json": {
       "model_id": "9c814c01047a4a31be70bfd492aae3a4",
       "version_major": 2,
       "version_minor": 0
      },
      "text/plain": [
       "Text(value='intrusive', description='Intrusive text', placeholder='intrusive')"
      ]
     },
     "metadata": {},
     "output_type": "display_data"
    },
    {
     "data": {
      "text/markdown": [
       "**Text to search for in field defined by Description code to show that this is an volcanic (not intrusion)**"
      ],
      "text/plain": [
       "<IPython.core.display.Markdown object>"
      ]
     },
     "metadata": {},
     "output_type": "display_data"
    },
    {
     "data": {
      "application/vnd.jupyter.widget-view+json": {
       "model_id": "6d47679c6b8c48d8a03852add06fe3b6",
       "version_major": 2,
       "version_minor": 0
      },
      "text/plain": [
       "Text(value='volc', description='Volc text', placeholder='volc')"
      ]
     },
     "metadata": {},
     "output_type": "display_data"
    },
    {
     "data": {
      "text/markdown": [
       "**Field that contains minimum age of unit defined by Formation**"
      ],
      "text/plain": [
       "<IPython.core.display.Markdown object>"
      ]
     },
     "metadata": {},
     "output_type": "display_data"
    },
    {
     "data": {
      "application/vnd.jupyter.widget-view+json": {
       "model_id": "e1de0b4f0bb542a2a5fb28c734d2b359",
       "version_major": 2,
       "version_minor": 0
      },
      "text/plain": [
       "Dropdown(description='Min age', options=('No_col', 'MAP_THEME', 'FEATURE', 'MAP_UNIT', 'PARENTS', 'MAX_AGE', '…"
      ]
     },
     "metadata": {},
     "output_type": "display_data"
    },
    {
     "data": {
      "text/markdown": [
       "**Field that contains maximum age of unit defined by Formation**"
      ],
      "text/plain": [
       "<IPython.core.display.Markdown object>"
      ]
     },
     "metadata": {},
     "output_type": "display_data"
    },
    {
     "data": {
      "application/vnd.jupyter.widget-view+json": {
       "model_id": "2653a1062f69404bbc7759d6948484ef",
       "version_major": 2,
       "version_minor": 0
      },
      "text/plain": [
       "Dropdown(description='Max age', options=('No_col', 'MAP_THEME', 'FEATURE', 'MAP_UNIT', 'PARENTS', 'MAX_AGE', '…"
      ]
     },
     "metadata": {},
     "output_type": "display_data"
    }
   ],
   "source": [
    "c_l['ff']=ff_choice.value\n",
    "c_l['fold']=fold_choice.value\n",
    "c_l['t']=t_choice.value\n",
    "c_l['syn']=syn_choice.value\n",
    "\n",
    "if(not geology_file==''):\n",
    "    geology=gpd.read_file(geology_file)\n",
    "    display(geology.head())\n",
    "    cols=['No_col']\n",
    "    for sc in geology.columns:\n",
    "        cols.append(sc)\n",
    "    printmd('**Based on file:'+' '+geology_file+'**')\n",
    "\n",
    "    printmd('\\n**Field that contains unique ID**')\n",
    "\n",
    "    o_choice=widgets.Dropdown(\n",
    "        options=cols,\n",
    "        description='Unique ID',\n",
    "        disabled=False\n",
    "    )\n",
    "    display(o_choice)\n",
    "\n",
    "    printmd('**Field that contains finer stratigraphic coding**')\n",
    "\n",
    "    c_choice=widgets.Dropdown(\n",
    "        options=cols,\n",
    "        description='Formation',\n",
    "        disabled=False\n",
    "    )\n",
    "    display(c_choice)\n",
    "\n",
    "    printmd('\\n**Field that contains coarser stratigraphic coding**')\n",
    "\n",
    "    g_choice=widgets.Dropdown(\n",
    "        options=cols,\n",
    "        description='Group',\n",
    "        disabled=False\n",
    "    )\n",
    "    display(g_choice)\n",
    "\n",
    "    printmd('**Field that contains alternate coarser stratigraphic coding if Group is blank**')\n",
    "\n",
    "    g2_choice=widgets.Dropdown(\n",
    "        options=cols,\n",
    "        description='Group alt',\n",
    "        disabled=False\n",
    "    )\n",
    "    display(g2_choice)\n",
    "\n",
    "\n",
    "    printmd('**Field that contains alternate stratigraphic coding (used to check for \"drift\" formations'')**')\n",
    "\n",
    "    u_choice=widgets.Dropdown(\n",
    "        options=cols,\n",
    "        description='Strat alt',\n",
    "        disabled=False\n",
    "    )\n",
    "    display(u_choice)\n",
    "\n",
    "    printmd('**Field that contains information about lithology**')\n",
    "\n",
    "    ds_choice=widgets.Dropdown(\n",
    "        options=cols,\n",
    "        description='Description:',\n",
    "        disabled=False\n",
    "    )\n",
    "    display(ds_choice)\n",
    "\n",
    "    printmd('**Field that contains extra lithology information**')\n",
    "\n",
    "    r1_choice=widgets.Dropdown(\n",
    "        options=cols,\n",
    "        description='Litho',\n",
    "        disabled=False\n",
    "    )\n",
    "    display(r1_choice)\n",
    "\n",
    "    printmd('**Field that contains even more lithology information**')\n",
    "\n",
    "    r2_choice=widgets.Dropdown(\n",
    "        options=cols,\n",
    "        description='Litho alt',\n",
    "        disabled=False\n",
    "    )\n",
    "    display(r2_choice)\n",
    "\n",
    "    printmd('**Text to search for in field defined by Description code to show that this is a sill**')\n",
    "\n",
    "    sill_choice=widgets.Text(\n",
    "        placeholder='sill',\n",
    "        value='sill',\n",
    "        description='Sill text',\n",
    "        disabled=False\n",
    "    )\n",
    "    display(sill_choice)\n",
    "\n",
    "    printmd('**Text to search for in field defined by Litho code to show that this is an intrusion**')\n",
    "\n",
    "    intrusive_choice=widgets.Text(\n",
    "        placeholder='intrusive',\n",
    "        value='intrusive',\n",
    "        description='Intrusive text',\n",
    "        disabled=False\n",
    "    )\n",
    "    display(intrusive_choice)\n",
    "\n",
    "    printmd('**Text to search for in field defined by Description code to show that this is an volcanic (not intrusion)**')\n",
    "\n",
    "\n",
    "    volcanic_choice=widgets.Text(\n",
    "        placeholder='volc',\n",
    "        value='volc',\n",
    "        description='Volc text',\n",
    "        disabled=False\n",
    "    )\n",
    "    display(volcanic_choice)\n",
    "\n",
    "    printmd('**Field that contains minimum age of unit defined by Formation**')\n",
    "\n",
    "    min_choice=widgets.Dropdown(\n",
    "        options=cols,\n",
    "        description='Min age',\n",
    "        disabled=False\n",
    "    )\n",
    "    display(min_choice)\n",
    "\n",
    "    printmd('**Field that contains maximum age of unit defined by Formation**')\n",
    "\n",
    "    max_choice=widgets.Dropdown(\n",
    "        options=cols,\n",
    "        description='Max age',\n",
    "        disabled=False\n",
    "    )\n",
    "    display(max_choice)\n",
    "\n"
   ]
  },
  {
   "cell_type": "code",
   "execution_count": 12,
   "metadata": {},
   "outputs": [
    {
     "data": {
      "text/html": [
       "<div>\n",
       "<style scoped>\n",
       "    .dataframe tbody tr th:only-of-type {\n",
       "        vertical-align: middle;\n",
       "    }\n",
       "\n",
       "    .dataframe tbody tr th {\n",
       "        vertical-align: top;\n",
       "    }\n",
       "\n",
       "    .dataframe thead th {\n",
       "        text-align: right;\n",
       "    }\n",
       "</style>\n",
       "<table border=\"1\" class=\"dataframe\">\n",
       "  <thead>\n",
       "    <tr style=\"text-align: right;\">\n",
       "      <th></th>\n",
       "      <th>SITE_CODE</th>\n",
       "      <th>SITE_TITLE</th>\n",
       "      <th>SHORT_NAME</th>\n",
       "      <th>SITE_COMMO</th>\n",
       "      <th>SITE_TYPE_</th>\n",
       "      <th>SITE_SUB_T</th>\n",
       "      <th>SITE_STAGE</th>\n",
       "      <th>TARGET_COM</th>\n",
       "      <th>COMMODITY_</th>\n",
       "      <th>PROJ_CODE</th>\n",
       "      <th>PROJ_TITLE</th>\n",
       "      <th>WEB_LINK</th>\n",
       "      <th>EXTRACT_DA</th>\n",
       "      <th>geometry</th>\n",
       "    </tr>\n",
       "  </thead>\n",
       "  <tbody>\n",
       "    <tr>\n",
       "      <th>0</th>\n",
       "      <td>S0001482</td>\n",
       "      <td>Vivash Gorge</td>\n",
       "      <td>Vivash Gorge</td>\n",
       "      <td>Fe</td>\n",
       "      <td>Deposit</td>\n",
       "      <td>Unspecified</td>\n",
       "      <td>Undeveloped</td>\n",
       "      <td>IRON ORE</td>\n",
       "      <td>IRON</td>\n",
       "      <td>J03931</td>\n",
       "      <td>Brockman 4 Area / Rio Tinto</td>\n",
       "      <td>http://minedexext.dmp.wa.gov.au/minedex/extern...</td>\n",
       "      <td>2018-05-07</td>\n",
       "      <td>POINT (505671.537 7495706.968)</td>\n",
       "    </tr>\n",
       "    <tr>\n",
       "      <th>1</th>\n",
       "      <td>S0231563</td>\n",
       "      <td>Eliwana Exploration Camp</td>\n",
       "      <td>Exploration camp</td>\n",
       "      <td>Fe</td>\n",
       "      <td>Infrastructure</td>\n",
       "      <td>Town/Village/Camp</td>\n",
       "      <td>Operating</td>\n",
       "      <td>IRON ORE</td>\n",
       "      <td>IRON</td>\n",
       "      <td>J03436</td>\n",
       "      <td>Western Hub / FMG</td>\n",
       "      <td>http://minedexext.dmp.wa.gov.au/minedex/extern...</td>\n",
       "      <td>2018-05-07</td>\n",
       "      <td>POINT (503344.199 7511681.103)</td>\n",
       "    </tr>\n",
       "    <tr>\n",
       "      <th>2</th>\n",
       "      <td>S0233921</td>\n",
       "      <td>Eliwana Far East 2 Marra Mamba</td>\n",
       "      <td>Eliwana Far East 2 Marra Mamba</td>\n",
       "      <td>Fe</td>\n",
       "      <td>Deposit</td>\n",
       "      <td>Unspecified</td>\n",
       "      <td>Undeveloped</td>\n",
       "      <td>IRON ORE</td>\n",
       "      <td>IRON</td>\n",
       "      <td>J03436</td>\n",
       "      <td>Western Hub / FMG</td>\n",
       "      <td>http://minedexext.dmp.wa.gov.au/minedex/extern...</td>\n",
       "      <td>2018-05-07</td>\n",
       "      <td>POINT (505699.008 7509917.737)</td>\n",
       "    </tr>\n",
       "  </tbody>\n",
       "</table>\n",
       "</div>"
      ],
      "text/plain": [
       "  SITE_CODE                      SITE_TITLE                      SHORT_NAME  \\\n",
       "0  S0001482                    Vivash Gorge                    Vivash Gorge   \n",
       "1  S0231563        Eliwana Exploration Camp                Exploration camp   \n",
       "2  S0233921  Eliwana Far East 2 Marra Mamba  Eliwana Far East 2 Marra Mamba   \n",
       "\n",
       "  SITE_COMMO      SITE_TYPE_         SITE_SUB_T   SITE_STAGE TARGET_COM  \\\n",
       "0         Fe         Deposit        Unspecified  Undeveloped   IRON ORE   \n",
       "1         Fe  Infrastructure  Town/Village/Camp    Operating   IRON ORE   \n",
       "2         Fe         Deposit        Unspecified  Undeveloped   IRON ORE   \n",
       "\n",
       "  COMMODITY_ PROJ_CODE                   PROJ_TITLE  \\\n",
       "0       IRON    J03931  Brockman 4 Area / Rio Tinto   \n",
       "1       IRON    J03436            Western Hub / FMG   \n",
       "2       IRON    J03436            Western Hub / FMG   \n",
       "\n",
       "                                            WEB_LINK  EXTRACT_DA  \\\n",
       "0  http://minedexext.dmp.wa.gov.au/minedex/extern...  2018-05-07   \n",
       "1  http://minedexext.dmp.wa.gov.au/minedex/extern...  2018-05-07   \n",
       "2  http://minedexext.dmp.wa.gov.au/minedex/extern...  2018-05-07   \n",
       "\n",
       "                         geometry  \n",
       "0  POINT (505671.537 7495706.968)  \n",
       "1  POINT (503344.199 7511681.103)  \n",
       "2  POINT (505699.008 7509917.737)  "
      ]
     },
     "metadata": {},
     "output_type": "display_data"
    },
    {
     "data": {
      "text/markdown": [
       "**Based on file: ../source_data//null_mindeps.shp**"
      ],
      "text/plain": [
       "<IPython.core.display.Markdown object>"
      ]
     },
     "metadata": {},
     "output_type": "display_data"
    },
    {
     "data": {
      "text/markdown": [
       "\n",
       "**Field that contains site code of deposit**"
      ],
      "text/plain": [
       "<IPython.core.display.Markdown object>"
      ]
     },
     "metadata": {},
     "output_type": "display_data"
    },
    {
     "data": {
      "application/vnd.jupyter.widget-view+json": {
       "model_id": "9ebe18c967864d068a6951b515ad0bb5",
       "version_major": 2,
       "version_minor": 0
      },
      "text/plain": [
       "Dropdown(description='Site code', options=('No_col', 'SITE_CODE', 'SITE_TITLE', 'SHORT_NAME', 'SITE_COMMO', 'S…"
      ]
     },
     "metadata": {},
     "output_type": "display_data"
    },
    {
     "data": {
      "text/markdown": [
       "**Field that contains short name of deposit (e.g. Jones deposit)**"
      ],
      "text/plain": [
       "<IPython.core.display.Markdown object>"
      ]
     },
     "metadata": {},
     "output_type": "display_data"
    },
    {
     "data": {
      "application/vnd.jupyter.widget-view+json": {
       "model_id": "131c22111960454b834fbe91c233d665",
       "version_major": 2,
       "version_minor": 0
      },
      "text/plain": [
       "Dropdown(description='Short Name', options=('No_col', 'SITE_CODE', 'SITE_TITLE', 'SHORT_NAME', 'SITE_COMMO', '…"
      ]
     },
     "metadata": {},
     "output_type": "display_data"
    },
    {
     "data": {
      "text/markdown": [
       "**Field that contains site type of deposit (Mine, occurrence etc.)**"
      ],
      "text/plain": [
       "<IPython.core.display.Markdown object>"
      ]
     },
     "metadata": {},
     "output_type": "display_data"
    },
    {
     "data": {
      "application/vnd.jupyter.widget-view+json": {
       "model_id": "af71de14588d423c8f93c6eea2f2fb1b",
       "version_major": 2,
       "version_minor": 0
      },
      "text/plain": [
       "Dropdown(description='Site type', options=('No_col', 'SITE_CODE', 'SITE_TITLE', 'SHORT_NAME', 'SITE_COMMO', 'S…"
      ]
     },
     "metadata": {},
     "output_type": "display_data"
    },
    {
     "data": {
      "text/markdown": [
       "**Field that contains target commodity of deposit (Commodity)**"
      ],
      "text/plain": [
       "<IPython.core.display.Markdown object>"
      ]
     },
     "metadata": {},
     "output_type": "display_data"
    },
    {
     "data": {
      "application/vnd.jupyter.widget-view+json": {
       "model_id": "15f19b1fc80d4335be6bb6415414c28f",
       "version_major": 2,
       "version_minor": 0
      },
      "text/plain": [
       "Dropdown(description='Target Comm', options=('No_col', 'SITE_CODE', 'SITE_TITLE', 'SHORT_NAME', 'SITE_COMMO', …"
      ]
     },
     "metadata": {},
     "output_type": "display_data"
    },
    {
     "data": {
      "text/markdown": [
       "**Field that contains site commodity of deposit (ore Mineral)**"
      ],
      "text/plain": [
       "<IPython.core.display.Markdown object>"
      ]
     },
     "metadata": {},
     "output_type": "display_data"
    },
    {
     "data": {
      "application/vnd.jupyter.widget-view+json": {
       "model_id": "9e4424c3f08a4c7b9fc3c2bcafd81514",
       "version_major": 2,
       "version_minor": 0
      },
      "text/plain": [
       "Dropdown(description='Site Commodity', options=('No_col', 'SITE_CODE', 'SITE_TITLE', 'SHORT_NAME', 'SITE_COMMO…"
      ]
     },
     "metadata": {},
     "output_type": "display_data"
    },
    {
     "data": {
      "text/markdown": [
       "**Field that contains commodity group of deposit (e.g. Metal)**"
      ],
      "text/plain": [
       "<IPython.core.display.Markdown object>"
      ]
     },
     "metadata": {},
     "output_type": "display_data"
    },
    {
     "data": {
      "application/vnd.jupyter.widget-view+json": {
       "model_id": "5347f3706cd24f51b0923303ed51a08d",
       "version_major": 2,
       "version_minor": 0
      },
      "text/plain": [
       "Dropdown(description='Commodity', options=('No_col', 'SITE_CODE', 'SITE_TITLE', 'SHORT_NAME', 'SITE_COMMO', 'S…"
      ]
     },
     "metadata": {},
     "output_type": "display_data"
    },
    {
     "data": {
      "text/markdown": [
       "**Text to search for in field defined by Site type code that shows site to ignore**"
      ],
      "text/plain": [
       "<IPython.core.display.Markdown object>"
      ]
     },
     "metadata": {},
     "output_type": "display_data"
    },
    {
     "data": {
      "application/vnd.jupyter.widget-view+json": {
       "model_id": "46b269405fe04ef2a5a24d18c39fb1ee",
       "version_major": 2,
       "version_minor": 0
      },
      "text/plain": [
       "Text(value='Cons', description='Not mine text', placeholder='Cons')"
      ]
     },
     "metadata": {},
     "output_type": "display_data"
    }
   ],
   "source": [
    "c_l['o']=o_choice.value\n",
    "c_l['g']=g_choice.value\n",
    "c_l['g2']=g2_choice.value\n",
    "c_l['c']=c_choice.value\n",
    "c_l['ds']=ds_choice.value\n",
    "c_l['u']=u_choice.value\n",
    "c_l['r1']=r1_choice.value\n",
    "c_l['r2']=r2_choice.value\n",
    "c_l['sill']=sill_choice.value\n",
    "c_l['intrusive']=intrusive_choice.value\n",
    "c_l['volcanic']=volcanic_choice.value\n",
    "c_l['min']=min_choice.value\n",
    "c_l['max']=max_choice.value\n",
    "\n",
    "mindep=gpd.read_file(mindep_file)\n",
    "display(mindep.head())\n",
    "cols=['No_col']\n",
    "for sc in mindep.columns:\n",
    "    cols.append(sc)\n",
    "\n",
    "printmd('**Based on file:'+' '+mindep_file+'**')\n",
    "\n",
    "printmd('\\n**Field that contains site code of deposit**')\n",
    "\n",
    "msc_choice=widgets.Dropdown(\n",
    "    options=cols,\n",
    "    description='Site code',\n",
    "    disabled=False\n",
    ")\n",
    "display(msc_choice)\n",
    "\n",
    "printmd('**Field that contains short name of deposit (e.g. Jones deposit)**')\n",
    "\n",
    "msn_choice=widgets.Dropdown(\n",
    "    options=cols,\n",
    "    description='Short Name',\n",
    "    disabled=False\n",
    ")\n",
    "display(msn_choice)\n",
    "\n",
    "printmd('**Field that contains site type of deposit (Mine, occurrence etc.)**')\n",
    "\n",
    "mst_choice=widgets.Dropdown(\n",
    "    options=cols,\n",
    "    description='Site type',\n",
    "    disabled=False\n",
    ")\n",
    "display(mst_choice)\n",
    "\n",
    "\n",
    "printmd('**Field that contains target commodity of deposit (Commodity)**')\n",
    "\n",
    "mtc_choice=widgets.Dropdown(\n",
    "    options=cols,\n",
    "    description='Target Comm',\n",
    "    disabled=False\n",
    ")\n",
    "display(mtc_choice)\n",
    "\n",
    "printmd('**Field that contains site commodity of deposit (ore Mineral)**')\n",
    "\n",
    "mscm_choice=widgets.Dropdown(\n",
    "    options=cols,\n",
    "    description='Site Commodity',\n",
    "    disabled=False\n",
    ")\n",
    "display(mscm_choice)\n",
    "\n",
    "printmd('**Field that contains commodity group of deposit (e.g. Metal)**')\n",
    "\n",
    "mcom_choice=widgets.Dropdown(\n",
    "    options=cols,\n",
    "    description='Commodity',\n",
    "    disabled=False,\n",
    "    style=style\n",
    ")\n",
    "display(mcom_choice)\n",
    "\n",
    "printmd('**Text to search for in field defined by Site type code that shows site to ignore**')\n",
    "\n",
    "minf_choice=widgets.Text(\n",
    "    placeholder='Cons',\n",
    "    value='Cons',\n",
    "    description='Not mine text',\n",
    "    disabled=False\n",
    ")\n",
    "display(minf_choice)\n"
   ]
  },
  {
   "cell_type": "code",
   "execution_count": 14,
   "metadata": {},
   "outputs": [],
   "source": [
    "c_l['msc']=msc_choice.value\n",
    "c_l['msn']=msn_choice.value\n",
    "c_l['mst']=mst_choice.value\n",
    "c_l['mtc']=mtc_choice.value\n",
    "c_l['mscm']=mscm_choice.value\n",
    "c_l['mcom']=mcom_choice.value\n",
    "c_l['minf']=minf_choice.value\n",
    "\n",
    "\n",
    "if(not os.path.isdir('../'+test_data_name)):\n",
    "    os.mkdir('../'+test_data_name)\n",
    "f=open('../'+test_data_name+'/m2l_config.py',\"w\")\n",
    "\n",
    "f.write(\"#ROI\\n\")\n",
    "f.write(\"\\n\")\n",
    "f.write(\"step_out=0.1   #padding around dtm to ensure reprojected dtm covers target area (in degrees)\\n\")\n",
    "f.write(\"inset=0      #unused??\\n\")\n",
    "f.write(\"\\n\")\n",
    "f.write(\"#\\n\")\n",
    "f.write(\"#minx=\"+minx+\"  #region of interest coordinates in metre-based system (or non-degree system)\\n\")\n",
    "f.write(\"#maxx=\"+maxx+\"\\n\")\n",
    "f.write(\"#miny=\"+miny+\"\\n\")\n",
    "f.write(\"#maxy=\"+maxy+\"\\n\")\n",
    "f.write(\"model_top=1200\\n\")\n",
    "f.write(\"model_base=-3200\\n\")\n",
    "f.write(\"\\n\")\n",
    "f.write(\"#PATHS\\n\")\n",
    "f.write(\"\\n\")\n",
    "f.write(\"local_paths=False       #flag to use local or WFS source for data inputs (True = local)\\n\")\n",
    "f.write(\"\\n\")\n",
    "f.write(\"\\n\")\n",
    "f.write(\"data_path=''\\n\")\n",
    "f.write(\"clut_path=''\\n\")\n",
    "f.write(\"base_url='https://gs-seamless.geoscience.nsw.gov.au/geoserver/ows?service=wfs&version=2.0.0&request=GetFeature&typeName='\\n\")\n",
    "f.write(\"\\n\")\n",
    "f.write(\"structure_file='\"+structure_file+\"'\\n\")\n",
    "f.write(\"fault_file='\"+fault_file+\"'\\n\")\n",
    "f.write(\"fold_file='\"+fold_file+\"'\\n\")\n",
    "f.write(\"geology_file='\"+geology_file+\"'\\n\")\n",
    "f.write(\"mindep_file='\"+mindep_file+\"'\\n\")\n",
    "f.write(\"\\n\")\n",
    "f.write(\"#CRS\\n\")\n",
    "f.write(\"\\n\")\n",
    "f.write(\"src_crs = 'epsg:4326'  # coordinate reference system for imported dtms (geodetic lat/long WGS84)\\n\")\n",
    "f.write(\"dst_crs = '\"+dst_crs+\"' # coordinate system for data\\n\")\n",
    "f.write(\"\\n\")\n",
    "f.write(\"#CODES AND LABELS \\n\")\n",
    "f.write(\"# these refer to specific fields (codes) in GIS layer or database that contain the info needed for these calcs and text substrings (labels) in the contents of these fields\\n\")\n",
    "f.write(\"c_l=\")\n",
    "f.write(str(c_l)+\"\\n\")\n",
    "f.write(\"\\n\")\n",
    "f.write(\"#DECIMATION\\n\")\n",
    "f.write(\"\\n\")\n",
    "f.write(\"orientation_decimate=0  #store every nth orientation (in object order) 0 = save all\\n\")\n",
    "f.write(\"contact_decimate=10     #store every nth contact point (in object order) 0 = save all\\n\")\n",
    "f.write(\"fault_decimate=5        #store every nth fault point (in object order) 0 = save all\\n\")\n",
    "f.write(\"fold_decimate=5         #store every nth fold axial trace point (in object order) 0 = save all\\n\")\n",
    "f.write(\"\\n\")\n",
    "f.write(\"#INTERPOLATION\\n\")\n",
    "f.write(\"\\n\")\n",
    "f.write(\"gridx=50                #x grid dimensions (no of points, not distance) for interpolations\\n\")\n",
    "f.write(\"gridy=50                #x grid dimensions (no of points, not distance) for interpolations\\n\")\n",
    "f.write(\"scheme='scipy_rbf'      #interpolation scheme\\n\")\n",
    "f.write(\"dist_buffer=5           #buffer distance for clipping points by faults (in metres or same units as dst_crs)\\n\")\n",
    "f.write(\"intrusion_mode=0        # 1 all intrusions exluded from basal contacts, 0 only sills\\n\")\n",
    "f.write(\"use_interpolations=False    # flag to use interpolated orientations or not.\\n\")\n",
    "f.write(\"\\n\")\n",
    "f.write(\"#ASSUMPTIONS\\n\")\n",
    "f.write(\"\\n\")\n",
    "f.write(\"pluton_dip=45           #surface dip of pluton contacts\\n\")\n",
    "f.write(\"pluton_form='domes'     #saucers: \\__+_+__/  batholith: +/       \\+   domes: /  +  + \\  pendant: +\\_____/+\\n\")\n",
    "f.write(\"fault_dip=90            #surface dip of faults\\n\")\n",
    "f.write(\"\\n\")\n",
    "f.write(\"#DERIVED AND FIXED PATHS\\n\")\n",
    "f.write(\"\\n\")\n",
    "f.write(\"m2m_cpp_path='../m2m_cpp/'\\n\")\n",
    "f.write(\"\\n\")\n",
    "f.write(\"graph_path=test_data_path+'graph/'\\n\")\n",
    "f.write(\"tmp_path=test_data_path+'tmp/'\\n\")\n",
    "f.write(\"#data_path=test_data_path+'data/'\\n\")\n",
    "f.write(\"dtm_path=test_data_path+'dtm/'\\n\")\n",
    "f.write(\"output_path=test_data_path+'output/'\\n\")\n",
    "f.write(\"vtk_path=test_data_path+'vtk/'\\n\")\n",
    "f.write(\"\\n\")\n",
    "f.write(\"fault_file_csv=tmp_path+'fault_file.csv'\\n\")\n",
    "f.write(\"structure_file_csv=tmp_path+'structure_file.csv'\\n\")\n",
    "f.write(\"geology_file_csv=tmp_path+'geology_file.csv'\\n\")\n",
    "f.write(\"mindep_file_csv=tmp_path+'mindep_file.csv'\\n\")\n",
    "f.write(\"\\n\")\n",
    "f.write(\"fault_file=data_path+fault_file\\n\")\n",
    "f.write(\"fold_file=data_path+fold_file\\n\")\n",
    "f.write(\"structure_file=data_path+structure_file\\n\")\n",
    "f.write(\"geology_file=data_path+geology_file\\n\")\n",
    "f.write(\"mindep_file=data_path+mindep_file\\n\")\n",
    "f.write(\"\\n\")\n",
    "f.write(\"strat_graph_file=test_data_path+'graph/graph_strat_NONE.gml'\\n\")\n",
    "f.write(\"\\n\")\n",
    "f.write(\"dtm_file=dtm_path+'dtm.tif'\\n\")\n",
    "f.write(\"dtm_reproj_file=dtm_path+'dtm_rp.tif'\\n\")\n",
    "f.write(\"\\n\")\n",
    "f.write(\"if(not os.path.isdir(test_data_path)):\\n\")\n",
    "f.write(\"   os.mkdir(test_data_path)\\n\")\n",
    "f.write(\"if(not os.path.isdir(tmp_path)):\\n\")\n",
    "f.write(\"   os.mkdir(tmp_path)\\n\")\n",
    "f.write(\"if(not os.path.isdir(output_path)):\\n\")\n",
    "f.write(\"   os.mkdir(output_path)\\n\")\n",
    "f.write(\"if(not os.path.isdir(dtm_path)):\\n\")\n",
    "f.write(\"   os.mkdir(dtm_path)\\n\")\n",
    "f.write(\"if(not os.path.isdir(vtk_path)):\\n\")\n",
    "f.write(\"   os.mkdir(vtk_path)\\n\")\n",
    "f.write(\"if(not os.path.isdir(graph_path)):\\n\")\n",
    "f.write(\"   os.mkdir(graph_path)\\n\")\n",
    "f.write(\"\\n\")\n",
    "f.write(\"print('Default parameters loaded from '+test_data_path+'m2l_config.py:')\\n\")\n",
    "f.write(\"with open('../\"+test_data_name+\"/m2l_config.py', 'r') as myfile:\\n\")\n",
    "f.write(\"  data = myfile.read()\\n\")\n",
    "f.write(\"  print(data)\\n\")\n",
    "f.write(\"  myfile.close()\\n\")\n",
    "f.write(\"\\n\")\n",
    "f.write(\"print('Modify these parameters in the cell below')\\n\")\n",
    "f.close()"
   ]
  },
  {
   "cell_type": "code",
   "execution_count": 15,
   "metadata": {},
   "outputs": [
    {
     "data": {
      "text/plain": [
       "{'d': 'DIP',\n",
       " 'dd': 'STRIKE',\n",
       " 'sf': 'SUBFEATURE',\n",
       " 'bedding': 'bed',\n",
       " 'otype': 'strike',\n",
       " 'bo': 'ATTITUDE',\n",
       " 'btype': 'over',\n",
       " 'g': 'PARENTS',\n",
       " 'g2': 'No_col',\n",
       " 'c': 'MAP_UNIT',\n",
       " 'ds': 'LITH_LIST',\n",
       " 'u': 'No_col',\n",
       " 'r1': 'No_col',\n",
       " 'r2': 'No_col',\n",
       " 'sill': 'sill',\n",
       " 'intrusive': 'intrusive',\n",
       " 'volcanic': 'volc',\n",
       " 'msc': 'SITE_CODE',\n",
       " 'msn': 'SHORT_NAME',\n",
       " 'mst': 'SITE_TYPE_',\n",
       " 'mtc': 'TARGET_COM',\n",
       " 'mscm': 'SITE_COMMO',\n",
       " 'mcom': 'COMMODITY_',\n",
       " 'minf': 'Cons',\n",
       " 'min': 'No_col',\n",
       " 'max': 'No_col',\n",
       " 'f': 'FEATURE',\n",
       " 'fault': 'fault',\n",
       " 'ff': 'FEATURE',\n",
       " 'fold': 'Fold',\n",
       " 'fdip': 'No_col',\n",
       " 'fdipnull': '0',\n",
       " 'fdipdir': 'No_col',\n",
       " 'fdipdir_flag': 'alpha',\n",
       " 'fdipest': 'No_col',\n",
       " 'fdipest_vals': 'No_col',\n",
       " 'n': 'No_col',\n",
       " 't': 'No_col',\n",
       " 'syn': 'syn',\n",
       " 'o': 'No_col',\n",
       " 'gi': 'STATION_ID'}"
      ]
     },
     "execution_count": 15,
     "metadata": {},
     "output_type": "execute_result"
    }
   ],
   "source": [
    "c_l"
   ]
  },
  {
   "cell_type": "code",
   "execution_count": null,
   "metadata": {},
   "outputs": [],
   "source": []
  }
 ],
 "metadata": {
  "kernelspec": {
   "display_name": "Python 3",
   "language": "python",
   "name": "python3"
  },
  "language_info": {
   "codemirror_mode": {
    "name": "ipython",
    "version": 3
   },
   "file_extension": ".py",
   "mimetype": "text/x-python",
   "name": "python",
   "nbconvert_exporter": "python",
   "pygments_lexer": "ipython3",
   "version": "3.7.7"
  }
 },
 "nbformat": 4,
 "nbformat_minor": 4
}
