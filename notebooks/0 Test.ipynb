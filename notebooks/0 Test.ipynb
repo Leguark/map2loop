{
 "cells": [
  {
   "cell_type": "markdown",
   "metadata": {},
   "source": [
    "# Test notebook to make sure all is well\n",
    "Should show a geology map with polygons that intersect bounding box from a shapefile, and a map of structures from a wfs source"
   ]
  },
  {
   "cell_type": "code",
   "execution_count": null,
   "metadata": {
    "ExecuteTime": {
     "end_time": "2020-06-01T10:02:01.155047Z",
     "start_time": "2020-06-01T10:01:55.289998Z"
    },
    "pycharm": {
     "is_executing": false
    },
    "scrolled": false
   },
   "outputs": [],
   "source": [
    "import geopandas as gpd\n",
    "import os\n",
    "print(os.getcwd())\n",
    "%matplotlib inline\n",
    "\n",
    "geology_file='../source_data/hams2_geol.shp'   #input geology file (if local)\n",
    "\n",
    "minx=500057  #region of interest coordinates in metre-based system (or non-degree system)\n",
    "maxx=603028\n",
    "miny=7455348\n",
    "maxy=7567953\n",
    "\n",
    "bbox=(minx,miny,maxx,maxy) # build bounding box\n",
    "bbox2=str(minx)+\",\"+str(miny)+\",\"+str(maxx)+\",\"+str(maxy)\n",
    "\n",
    "geology = gpd.read_file(geology_file,bbox=bbox) #import map\n",
    "\n",
    "geology.plot(column='CODE',figsize=(10,10),edgecolor='#000000',linewidth=0.2) #display map\n",
    "\n",
    "display(geology)"
   ]
  },
  {
   "cell_type": "code",
   "execution_count": null,
   "metadata": {
    "ExecuteTime": {
     "end_time": "2020-02-26T08:03:27.877784Z",
     "start_time": "2020-02-26T08:03:24.820894Z"
    },
    "pycharm": {
     "is_executing": false
    },
    "scrolled": false
   },
   "outputs": [],
   "source": [
    "structure_file='http://geo.loop-gis.org/geoserver/loop/wfs?service=WFS&version=1.1.0&request=GetFeature&typeName=warox_points_f5011&bbox='+bbox2+'&srs=EPSG:28350'\n",
    "\n",
    "structure = gpd.read_file(structure_file,bbox=bbox) #import structures\n",
    "structure.plot(column='feature',figsize=(10,10),edgecolor='#000000',linewidth=0.2) #display map\n",
    "display(structure)"
   ]
  },
  {
   "cell_type": "code",
   "execution_count": null,
   "metadata": {},
   "outputs": [],
   "source": []
  },
  {
   "cell_type": "code",
   "execution_count": null,
   "metadata": {},
   "outputs": [],
   "source": []
  }
 ],
 "metadata": {
  "hide_input": false,
  "kernelspec": {
   "display_name": "Python 3",
   "language": "python",
   "name": "python3"
  },
  "language_info": {
   "codemirror_mode": {
    "name": "ipython",
    "version": 3
   },
   "file_extension": ".py",
   "mimetype": "text/x-python",
   "name": "python",
   "nbconvert_exporter": "python",
   "pygments_lexer": "ipython3",
   "version": "3.7.7"
  },
  "pycharm": {
   "stem_cell": {
    "cell_type": "raw",
    "metadata": {
     "collapsed": false
    },
    "source": []
   }
  }
 },
 "nbformat": 4,
 "nbformat_minor": 2
}
