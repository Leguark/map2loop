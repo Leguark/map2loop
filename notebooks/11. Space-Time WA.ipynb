{
 "cells": [
  {
   "cell_type": "markdown",
   "metadata": {},
   "source": [
    "## SpaceTime: Western Australia\n",
    "\n",
    "<img src='../graphics/loop_sm.png'>\n",
    "   \n",
    "   "
   ]
  },
  {
   "cell_type": "code",
   "execution_count": null,
   "metadata": {},
   "outputs": [],
   "source": [
    "import ipywidgets as widgets\n",
    "import os\n",
    "import matplotlib.pyplot as plt\n",
    "\n",
    "\n",
    "# load last saved map area and mdoe engine (if they exist)\n",
    "if(not os.path.isdir('../scratch/')):\n",
    "    os.mkdir('../scratch/')\n",
    "if(os.path.isfile('../scratch/last_choices.txt')):\n",
    "    f=open('../scratch/last_choices.txt','r')\n",
    "    contents =f.readlines()\n",
    "    f.close()\n",
    "    default_map=contents[0].replace(\"\\n\",\"\")\n",
    "    default_engine=contents[1].replace(\"\\n\",\"\")\n",
    "else:\n",
    "    default_map='Draw Your Own'\n",
    "    default_engine='loopstructural'\n",
    "\n",
    "options=['Draw Your Own','Last Area Drawn']\n",
    "\n",
    "if(not default_map in options):\n",
    "    default_map= options[0]\n",
    "\n",
    "map_choice=widgets.Dropdown(\n",
    "    options=options,\n",
    "    value=default_map,\n",
    "    description='Map area:',\n",
    "    disabled=False,\n",
    ")\n",
    "display(map_choice)"
   ]
  },
  {
   "cell_type": "code",
   "execution_count": null,
   "metadata": {
    "scrolled": true
   },
   "outputs": [],
   "source": [
    "test_data_name=map_choice.value\n",
    "print(test_data_name)\n",
    "if(not test_data_name =='Draw Your Own' and not test_data_name =='Last Area Drawn'):\n",
    "    test_data_path='../'+test_data_name+'/'\n",
    "\n",
    "    os.chdir(test_data_path)\n",
    "    print(os.getcwd())    \n",
    "    %run -i \"m2l_config.py\"\n"
   ]
  },
  {
   "cell_type": "code",
   "execution_count": null,
   "metadata": {
    "scrolled": false
   },
   "outputs": [],
   "source": [
    "import folium\n",
    "import pandas as pd\n",
    "import json\n",
    "import random\n",
    "from shapely.geometry import Polygon\n",
    "from ipyleaflet import Map, basemaps, GeoJSON, LayersControl, DrawControl,WMSLayer, GeoData\n",
    "from ipywidgets import Label\n",
    "from ipywidgets import Label\n",
    "import ipywidgets as widgets\n",
    "import geopandas as gpd\n",
    "\n",
    "if(not test_data_name =='Draw Your Own'):\n",
    "    if(test_data_name=='Last Area Drawn'):\n",
    "        last_coords=pd.read_csv('../scratch/last_area.csv')\n",
    "        display(last_coords)\n",
    "        minx=last_coords.iloc[0]['minx']\n",
    "        miny=last_coords.iloc[0]['miny']\n",
    "        maxx=last_coords.iloc[0]['maxx']\n",
    "        maxy=last_coords.iloc[0]['maxy']\n",
    "        roi_poly=gpd.read_file('../scratch/tmp/roi_poly.shp')\n",
    "    elif(not test_data_name =='Draw Your Own'):\n",
    "        y_point_list = [miny, miny, maxy, maxy, maxy]\n",
    "        x_point_list = [minx, maxx, maxx, minx, minx]\n",
    "        bbox_geom = Polygon(zip(x_point_list, y_point_list))\n",
    "        polygon = gpd.GeoDataFrame(index=[0], crs=dst_crs, geometry=[bbox_geom])\n",
    "        polygon_ll=polygon.to_crs(src_crs)\n",
    "\n",
    "        minx=polygon_ll.total_bounds[0]\n",
    "        maxx=polygon_ll.total_bounds[2]\n",
    "        miny=polygon_ll.total_bounds[1]\n",
    "        maxy=polygon_ll.total_bounds[3]\n",
    "\n",
    "        minlong=minx\n",
    "        maxlong=maxx\n",
    "        minlat=miny\n",
    "        maxlat=maxy\n",
    "        #print(\"x\",polygon_ll.total_bounds[0])\n",
    "        st_bbox=[minlong,minlat,maxlong,maxlat]\n",
    "        lat_point_list = [minlat, minlat, maxlat, maxlat,maxlat]\n",
    "        lon_point_list = [minlong, maxlong, maxlong, minlong, minlong]\n",
    "        bbox_geom = Polygon(zip(lon_point_list, lat_point_list))\n",
    "        rect = gpd.GeoDataFrame(index=[0], crs=src_crs, geometry=[bbox_geom]) \n",
    "\n",
    "    \n",
    "    src_crs = \"epsg:4326\"  # coordinate reference system for imported dtms (geodetic lat/long WGS84)\n",
    "    dst_crs = \"epsg:28350\"  # coordinate reference system for imported dtms (geodetic lat/long WGS84)\n",
    "\n",
    "    bbox2=str(minx)+\",\"+str(miny)+\",\"+str(maxx)+\",\"+str(maxy)\n",
    "    y_point_list = [miny, miny, maxy, maxy, maxy]\n",
    "    x_point_list = [minx, maxx, maxx, minx, minx]\n",
    "    bbox_geom = Polygon(zip(x_point_list, y_point_list))\n",
    "    polygon = gpd.GeoDataFrame(index=[0], crs=dst_crs, geometry=[bbox_geom])\n",
    "    polygon_ll=polygon.to_crs(src_crs)\n",
    "\n",
    "    minlong=polygon_ll.total_bounds[0]\n",
    "    maxlong=polygon_ll.total_bounds[2]\n",
    "    minlat=polygon_ll.total_bounds[1]\n",
    "    maxlat=polygon_ll.total_bounds[3]\n",
    "    \n",
    "    minlong=minx\n",
    "    maxlong=maxx\n",
    "    minlat=miny\n",
    "    maxlat=maxy\n",
    "\n",
    "    lat_point_list = [minlat, minlat, maxlat, maxlat,maxlat]\n",
    "    lon_point_list = [minlong, maxlong, maxlong, minlong, minlong]\n",
    "    bbox_geom = Polygon(zip(lon_point_list, lat_point_list))\n",
    "    rect = gpd.GeoDataFrame(index=[0], crs=src_crs, geometry=[bbox_geom]) \n",
    "\n",
    "    example_rect = GeoData(geo_dataframe = rect,\n",
    "                   style={'color': 'purple', 'opacity':3, 'weight':1.9, 'dashArray':'2', 'fillOpacity':0.6},                  \n",
    "                   name = 'Example')\n",
    "    \n",
    "    if(test_data_name=='Last Area Drawn'):\n",
    "        roi_poly=gpd.read_file('../scratch/tmp/roi_poly.shp')\n",
    "        example_rect = GeoData(geo_dataframe = roi_poly,\n",
    "                   style={'color': 'purple', 'opacity':3, 'weight':1.9, 'dashArray':'2', 'fillOpacity':0.6},                  \n",
    "                   name = 'Example')\n",
    "        \n",
    "    center=(minlat+((maxlat-minlat)/2),minlong+((maxlong-minlong)/2))\n",
    "else:\n",
    "    center=(-22.6,117.3)\n",
    "    \n",
    "wms_geol = WMSLayer(\n",
    "    url='https://geo.loop-gis.org/geoserver/loop/wms?',\n",
    "    layers='loop:2_5m_interpgeop15_4326',\n",
    "    format='image/png',\n",
    "    transparent=True,\n",
    "    opacity=0.4,\n",
    "    attribution='Geology data from GSWA',\n",
    "    name='geology'\n",
    "\n",
    ")\n",
    "m =Map(basemap=basemaps.OpenTopoMap, center=center, zoom=8,scroll_wheel_zoom=True)\n",
    "label = Label()\n",
    "display(label)\n",
    "\n",
    "def handle_interaction(**kwargs):\n",
    "    if kwargs.get('type') == 'mousemove':\n",
    "        label.value = str(kwargs.get('coordinates'))\n",
    "\n",
    "m.on_interaction(handle_interaction)\n",
    "m.add_layer(wms_geol)\n",
    "if( not test_data_name =='Draw Your Own'):\n",
    "    m.add_layer(example_rect)\n",
    "\n",
    "    \n",
    "\n",
    "\n",
    "m.add_control(LayersControl())\n",
    "dc = DrawControl(rectangle={'shapeOptions': {'color': '#0000FF'}})\n",
    "m.add_control(dc)\n",
    "m"
   ]
  },
  {
   "cell_type": "markdown",
   "metadata": {},
   "source": [
    "## If you don't see a map above, please uncomment the next two lines of code\n",
    "   \n",
    "So they should look like this:   \n",
    "\n",
    "!conda install -c conda-forge ipyleaflet -y   \n",
    "!jupyter nbextension enable --py --sys-prefix ipyleaflet   \n"
   ]
  },
  {
   "cell_type": "code",
   "execution_count": null,
   "metadata": {},
   "outputs": [],
   "source": [
    "#!conda install -c conda-forge ipyleaflet -y\n",
    "#!jupyter nbextension enable --py --sys-prefix ipyleaflet\n"
   ]
  },
  {
   "cell_type": "code",
   "execution_count": null,
   "metadata": {
    "ExecuteTime": {
     "end_time": "2020-06-02T06:36:02.266775Z",
     "start_time": "2020-06-02T06:36:02.233778Z"
    }
   },
   "outputs": [],
   "source": [
    "if(test_data_name=='Draw Your Own' or test_data_name=='Last Area Drawn'):\n",
    "    if(test_data_name=='Draw Your Own'):\n",
    "        new_poly=GeoJSON(data=dc.last_draw)\n",
    "        old_poly=str(new_poly)\n",
    "\n",
    "        if(\"'geometry': None\" in old_poly):\n",
    "            raise NameError('map2loop error: No rectangle selected')\n",
    "        old_poly=old_poly.rsplit(\"'coordinates': \", 1)[1]\n",
    "        old_poly=old_poly.replace('[[[','').replace('[','').replace(']]]}})','').replace('],','').replace(',','').split(\" \")\n",
    "        longs=old_poly[0::2]\n",
    "        lats=old_poly[1::2]\n",
    "        minlong=float(min(longs))\n",
    "        maxlong=float(max(longs))\n",
    "        minlat=float(max(lats)) #ignores sign\n",
    "        maxlat=float(min(lats)) #ignores sign\n",
    "        \n",
    "    bounds=(minlong,maxlong,minlat,maxlat)\n",
    "    src_crs = \"epsg:4326\"  # coordinate reference system for imported dtms (geodetic lat/long WGS84)\n",
    "    dst_crs = \"epsg:28350\" # coordinate system for example data\n",
    "\n",
    "    if(test_data_name=='Draw Your Own'):    \n",
    "        flat_list=[item for sublist in new_poly.data['geometry']['coordinates'] for item in sublist]\n",
    "        flat_list=[item for sublist in flat_list for item in sublist]\n",
    "        longs=flat_list[0::2]\n",
    "        lats=flat_list[1::2]\n",
    "        #display(lats,longs)\n",
    "        poly_geom = Polygon(zip(longs, lats))\n",
    "        roi_poly = gpd.GeoDataFrame(index=[0], crs=src_crs, geometry=[poly_geom]) \n",
    "    roi_poly.to_file('../scratch/tmp/roi_poly.shp')\n",
    "    roi_poly=roi_poly.to_crs(dst_crs)\n",
    "    lat_point_list = [minlat, minlat, maxlat, maxlat,maxlat]\n",
    "    lon_point_list = [minlong, maxlong, maxlong, minlong, minlong]\n",
    "    #display(lat_point_list,lon_point_list)\n",
    "    bbox_geom = Polygon(zip(lon_point_list, lat_point_list))\n",
    "    mbbox = gpd.GeoDataFrame(index=[0], crs=src_crs, geometry=[bbox_geom]) \n",
    "    bbox=mbbox.total_bounds\n",
    "    gp_bbox=[bbox[0],bbox[1],bbox[2],bbox[3]]\n",
    "\n",
    "    print(src_crs,mbbox.total_bounds)\n",
    "    mbbox=mbbox.to_crs(dst_crs)\n",
    "    print(dst_crs,mbbox.total_bounds)\n",
    "    \n",
    "    f=open('../scratch/last_area.csv','w') \n",
    "    ostr='minx,miny,maxx,maxy\\n'\n",
    "    f.write(ostr)\n",
    "    ostr=str(minlong)+','+str(minlat)+','+str(maxlong)+','+str(maxlat)+'\\n'\n",
    "    f.write(ostr)\n",
    "    f.close()\n",
    "    "
   ]
  },
  {
   "cell_type": "code",
   "execution_count": null,
   "metadata": {},
   "outputs": [],
   "source": [
    "workflow={'model_engine':'loopstructural'} \n",
    "# save last map and engine choices\n",
    "f=open('../scratch/last_choices.txt','w') \n",
    "ostr=str(map_choice.value)+'\\n'+'loopstructural'+'\\n'\n",
    "f.write(ostr)\n",
    "f.close()"
   ]
  },
  {
   "cell_type": "code",
   "execution_count": null,
   "metadata": {
    "ExecuteTime": {
     "end_time": "2020-06-02T06:36:09.098804Z",
     "start_time": "2020-06-02T06:36:02.324778Z"
    },
    "pycharm": {
     "is_executing": false
    },
    "scrolled": false
   },
   "outputs": [],
   "source": [
    "import geopandas as gpd\n",
    "import pandas as pd\n",
    "import numpy as np\n",
    "import os\n",
    "import sys\n",
    "import stat\n",
    "import functools \n",
    "import operator  \n",
    "import matplotlib\n",
    "import networkx as nx\n",
    "import rasterio\n",
    "from matplotlib import pyplot\n",
    "import matplotlib.pyplot as plt\n",
    "from shapely.geometry import Polygon\n",
    "from map2loop import m2l_utils\n",
    "from map2loop import m2l_topology\n",
    "from map2loop import m2l_geometry\n",
    "from map2loop import m2l_interpolation\n",
    "from map2loop import m2l_export\n",
    "from map2loop import m2l_map_checker\n",
    "import time\n",
    "import shutil\n",
    "%matplotlib inline\n",
    "t0 = time.time()"
   ]
  },
  {
   "cell_type": "markdown",
   "metadata": {},
   "source": [
    "## Load config file"
   ]
  },
  {
   "cell_type": "code",
   "execution_count": null,
   "metadata": {
    "ExecuteTime": {
     "end_time": "2020-06-02T06:36:09.133807Z",
     "start_time": "2020-06-02T06:36:09.103808Z"
    },
    "pycharm": {
     "is_executing": false
    },
    "scrolled": true
   },
   "outputs": [],
   "source": [
    "if(test_data_name=='Draw Your Own' or test_data_name=='Last Area Drawn' ):\n",
    "    test_data_path='../scratch/'\n",
    "    minx=mbbox.total_bounds[0]\n",
    "    maxx=mbbox.total_bounds[2]\n",
    "    miny=mbbox.total_bounds[1]\n",
    "    maxy=mbbox.total_bounds[3]\n",
    "    \n",
    "    bbox2=str(minx)+\",\"+str(miny)+\",\"+str(maxx)+\",\"+str(maxy)\n",
    "\n",
    "    os.chdir('../source_data/')\n",
    "    %run -i \"m2l_config_remote.py\"\n",
    "    #%run -i \"m2l_config_remote.py\"\n",
    "    print(os.getcwd())\n",
    "    \n",
    "else:\n",
    "    test_data_path='../'+test_data_name+'/'\n",
    "\n",
    "\n",
    "\n",
    "\n",
    "lat_point_list = [miny, miny, maxy, maxy, maxy]\n",
    "lon_point_list = [minx, maxx, maxx, minx, minx]\n",
    "bbox_geom = Polygon(zip(lon_point_list, lat_point_list))\n",
    "polygon = gpd.GeoDataFrame(index=[0], crs=dst_crs, geometry=[bbox_geom]) \n",
    "bbox=(minx,miny,maxx,maxy)\n",
    "\n",
    "#dc.clear()"
   ]
  },
  {
   "cell_type": "code",
   "execution_count": null,
   "metadata": {
    "ExecuteTime": {
     "end_time": "2020-06-02T06:36:09.160806Z",
     "start_time": "2020-06-02T06:36:09.138805Z"
    },
    "pycharm": {
     "is_executing": false
    }
   },
   "outputs": [],
   "source": [
    "# opportunity to second guess config file or add extra parameters not yet in config file...\n",
    "\n",
    "fold_decimate=2         \n",
    "\n",
    "fault_decimate=0\n",
    "\n",
    "contact_decimate=5\n",
    "\n",
    "orientation_decimate=0\n",
    "\n",
    "use_interpolations=True       #use interpolated dips/contacts as additional constraints\n",
    "\n",
    "use_fat=True                   #use fold axial trace orientation hints\n",
    "\n",
    "pluton_form='domes'\n",
    "\n",
    "fault_dip=90\n",
    "\n",
    "min_fault_length=5000\n",
    "\n",
    "compute_etc=False\n",
    "\n",
    "#spacing > 0 gives absolute spacing, spacing <0 gives # of grid points in x direction\n",
    "spacing=-200\n",
    "\n",
    "#spacing=500   #grid spacing in metres of interpolation points\n",
    "\n",
    "Australia=True\n",
    "\n",
    "drift_prefix=['None']\n",
    "\n",
    "#################################\n",
    "# There are many alternative datasets that \n",
    "# can be extracted from the input data, \n",
    "# and many choices of possible input data\n",
    "#\n",
    "# These flags define what the actual workflow \n",
    "# will be for this experiment, based partly \n",
    "# on which (if any) modelling engine is used\n",
    "#\n",
    "#############################################\n",
    "#workflow={'model_engine':engine_choice.value} \n",
    "\n",
    "if(workflow['model_engine']=='geomodeller'):\n",
    "    workflow.update( {'seismic_section':False,\n",
    "          'cover_map':False,\n",
    "          'near_fault_interpolations':True,\n",
    "          'fold_axial_traces':False,\n",
    "          'stereonets':True,\n",
    "          'formation_thickness':True,\n",
    "          'polarity':False,\n",
    "          'strat_offset':True,\n",
    "          'contact_dips':True} )\n",
    "elif(workflow['model_engine']=='loopstructural'):\n",
    "    workflow.update( {'seismic_section':False,\n",
    "          'cover_map':False,\n",
    "          'near_fault_interpolations':False,\n",
    "          'fold_axial_traces':True,\n",
    "          'stereonets':True,\n",
    "          'formation_thickness':True,\n",
    "          'polarity':False,\n",
    "          'strat_offset':True,\n",
    "          'contact_dips':True} )\n",
    "elif(workflow['model_engine']=='gempy'):\n",
    "    workflow.update( {'seismic_section':False,\n",
    "          'cover_map':False,\n",
    "          'near_fault_interpolations':False,\n",
    "          'fold_axial_traces':True,\n",
    "          'stereonets':False,\n",
    "          'formation_thickness':False,\n",
    "          'polarity':False,\n",
    "          'strat_offset':False,\n",
    "          'contact_dips':False} )\n",
    "elif(workflow['model_engine']=='noddy'):\n",
    "    workflow.update( {'seismic_section':False,\n",
    "          'cover_map':False,\n",
    "          'near_fault_interpolations':False,\n",
    "          'fold_axial_traces':False,\n",
    "          'stereonets':False,\n",
    "          'formation_thickness':False,\n",
    "          'polarity':False,\n",
    "          'strat_offset':False,\n",
    "          'contact_dips':False} )\n",
    "else:\n",
    "    workflow.update( {'seismic_section':False,\n",
    "          'cover_map':False,\n",
    "          'near_fault_interpolations':False,\n",
    "          'fold_axial_traces':False,\n",
    "          'stereonets':True,\n",
    "          'formation_thickness':True,\n",
    "          'polarity':False,\n",
    "          'strat_offset':True,\n",
    "          'contact_dips':False} )\n",
    "    \n",
    "\n",
    "\n",
    "# no cover info so no need load cover layers\n",
    "if(not workflow['cover_map']):\n",
    "    dtb=0\n",
    "    dtb_null=0\n",
    "else:\n",
    "    dtb_grid=data_path+'young_cover_grid.tif' #obviously hard-wired for the moment\n",
    "    dtb_null='-2147483648' #obviously hard-wired for the moment\n",
    "    cover_map_path=data_path+'Young_Cover_FDS_MGA_clean.shp' #obviously hard-wired for the moment\n",
    "    dtb_clip=output_path+'young_cover_grid_clip.tif' #obviously hard-wired for the moment\n",
    "    cover_dip=10 # dip of cover away from contact\n",
    "    cover_spacing=5000 # of contact grid in metres"
   ]
  },
  {
   "cell_type": "markdown",
   "metadata": {},
   "source": [
    "## First we test to see if we have access to the online data we need\n"
   ]
  },
  {
   "cell_type": "code",
   "execution_count": null,
   "metadata": {
    "ExecuteTime": {
     "end_time": "2020-06-02T06:36:09.528875Z",
     "start_time": "2020-06-02T06:36:09.168807Z"
    },
    "pycharm": {
     "is_executing": false
    }
   },
   "outputs": [],
   "source": [
    "loopwfs=m2l_utils.have_access(\"geo.loop-gis.org\")\n",
    "ga=m2l_utils.have_access(\"services.ga.gov.au\")\n",
    "\n",
    "if(not local_paths and not loopwfs):\n",
    "    raise NameError('map2loop error: No access to remote map server')\n",
    "\n",
    "if(not (loopwfs & ga)):\n",
    "    local_paths=True\n",
    "    net=False\n",
    "    print('using local paths')\n",
    "else:\n",
    "    net=True"
   ]
  },
  {
   "cell_type": "markdown",
   "metadata": {},
   "source": [
    "##  Check Map for valid input files   \n",
    "   \n",
    "### Checks for:   \n",
    "- Files exist\n",
    "- Requred fields\n",
    "- No NaN/blanks in required fields\n",
    "- Sufficient orientation data\n",
    "- LineString/PolyLines for faults (i.e. not MultiLineStrings/MultiPolylines), if found splits into unique ID polylines\n",
    "- Commas in unit code (maybe should check in groups and alt groups??\n",
    "\n",
    "### Should also check for:   \n",
    "- Significantly overlapping polygons\n",
    "- Faults that should be joined (c.f. FracG code)\n",
    "- Orientations near contacts that make no sense (i.e. strike is at high angle to contact tangent)\n",
    "\n"
   ]
  },
  {
   "cell_type": "code",
   "execution_count": null,
   "metadata": {
    "scrolled": true
   },
   "outputs": [],
   "source": [
    "structure_file,geology_file,fault_file,mindep_file,fold_file,c_l=m2l_map_checker.check_map(structure_file,geology_file,fault_file,mindep_file,fold_file,tmp_path,bbox,c_l,dst_crs,local_paths,drift_prefix,roi_poly)\n"
   ]
  },
  {
   "cell_type": "code",
   "execution_count": null,
   "metadata": {},
   "outputs": [],
   "source": [
    "import matplotlib.colors as colors\n",
    "clut_path ='../source_data/500kibg_colours.csv'\n",
    "geol_clip = gpd.read_file(tmp_path+'geol_clip.shp')\n",
    "fault_clip = gpd.read_file(tmp_path+'faults_clip.shp')\n",
    "if(clut_path ==''):\n",
    "    geol_clip.plot(column=c_l['c'],figsize=(10,10),edgecolor='#000000',linewidth=0.2,)\n",
    "    use_cmap=False\n",
    "    cmap=0\n",
    "else:\n",
    "    use_cmap=True\n",
    "    asc=pd.read_csv(clut_path)\n",
    "    colours = [] #container for the discrete colours we are using\n",
    "    i=0\n",
    "    geol_clip['colour_index'] = np.nan #initialise a colour index attribute column\n",
    "    geol_clip['new_code']=geol_clip['code'].str.replace(\"-\",\"_\")\n",
    "    all_units=geol_clip['new_code'].unique()\n",
    "    for ind,strat in asc.iterrows():\n",
    "        if(strat['code'] in all_units):\n",
    "            geol_clip.loc[geol_clip['new_code']==strat['code'],'colour_index'] = i\n",
    "            colours.append(strat['colour'])\n",
    "            i=i+1\n",
    "    cmap = colors.ListedColormap(colours) # create a cmap for passing to geopandas\n",
    "    fig, ax = matplotlib.pyplot.subplots(figsize=(15, 15))\n",
    "    geol_clip.plot(ax=ax,column='colour_index',figsize=(10,10),edgecolor='#000000',linewidth=0.2,cmap=cmap)\n",
    "    fault_clip.plot(ax=ax,figsize=(10,10),edgecolor='#000000',linewidth=.4)\n"
   ]
  },
  {
   "cell_type": "markdown",
   "metadata": {},
   "source": [
    "## Space-Time Information (WA only for the moment)"
   ]
  },
  {
   "cell_type": "code",
   "execution_count": null,
   "metadata": {
    "scrolled": false
   },
   "outputs": [],
   "source": [
    "import SpaceTime as st\n",
    "ll_box='{},{},{},{}'.format(gp_bbox[0],gp_bbox[1],gp_bbox[2],gp_bbox[3])\n",
    "geochron_filename='http://geo.loop-gis.org/geoserver/GSWA/ows?service=WFS&version=1.0.0&request=GetFeature&typeName=GSWA:gswa_geochron&bbox={}&srs=epsg:28350'\n",
    "density_filename='http://geo.loop-gis.org/geoserver/GA/wfs?service=WFS&version=1.0.0&request=GetFeature&typeName=GA:bulkdensitypoint_4283&bbox={}&srs=epsg:28350'\n",
    "mag_sus_filename='http://geo.loop-gis.org/geoserver/GA/wfs?service=WFS&version=1.0.0&request=GetFeature&typeName=GA:magneticsusceptibility_4283&bbox={}&srs=epsg:28350'\n",
    "eggs_filename='http://geo.loop-gis.org/geoserver/GA/wfs?service=WFS&version=1.0.0&request=GetFeature&typeName=GA:boreholedepthagespoint_4283b&bbox={}&srs=epsg:28350'\n",
    "mag_netcdf_path =\"http://dapds00.nci.org.au/thredds/dodsC/rr2/national_geophysical_compilations/magmap_v6_2015_VRTP/magmap_v6_2015_VRTP.nc\"\n",
    "grav_netcdf_path = \"http://dapds00.nci.org.au/thredds/dodsC/rr2/national_geophysical_compilations/IR_gravity_anomaly_Australia_V1/IR_gravity_anomaly_Australia_V1.nc\"\n",
    "orogenic_filename='http://geo.loop-gis.org/geoserver/GSWA/wfs?service=WFS&version=1.0.0&request=GetFeature&typeName=GSWA:500k_orogenic_event&bbox={}&srs=epsg:28350'\n",
    "\n",
    "SpaceTime=True\n",
    "if(SpaceTime):\n",
    "    st_bbox=str(minx)+\",\"+str(miny)+\",\"+str(maxx)+\",\"+str(maxy)\n",
    "    print(st_bbox)\n",
    "    st.plot_geochron(geochron_filename,ll_box)\n",
    "    st.plot_geology_parents(geology_file,st_bbox)\n",
    "    st.plot_orogenic(orogenic_filename,st_bbox)\n",
    "    st.plot_plutons(geology_file,st_bbox)     \n",
    "    st.plot_faults(fault_file,gp_bbox)\n",
    "    st.plot_folds(fold_file,gp_bbox)\n",
    "    st.plot_mag(mag_netcdf_path,tmp_path+'mag.csv',gp_bbox)\n",
    "    st.plot_mag_sus(mag_sus_filename,ll_box)\n",
    "    st.plot_grav(grav_netcdf_path,tmp_path+'grav.csv',gp_bbox)\n",
    "    st.plot_density(density_filename,ll_box)"
   ]
  },
  {
   "cell_type": "markdown",
   "metadata": {},
   "source": [
    "## Display stereonets of bedding by formations and group to see how we can combine them later"
   ]
  },
  {
   "cell_type": "code",
   "execution_count": null,
   "metadata": {
    "ExecuteTime": {
     "end_time": "2020-06-02T06:36:23.738017Z",
     "start_time": "2020-06-02T06:36:11.334988Z"
    },
    "scrolled": false
   },
   "outputs": [],
   "source": [
    "\n",
    "geology = gpd.read_file(geology_file,bbox=bbox)\n",
    "\n",
    "geology[c_l['g']].fillna(geology[c_l['g2']], inplace=True)\n",
    "geology[c_l['g']].fillna(geology[c_l['c']], inplace=True)\n",
    "\n",
    "orientations = gpd.read_file(structure_file,bbox=bbox)\n",
    "\n",
    "if(len(orientations)<2):\n",
    "    raise NameError('Not enough orientations to complete calculations (need at least 2)')\n",
    "group_girdle=m2l_utils.plot_bedding_stereonets(orientations,geology,c_l)"
   ]
  },
  {
   "cell_type": "code",
   "execution_count": null,
   "metadata": {
    "ExecuteTime": {
     "end_time": "2020-06-02T06:36:24.855075Z",
     "start_time": "2020-06-02T06:36:23.763015Z"
    },
    "pycharm": {
     "is_executing": false
    },
    "scrolled": false
   },
   "outputs": [],
   "source": [
    "print(geology_file)\n",
    "geology_ll = gpd.read_file(geology_file,bbox=bbox)\n",
    "\n",
    "geology_ll[c_l['g']].fillna(geology_ll[c_l['g2']], inplace=True)\n",
    "geology_ll[c_l['g']].fillna(geology_ll[c_l['c']], inplace=True)\n"
   ]
  },
  {
   "cell_type": "markdown",
   "metadata": {},
   "source": [
    "## Save geology to file as WKT"
   ]
  },
  {
   "cell_type": "code",
   "execution_count": null,
   "metadata": {
    "ExecuteTime": {
     "end_time": "2020-06-02T06:36:25.302073Z",
     "start_time": "2020-06-02T06:36:24.861074Z"
    },
    "pycharm": {
     "is_executing": false
    }
   },
   "outputs": [],
   "source": [
    "hint_flag=False # use GSWA strat database to provide relative age hints\n",
    "def unique_list(list1): \n",
    "      \n",
    "    # insert the list to the set \n",
    "    list_set = set(list1) \n",
    "    # convert the set to the list \n",
    "    return(list(list_set)) \n",
    "list1=['geometry', c_l['o'],c_l['c'],c_l['g'],c_l['u'],c_l['min'],c_l['max'],c_l['ds'],c_l['r1'],c_l['r2']]\n",
    "list2=unique_list(list1)\n",
    "\n",
    "sub_geol = geology_ll[list2]\n",
    "m2l_topology.save_geol_wkt(sub_geol,geology_file_csv, c_l,hint_flag)"
   ]
  },
  {
   "cell_type": "markdown",
   "metadata": {},
   "source": [
    "## Save mineral deposits to file as WKT\n",
    "This is not needed by map2loop to build 3D models, but is used by map2model to calculate mineral deposit/topology analyses."
   ]
  },
  {
   "cell_type": "code",
   "execution_count": null,
   "metadata": {
    "ExecuteTime": {
     "end_time": "2020-06-02T06:36:26.206626Z",
     "start_time": "2020-06-02T06:36:25.308075Z"
    },
    "pycharm": {
     "is_executing": false
    }
   },
   "outputs": [],
   "source": [
    "mindep = gpd.read_file(mindep_file,bbox=bbox)\n",
    "\n",
    "sub_mindep = mindep[['geometry', c_l['msc'],c_l['msn'],c_l['mst'],c_l['mtc'],c_l['mscm'],c_l['mcom']]]\n",
    "m2l_topology.save_mindep_wkt(sub_mindep,mindep_file_csv, c_l)\n",
    "\n",
    "base=sub_mindep.plot()\n",
    "polygon.plot(ax=base, color='none',edgecolor='black')\n"
   ]
  },
  {
   "cell_type": "markdown",
   "metadata": {},
   "source": [
    "## Read and save orientations data point data as WKT"
   ]
  },
  {
   "cell_type": "code",
   "execution_count": null,
   "metadata": {
    "ExecuteTime": {
     "end_time": "2020-06-02T06:36:26.990149Z",
     "start_time": "2020-06-02T06:36:26.213605Z"
    },
    "pycharm": {
     "is_executing": false
    }
   },
   "outputs": [],
   "source": [
    "orientations = gpd.read_file(structure_file,bbox=bbox)\n",
    "\n",
    "sub_pts = orientations[['geometry', c_l['gi'],c_l['d'],c_l['dd']]]\n",
    "\n",
    "m2l_topology.save_structure_wkt(sub_pts,structure_file_csv,c_l)\n",
    "\n",
    "base=sub_pts.plot()\n",
    "polygon.plot(ax=base, color='none',edgecolor='black')\n"
   ]
  },
  {
   "cell_type": "markdown",
   "metadata": {},
   "source": [
    "## Plot faults and bounding box"
   ]
  },
  {
   "cell_type": "code",
   "execution_count": null,
   "metadata": {
    "ExecuteTime": {
     "end_time": "2020-06-02T06:36:27.704149Z",
     "start_time": "2020-06-02T06:36:26.996145Z"
    },
    "pycharm": {
     "is_executing": false
    }
   },
   "outputs": [],
   "source": [
    "if(os.path.exists(fault_file)):\n",
    "    lines_ll=gpd.read_file(fault_file,bbox=bbox)\n",
    "\n",
    "    sub_lines = lines_ll[['geometry', c_l['o'],c_l['f']]]\n",
    "    base=sub_lines.plot()\n",
    "    polygon.plot(ax=base, color='none',edgecolor='black')\n",
    "else:\n",
    "    sub_lines=[]\n"
   ]
  },
  {
   "cell_type": "markdown",
   "metadata": {},
   "source": [
    "## Save faults to file as WKT"
   ]
  },
  {
   "cell_type": "code",
   "execution_count": null,
   "metadata": {
    "ExecuteTime": {
     "end_time": "2020-06-02T06:36:27.829145Z",
     "start_time": "2020-06-02T06:36:27.711143Z"
    },
    "pycharm": {
     "is_executing": false
    }
   },
   "outputs": [],
   "source": [
    "m2l_topology.save_faults_wkt(sub_lines,fault_file_csv,c_l)"
   ]
  },
  {
   "cell_type": "markdown",
   "metadata": {},
   "source": [
    "## Create map2model input file"
   ]
  },
  {
   "cell_type": "code",
   "execution_count": null,
   "metadata": {
    "ExecuteTime": {
     "end_time": "2020-06-02T06:36:27.851146Z",
     "start_time": "2020-06-02T06:36:27.835146Z"
    },
    "pycharm": {
     "is_executing": false
    }
   },
   "outputs": [],
   "source": [
    "m2l_topology.save_Parfile(m2m_cpp_path,c_l,graph_path,geology_file_csv,fault_file_csv,structure_file_csv,mindep_file_csv,minx,maxx,miny,maxy,500.0,'Fe,Cu,Au,NONE',2)\n"
   ]
  },
  {
   "cell_type": "markdown",
   "metadata": {},
   "source": [
    "## Calculate topology"
   ]
  },
  {
   "cell_type": "code",
   "execution_count": null,
   "metadata": {
    "ExecuteTime": {
     "end_time": "2020-06-02T06:36:31.879760Z",
     "start_time": "2020-06-02T06:36:27.859150Z"
    },
    "pycharm": {
     "is_executing": false
    }
   },
   "outputs": [],
   "source": [
    "import subprocess\n",
    "import platform\n",
    "os.chdir(m2m_cpp_path)\n",
    "print(os.getcwd())\n",
    "#%system map2model.exe Parfile\n",
    "if(platform.system()=='Windows'):\n",
    "    subprocess.run([\"map2model.exe\", \"Parfile\"])\n",
    "else:\n",
    "    subprocess.run([\"./map2model\", \"Parfile\"])"
   ]
  },
  {
   "cell_type": "markdown",
   "metadata": {},
   "source": [
    "## Simple network graph of the geology with legend   \n",
    "If in Australia we can use data derived from the ASUD database to refine stratigraphic relationshipsle network graph of the geology with legend"
   ]
  },
  {
   "cell_type": "code",
   "execution_count": null,
   "metadata": {},
   "outputs": [],
   "source": [
    "if(Australia):\n",
    "    asud_strat_file='../source_data/ASUD.csv'\n",
    "    m2l_topology.use_asud(strat_graph_file, asud_strat_file,graph_path)\n",
    "    strat_graph_file=graph_path+'ASUD_strat.gml'\n"
   ]
  },
  {
   "cell_type": "code",
   "execution_count": null,
   "metadata": {
    "ExecuteTime": {
     "end_time": "2020-06-02T06:36:33.117911Z",
     "start_time": "2020-06-02T06:36:31.884772Z"
    },
    "pycharm": {
     "is_executing": false
    },
    "scrolled": false
   },
   "outputs": [],
   "source": [
    "G=nx.read_gml(strat_graph_file,label='id')\n",
    "selected_nodes = [n for n,v in G.nodes(data=True) if n >=0]\n",
    "nx.draw_networkx(G, pos=nx.kamada_kawai_layout(G), arrows=True, nodelist=selected_nodes)\n",
    "\n",
    "nlist=list(G.nodes.data('LabelGraphics'))\n",
    "nlist.sort()\n",
    "for no in nlist:\n",
    "    if(no[0]>=0):\n",
    "        elem=str(no[1]).replace(\"{'text':\",\"\").replace(\", 'fontSize': 14}\",\"\")\n",
    "        #second=elem.split(\":\").replace(\"'\",\"\")\n",
    "        print(no[0],\" \",elem)"
   ]
  },
  {
   "cell_type": "markdown",
   "metadata": {
    "scrolled": false
   },
   "source": [
    "## Get topography\n"
   ]
  },
  {
   "cell_type": "markdown",
   "metadata": {
    "scrolled": false
   },
   "source": [
    "## Download and reproject the appropriate SRTM data\n",
    "mj: Getting this from GA, but could also get from Hawaii"
   ]
  },
  {
   "cell_type": "code",
   "execution_count": null,
   "metadata": {
    "ExecuteTime": {
     "end_time": "2020-06-02T06:36:35.360910Z",
     "start_time": "2020-06-02T06:36:33.170933Z"
    },
    "pycharm": {
     "is_executing": false
    },
    "scrolled": true
   },
   "outputs": [],
   "source": [
    "polygon_ll=polygon.to_crs(src_crs)\n",
    "\n",
    "minlong=polygon_ll.total_bounds[0]-step_out\n",
    "maxlong=polygon_ll.total_bounds[2]+step_out\n",
    "minlat=polygon_ll.total_bounds[1]-step_out\n",
    "maxlat=polygon_ll.total_bounds[3]+step_out\n",
    "\n",
    "print(minlong,maxlong,minlat,maxlat)\n",
    "downloaded = False\n",
    "i=0\n",
    "print('Attempt: 0 ',end='')\n",
    "while downloaded == False:\n",
    "    try:\n",
    "        m2l_utils.get_dtm(dtm_file, minlong,maxlong,minlat,maxlat)\n",
    "        downloaded=True\n",
    "    except:\n",
    "        time.sleep(10)\n",
    "        i=i+1\n",
    "        print(' ',i,end='')\n",
    "if(i==100):\n",
    "    raise NameError('map2loop error: Could not access DTM server after 100 attempts')\n",
    "print()\n",
    "\n",
    "geom_rp=m2l_utils.reproject_dtm(dtm_file,dtm_reproj_file,src_crs,dst_crs)\n",
    "\n",
    "dtm = rasterio.open(dtm_reproj_file)\n",
    "pyplot.imshow(dtm.read(1), cmap='terrain',vmin=0,vmax=1000)\n",
    "pyplot.show()\n",
    "\n"
   ]
  },
  {
   "cell_type": "code",
   "execution_count": null,
   "metadata": {},
   "outputs": [],
   "source": []
  }
 ],
 "metadata": {
  "hide_input": false,
  "kernelspec": {
   "display_name": "Python 3",
   "language": "python",
   "name": "python3"
  },
  "pycharm": {
   "stem_cell": {
    "cell_type": "raw",
    "metadata": {
     "collapsed": false
    },
    "source": []
   }
  },
  "toc": {
   "base_numbering": 1,
   "nav_menu": {},
   "number_sections": true,
   "sideBar": true,
   "skip_h1_title": false,
   "title_cell": "Table of Contents",
   "title_sidebar": "Contents",
   "toc_cell": true,
   "toc_position": {},
   "toc_section_display": true,
   "toc_window_display": false
  }
 },
 "nbformat": 4,
 "nbformat_minor": 2
}
