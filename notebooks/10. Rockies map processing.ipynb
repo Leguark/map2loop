{
 "cells": [
  {
   "cell_type": "markdown",
   "metadata": {},
   "source": [
    "## map2loop: Generic model generator\n",
    "\n",
    "<img src='../graphics/loop_sm.png'>\n",
    "\n",
    "This notebook reads in 4-5  layers from  local or remote sources:  geology polygons, orientation data, fold polylines,  fault polylines mineral occurences; and calculates the topological relationships between the different features. Requires compiled cpp code from Vitaliy Ogarko\n",
    "\n",
    "This all gets fed into successive tolopogical and geometric transfroms that end up feeding into a mdelling engine to make a 3D model \n",
    "\n",
    "<font color='red'>This is a generic notebook to use with the  <a href=\"0.%20Config%20file%20generator.ipynb\" target=\"_blank\">config file generator notebook</a></font>.  \n",
    "   \n",
    "Insert the **test_data_name** value from the config file to replace **Test** in the next line between the single quotes."
   ]
  },
  {
   "cell_type": "code",
   "execution_count": 23,
   "metadata": {
    "ExecuteTime": {
     "end_time": "2020-06-02T06:36:02.266775Z",
     "start_time": "2020-06-02T06:36:02.233778Z"
    }
   },
   "outputs": [
    {
     "name": "stdout",
     "output_type": "stream",
     "text": [
      "Rockies\n"
     ]
    }
   ],
   "source": [
    "import ipywidgets as widgets\n",
    "import os\n",
    "\n",
    "test_data_name='Rockies'\n",
    "print(test_data_name)\n"
   ]
  },
  {
   "cell_type": "markdown",
   "metadata": {},
   "source": [
    "## Choose model engine\n",
    "1. Run cell below\n",
    "2. Select modelling engine from drop down menu   \n",
    "3. Click in next cell and run to end using menu: *Cell->Run all below* "
   ]
  },
  {
   "cell_type": "code",
   "execution_count": 24,
   "metadata": {
    "ExecuteTime": {
     "end_time": "2020-06-02T06:36:02.295774Z",
     "start_time": "2020-06-02T06:36:02.272778Z"
    }
   },
   "outputs": [
    {
     "data": {
      "application/vnd.jupyter.widget-view+json": {
       "model_id": "b8b87e33cd9f41f3bacb75a0eb4d9d2e",
       "version_major": 2,
       "version_minor": 0
      },
      "text/plain": [
       "Dropdown(description='Modeller:', index=2, options=('geomodeller', 'gempy', 'loopstructural', 'noddy', 'null')…"
      ]
     },
     "metadata": {},
     "output_type": "display_data"
    }
   ],
   "source": [
    "engine_choice=widgets.Dropdown(\n",
    "    options=['geomodeller', 'gempy','loopstructural','noddy','null'],\n",
    "    value='loopstructural',\n",
    "    description='Modeller:',\n",
    "    disabled=False,\n",
    ")\n",
    "display(engine_choice)"
   ]
  },
  {
   "cell_type": "code",
   "execution_count": 25,
   "metadata": {
    "ExecuteTime": {
     "end_time": "2020-06-02T06:36:02.318778Z",
     "start_time": "2020-06-02T06:36:02.302782Z"
    }
   },
   "outputs": [
    {
     "name": "stdout",
     "output_type": "stream",
     "text": [
      "loopstructural\n"
     ]
    }
   ],
   "source": [
    "workflow={'model_engine':engine_choice.value} \n",
    "print(workflow['model_engine'])\n",
    "# save last map and engine choices\n",
    "f=open('../last_choices.txt','w') \n",
    "ostr=''+'\\n'+str(engine_choice.value)+'\\n'\n",
    "f.write(ostr)\n",
    "f.close()"
   ]
  },
  {
   "cell_type": "code",
   "execution_count": 26,
   "metadata": {
    "ExecuteTime": {
     "end_time": "2020-06-02T06:36:09.098804Z",
     "start_time": "2020-06-02T06:36:02.324778Z"
    },
    "pycharm": {
     "is_executing": false
    },
    "scrolled": false
   },
   "outputs": [],
   "source": [
    "import geopandas as gpd\n",
    "import pandas as pd\n",
    "import numpy as np\n",
    "import os\n",
    "import sys\n",
    "import stat\n",
    "import functools \n",
    "import operator  \n",
    "import matplotlib\n",
    "import networkx as nx\n",
    "import rasterio\n",
    "from matplotlib import pyplot\n",
    "import matplotlib.pyplot as plt\n",
    "from shapely.geometry import Polygon\n",
    "from map2loop import m2l_utils\n",
    "from map2loop import m2l_topology\n",
    "from map2loop import m2l_geometry\n",
    "from map2loop import m2l_interpolation\n",
    "from map2loop import m2l_export\n",
    "from map2loop import m2l_map_checker\n",
    "import time\n",
    "import shutil\n",
    "%matplotlib inline\n",
    "t0 = time.time()\n"
   ]
  },
  {
   "cell_type": "markdown",
   "metadata": {},
   "source": [
    "## Load config file"
   ]
  },
  {
   "cell_type": "code",
   "execution_count": 27,
   "metadata": {
    "ExecuteTime": {
     "end_time": "2020-06-02T06:36:09.133807Z",
     "start_time": "2020-06-02T06:36:09.103808Z"
    },
    "pycharm": {
     "is_executing": false
    },
    "scrolled": true
   },
   "outputs": [
    {
     "name": "stdout",
     "output_type": "stream",
     "text": [
      "Default parameters loaded from ../Rockies/m2l_config.py:\n",
      "#ROI\n",
      "\n",
      "step_out=0.1   #padding around dtm to ensure reprojected dtm covers target area (in degrees)\n",
      "inset=0      #unused??\n",
      "\n",
      "#\n",
      "minx=576473  #region of interest coordinates in metre-based system (or non-degree system)\n",
      "maxx=626311\n",
      "miny=5598018\n",
      "maxy=5650849\n",
      "model_top=4000\n",
      "model_base=-3200\n",
      "\n",
      "#PATHS\n",
      "\n",
      "local_paths=False       #flag to use local or WFS source for data inputs (True = local)\n",
      "\n",
      "\n",
      "data_path=''\n",
      "clut_path=''\n",
      "base_url='https://gs-seamless.geoscience.nsw.gov.au/geoserver/ows?service=wfs&version=2.0.0&request=GetFeature&typeName='\n",
      "\n",
      "structure_file='D:/Loop_Data/GSC/3D_Rockies/extra/For_Mark/Bedding_Map_all.shp'\n",
      "fault_file='D:/Loop_Data/GSC/3D_Rockies/of_8576_2D_finaldata/of_8576_faults_26911.shp'\n",
      "fold_file='D:/Loop_Data/GSC/3D_Rockies/of_8576_2D_finaldata/of_8576_folds_26911.shp'\n",
      "geology_file='D:/Loop_Data/GSC/3D_Rockies/Kana_geo/Kana_geo_flat.shp'\n",
      "mindep_file='../source_data//null_mindeps.shp'\n",
      "\n",
      "#CRS\n",
      "\n",
      "src_crs = 'epsg:4326'  # coordinate reference system for imported dtms (geodetic lat/long WGS84)\n",
      "dst_crs = 'epsg:26911' # coordinate system for data\n",
      "\n",
      "#CODES AND LABELS \n",
      "# these refer to specific fields (codes) in GIS layer or database that contain the info needed for these calcs and text substrings (labels) in the contents of these fields\n",
      "c_l={'d': 'DIP', 'dd': 'STRIKE', 'sf': 'SUBFEATURE', 'bedding': 'bed', 'otype': 'strike', 'bo': 'ATTITUDE', 'btype': 'over', 'g': 'MAX_AGE', 'g2': 'MIN_AGE', 'c': 'LABEL', 'ds': 'LITH_LIST', 'u': 'MAP_THEME', 'r1': 'LITH_LIST', 'r2': 'GENESIS', 'sill': 'sill', 'intrusive': 'intrusive', 'volcanic': 'volc', 'msc': 'SITE_CODE', 'msn': 'SHORT_NAME', 'mst': 'SITE_TYPE_', 'mtc': 'TARGET_COM', 'mscm': 'SITE_COMMO', 'mcom': 'COMMODITY_', 'minf': 'Cons', 'min': 'RM_AGE', 'max': 'RM_AGE', 'f': 'FEATURE', 'fault': 'fault', 'ff': 'FEATURE', 'fold': 'Fold', 'fdip': 'ATTITUDE', 'fdipnull': '0', 'fdipdir': 'CONFIDENCE', 'fdipdir_flag': 'alpha', 'fdipest': 'OBJECTID', 'fdipest_vals': 'MOVEMENT', 'n': 'NAME', 't': 'SUBFEATURE', 'syn': 'syn', 'o': 'OBJECTID', 'gi': 'STATION_ID'}\n",
      "\n",
      "#DECIMATION\n",
      "\n",
      "orientation_decimate=0  #store every nth orientation (in object order) 0 = save all\n",
      "contact_decimate=10     #store every nth contact point (in object order) 0 = save all\n",
      "fault_decimate=5        #store every nth fault point (in object order) 0 = save all\n",
      "fold_decimate=5         #store every nth fold axial trace point (in object order) 0 = save all\n",
      "\n",
      "#INTERPOLATION\n",
      "\n",
      "gridx=50                #x grid dimensions (no of points, not distance) for interpolations\n",
      "gridy=50                #x grid dimensions (no of points, not distance) for interpolations\n",
      "scheme='scipy_rbf'      #interpolation scheme\n",
      "dist_buffer=5           #buffer distance for clipping points by faults (in metres or same units as dst_crs)\n",
      "intrusion_mode=0        # 1 all intrusions exluded from basal contacts, 0 only sills\n",
      "use_interpolations=False    # flag to use interpolated orientations or not.\n",
      "\n",
      "#ASSUMPTIONS\n",
      "\n",
      "pluton_dip=45           #surface dip of pluton contacts\n",
      "pluton_form='domes'     #saucers: \\__+_+__/  batholith: +/       \\+   domes: /  +  + \\  pendant: +\\_____/+\n",
      "fault_dip=90            #surface dip of faults\n",
      "\n",
      "#DERIVED AND FIXED PATHS\n",
      "\n",
      "m2m_cpp_path='../m2m_cpp/'\n",
      "\n",
      "graph_path=test_data_path+'graph/'\n",
      "tmp_path=test_data_path+'tmp/'\n",
      "#data_path=test_data_path+'data/'\n",
      "dtm_path=test_data_path+'dtm/'\n",
      "output_path=test_data_path+'output/'\n",
      "vtk_path=test_data_path+'vtk/'\n",
      "\n",
      "fault_file_csv=tmp_path+'fault_file.csv'\n",
      "structure_file_csv=tmp_path+'structure_file.csv'\n",
      "geology_file_csv=tmp_path+'geology_file.csv'\n",
      "mindep_file_csv=tmp_path+'mindep_file.csv'\n",
      "\n",
      "fault_file=data_path+fault_file\n",
      "fold_file=data_path+fold_file\n",
      "structure_file=data_path+structure_file\n",
      "geology_file=data_path+geology_file\n",
      "mindep_file=data_path+mindep_file\n",
      "\n",
      "strat_graph_file=test_data_path+'graph/graph_strat_NONE.gml'\n",
      "\n",
      "dtm_file=dtm_path+'dtm.tif'\n",
      "dtm_reproj_file=dtm_path+'dtm_rp.tif'\n",
      "\n",
      "if(not os.path.isdir(test_data_path)):\n",
      "   os.mkdir(test_data_path)\n",
      "if(not os.path.isdir(tmp_path)):\n",
      "   os.mkdir(tmp_path)\n",
      "if(not os.path.isdir(output_path)):\n",
      "   os.mkdir(output_path)\n",
      "if(not os.path.isdir(dtm_path)):\n",
      "   os.mkdir(dtm_path)\n",
      "if(not os.path.isdir(vtk_path)):\n",
      "   os.mkdir(vtk_path)\n",
      "if(not os.path.isdir(graph_path)):\n",
      "   os.mkdir(graph_path)\n",
      "\n",
      "print('Default parameters loaded from '+test_data_path+'m2l_config.py:')\n",
      "with open('../Rockies/m2l_config.py', 'r') as myfile:\n",
      "  data = myfile.read()\n",
      "  print(data)\n",
      "  myfile.close()\n",
      "\n",
      "print('Modify these parameters in the cell below')\n",
      "\n",
      "Modify these parameters in the cell below\n",
      "C:\\Users\\00073294\\Dropbox\\1_Jupyter_notebooks\\map2loop\\Rockies\n"
     ]
    }
   ],
   "source": [
    "test_data_path='../'+test_data_name+'/'\n",
    "\n",
    "os.chdir(test_data_path)\n",
    "%run -i \"m2l_config.py\"\n",
    "#%run -i \"m2l_config_remote.py\"\n",
    "print(os.getcwd())\n",
    "\n",
    "bbox2=str(minx)+\",\"+str(miny)+\",\"+str(maxx)+\",\"+str(maxy)\n",
    "lat_point_list = [miny, miny, maxy, maxy, maxy]\n",
    "lon_point_list = [minx, maxx, maxx, minx, minx]\n",
    "bbox_geom = Polygon(zip(lon_point_list, lat_point_list))\n",
    "polygon = gpd.GeoDataFrame(index=[0], crs=dst_crs, geometry=[bbox_geom]) \n",
    "bbox=(minx,miny,maxx,maxy)\n"
   ]
  },
  {
   "cell_type": "code",
   "execution_count": 28,
   "metadata": {
    "ExecuteTime": {
     "end_time": "2020-06-02T06:36:09.160806Z",
     "start_time": "2020-06-02T06:36:09.138805Z"
    },
    "pycharm": {
     "is_executing": false
    }
   },
   "outputs": [],
   "source": [
    "# opportunity to second guess config file or add extra parameters not yet in config file...\n",
    "\n",
    "fold_decimate=2         \n",
    "\n",
    "fault_decimate=0\n",
    "\n",
    "contact_decimate=25\n",
    "\n",
    "orientation_decimate=5\n",
    "\n",
    "use_interpolations=True       #use interpolated dips/contacts as additional constraints\n",
    "\n",
    "use_fat=True                   #use fold axial trace orientation hints\n",
    "\n",
    "pluton_form='domes'\n",
    "\n",
    "fault_dip=90\n",
    "\n",
    "min_fault_length=5000\n",
    "\n",
    "compute_etc=False\n",
    "\n",
    "spacing=500   #grid spacing in metres of interpolation points\n",
    "\n",
    "Australia=False\n",
    "asud_strat_file=''\n",
    "GSC=True\n",
    "local_paths=True\n",
    "\n",
    "drift_prefix=''\n",
    "\n",
    "#################################\n",
    "# There are many alternative datasets that \n",
    "# can be extracted from the input data, \n",
    "# and many choices of possible input data\n",
    "#\n",
    "# These flags define what the actual workflow \n",
    "# will be for this experiment, based partly \n",
    "# on which (if any) modelling engine is used\n",
    "#\n",
    "#############################################\n",
    "\n",
    "\n",
    "if(workflow['model_engine']=='geomodeller'):\n",
    "    workflow.update( {'seismic_section':False,\n",
    "          'cover_map':False,\n",
    "          'near_fault_interpolations':True,\n",
    "          'fold_axial_traces':False,\n",
    "          'stereonets':True,\n",
    "          'formation_thickness':True,\n",
    "          'polarity':False,\n",
    "          'strat_offset':True,\n",
    "          'contact_dips':True} )\n",
    "elif(workflow['model_engine']=='loopstructural'):\n",
    "    workflow.update( {'seismic_section':False,\n",
    "          'cover_map':False,\n",
    "          'near_fault_interpolations':False,\n",
    "          'fold_axial_traces':True,\n",
    "          'stereonets':True,\n",
    "          'formation_thickness':True,\n",
    "          'polarity':False,\n",
    "          'strat_offset':True,\n",
    "          'contact_dips':False} )\n",
    "elif(workflow['model_engine']=='gempy'):\n",
    "    workflow.update( {'seismic_section':False,\n",
    "          'cover_map':False,\n",
    "          'near_fault_interpolations':False,\n",
    "          'fold_axial_traces':True,\n",
    "          'stereonets':False,\n",
    "          'formation_thickness':False,\n",
    "          'polarity':False,\n",
    "          'strat_offset':False,\n",
    "          'contact_dips':False} )\n",
    "elif(workflow['model_engine']=='noddy'):\n",
    "    workflow.update( {'seismic_section':False,\n",
    "          'cover_map':False,\n",
    "          'near_fault_interpolations':False,\n",
    "          'fold_axial_traces':False,\n",
    "          'stereonets':False,\n",
    "          'formation_thickness':False,\n",
    "          'polarity':False,\n",
    "          'strat_offset':False,\n",
    "          'contact_dips':False} )\n",
    "else:\n",
    "    workflow.update( {'seismic_section':False,\n",
    "          'cover_map':False,\n",
    "          'near_fault_interpolations':False,\n",
    "          'fold_axial_traces':False,\n",
    "          'stereonets':True,\n",
    "          'formation_thickness':True,\n",
    "          'polarity':False,\n",
    "          'strat_offset':True,\n",
    "          'contact_dips':False} )\n",
    "    \n",
    "\n",
    "\n",
    "# no cover info so no need load cover layers\n",
    "if(not workflow['cover_map']):\n",
    "    dtb=0\n",
    "    dtb_null=0\n",
    "else:\n",
    "    dtb_grid=data_path+'young_cover_grid.tif' #obviously hard-wired for the moment\n",
    "    dtb_null='-2147483648' #obviously hard-wired for the moment\n",
    "    cover_map_path=data_path+'Young_Cover_FDS_MGA_clean.shp' #obviously hard-wired for the moment\n",
    "    dtb_clip=output_path+'young_cover_grid_clip.tif' #obviously hard-wired for the moment\n",
    "    cover_dip=10 # dip of cover away from contact\n",
    "    cover_spacing=5000 # of contact grid in metres\n"
   ]
  },
  {
   "cell_type": "markdown",
   "metadata": {},
   "source": [
    "## First we test to see if we have access to the online data we need\n"
   ]
  },
  {
   "cell_type": "code",
   "execution_count": 29,
   "metadata": {
    "ExecuteTime": {
     "end_time": "2020-06-02T06:36:09.528875Z",
     "start_time": "2020-06-02T06:36:09.168807Z"
    },
    "pycharm": {
     "is_executing": false
    }
   },
   "outputs": [
    {
     "name": "stdout",
     "output_type": "stream",
     "text": [
      "available: geo.loop-gis.org\n",
      "available: topography.org\n"
     ]
    }
   ],
   "source": [
    "loopwfs=m2l_utils.have_access(\"geo.loop-gis.org\")\n",
    "ga=m2l_utils.have_access(\"topography.org\")\n",
    "if(not local_paths and not loopwfs):\n",
    "    raise NameError('map2loop error: No access to remote map server')\n",
    "if(not (loopwfs & ga)):\n",
    "    local_paths=True\n",
    "    net=False\n",
    "    print('using local paths')\n",
    "else:\n",
    "    net=True"
   ]
  },
  {
   "cell_type": "markdown",
   "metadata": {},
   "source": [
    "##  Check Map for valid input files   \n",
    "   \n",
    "### Checks for:   \n",
    "- Files exist\n",
    "- Requred fields\n",
    "- No NaN/blanks in required fields\n",
    "- Sufficient orientation data\n",
    "- LineString/PolyLines for faults (i.e. not MultiLineStrings/MultiPolylines), if found splits into unique ID polylines\n",
    "- Commas in unit code (maybe should check in groups and alt groups??\n",
    "\n",
    "### Should also check for:   \n",
    "- Significantly overlapping polygons\n",
    "- Faults that should be joined (c.f. FracG code)\n",
    "- Orientations near contacts that make no sense (i.e. strike is at high angle to contact tangent)\n",
    "\n"
   ]
  },
  {
   "cell_type": "code",
   "execution_count": 30,
   "metadata": {
    "scrolled": true
   },
   "outputs": [
    {
     "name": "stdout",
     "output_type": "stream",
     "text": [
      "\n",
      " orientations layer  metadata\n",
      "--------------------\n",
      "    bbox [ 580002.99997953 5598229.50998098  624148.         5643402.59956908]\n",
      "    CRS epsg:26911\n",
      "    # items 464\n",
      "    Data types ['Point']\n",
      "\n",
      " geology layer  metadata\n",
      "--------------------\n",
      "    bbox [ 576473.607  5598018.0558  626311.0402 5650849.3214]\n",
      "    CRS epsg:26911\n",
      "    # items 43\n",
      "    Data types ['MultiPolygon', 'Polygon']\n",
      "\n",
      " fold layer  metadata\n",
      "--------------------\n",
      "    bbox [ 601503.0620706  5631658.3621322   604353.86297058 5635724.12175923]\n",
      "    CRS epsg:26911\n",
      "    # items 9\n",
      "    Data types ['LineString']\n"
     ]
    },
    {
     "name": "stderr",
     "output_type": "stream",
     "text": [
      "C:\\Users\\00073294\\Anaconda3\\envs\\loop\\lib\\site-packages\\geopandas\\geoseries.py:411: UserWarning: GeoSeries.notna() previously returned False for both missing (None) and empty geometries. Now, it only returns False for missing values. Since the calling GeoSeries contains empty geometries, the result has changed compared to previous versions of GeoPandas.\n",
      "Given a GeoSeries 's', you can use '~s.is_empty & s.notna()' to get back the old behaviour.\n",
      "\n",
      "To further ignore this warning, you can do: \n",
      "import warnings; warnings.filterwarnings('ignore', 'GeoSeries.notna', UserWarning)\n",
      "  return self.notna()\n"
     ]
    },
    {
     "data": {
      "text/html": [
       "<div>\n",
       "<style scoped>\n",
       "    .dataframe tbody tr th:only-of-type {\n",
       "        vertical-align: middle;\n",
       "    }\n",
       "\n",
       "    .dataframe tbody tr th {\n",
       "        vertical-align: top;\n",
       "    }\n",
       "\n",
       "    .dataframe thead th {\n",
       "        text-align: right;\n",
       "    }\n",
       "</style>\n",
       "<table border=\"1\" class=\"dataframe\">\n",
       "  <thead>\n",
       "    <tr style=\"text-align: right;\">\n",
       "      <th></th>\n",
       "      <th>OBJECTID</th>\n",
       "      <th>MAP_THEME</th>\n",
       "      <th>FEATURE</th>\n",
       "      <th>SUBFEATURE</th>\n",
       "      <th>ATTITUDE</th>\n",
       "      <th>CONFIDENCE</th>\n",
       "      <th>GENERATION</th>\n",
       "      <th>MAX_AGE</th>\n",
       "      <th>MIN_AGE</th>\n",
       "      <th>NAME</th>\n",
       "      <th>...</th>\n",
       "      <th>MOVEMENT</th>\n",
       "      <th>HWALL_DIR</th>\n",
       "      <th>REMARKS</th>\n",
       "      <th>REFERENCE</th>\n",
       "      <th>SOURCE_REF</th>\n",
       "      <th>MAP_ID</th>\n",
       "      <th>SYMBOL</th>\n",
       "      <th>SHAPE_Leng</th>\n",
       "      <th>Shape_Le_1</th>\n",
       "      <th>geometry</th>\n",
       "    </tr>\n",
       "  </thead>\n",
       "  <tbody>\n",
       "    <tr>\n",
       "      <th>2</th>\n",
       "      <td>3</td>\n",
       "      <td>bedrock, at surface</td>\n",
       "      <td>fault</td>\n",
       "      <td>normal</td>\n",
       "      <td>None</td>\n",
       "      <td>inferred</td>\n",
       "      <td>None</td>\n",
       "      <td>None</td>\n",
       "      <td>None</td>\n",
       "      <td>MITCHELL FAULT</td>\n",
       "      <td>...</td>\n",
       "      <td>None</td>\n",
       "      <td>NE</td>\n",
       "      <td>None</td>\n",
       "      <td>McMechan, M.E., 2011, CGM 12</td>\n",
       "      <td>None</td>\n",
       "      <td>82J/12</td>\n",
       "      <td>02.02.05</td>\n",
       "      <td>0.021129</td>\n",
       "      <td>0.021129</td>\n",
       "      <td>LINESTRING (593794.592 5622867.385, 593947.672...</td>\n",
       "    </tr>\n",
       "    <tr>\n",
       "      <th>5</th>\n",
       "      <td>6</td>\n",
       "      <td>bedrock, at surface</td>\n",
       "      <td>fault</td>\n",
       "      <td>normal</td>\n",
       "      <td>None</td>\n",
       "      <td>inferred</td>\n",
       "      <td>None</td>\n",
       "      <td>None</td>\n",
       "      <td>None</td>\n",
       "      <td>MITCHELL FAULT</td>\n",
       "      <td>...</td>\n",
       "      <td>None</td>\n",
       "      <td>None</td>\n",
       "      <td>None</td>\n",
       "      <td>McMechan, M.E., 2011, CGM 12</td>\n",
       "      <td>None</td>\n",
       "      <td>82J/12</td>\n",
       "      <td>02.02.05</td>\n",
       "      <td>0.038589</td>\n",
       "      <td>0.038589</td>\n",
       "      <td>LINESTRING (594903.788 5620539.439, 595015.973...</td>\n",
       "    </tr>\n",
       "    <tr>\n",
       "      <th>6</th>\n",
       "      <td>7</td>\n",
       "      <td>bedrock, at surface</td>\n",
       "      <td>fault</td>\n",
       "      <td>normal</td>\n",
       "      <td>None</td>\n",
       "      <td>approximate</td>\n",
       "      <td>None</td>\n",
       "      <td>None</td>\n",
       "      <td>None</td>\n",
       "      <td>MITCHELL FAULT</td>\n",
       "      <td>...</td>\n",
       "      <td>None</td>\n",
       "      <td>None</td>\n",
       "      <td>None</td>\n",
       "      <td>McMechan, M.E., 2011, CGM 12</td>\n",
       "      <td>None</td>\n",
       "      <td>82J/12</td>\n",
       "      <td>02.02.03</td>\n",
       "      <td>0.018551</td>\n",
       "      <td>0.018551</td>\n",
       "      <td>LINESTRING (597187.364 5618141.766, 597495.137...</td>\n",
       "    </tr>\n",
       "    <tr>\n",
       "      <th>7</th>\n",
       "      <td>8</td>\n",
       "      <td>bedrock, at surface</td>\n",
       "      <td>fault</td>\n",
       "      <td>normal</td>\n",
       "      <td>None</td>\n",
       "      <td>approximate</td>\n",
       "      <td>None</td>\n",
       "      <td>None</td>\n",
       "      <td>None</td>\n",
       "      <td>MITCHELL FAULT</td>\n",
       "      <td>...</td>\n",
       "      <td>None</td>\n",
       "      <td>NE</td>\n",
       "      <td>None</td>\n",
       "      <td>McMechan, M.E., 2011, CGM 12</td>\n",
       "      <td>None</td>\n",
       "      <td>82J/12</td>\n",
       "      <td>02.02.03</td>\n",
       "      <td>0.054221</td>\n",
       "      <td>0.054221</td>\n",
       "      <td>LINESTRING (600642.338 5613197.383, 600745.052...</td>\n",
       "    </tr>\n",
       "    <tr>\n",
       "      <th>8</th>\n",
       "      <td>9</td>\n",
       "      <td>bedrock, at surface</td>\n",
       "      <td>fault</td>\n",
       "      <td>normal</td>\n",
       "      <td>None</td>\n",
       "      <td>inferred</td>\n",
       "      <td>None</td>\n",
       "      <td>None</td>\n",
       "      <td>None</td>\n",
       "      <td>MITCHELL FAULT</td>\n",
       "      <td>...</td>\n",
       "      <td>None</td>\n",
       "      <td>NE</td>\n",
       "      <td>None</td>\n",
       "      <td>McMechan, M.E., 2011, CGM 12</td>\n",
       "      <td>None</td>\n",
       "      <td>82J/12</td>\n",
       "      <td>02.02.05</td>\n",
       "      <td>0.048106</td>\n",
       "      <td>0.048106</td>\n",
       "      <td>LINESTRING (598283.365 5616986.968, 598314.456...</td>\n",
       "    </tr>\n",
       "    <tr>\n",
       "      <th>16</th>\n",
       "      <td>17</td>\n",
       "      <td>bedrock, at surface</td>\n",
       "      <td>fault</td>\n",
       "      <td>thrust</td>\n",
       "      <td>None</td>\n",
       "      <td>inferred</td>\n",
       "      <td>None</td>\n",
       "      <td>None</td>\n",
       "      <td>None</td>\n",
       "      <td>SCHOFIELD THRUST</td>\n",
       "      <td>...</td>\n",
       "      <td>None</td>\n",
       "      <td>NE</td>\n",
       "      <td>None</td>\n",
       "      <td>McMechan, M.E., 2011, CGM 12</td>\n",
       "      <td>None</td>\n",
       "      <td>82J/12</td>\n",
       "      <td>02.08.05</td>\n",
       "      <td>0.040933</td>\n",
       "      <td>0.040933</td>\n",
       "      <td>LINESTRING (603439.981 5609029.329, 603539.845...</td>\n",
       "    </tr>\n",
       "    <tr>\n",
       "      <th>17</th>\n",
       "      <td>18</td>\n",
       "      <td>bedrock, at surface</td>\n",
       "      <td>fault</td>\n",
       "      <td>thrust</td>\n",
       "      <td>None</td>\n",
       "      <td>approximate</td>\n",
       "      <td>None</td>\n",
       "      <td>None</td>\n",
       "      <td>None</td>\n",
       "      <td>SCHOFIELD THRUST</td>\n",
       "      <td>...</td>\n",
       "      <td>None</td>\n",
       "      <td>NE</td>\n",
       "      <td>None</td>\n",
       "      <td>McMechan, M.E., 2011, CGM 12</td>\n",
       "      <td>None</td>\n",
       "      <td>82J/12</td>\n",
       "      <td>02.08.03</td>\n",
       "      <td>0.035158</td>\n",
       "      <td>0.035158</td>\n",
       "      <td>LINESTRING (604961.797 5605133.521, 605195.789...</td>\n",
       "    </tr>\n",
       "    <tr>\n",
       "      <th>21</th>\n",
       "      <td>22</td>\n",
       "      <td>bedrock, at surface</td>\n",
       "      <td>fault</td>\n",
       "      <td>normal</td>\n",
       "      <td>None</td>\n",
       "      <td>approximate</td>\n",
       "      <td>None</td>\n",
       "      <td>None</td>\n",
       "      <td>None</td>\n",
       "      <td>MITCHELL FAULT</td>\n",
       "      <td>...</td>\n",
       "      <td>None</td>\n",
       "      <td>None</td>\n",
       "      <td>None</td>\n",
       "      <td>McMechan, M.E., 2011, CGM 12</td>\n",
       "      <td>None</td>\n",
       "      <td>82J/12</td>\n",
       "      <td>02.02.03</td>\n",
       "      <td>0.004942</td>\n",
       "      <td>0.004942</td>\n",
       "      <td>LINESTRING (594693.517 5620983.567, 594903.788...</td>\n",
       "    </tr>\n",
       "    <tr>\n",
       "      <th>28</th>\n",
       "      <td>29</td>\n",
       "      <td>bedrock, at surface</td>\n",
       "      <td>fault</td>\n",
       "      <td>normal</td>\n",
       "      <td>None</td>\n",
       "      <td>inferred</td>\n",
       "      <td>None</td>\n",
       "      <td>None</td>\n",
       "      <td>None</td>\n",
       "      <td>MITCHELL FAULT</td>\n",
       "      <td>...</td>\n",
       "      <td>None</td>\n",
       "      <td>NE</td>\n",
       "      <td>None</td>\n",
       "      <td>McMechan, M.E., 2011, CGM 12</td>\n",
       "      <td>None</td>\n",
       "      <td>82J/12</td>\n",
       "      <td>02.02.05</td>\n",
       "      <td>0.027136</td>\n",
       "      <td>0.027136</td>\n",
       "      <td>LINESTRING (603439.981 5609029.329, 603578.197...</td>\n",
       "    </tr>\n",
       "    <tr>\n",
       "      <th>215</th>\n",
       "      <td>216</td>\n",
       "      <td>bedrock, at surface</td>\n",
       "      <td>fault</td>\n",
       "      <td>thrust</td>\n",
       "      <td>upright</td>\n",
       "      <td>approximate</td>\n",
       "      <td>undefined</td>\n",
       "      <td>None</td>\n",
       "      <td>None</td>\n",
       "      <td>SIMPSON PASS THRUST</td>\n",
       "      <td>...</td>\n",
       "      <td>None</td>\n",
       "      <td>SW</td>\n",
       "      <td>None</td>\n",
       "      <td>McMechan, M.E., 2011, CGM 13</td>\n",
       "      <td>None</td>\n",
       "      <td>82J/13</td>\n",
       "      <td>02.08.03</td>\n",
       "      <td>0.005495</td>\n",
       "      <td>0.005495</td>\n",
       "      <td>LINESTRING (604028.016 5627716.251, 604084.745...</td>\n",
       "    </tr>\n",
       "    <tr>\n",
       "      <th>232</th>\n",
       "      <td>233</td>\n",
       "      <td>bedrock, at surface</td>\n",
       "      <td>fault</td>\n",
       "      <td>thrust</td>\n",
       "      <td>upright</td>\n",
       "      <td>inferred</td>\n",
       "      <td>undefined</td>\n",
       "      <td>None</td>\n",
       "      <td>None</td>\n",
       "      <td>FATIGUE THRUST</td>\n",
       "      <td>...</td>\n",
       "      <td>None</td>\n",
       "      <td>SW</td>\n",
       "      <td>None</td>\n",
       "      <td>McMechan, M.E., 2011, CGM 13</td>\n",
       "      <td>None</td>\n",
       "      <td>82J/13</td>\n",
       "      <td>02.08.05</td>\n",
       "      <td>0.003759</td>\n",
       "      <td>0.003759</td>\n",
       "      <td>LINESTRING (602523.395 5637634.476, 602538.749...</td>\n",
       "    </tr>\n",
       "    <tr>\n",
       "      <th>233</th>\n",
       "      <td>234</td>\n",
       "      <td>bedrock, at surface</td>\n",
       "      <td>fault</td>\n",
       "      <td>thrust</td>\n",
       "      <td>upright</td>\n",
       "      <td>concealed</td>\n",
       "      <td>undefined</td>\n",
       "      <td>None</td>\n",
       "      <td>None</td>\n",
       "      <td>FATIGUE THRUST</td>\n",
       "      <td>...</td>\n",
       "      <td>None</td>\n",
       "      <td>W</td>\n",
       "      <td>None</td>\n",
       "      <td>McMechan, M.E., 2011, CGM 13</td>\n",
       "      <td>None</td>\n",
       "      <td>82J/13</td>\n",
       "      <td>02.08.07</td>\n",
       "      <td>0.004758</td>\n",
       "      <td>0.004758</td>\n",
       "      <td>LINESTRING (602412.492 5638135.905, 602415.833...</td>\n",
       "    </tr>\n",
       "    <tr>\n",
       "      <th>234</th>\n",
       "      <td>235</td>\n",
       "      <td>bedrock, at surface</td>\n",
       "      <td>fault</td>\n",
       "      <td>thrust</td>\n",
       "      <td>upright</td>\n",
       "      <td>inferred</td>\n",
       "      <td>undefined</td>\n",
       "      <td>None</td>\n",
       "      <td>None</td>\n",
       "      <td>FATIGUE THRUST</td>\n",
       "      <td>...</td>\n",
       "      <td>None</td>\n",
       "      <td>W</td>\n",
       "      <td>None</td>\n",
       "      <td>McMechan, M.E., 2011, CGM 13</td>\n",
       "      <td>None</td>\n",
       "      <td>82J/13</td>\n",
       "      <td>02.08.05</td>\n",
       "      <td>0.008478</td>\n",
       "      <td>0.008478</td>\n",
       "      <td>LINESTRING (602310.339 5639066.618, 602316.330...</td>\n",
       "    </tr>\n",
       "    <tr>\n",
       "      <th>238</th>\n",
       "      <td>239</td>\n",
       "      <td>bedrock, at surface</td>\n",
       "      <td>fault</td>\n",
       "      <td>normal</td>\n",
       "      <td>upright</td>\n",
       "      <td>inferred</td>\n",
       "      <td>undefined</td>\n",
       "      <td>None</td>\n",
       "      <td>None</td>\n",
       "      <td>MITCHELL FAULT</td>\n",
       "      <td>...</td>\n",
       "      <td>None</td>\n",
       "      <td>SW</td>\n",
       "      <td>None</td>\n",
       "      <td>McMechan, M.E., 2011, CGM 13</td>\n",
       "      <td>None</td>\n",
       "      <td>82J/13</td>\n",
       "      <td>02.02.05</td>\n",
       "      <td>0.020277</td>\n",
       "      <td>0.020277</td>\n",
       "      <td>LINESTRING (585938.440 5637436.728, 585992.691...</td>\n",
       "    </tr>\n",
       "    <tr>\n",
       "      <th>254</th>\n",
       "      <td>255</td>\n",
       "      <td>bedrock, at surface</td>\n",
       "      <td>fault</td>\n",
       "      <td>thrust</td>\n",
       "      <td>upright</td>\n",
       "      <td>approximate</td>\n",
       "      <td>undefined</td>\n",
       "      <td>None</td>\n",
       "      <td>None</td>\n",
       "      <td>NUBLET THRUST</td>\n",
       "      <td>...</td>\n",
       "      <td>None</td>\n",
       "      <td>SW</td>\n",
       "      <td>&lt;Null&gt;</td>\n",
       "      <td>McMechan, M.E., 2011, CGM 13</td>\n",
       "      <td>None</td>\n",
       "      <td>82J/13</td>\n",
       "      <td>02.08.03</td>\n",
       "      <td>0.118671</td>\n",
       "      <td>0.117407</td>\n",
       "      <td>LINESTRING (592157.069 5647795.534, 592153.626...</td>\n",
       "    </tr>\n",
       "    <tr>\n",
       "      <th>258</th>\n",
       "      <td>259</td>\n",
       "      <td>bedrock, at surface</td>\n",
       "      <td>fault</td>\n",
       "      <td>thrust</td>\n",
       "      <td>upright</td>\n",
       "      <td>approximate</td>\n",
       "      <td>undefined</td>\n",
       "      <td>None</td>\n",
       "      <td>None</td>\n",
       "      <td>FATIGUE THRUST</td>\n",
       "      <td>...</td>\n",
       "      <td>None</td>\n",
       "      <td>SW</td>\n",
       "      <td>&lt;Null&gt;</td>\n",
       "      <td>McMechan, M.E., 2011, CGM 13</td>\n",
       "      <td>None</td>\n",
       "      <td>82J/13</td>\n",
       "      <td>02.08.03</td>\n",
       "      <td>0.038023</td>\n",
       "      <td>0.038023</td>\n",
       "      <td>LINESTRING (600623.839 5642136.786, 600806.719...</td>\n",
       "    </tr>\n",
       "    <tr>\n",
       "      <th>267</th>\n",
       "      <td>268</td>\n",
       "      <td>bedrock, at surface</td>\n",
       "      <td>fault</td>\n",
       "      <td>thrust</td>\n",
       "      <td>upright</td>\n",
       "      <td>approximate</td>\n",
       "      <td>undefined</td>\n",
       "      <td>None</td>\n",
       "      <td>None</td>\n",
       "      <td>SIMPSON PASS THRUST</td>\n",
       "      <td>...</td>\n",
       "      <td>None</td>\n",
       "      <td>SW</td>\n",
       "      <td>None</td>\n",
       "      <td>McMechan, M.E., 2011, CGM 13</td>\n",
       "      <td>None</td>\n",
       "      <td>82J/13</td>\n",
       "      <td>02.08.03</td>\n",
       "      <td>0.093580</td>\n",
       "      <td>0.093580</td>\n",
       "      <td>MULTILINESTRING ((602049.857 5632126.296, 6021...</td>\n",
       "    </tr>\n",
       "    <tr>\n",
       "      <th>269</th>\n",
       "      <td>270</td>\n",
       "      <td>bedrock, at surface</td>\n",
       "      <td>fault</td>\n",
       "      <td>thrust</td>\n",
       "      <td>upright</td>\n",
       "      <td>approximate</td>\n",
       "      <td>undefined</td>\n",
       "      <td>None</td>\n",
       "      <td>None</td>\n",
       "      <td>SIMPSON PASS THRUST</td>\n",
       "      <td>...</td>\n",
       "      <td>None</td>\n",
       "      <td>SW</td>\n",
       "      <td>None</td>\n",
       "      <td>McMechan, M.E., 2011, CGM 13</td>\n",
       "      <td>None</td>\n",
       "      <td>82J/13</td>\n",
       "      <td>02.08.03</td>\n",
       "      <td>0.064793</td>\n",
       "      <td>0.064793</td>\n",
       "      <td>LINESTRING (597233.550 5640158.760, 597328.495...</td>\n",
       "    </tr>\n",
       "    <tr>\n",
       "      <th>270</th>\n",
       "      <td>271</td>\n",
       "      <td>bedrock, at surface</td>\n",
       "      <td>fault</td>\n",
       "      <td>thrust</td>\n",
       "      <td>upright</td>\n",
       "      <td>concealed</td>\n",
       "      <td>undefined</td>\n",
       "      <td>None</td>\n",
       "      <td>None</td>\n",
       "      <td>SIMPSON PASS THRUST</td>\n",
       "      <td>...</td>\n",
       "      <td>None</td>\n",
       "      <td>SW</td>\n",
       "      <td>None</td>\n",
       "      <td>McMechan, M.E., 2011, CGM 13</td>\n",
       "      <td>None</td>\n",
       "      <td>82J/13</td>\n",
       "      <td>02.08.07</td>\n",
       "      <td>0.006396</td>\n",
       "      <td>0.006396</td>\n",
       "      <td>LINESTRING (598101.157 5635899.607, 598090.733...</td>\n",
       "    </tr>\n",
       "    <tr>\n",
       "      <th>271</th>\n",
       "      <td>272</td>\n",
       "      <td>bedrock, at surface</td>\n",
       "      <td>fault</td>\n",
       "      <td>thrust</td>\n",
       "      <td>upright</td>\n",
       "      <td>approximate</td>\n",
       "      <td>undefined</td>\n",
       "      <td>None</td>\n",
       "      <td>None</td>\n",
       "      <td>SIMPSON PASS THRUST</td>\n",
       "      <td>...</td>\n",
       "      <td>None</td>\n",
       "      <td>SW</td>\n",
       "      <td>None</td>\n",
       "      <td>McMechan, M.E., 2011, CGM 13</td>\n",
       "      <td>None</td>\n",
       "      <td>82J/13</td>\n",
       "      <td>02.08.03</td>\n",
       "      <td>0.095084</td>\n",
       "      <td>0.094320</td>\n",
       "      <td>LINESTRING (587595.663 5645489.681, 587659.174...</td>\n",
       "    </tr>\n",
       "    <tr>\n",
       "      <th>272</th>\n",
       "      <td>273</td>\n",
       "      <td>bedrock, at surface</td>\n",
       "      <td>fault</td>\n",
       "      <td>thrust</td>\n",
       "      <td>upright</td>\n",
       "      <td>concealed</td>\n",
       "      <td>undefined</td>\n",
       "      <td>None</td>\n",
       "      <td>None</td>\n",
       "      <td>SIMPSON PASS THRUST</td>\n",
       "      <td>...</td>\n",
       "      <td>None</td>\n",
       "      <td>SW</td>\n",
       "      <td>None</td>\n",
       "      <td>McMechan, M.E., 2011, CGM 13</td>\n",
       "      <td>None</td>\n",
       "      <td>82J/13</td>\n",
       "      <td>02.08.07</td>\n",
       "      <td>0.025942</td>\n",
       "      <td>0.025942</td>\n",
       "      <td>LINESTRING (595539.750 5639934.493, 595623.423...</td>\n",
       "    </tr>\n",
       "    <tr>\n",
       "      <th>273</th>\n",
       "      <td>274</td>\n",
       "      <td>bedrock, at surface</td>\n",
       "      <td>fault</td>\n",
       "      <td>thrust</td>\n",
       "      <td>upright</td>\n",
       "      <td>approximate</td>\n",
       "      <td>undefined</td>\n",
       "      <td>None</td>\n",
       "      <td>None</td>\n",
       "      <td>SIMPSON PASS THRUST</td>\n",
       "      <td>...</td>\n",
       "      <td>None</td>\n",
       "      <td>SW</td>\n",
       "      <td>None</td>\n",
       "      <td>McMechan, M.E., 2011, CGM 13</td>\n",
       "      <td>None</td>\n",
       "      <td>82J/13</td>\n",
       "      <td>02.08.03</td>\n",
       "      <td>0.006462</td>\n",
       "      <td>0.006462</td>\n",
       "      <td>LINESTRING (595215.014 5640445.695, 595308.847...</td>\n",
       "    </tr>\n",
       "    <tr>\n",
       "      <th>274</th>\n",
       "      <td>275</td>\n",
       "      <td>bedrock, at surface</td>\n",
       "      <td>fault</td>\n",
       "      <td>thrust</td>\n",
       "      <td>upright</td>\n",
       "      <td>concealed</td>\n",
       "      <td>undefined</td>\n",
       "      <td>None</td>\n",
       "      <td>None</td>\n",
       "      <td>SIMPSON PASS THRUST</td>\n",
       "      <td>...</td>\n",
       "      <td>None</td>\n",
       "      <td>S</td>\n",
       "      <td>None</td>\n",
       "      <td>McMechan, M.E., 2011, CGM 13</td>\n",
       "      <td>None</td>\n",
       "      <td>82J/13</td>\n",
       "      <td>02.08.07</td>\n",
       "      <td>0.004356</td>\n",
       "      <td>0.004356</td>\n",
       "      <td>LINESTRING (594919.795 5640581.525, 594933.516...</td>\n",
       "    </tr>\n",
       "    <tr>\n",
       "      <th>275</th>\n",
       "      <td>276</td>\n",
       "      <td>bedrock, at surface</td>\n",
       "      <td>fault</td>\n",
       "      <td>thrust</td>\n",
       "      <td>upright</td>\n",
       "      <td>inferred</td>\n",
       "      <td>undefined</td>\n",
       "      <td>None</td>\n",
       "      <td>None</td>\n",
       "      <td>SIMPSON PASS THRUST</td>\n",
       "      <td>...</td>\n",
       "      <td>None</td>\n",
       "      <td>S</td>\n",
       "      <td>None</td>\n",
       "      <td>McMechan, M.E., 2011, CGM 13</td>\n",
       "      <td>None</td>\n",
       "      <td>82J/13</td>\n",
       "      <td>02.08.05</td>\n",
       "      <td>0.014723</td>\n",
       "      <td>0.014723</td>\n",
       "      <td>LINESTRING (593102.281 5640446.425, 593154.570...</td>\n",
       "    </tr>\n",
       "    <tr>\n",
       "      <th>283</th>\n",
       "      <td>284</td>\n",
       "      <td>bedrock, at surface</td>\n",
       "      <td>fault</td>\n",
       "      <td>thrust</td>\n",
       "      <td>upright</td>\n",
       "      <td>approximate</td>\n",
       "      <td>undefined</td>\n",
       "      <td>None</td>\n",
       "      <td>None</td>\n",
       "      <td>FATIGUE THRUST</td>\n",
       "      <td>...</td>\n",
       "      <td>None</td>\n",
       "      <td>SW</td>\n",
       "      <td>None</td>\n",
       "      <td>McMechan, M.E., 2011, CGM 13</td>\n",
       "      <td>None</td>\n",
       "      <td>82J/13</td>\n",
       "      <td>02.08.03</td>\n",
       "      <td>0.041023</td>\n",
       "      <td>0.041023</td>\n",
       "      <td>LINESTRING (603541.219 5635636.919, 603541.449...</td>\n",
       "    </tr>\n",
       "    <tr>\n",
       "      <th>284</th>\n",
       "      <td>285</td>\n",
       "      <td>bedrock, at surface</td>\n",
       "      <td>fault</td>\n",
       "      <td>thrust</td>\n",
       "      <td>upright</td>\n",
       "      <td>approximate</td>\n",
       "      <td>undefined</td>\n",
       "      <td>None</td>\n",
       "      <td>None</td>\n",
       "      <td>FATIGUE THRUST</td>\n",
       "      <td>...</td>\n",
       "      <td>None</td>\n",
       "      <td>SW</td>\n",
       "      <td>None</td>\n",
       "      <td>McMechan, M.E., 2011, CGM 13</td>\n",
       "      <td>None</td>\n",
       "      <td>82J/13</td>\n",
       "      <td>02.08.03</td>\n",
       "      <td>0.005689</td>\n",
       "      <td>0.005689</td>\n",
       "      <td>LINESTRING (603122.779 5636687.503, 603137.917...</td>\n",
       "    </tr>\n",
       "    <tr>\n",
       "      <th>285</th>\n",
       "      <td>286</td>\n",
       "      <td>bedrock, at surface</td>\n",
       "      <td>fault</td>\n",
       "      <td>thrust</td>\n",
       "      <td>upright</td>\n",
       "      <td>concealed</td>\n",
       "      <td>undefined</td>\n",
       "      <td>None</td>\n",
       "      <td>None</td>\n",
       "      <td>FATIGUE THRUST</td>\n",
       "      <td>...</td>\n",
       "      <td>None</td>\n",
       "      <td>SW</td>\n",
       "      <td>None</td>\n",
       "      <td>McMechan, M.E., 2011, CGM 13</td>\n",
       "      <td>None</td>\n",
       "      <td>82J/13</td>\n",
       "      <td>02.08.07</td>\n",
       "      <td>0.005744</td>\n",
       "      <td>0.005744</td>\n",
       "      <td>LINESTRING (603255.405 5636089.204, 603311.008...</td>\n",
       "    </tr>\n",
       "    <tr>\n",
       "      <th>299</th>\n",
       "      <td>300</td>\n",
       "      <td>bedrock, at surface</td>\n",
       "      <td>fault</td>\n",
       "      <td>normal</td>\n",
       "      <td>upright</td>\n",
       "      <td>approximate</td>\n",
       "      <td>undefined</td>\n",
       "      <td>None</td>\n",
       "      <td>None</td>\n",
       "      <td>MITCHELL FAULT</td>\n",
       "      <td>...</td>\n",
       "      <td>None</td>\n",
       "      <td>SW</td>\n",
       "      <td>None</td>\n",
       "      <td>McMechan, M.E., 2011, CGM 13</td>\n",
       "      <td>None</td>\n",
       "      <td>82J/13</td>\n",
       "      <td>02.02.03</td>\n",
       "      <td>0.052482</td>\n",
       "      <td>0.052482</td>\n",
       "      <td>LINESTRING (590966.489 5630153.508, 591020.066...</td>\n",
       "    </tr>\n",
       "    <tr>\n",
       "      <th>300</th>\n",
       "      <td>301</td>\n",
       "      <td>bedrock, at surface</td>\n",
       "      <td>fault</td>\n",
       "      <td>normal</td>\n",
       "      <td>upright</td>\n",
       "      <td>approximate</td>\n",
       "      <td>undefined</td>\n",
       "      <td>None</td>\n",
       "      <td>None</td>\n",
       "      <td>MITCHELL FAULT</td>\n",
       "      <td>...</td>\n",
       "      <td>None</td>\n",
       "      <td>SW</td>\n",
       "      <td>None</td>\n",
       "      <td>McMechan, M.E., 2011, CGM 13</td>\n",
       "      <td>None</td>\n",
       "      <td>82J/13</td>\n",
       "      <td>02.02.03</td>\n",
       "      <td>0.025907</td>\n",
       "      <td>0.025907</td>\n",
       "      <td>LINESTRING (586604.624 5635440.216, 586666.452...</td>\n",
       "    </tr>\n",
       "    <tr>\n",
       "      <th>301</th>\n",
       "      <td>302</td>\n",
       "      <td>bedrock, at surface</td>\n",
       "      <td>fault</td>\n",
       "      <td>normal</td>\n",
       "      <td>upright</td>\n",
       "      <td>inferred</td>\n",
       "      <td>undefined</td>\n",
       "      <td>None</td>\n",
       "      <td>None</td>\n",
       "      <td>MITCHELL FAULT</td>\n",
       "      <td>...</td>\n",
       "      <td>None</td>\n",
       "      <td>SW</td>\n",
       "      <td>None</td>\n",
       "      <td>McMechan, M.E., 2011, CGM 13</td>\n",
       "      <td>None</td>\n",
       "      <td>82J/13</td>\n",
       "      <td>02.02.05</td>\n",
       "      <td>0.052223</td>\n",
       "      <td>0.052223</td>\n",
       "      <td>LINESTRING (588152.615 5633902.666, 588219.708...</td>\n",
       "    </tr>\n",
       "    <tr>\n",
       "      <th>302</th>\n",
       "      <td>303</td>\n",
       "      <td>bedrock, at surface</td>\n",
       "      <td>fault</td>\n",
       "      <td>normal</td>\n",
       "      <td>upright</td>\n",
       "      <td>approximate</td>\n",
       "      <td>undefined</td>\n",
       "      <td>None</td>\n",
       "      <td>None</td>\n",
       "      <td>MITCHELL FAULT</td>\n",
       "      <td>...</td>\n",
       "      <td>None</td>\n",
       "      <td>SW</td>\n",
       "      <td>None</td>\n",
       "      <td>McMechan, M.E., 2011, CGM 13</td>\n",
       "      <td>None</td>\n",
       "      <td>82J/13</td>\n",
       "      <td>02.02.03</td>\n",
       "      <td>0.014988</td>\n",
       "      <td>0.014988</td>\n",
       "      <td>LINESTRING (593545.488 5624477.726, 593666.675...</td>\n",
       "    </tr>\n",
       "    <tr>\n",
       "      <th>303</th>\n",
       "      <td>304</td>\n",
       "      <td>bedrock, at surface</td>\n",
       "      <td>fault</td>\n",
       "      <td>normal</td>\n",
       "      <td>upright</td>\n",
       "      <td>inferred</td>\n",
       "      <td>undefined</td>\n",
       "      <td>None</td>\n",
       "      <td>None</td>\n",
       "      <td>MITCHELL FAULT</td>\n",
       "      <td>...</td>\n",
       "      <td>None</td>\n",
       "      <td>SW</td>\n",
       "      <td>None</td>\n",
       "      <td>McMechan, M.E., 2011, CGM 13</td>\n",
       "      <td>None</td>\n",
       "      <td>82J/13</td>\n",
       "      <td>02.02.05</td>\n",
       "      <td>0.011626</td>\n",
       "      <td>0.011626</td>\n",
       "      <td>LINESTRING (593221.622 5625646.491, 593237.268...</td>\n",
       "    </tr>\n",
       "    <tr>\n",
       "      <th>304</th>\n",
       "      <td>305</td>\n",
       "      <td>bedrock, at surface</td>\n",
       "      <td>fault</td>\n",
       "      <td>thrust</td>\n",
       "      <td>upright</td>\n",
       "      <td>inferred</td>\n",
       "      <td>undefined</td>\n",
       "      <td>None</td>\n",
       "      <td>None</td>\n",
       "      <td>SIMPSON PASS THRUST</td>\n",
       "      <td>...</td>\n",
       "      <td>None</td>\n",
       "      <td>SW</td>\n",
       "      <td>None</td>\n",
       "      <td>McMechan, M.E., 2011, CGM 13</td>\n",
       "      <td>None</td>\n",
       "      <td>82J/13</td>\n",
       "      <td>02.08.05</td>\n",
       "      <td>0.022488</td>\n",
       "      <td>0.022488</td>\n",
       "      <td>LINESTRING (602949.949 5629547.739, 602971.928...</td>\n",
       "    </tr>\n",
       "    <tr>\n",
       "      <th>309</th>\n",
       "      <td>310</td>\n",
       "      <td>bedrock, at surface</td>\n",
       "      <td>fault</td>\n",
       "      <td>thrust</td>\n",
       "      <td>upright</td>\n",
       "      <td>approximate</td>\n",
       "      <td>undefined</td>\n",
       "      <td>None</td>\n",
       "      <td>None</td>\n",
       "      <td>FATIGUE THRUST</td>\n",
       "      <td>...</td>\n",
       "      <td>None</td>\n",
       "      <td>SW</td>\n",
       "      <td>None</td>\n",
       "      <td>McMechan, M.E., 2011, CGM 13</td>\n",
       "      <td>None</td>\n",
       "      <td>82J/13</td>\n",
       "      <td>02.08.03</td>\n",
       "      <td>0.008534</td>\n",
       "      <td>0.008534</td>\n",
       "      <td>LINESTRING (602686.244 5637313.203, 602846.307...</td>\n",
       "    </tr>\n",
       "    <tr>\n",
       "      <th>317</th>\n",
       "      <td>318</td>\n",
       "      <td>bedrock, at surface</td>\n",
       "      <td>fault</td>\n",
       "      <td>thrust</td>\n",
       "      <td>upright</td>\n",
       "      <td>concealed</td>\n",
       "      <td>undefined</td>\n",
       "      <td>None</td>\n",
       "      <td>None</td>\n",
       "      <td>SIMPSON PASS THRUST</td>\n",
       "      <td>...</td>\n",
       "      <td>None</td>\n",
       "      <td>SW</td>\n",
       "      <td>None</td>\n",
       "      <td>McMechan, M.E., 2011, CGM 13</td>\n",
       "      <td>None</td>\n",
       "      <td>82J/13</td>\n",
       "      <td>02.08.07</td>\n",
       "      <td>0.001301</td>\n",
       "      <td>0.001301</td>\n",
       "      <td>MULTILINESTRING ((604300.414 5627086.996, 6042...</td>\n",
       "    </tr>\n",
       "    <tr>\n",
       "      <th>326</th>\n",
       "      <td>327</td>\n",
       "      <td>bedrock, at surface</td>\n",
       "      <td>fault</td>\n",
       "      <td>thrust</td>\n",
       "      <td>upright</td>\n",
       "      <td>concealed</td>\n",
       "      <td>undefined</td>\n",
       "      <td>None</td>\n",
       "      <td>None</td>\n",
       "      <td>NUBLET THRUST</td>\n",
       "      <td>...</td>\n",
       "      <td>None</td>\n",
       "      <td>SW</td>\n",
       "      <td>None</td>\n",
       "      <td>McMechan, M.E., 2011, CGM 13</td>\n",
       "      <td>None</td>\n",
       "      <td>82J/13</td>\n",
       "      <td>02.08.07</td>\n",
       "      <td>0.004998</td>\n",
       "      <td>0.004998</td>\n",
       "      <td>LINESTRING (595652.593 5640039.337, 595652.669...</td>\n",
       "    </tr>\n",
       "    <tr>\n",
       "      <th>330</th>\n",
       "      <td>331</td>\n",
       "      <td>bedrock, at surface</td>\n",
       "      <td>fault</td>\n",
       "      <td>thrust</td>\n",
       "      <td>upright</td>\n",
       "      <td>approximate</td>\n",
       "      <td>undefined</td>\n",
       "      <td>None</td>\n",
       "      <td>None</td>\n",
       "      <td>NUBLET THRUST</td>\n",
       "      <td>...</td>\n",
       "      <td>None</td>\n",
       "      <td>SW</td>\n",
       "      <td>None</td>\n",
       "      <td>McMechan, M.E., 2011, CGM 13</td>\n",
       "      <td>None</td>\n",
       "      <td>82J/13</td>\n",
       "      <td>02.08.03</td>\n",
       "      <td>0.009564</td>\n",
       "      <td>0.009564</td>\n",
       "      <td>LINESTRING (595146.359 5640722.902, 595148.938...</td>\n",
       "    </tr>\n",
       "    <tr>\n",
       "      <th>331</th>\n",
       "      <td>332</td>\n",
       "      <td>bedrock, at surface</td>\n",
       "      <td>fault</td>\n",
       "      <td>thrust</td>\n",
       "      <td>upright</td>\n",
       "      <td>concealed</td>\n",
       "      <td>undefined</td>\n",
       "      <td>None</td>\n",
       "      <td>None</td>\n",
       "      <td>NUBLET THRUST</td>\n",
       "      <td>...</td>\n",
       "      <td>None</td>\n",
       "      <td>SW</td>\n",
       "      <td>None</td>\n",
       "      <td>McMechan, M.E., 2011, CGM 13</td>\n",
       "      <td>None</td>\n",
       "      <td>82J/13</td>\n",
       "      <td>02.08.07</td>\n",
       "      <td>0.003073</td>\n",
       "      <td>0.003073</td>\n",
       "      <td>LINESTRING (594954.349 5640881.379, 594955.343...</td>\n",
       "    </tr>\n",
       "    <tr>\n",
       "      <th>332</th>\n",
       "      <td>333</td>\n",
       "      <td>bedrock, at surface</td>\n",
       "      <td>fault</td>\n",
       "      <td>thrust</td>\n",
       "      <td>upright</td>\n",
       "      <td>concealed</td>\n",
       "      <td>undefined</td>\n",
       "      <td>None</td>\n",
       "      <td>None</td>\n",
       "      <td>SIMPSON PASS THRUST</td>\n",
       "      <td>...</td>\n",
       "      <td>None</td>\n",
       "      <td>S</td>\n",
       "      <td>None</td>\n",
       "      <td>McMechan, M.E., 2011, CGM 13</td>\n",
       "      <td>None</td>\n",
       "      <td>82J/13</td>\n",
       "      <td>02.08.07</td>\n",
       "      <td>0.002749</td>\n",
       "      <td>0.002749</td>\n",
       "      <td>LINESTRING (594450.106 5640616.519, 594469.871...</td>\n",
       "    </tr>\n",
       "    <tr>\n",
       "      <th>333</th>\n",
       "      <td>334</td>\n",
       "      <td>bedrock, at surface</td>\n",
       "      <td>fault</td>\n",
       "      <td>thrust</td>\n",
       "      <td>upright</td>\n",
       "      <td>approximate</td>\n",
       "      <td>undefined</td>\n",
       "      <td>None</td>\n",
       "      <td>None</td>\n",
       "      <td>SIMPSON PASS THRUST</td>\n",
       "      <td>...</td>\n",
       "      <td>None</td>\n",
       "      <td>S</td>\n",
       "      <td>None</td>\n",
       "      <td>McMechan, M.E., 2011, CGM 13</td>\n",
       "      <td>None</td>\n",
       "      <td>82J/13</td>\n",
       "      <td>02.08.03</td>\n",
       "      <td>0.004026</td>\n",
       "      <td>0.004026</td>\n",
       "      <td>LINESTRING (594641.593 5640651.584, 594657.923...</td>\n",
       "    </tr>\n",
       "    <tr>\n",
       "      <th>336</th>\n",
       "      <td>337</td>\n",
       "      <td>bedrock, at surface</td>\n",
       "      <td>fault</td>\n",
       "      <td>thrust</td>\n",
       "      <td>upright</td>\n",
       "      <td>approximate</td>\n",
       "      <td>undefined</td>\n",
       "      <td>None</td>\n",
       "      <td>None</td>\n",
       "      <td>SIMPSON PASS THRUST</td>\n",
       "      <td>...</td>\n",
       "      <td>None</td>\n",
       "      <td>SW</td>\n",
       "      <td>None</td>\n",
       "      <td>McMechan, M.E., 2010, CGM 13</td>\n",
       "      <td>McMechan, M.E.</td>\n",
       "      <td>82J/13</td>\n",
       "      <td>02.08.03</td>\n",
       "      <td>0.047183</td>\n",
       "      <td>0.047183</td>\n",
       "      <td>LINESTRING (604309.442 5627065.131, 604451.181...</td>\n",
       "    </tr>\n",
       "    <tr>\n",
       "      <th>337</th>\n",
       "      <td>338</td>\n",
       "      <td>bedrock, at surface</td>\n",
       "      <td>fault</td>\n",
       "      <td>thrust</td>\n",
       "      <td>upright</td>\n",
       "      <td>approximate</td>\n",
       "      <td>first</td>\n",
       "      <td>None</td>\n",
       "      <td>None</td>\n",
       "      <td>FYNN THRUST</td>\n",
       "      <td>...</td>\n",
       "      <td>None</td>\n",
       "      <td>None</td>\n",
       "      <td>None</td>\n",
       "      <td>McMechan, M.E., 2013, CGM 11</td>\n",
       "      <td>None</td>\n",
       "      <td>82J/11</td>\n",
       "      <td>02.08.03</td>\n",
       "      <td>10876.379948</td>\n",
       "      <td>0.024049</td>\n",
       "      <td>LINESTRING (615311.820 5608922.252, 615368.200...</td>\n",
       "    </tr>\n",
       "    <tr>\n",
       "      <th>364</th>\n",
       "      <td>365</td>\n",
       "      <td>bedrock, at surface</td>\n",
       "      <td>fault</td>\n",
       "      <td>thrust</td>\n",
       "      <td>upright</td>\n",
       "      <td>approximate</td>\n",
       "      <td>first</td>\n",
       "      <td>None</td>\n",
       "      <td>None</td>\n",
       "      <td>FYNN THRUST</td>\n",
       "      <td>...</td>\n",
       "      <td>None</td>\n",
       "      <td>None</td>\n",
       "      <td>None</td>\n",
       "      <td>McMechan, M.E., 2013, CGM 11</td>\n",
       "      <td>None</td>\n",
       "      <td>82J/11</td>\n",
       "      <td>02.08.03</td>\n",
       "      <td>1019.514744</td>\n",
       "      <td>0.009246</td>\n",
       "      <td>LINESTRING (615110.967 5614316.402, 615110.680...</td>\n",
       "    </tr>\n",
       "    <tr>\n",
       "      <th>424</th>\n",
       "      <td>425</td>\n",
       "      <td>bedrock, at surface</td>\n",
       "      <td>fault</td>\n",
       "      <td>thrust</td>\n",
       "      <td>upright</td>\n",
       "      <td>concealed</td>\n",
       "      <td>first</td>\n",
       "      <td>None</td>\n",
       "      <td>None</td>\n",
       "      <td>FYNN THRUST</td>\n",
       "      <td>...</td>\n",
       "      <td>None</td>\n",
       "      <td>None</td>\n",
       "      <td>None</td>\n",
       "      <td>McMechan, M.E., 2013, CGM 11</td>\n",
       "      <td>None</td>\n",
       "      <td>82J/11</td>\n",
       "      <td>02.08.07</td>\n",
       "      <td>610.252413</td>\n",
       "      <td>0.005500</td>\n",
       "      <td>LINESTRING (615177.540 5613304.226, 615194.190...</td>\n",
       "    </tr>\n",
       "    <tr>\n",
       "      <th>426</th>\n",
       "      <td>427</td>\n",
       "      <td>bedrock, at surface</td>\n",
       "      <td>fault</td>\n",
       "      <td>thrust</td>\n",
       "      <td>upright</td>\n",
       "      <td>approximate</td>\n",
       "      <td>first</td>\n",
       "      <td>None</td>\n",
       "      <td>None</td>\n",
       "      <td>FYNN THRUST</td>\n",
       "      <td>...</td>\n",
       "      <td>None</td>\n",
       "      <td>None</td>\n",
       "      <td>None</td>\n",
       "      <td>McMechan, M.E., 2013, CGM 11</td>\n",
       "      <td>None</td>\n",
       "      <td>82J/11</td>\n",
       "      <td>02.08.03</td>\n",
       "      <td>2608.515203</td>\n",
       "      <td>0.023999</td>\n",
       "      <td>LINESTRING (615221.310 5612695.760, 615221.311...</td>\n",
       "    </tr>\n",
       "    <tr>\n",
       "      <th>427</th>\n",
       "      <td>428</td>\n",
       "      <td>bedrock, at surface</td>\n",
       "      <td>fault</td>\n",
       "      <td>thrust</td>\n",
       "      <td>upright</td>\n",
       "      <td>inferred</td>\n",
       "      <td>first</td>\n",
       "      <td>None</td>\n",
       "      <td>None</td>\n",
       "      <td>FYNN THRUST</td>\n",
       "      <td>...</td>\n",
       "      <td>None</td>\n",
       "      <td>None</td>\n",
       "      <td>None</td>\n",
       "      <td>McMechan, M.E., 2013, CGM 11</td>\n",
       "      <td>None</td>\n",
       "      <td>82J/11</td>\n",
       "      <td>02.08.05</td>\n",
       "      <td>1460.534808</td>\n",
       "      <td>0.015730</td>\n",
       "      <td>LINESTRING (615440.534 5610135.795, 615439.620...</td>\n",
       "    </tr>\n",
       "    <tr>\n",
       "      <th>428</th>\n",
       "      <td>429</td>\n",
       "      <td>bedrock, at surface</td>\n",
       "      <td>fault</td>\n",
       "      <td>thrust</td>\n",
       "      <td>upright</td>\n",
       "      <td>approximate</td>\n",
       "      <td>first</td>\n",
       "      <td>None</td>\n",
       "      <td>None</td>\n",
       "      <td>SCHOFIELD THRUST</td>\n",
       "      <td>...</td>\n",
       "      <td>None</td>\n",
       "      <td>None</td>\n",
       "      <td>None</td>\n",
       "      <td>McMechan, M.E., 2013, CGM 11</td>\n",
       "      <td>None</td>\n",
       "      <td>82J/11</td>\n",
       "      <td>02.08.03</td>\n",
       "      <td>1937.970587</td>\n",
       "      <td>0.000359</td>\n",
       "      <td>LINESTRING (606247.338 5601827.483, 606262.074...</td>\n",
       "    </tr>\n",
       "  </tbody>\n",
       "</table>\n",
       "<p>47 rows × 21 columns</p>\n",
       "</div>"
      ],
      "text/plain": [
       "     OBJECTID            MAP_THEME FEATURE SUBFEATURE ATTITUDE   CONFIDENCE  \\\n",
       "2           3  bedrock, at surface   fault     normal     None     inferred   \n",
       "5           6  bedrock, at surface   fault     normal     None     inferred   \n",
       "6           7  bedrock, at surface   fault     normal     None  approximate   \n",
       "7           8  bedrock, at surface   fault     normal     None  approximate   \n",
       "8           9  bedrock, at surface   fault     normal     None     inferred   \n",
       "16         17  bedrock, at surface   fault     thrust     None     inferred   \n",
       "17         18  bedrock, at surface   fault     thrust     None  approximate   \n",
       "21         22  bedrock, at surface   fault     normal     None  approximate   \n",
       "28         29  bedrock, at surface   fault     normal     None     inferred   \n",
       "215       216  bedrock, at surface   fault     thrust  upright  approximate   \n",
       "232       233  bedrock, at surface   fault     thrust  upright     inferred   \n",
       "233       234  bedrock, at surface   fault     thrust  upright    concealed   \n",
       "234       235  bedrock, at surface   fault     thrust  upright     inferred   \n",
       "238       239  bedrock, at surface   fault     normal  upright     inferred   \n",
       "254       255  bedrock, at surface   fault     thrust  upright  approximate   \n",
       "258       259  bedrock, at surface   fault     thrust  upright  approximate   \n",
       "267       268  bedrock, at surface   fault     thrust  upright  approximate   \n",
       "269       270  bedrock, at surface   fault     thrust  upright  approximate   \n",
       "270       271  bedrock, at surface   fault     thrust  upright    concealed   \n",
       "271       272  bedrock, at surface   fault     thrust  upright  approximate   \n",
       "272       273  bedrock, at surface   fault     thrust  upright    concealed   \n",
       "273       274  bedrock, at surface   fault     thrust  upright  approximate   \n",
       "274       275  bedrock, at surface   fault     thrust  upright    concealed   \n",
       "275       276  bedrock, at surface   fault     thrust  upright     inferred   \n",
       "283       284  bedrock, at surface   fault     thrust  upright  approximate   \n",
       "284       285  bedrock, at surface   fault     thrust  upright  approximate   \n",
       "285       286  bedrock, at surface   fault     thrust  upright    concealed   \n",
       "299       300  bedrock, at surface   fault     normal  upright  approximate   \n",
       "300       301  bedrock, at surface   fault     normal  upright  approximate   \n",
       "301       302  bedrock, at surface   fault     normal  upright     inferred   \n",
       "302       303  bedrock, at surface   fault     normal  upright  approximate   \n",
       "303       304  bedrock, at surface   fault     normal  upright     inferred   \n",
       "304       305  bedrock, at surface   fault     thrust  upright     inferred   \n",
       "309       310  bedrock, at surface   fault     thrust  upright  approximate   \n",
       "317       318  bedrock, at surface   fault     thrust  upright    concealed   \n",
       "326       327  bedrock, at surface   fault     thrust  upright    concealed   \n",
       "330       331  bedrock, at surface   fault     thrust  upright  approximate   \n",
       "331       332  bedrock, at surface   fault     thrust  upright    concealed   \n",
       "332       333  bedrock, at surface   fault     thrust  upright    concealed   \n",
       "333       334  bedrock, at surface   fault     thrust  upright  approximate   \n",
       "336       337  bedrock, at surface   fault     thrust  upright  approximate   \n",
       "337       338  bedrock, at surface   fault     thrust  upright  approximate   \n",
       "364       365  bedrock, at surface   fault     thrust  upright  approximate   \n",
       "424       425  bedrock, at surface   fault     thrust  upright    concealed   \n",
       "426       427  bedrock, at surface   fault     thrust  upright  approximate   \n",
       "427       428  bedrock, at surface   fault     thrust  upright     inferred   \n",
       "428       429  bedrock, at surface   fault     thrust  upright  approximate   \n",
       "\n",
       "    GENERATION MAX_AGE MIN_AGE                 NAME  ... MOVEMENT HWALL_DIR  \\\n",
       "2         None    None    None       MITCHELL FAULT  ...     None        NE   \n",
       "5         None    None    None       MITCHELL FAULT  ...     None      None   \n",
       "6         None    None    None       MITCHELL FAULT  ...     None      None   \n",
       "7         None    None    None       MITCHELL FAULT  ...     None        NE   \n",
       "8         None    None    None       MITCHELL FAULT  ...     None        NE   \n",
       "16        None    None    None     SCHOFIELD THRUST  ...     None        NE   \n",
       "17        None    None    None     SCHOFIELD THRUST  ...     None        NE   \n",
       "21        None    None    None       MITCHELL FAULT  ...     None      None   \n",
       "28        None    None    None       MITCHELL FAULT  ...     None        NE   \n",
       "215  undefined    None    None  SIMPSON PASS THRUST  ...     None        SW   \n",
       "232  undefined    None    None       FATIGUE THRUST  ...     None        SW   \n",
       "233  undefined    None    None       FATIGUE THRUST  ...     None         W   \n",
       "234  undefined    None    None       FATIGUE THRUST  ...     None         W   \n",
       "238  undefined    None    None       MITCHELL FAULT  ...     None        SW   \n",
       "254  undefined    None    None        NUBLET THRUST  ...     None        SW   \n",
       "258  undefined    None    None       FATIGUE THRUST  ...     None        SW   \n",
       "267  undefined    None    None  SIMPSON PASS THRUST  ...     None        SW   \n",
       "269  undefined    None    None  SIMPSON PASS THRUST  ...     None        SW   \n",
       "270  undefined    None    None  SIMPSON PASS THRUST  ...     None        SW   \n",
       "271  undefined    None    None  SIMPSON PASS THRUST  ...     None        SW   \n",
       "272  undefined    None    None  SIMPSON PASS THRUST  ...     None        SW   \n",
       "273  undefined    None    None  SIMPSON PASS THRUST  ...     None        SW   \n",
       "274  undefined    None    None  SIMPSON PASS THRUST  ...     None         S   \n",
       "275  undefined    None    None  SIMPSON PASS THRUST  ...     None         S   \n",
       "283  undefined    None    None       FATIGUE THRUST  ...     None        SW   \n",
       "284  undefined    None    None       FATIGUE THRUST  ...     None        SW   \n",
       "285  undefined    None    None       FATIGUE THRUST  ...     None        SW   \n",
       "299  undefined    None    None       MITCHELL FAULT  ...     None        SW   \n",
       "300  undefined    None    None       MITCHELL FAULT  ...     None        SW   \n",
       "301  undefined    None    None       MITCHELL FAULT  ...     None        SW   \n",
       "302  undefined    None    None       MITCHELL FAULT  ...     None        SW   \n",
       "303  undefined    None    None       MITCHELL FAULT  ...     None        SW   \n",
       "304  undefined    None    None  SIMPSON PASS THRUST  ...     None        SW   \n",
       "309  undefined    None    None       FATIGUE THRUST  ...     None        SW   \n",
       "317  undefined    None    None  SIMPSON PASS THRUST  ...     None        SW   \n",
       "326  undefined    None    None        NUBLET THRUST  ...     None        SW   \n",
       "330  undefined    None    None        NUBLET THRUST  ...     None        SW   \n",
       "331  undefined    None    None        NUBLET THRUST  ...     None        SW   \n",
       "332  undefined    None    None  SIMPSON PASS THRUST  ...     None         S   \n",
       "333  undefined    None    None  SIMPSON PASS THRUST  ...     None         S   \n",
       "336  undefined    None    None  SIMPSON PASS THRUST  ...     None        SW   \n",
       "337      first    None    None          FYNN THRUST  ...     None      None   \n",
       "364      first    None    None          FYNN THRUST  ...     None      None   \n",
       "424      first    None    None          FYNN THRUST  ...     None      None   \n",
       "426      first    None    None          FYNN THRUST  ...     None      None   \n",
       "427      first    None    None          FYNN THRUST  ...     None      None   \n",
       "428      first    None    None     SCHOFIELD THRUST  ...     None      None   \n",
       "\n",
       "    REMARKS                     REFERENCE      SOURCE_REF  MAP_ID    SYMBOL  \\\n",
       "2      None  McMechan, M.E., 2011, CGM 12            None  82J/12  02.02.05   \n",
       "5      None  McMechan, M.E., 2011, CGM 12            None  82J/12  02.02.05   \n",
       "6      None  McMechan, M.E., 2011, CGM 12            None  82J/12  02.02.03   \n",
       "7      None  McMechan, M.E., 2011, CGM 12            None  82J/12  02.02.03   \n",
       "8      None  McMechan, M.E., 2011, CGM 12            None  82J/12  02.02.05   \n",
       "16     None  McMechan, M.E., 2011, CGM 12            None  82J/12  02.08.05   \n",
       "17     None  McMechan, M.E., 2011, CGM 12            None  82J/12  02.08.03   \n",
       "21     None  McMechan, M.E., 2011, CGM 12            None  82J/12  02.02.03   \n",
       "28     None  McMechan, M.E., 2011, CGM 12            None  82J/12  02.02.05   \n",
       "215    None  McMechan, M.E., 2011, CGM 13            None  82J/13  02.08.03   \n",
       "232    None  McMechan, M.E., 2011, CGM 13            None  82J/13  02.08.05   \n",
       "233    None  McMechan, M.E., 2011, CGM 13            None  82J/13  02.08.07   \n",
       "234    None  McMechan, M.E., 2011, CGM 13            None  82J/13  02.08.05   \n",
       "238    None  McMechan, M.E., 2011, CGM 13            None  82J/13  02.02.05   \n",
       "254  <Null>  McMechan, M.E., 2011, CGM 13            None  82J/13  02.08.03   \n",
       "258  <Null>  McMechan, M.E., 2011, CGM 13            None  82J/13  02.08.03   \n",
       "267    None  McMechan, M.E., 2011, CGM 13            None  82J/13  02.08.03   \n",
       "269    None  McMechan, M.E., 2011, CGM 13            None  82J/13  02.08.03   \n",
       "270    None  McMechan, M.E., 2011, CGM 13            None  82J/13  02.08.07   \n",
       "271    None  McMechan, M.E., 2011, CGM 13            None  82J/13  02.08.03   \n",
       "272    None  McMechan, M.E., 2011, CGM 13            None  82J/13  02.08.07   \n",
       "273    None  McMechan, M.E., 2011, CGM 13            None  82J/13  02.08.03   \n",
       "274    None  McMechan, M.E., 2011, CGM 13            None  82J/13  02.08.07   \n",
       "275    None  McMechan, M.E., 2011, CGM 13            None  82J/13  02.08.05   \n",
       "283    None  McMechan, M.E., 2011, CGM 13            None  82J/13  02.08.03   \n",
       "284    None  McMechan, M.E., 2011, CGM 13            None  82J/13  02.08.03   \n",
       "285    None  McMechan, M.E., 2011, CGM 13            None  82J/13  02.08.07   \n",
       "299    None  McMechan, M.E., 2011, CGM 13            None  82J/13  02.02.03   \n",
       "300    None  McMechan, M.E., 2011, CGM 13            None  82J/13  02.02.03   \n",
       "301    None  McMechan, M.E., 2011, CGM 13            None  82J/13  02.02.05   \n",
       "302    None  McMechan, M.E., 2011, CGM 13            None  82J/13  02.02.03   \n",
       "303    None  McMechan, M.E., 2011, CGM 13            None  82J/13  02.02.05   \n",
       "304    None  McMechan, M.E., 2011, CGM 13            None  82J/13  02.08.05   \n",
       "309    None  McMechan, M.E., 2011, CGM 13            None  82J/13  02.08.03   \n",
       "317    None  McMechan, M.E., 2011, CGM 13            None  82J/13  02.08.07   \n",
       "326    None  McMechan, M.E., 2011, CGM 13            None  82J/13  02.08.07   \n",
       "330    None  McMechan, M.E., 2011, CGM 13            None  82J/13  02.08.03   \n",
       "331    None  McMechan, M.E., 2011, CGM 13            None  82J/13  02.08.07   \n",
       "332    None  McMechan, M.E., 2011, CGM 13            None  82J/13  02.08.07   \n",
       "333    None  McMechan, M.E., 2011, CGM 13            None  82J/13  02.08.03   \n",
       "336    None  McMechan, M.E., 2010, CGM 13  McMechan, M.E.  82J/13  02.08.03   \n",
       "337    None  McMechan, M.E., 2013, CGM 11            None  82J/11  02.08.03   \n",
       "364    None  McMechan, M.E., 2013, CGM 11            None  82J/11  02.08.03   \n",
       "424    None  McMechan, M.E., 2013, CGM 11            None  82J/11  02.08.07   \n",
       "426    None  McMechan, M.E., 2013, CGM 11            None  82J/11  02.08.03   \n",
       "427    None  McMechan, M.E., 2013, CGM 11            None  82J/11  02.08.05   \n",
       "428    None  McMechan, M.E., 2013, CGM 11            None  82J/11  02.08.03   \n",
       "\n",
       "       SHAPE_Leng  Shape_Le_1  \\\n",
       "2        0.021129    0.021129   \n",
       "5        0.038589    0.038589   \n",
       "6        0.018551    0.018551   \n",
       "7        0.054221    0.054221   \n",
       "8        0.048106    0.048106   \n",
       "16       0.040933    0.040933   \n",
       "17       0.035158    0.035158   \n",
       "21       0.004942    0.004942   \n",
       "28       0.027136    0.027136   \n",
       "215      0.005495    0.005495   \n",
       "232      0.003759    0.003759   \n",
       "233      0.004758    0.004758   \n",
       "234      0.008478    0.008478   \n",
       "238      0.020277    0.020277   \n",
       "254      0.118671    0.117407   \n",
       "258      0.038023    0.038023   \n",
       "267      0.093580    0.093580   \n",
       "269      0.064793    0.064793   \n",
       "270      0.006396    0.006396   \n",
       "271      0.095084    0.094320   \n",
       "272      0.025942    0.025942   \n",
       "273      0.006462    0.006462   \n",
       "274      0.004356    0.004356   \n",
       "275      0.014723    0.014723   \n",
       "283      0.041023    0.041023   \n",
       "284      0.005689    0.005689   \n",
       "285      0.005744    0.005744   \n",
       "299      0.052482    0.052482   \n",
       "300      0.025907    0.025907   \n",
       "301      0.052223    0.052223   \n",
       "302      0.014988    0.014988   \n",
       "303      0.011626    0.011626   \n",
       "304      0.022488    0.022488   \n",
       "309      0.008534    0.008534   \n",
       "317      0.001301    0.001301   \n",
       "326      0.004998    0.004998   \n",
       "330      0.009564    0.009564   \n",
       "331      0.003073    0.003073   \n",
       "332      0.002749    0.002749   \n",
       "333      0.004026    0.004026   \n",
       "336      0.047183    0.047183   \n",
       "337  10876.379948    0.024049   \n",
       "364   1019.514744    0.009246   \n",
       "424    610.252413    0.005500   \n",
       "426   2608.515203    0.023999   \n",
       "427   1460.534808    0.015730   \n",
       "428   1937.970587    0.000359   \n",
       "\n",
       "                                              geometry  \n",
       "2    LINESTRING (593794.592 5622867.385, 593947.672...  \n",
       "5    LINESTRING (594903.788 5620539.439, 595015.973...  \n",
       "6    LINESTRING (597187.364 5618141.766, 597495.137...  \n",
       "7    LINESTRING (600642.338 5613197.383, 600745.052...  \n",
       "8    LINESTRING (598283.365 5616986.968, 598314.456...  \n",
       "16   LINESTRING (603439.981 5609029.329, 603539.845...  \n",
       "17   LINESTRING (604961.797 5605133.521, 605195.789...  \n",
       "21   LINESTRING (594693.517 5620983.567, 594903.788...  \n",
       "28   LINESTRING (603439.981 5609029.329, 603578.197...  \n",
       "215  LINESTRING (604028.016 5627716.251, 604084.745...  \n",
       "232  LINESTRING (602523.395 5637634.476, 602538.749...  \n",
       "233  LINESTRING (602412.492 5638135.905, 602415.833...  \n",
       "234  LINESTRING (602310.339 5639066.618, 602316.330...  \n",
       "238  LINESTRING (585938.440 5637436.728, 585992.691...  \n",
       "254  LINESTRING (592157.069 5647795.534, 592153.626...  \n",
       "258  LINESTRING (600623.839 5642136.786, 600806.719...  \n",
       "267  MULTILINESTRING ((602049.857 5632126.296, 6021...  \n",
       "269  LINESTRING (597233.550 5640158.760, 597328.495...  \n",
       "270  LINESTRING (598101.157 5635899.607, 598090.733...  \n",
       "271  LINESTRING (587595.663 5645489.681, 587659.174...  \n",
       "272  LINESTRING (595539.750 5639934.493, 595623.423...  \n",
       "273  LINESTRING (595215.014 5640445.695, 595308.847...  \n",
       "274  LINESTRING (594919.795 5640581.525, 594933.516...  \n",
       "275  LINESTRING (593102.281 5640446.425, 593154.570...  \n",
       "283  LINESTRING (603541.219 5635636.919, 603541.449...  \n",
       "284  LINESTRING (603122.779 5636687.503, 603137.917...  \n",
       "285  LINESTRING (603255.405 5636089.204, 603311.008...  \n",
       "299  LINESTRING (590966.489 5630153.508, 591020.066...  \n",
       "300  LINESTRING (586604.624 5635440.216, 586666.452...  \n",
       "301  LINESTRING (588152.615 5633902.666, 588219.708...  \n",
       "302  LINESTRING (593545.488 5624477.726, 593666.675...  \n",
       "303  LINESTRING (593221.622 5625646.491, 593237.268...  \n",
       "304  LINESTRING (602949.949 5629547.739, 602971.928...  \n",
       "309  LINESTRING (602686.244 5637313.203, 602846.307...  \n",
       "317  MULTILINESTRING ((604300.414 5627086.996, 6042...  \n",
       "326  LINESTRING (595652.593 5640039.337, 595652.669...  \n",
       "330  LINESTRING (595146.359 5640722.902, 595148.938...  \n",
       "331  LINESTRING (594954.349 5640881.379, 594955.343...  \n",
       "332  LINESTRING (594450.106 5640616.519, 594469.871...  \n",
       "333  LINESTRING (594641.593 5640651.584, 594657.923...  \n",
       "336  LINESTRING (604309.442 5627065.131, 604451.181...  \n",
       "337  LINESTRING (615311.820 5608922.252, 615368.200...  \n",
       "364  LINESTRING (615110.967 5614316.402, 615110.680...  \n",
       "424  LINESTRING (615177.540 5613304.226, 615194.190...  \n",
       "426  LINESTRING (615221.310 5612695.760, 615221.311...  \n",
       "427  LINESTRING (615440.534 5610135.795, 615439.620...  \n",
       "428  LINESTRING (606247.338 5601827.483, 606262.074...  \n",
       "\n",
       "[47 rows x 21 columns]"
      ]
     },
     "metadata": {},
     "output_type": "display_data"
    },
    {
     "name": "stderr",
     "output_type": "stream",
     "text": [
      "C:\\Users\\00073294\\Anaconda3\\envs\\loop\\lib\\site-packages\\geopandas\\geoseries.py:411: UserWarning: GeoSeries.notna() previously returned False for both missing (None) and empty geometries. Now, it only returns False for missing values. Since the calling GeoSeries contains empty geometries, the result has changed compared to previous versions of GeoPandas.\n",
      "Given a GeoSeries 's', you can use '~s.is_empty & s.notna()' to get back the old behaviour.\n",
      "\n",
      "To further ignore this warning, you can do: \n",
      "import warnings; warnings.filterwarnings('ignore', 'GeoSeries.notna', UserWarning)\n",
      "  return self.notna()\n"
     ]
    },
    {
     "name": "stdout",
     "output_type": "stream",
     "text": [
      "\n",
      " fault layer  metadata\n",
      "--------------------\n",
      "    bbox [ 602872.85918245 5632474.35037611  605626.34991633 5637104.35871312]\n",
      "    CRS epsg:26911\n",
      "    # items 6\n",
      "    Data types ['LineString']\n",
      "\n",
      " mindeps layer  metadata\n",
      "--------------------\n",
      "    empty file, check contents\n",
      "\n",
      "Warnings:\n",
      "     duplicate orientation point unique IDs\n",
      "     2 NaN/blank found in column \"FEATURE\" of folds file, replacing with 0\n",
      "     9 NaN/blank found in column \"ATTITUDE\" of fault file, replacing with -999\n",
      "     no mindeps for analysis\n"
     ]
    },
    {
     "name": "stderr",
     "output_type": "stream",
     "text": [
      "m2l_config.py:323: UserWarning: The warnings listed above were issued\n"
     ]
    },
    {
     "name": "stdout",
     "output_type": "stream",
     "text": [
      "\n",
      "No errors found, clipped and updated files saved to tmp\n"
     ]
    }
   ],
   "source": [
    "import geopandas as gpd\n",
    "from shapely.geometry import  LineString, Polygon,MultiLineString\n",
    "import os.path\n",
    "from map2loop import m2l_utils      \n",
    "import warnings\n",
    "import numpy as np\n",
    "import pandas as pd\n",
    "   \n",
    "#explodes polylines and modifies objectid for exploded parts\n",
    "def explode_polylines(indf,c_l,dst_crs):                                        \n",
    "    #indf = gpd.GeoDataFrame.from_file(indata)                  \n",
    "    outdf = gpd.GeoDataFrame(columns=indf.columns, crs=dst_crs)              \n",
    "    for idx, row in indf.iterrows():                            \n",
    "        if type(row.geometry) == LineString:                    \n",
    "            outdf = outdf.append(row,ignore_index=True)         \n",
    "        if type(row.geometry) == MultiLineString:               \n",
    "            multdf = gpd.GeoDataFrame(columns=indf.columns, crs=dst_crs)     \n",
    "            recs = len(row.geometry)                            \n",
    "            multdf = multdf.append([row]*recs,ignore_index=True)\n",
    "            i=0\n",
    "            for geom in range(recs):                            \n",
    "                multdf.loc[geom,'geometry'] = row.geometry[geom]\n",
    "                multdf.loc[geom,c_l['o']]=str(multdf.loc[geom,c_l['o']])+'_'+str(i)\n",
    "                print('map2loop warning: Fault_'+multdf.loc[geom,c_l['o']],'is one of a set of duplicates, so renumbering')\n",
    "                i=i+1\n",
    "            outdf = outdf.append(multdf,ignore_index=True)      \n",
    "    return outdf                                                \n",
    "\n",
    "\n",
    "\n",
    "def check_map(structure_file,geology_file,fault_file,mindep_file,fold_file,tmp_path,bbox,c_l,dst_crs,local_paths,drift_prefix):\n",
    "\n",
    "    GSC=True\n",
    "\n",
    "    y_point_list = [bbox[1], bbox[1], bbox[3], bbox[3], bbox[1]]\n",
    "    x_point_list = [bbox[0], bbox[2], bbox[2], bbox[0], bbox[0]]\n",
    "    bbox_geom = Polygon(zip(x_point_list, y_point_list))\n",
    "    polygo = gpd.GeoDataFrame(index=[0], crs=dst_crs, geometry=[bbox_geom]) \n",
    "    clip_file='D:/Loop_Data/GSC/3D_Rockies/extra/clip_poly2.shp'\n",
    "    clipper = gpd.read_file(clip_file)\n",
    "    \n",
    "    clipper_poly=Polygon(clipper.iloc[0]['geometry'])\n",
    "    polygo = gpd.GeoDataFrame(index=[0], crs=dst_crs, geometry=[clipper_poly])    \n",
    "    m2l_errors=[]\n",
    "    m2l_warnings=[]\n",
    "    if(local_paths):\n",
    "        for file_name in (structure_file,geology_file,fault_file,mindep_file,fold_file):\n",
    "            if not os.path.isfile(file_name):\n",
    "                m2l_errors.append('file '+file_name+' not found')\n",
    "    \n",
    "    # Process orientation points\n",
    "    \n",
    "    if (os.path.isfile(structure_file) or not local_paths):\n",
    "        orientations2 = gpd.read_file(structure_file,bbox=bbox)\n",
    "        if(c_l['sf']==c_l['ds']):\n",
    "            new_code='NEW_'+c_l['sf']\n",
    "            new_code=new_code[:10]\n",
    "            orientations=orientations2.rename(columns={c_l['sf']:new_code}, errors=\"raise\")\n",
    "            m2l_warnings.append('To avoid conflict with geology field of same name, orientation field named \"'+str(c_l['sf'])+'\" renamed to \"'+new_code+'\"')    \n",
    "            c_l['sf']=new_code\n",
    "        else:\n",
    "            new_code=''\n",
    "            orientations=orientations2.copy()\n",
    "        if(c_l['bo']==c_l['ds'] and not new_code==''):\n",
    "            c_l['bo']=new_code\n",
    "        \n",
    "        if(len(orientations)<2):\n",
    "            m2l_errors.append('not enough orientations to complete calculations (need at least 2)')\n",
    "\n",
    "        orientations = orientations.replace(r'^\\s+$', np.nan, regex=True)        \n",
    "        orientations = orientations[orientations[c_l['d']]!=-999]\n",
    "        for code in ('sf','d','dd','gi'):\n",
    "            if not c_l[code] in orientations.columns:\n",
    "                if(code=='sf'):\n",
    "                    orientations[c_l[code]]='Bed'\n",
    "                    m2l_warnings.append('field named \"'+str(c_l[code])+'\" added with default value \"Bed\"')\n",
    "                elif(not code=='gi'):\n",
    "                    m2l_errors.append('\"'+c_l[code]+'\" field needed')\n",
    "                else:\n",
    "                    m2l_warnings.append('field named \"'+str(c_l[code])+'\" added with default value')\n",
    "                    orientations[c_l[code]] = np.arange(len(orientations))\n",
    "            else:\n",
    "                nans=orientations[c_l[code]].isnull().sum() \n",
    "                if(nans>0):\n",
    "                    m2l_warnings.append(''+str(nans)+' NaN/blank found in column \"'+str(c_l[code])+'\" of orientations file, replacing with 0')\n",
    "                    orientations[c_l[code]].fillna(\"0\", inplace = True)\n",
    "\n",
    "\n",
    "        unique_o=set(orientations[c_l['gi']])\n",
    "\n",
    "        if(not len(unique_o) == len(orientations)):\n",
    "            m2l_warnings.append('duplicate orientation point unique IDs')\n",
    "        show_metadata(orientations,\"orientations layer\")    \n",
    "    # Process geology polygons\n",
    "    \n",
    "    if (os.path.isfile(geology_file) or not local_paths):\n",
    "        geology = gpd.read_file(geology_file,bbox=bbox)\n",
    "        \n",
    "        if not c_l['o'] in geology.columns:\n",
    "            geology = geology.reset_index()\n",
    "            geology[c_l['o']]=geology.index\n",
    "        \n",
    "        unique_g=set(geology[c_l['o']])\n",
    "        \n",
    "        if(GSC):\n",
    "            #geology['min_gsc_ag'] = np.nan\n",
    "            #geology['min_gsc_ag'] = geology['STYLE_ID'].str.split(pat=\"_\",expand=True)[0]\n",
    "            #geology['max_gsc_ag'] = np.nan\n",
    "            #geology['max_gsc_ag'] = geology['STYLE_ID'].str.split(pat=\"_\",expand=True)[0]\n",
    "            geology[c_l['c']] = geology[c_l['c']].str.split(pat=\"_\",expand=True)[0]\n",
    "            #c_l['min']='min_gsc_ag'\n",
    "            #c_l['max']='max_gsc_ag'\n",
    "        #display(geology)\n",
    "        if(not len(unique_g) == len(geology)):\n",
    "            m2l_warnings.append('duplicate geology polygon unique IDs')\n",
    "    \n",
    "        nans=geology[c_l['c']].isnull().sum() \n",
    "        if(nans>0):\n",
    "             m2l_errors.append(''+str(nans)+' NaN/blank found in column \"'+str(c_l['c'])+'\" of geology file, please fix')\n",
    "                    \n",
    "        if(c_l['g']=='No_col' or not c_l['g'] in geology.columns):\n",
    "            m2l_warnings.append('No secondary strat coding for geology polygons')\n",
    "            c_l['g']='group'\n",
    "            geology[c_l['g']]=\"Top\"\n",
    "\n",
    "        geology = geology.replace(r'^\\s+$', np.nan, regex=True)\n",
    "        geology[c_l['g']].fillna(geology[c_l['g2']], inplace=True)\n",
    "        geology[c_l['g']].fillna(geology[c_l['c']], inplace=True)\n",
    "    \n",
    "        \n",
    "        if(c_l['r1']=='No_col' or not c_l['r1'] in geology.columns):\n",
    "            m2l_warnings.append('No extra litho for geology polygons')\n",
    "            c_l['r1']='r1'\n",
    "            geology[c_l['r1']]='Nope'\n",
    "            \n",
    "        if(c_l['r2']=='No_col' or not c_l['r2'] in geology.columns):\n",
    "            m2l_warnings.append('No more extra litho for geology polygons')\n",
    "            c_l['r2']='r2'\n",
    "            geology[c_l['r2']]='Nope'\n",
    "            \n",
    "        if(c_l['min']=='No_col' or not c_l['min'] in geology.columns):\n",
    "            m2l_warnings.append('No min age for geology polygons')\n",
    "            c_l['min']='min'\n",
    "            geology[c_l['min']]=0\n",
    "            \n",
    "        if(c_l['max']=='No_col' or not c_l['max'] in geology.columns):\n",
    "            m2l_warnings.append('No max age for geology polygons')\n",
    "            c_l['max']='max'\n",
    "            geology[c_l['max']]=100\n",
    "\n",
    "            \n",
    "        if(c_l['c']=='No_col' or not c_l['c'] in geology.columns):\n",
    "            m2l_errors.append('Must have primary strat coding field for geology polygons')\n",
    "            \n",
    "        \n",
    "        \n",
    "        for code in ('c','g','g2','ds','u','r1'):\n",
    "            if(c_l[code] in geology.columns and not c_l[code]=='No_col'):\n",
    "                geology[c_l[code]].str.replace(\",\",\" \")        \n",
    "                if(code == 'c' or code =='g' or code=='g2'):\n",
    "                    geology[c_l[code]].str.replace(\" \",\"_\")        \n",
    "                    geology[c_l[code]].str.replace(\"-\",\"_\")        \n",
    "                    geology[c_l[code]].str.replace(\",\",\"_\")        \n",
    "\n",
    "                nans=geology[c_l[code]].isnull().sum() \n",
    "                if(nans>0):\n",
    "                    m2l_warnings.append(''+str(nans)+' NaN/blank found in column \"'+str(c_l[code])+'\" of geology file, replacing with 0')\n",
    "                    geology[c_l[code]].fillna(\"0\", inplace = True)\n",
    "        for drift in drift_prefix:\n",
    "            geology=geology[~geology[c_l['u']].str.startswith(drift)]    \n",
    "        \n",
    "        \n",
    "        show_metadata(geology,\"geology layer\") \n",
    "        \n",
    "    # Process fold polylines\n",
    "    \n",
    "    if (os.path.isfile(fold_file) or not local_paths):\n",
    "        folds = gpd.read_file(fold_file,bbox=bbox)\n",
    "        \n",
    "        if(len(folds)>0):\n",
    "            if not c_l['o'] in folds.columns:\n",
    "                folds = folds.reset_index()\n",
    "                folds[c_l['o']]=folds.index\n",
    "            unique_g=set(folds[c_l['o']])\n",
    "\n",
    "            if(not len(unique_g) == len(folds)):\n",
    "                m2l_warnings.append('duplicate fold polyline unique IDs')\n",
    "\n",
    "            folds = folds.replace(r'^\\s+$', np.nan, regex=True)\n",
    "            \n",
    "                \n",
    "\n",
    "            for code in ('ff','t'):\n",
    "                if(c_l['ff']=='No_col'  or not c_l['ff'] in folds.columns):\n",
    "                    m2l_warnings.append('No fold code for fold polylines')\n",
    "                    c_l['ff']='ff'\n",
    "                    folds[c_l['ff']]=c_l['fold']\n",
    "                    \n",
    "                if(c_l['t']=='No_col'  or not c_l['t'] in folds.columns):\n",
    "                    m2l_warnings.append('No fold polarity for fold polylines')\n",
    "                    c_l['t']='t'\n",
    "                    folds[c_l['t']]='None'\n",
    "                    \n",
    "                if(c_l[code] in folds.columns):\n",
    "                    folds[c_l[code]].str.replace(\",\",\" \")        \n",
    "\n",
    "                    nans=folds[c_l[code]].isnull().sum() \n",
    "                    if(nans>0):\n",
    "                        m2l_warnings.append(''+str(nans)+' NaN/blank found in column \"'+str(c_l[code])+'\" of folds file, replacing with 0')\n",
    "                        folds[c_l[code]].fillna(\"0\", inplace = True)\n",
    "\n",
    "            folds_clip=m2l_utils.clip_shp(folds,polygo)\n",
    "\n",
    "            show_metadata(folds_clip,\"fold layer\")    \n",
    "        else: \n",
    "            print('No folds in area')\n",
    "        \n",
    "    # Process fault polylines\n",
    "    \n",
    "    if (os.path.isfile(fault_file) or not local_paths):\n",
    "        faults_folds = gpd.read_file(fault_file,bbox=bbox) \n",
    "        \n",
    "        \n",
    "        faults = faults_folds[faults_folds[c_l['f']].str.contains(c_l['fault'])]  \n",
    "        if(GSC):\n",
    "            faults = faults[faults[c_l['n']].notnull()] \n",
    "            display(faults)\n",
    "        faults = faults.replace(r'^\\s+$', np.nan, regex=True)        \n",
    "\n",
    "        if not c_l['o'] in faults.columns:\n",
    "            m2l_warnings.append('field named \"'+str(c_l['o'])+'\" added with default value')\n",
    "            faults[c_l['o']] = np.arange(len(faults))\n",
    "\n",
    "        for code in ('f','o','fdip','fdipdir','fdipest'):\n",
    "            if(c_l['f']=='No_col' or not c_l['f'] in faults.columns ):\n",
    "                m2l_warnings.append('No fault type for fault polylines')\n",
    "                c_l['f']='ftype'\n",
    "                faults[c_l['f']]=c_l['fault']\n",
    "        \n",
    "            if(c_l['fdip']=='No_col' or not c_l['fdip'] in faults.columns ):\n",
    "                m2l_warnings.append('No fault dip for fault polylines')\n",
    "                c_l['fdip']='fdip'\n",
    "                faults[c_l['fdip']]=c_l['fdipnull']\n",
    "        \n",
    "            if(c_l['fdipdir']=='No_col' or not c_l['fdipdir'] in faults.columns ):\n",
    "                m2l_warnings.append('No fault dip direction for fault polylines')\n",
    "                c_l['fdipdir']='fdipdir'\n",
    "                faults[c_l['fdipdir']]=0\n",
    "            \n",
    "            if(c_l['fdipest']=='No_col' or not c_l['fdipest'] in faults.columns ):\n",
    "                m2l_warnings.append('No fault dip estimate for fault polylines')\n",
    "                c_l['fdipest']='fdipest'\n",
    "                faults[c_l['fdipest']]='None'\n",
    "        \n",
    "            if(c_l['fdipest_vals']=='No_col' or not c_l['fdipest_vals'] in faults.columns ):\n",
    "                m2l_warnings.append('No fault dip estimate text for fault polylines')\n",
    "                c_l['fdipest_vals']='fdipest_vals'\n",
    "                faults[c_l['fdipest_vals']]='None'\n",
    "\n",
    "            if(c_l['n']=='No_col' or not c_l['n'] in faults.columns ):\n",
    "                m2l_warnings.append('No fault name for fault polylines')\n",
    "                c_l['n']='fname'\n",
    "                faults[c_l['n']]='None'\n",
    "\n",
    "            if not c_l[code] in faults.columns:\n",
    "                m2l_errors.append('field named \"'+str(c_l[code])+'\" not found in fault/fold file')\n",
    "                \n",
    "            if(c_l[code] in faults.columns):\n",
    "                nans=faults[c_l[code]].isnull().sum() \n",
    "                if(nans>0):\n",
    "                    m2l_warnings.append(''+str(nans)+' NaN/blank found in column \"'+str(c_l[code])+'\" of fault file, replacing with -999')\n",
    "                    faults[c_l[code]].fillna(\"-999\", inplace = True)\n",
    "\n",
    "        unique_f=set(faults[c_l['o']])\n",
    "        \n",
    "        \n",
    "\n",
    "        if(not len(unique_f) == len(faults)):\n",
    "            m2l_errors.append('duplicate fault/fold polyline unique IDs')\n",
    "\n",
    "        faults = faults.replace(r'^\\s+$', np.nan, regex=True)        \n",
    "\n",
    "        faults_clip=m2l_utils.clip_shp(faults,polygo)\n",
    "\n",
    "        if(len(faults_clip)>0):\n",
    "            faults_explode=explode_polylines(faults_clip,c_l,dst_crs)     \n",
    "            if(len(faults_explode)>len(faults_clip)):\n",
    "                m2l_warnings.append('some faults are MultiPolyLines, and have been split')\n",
    "            faults_explode.crs = dst_crs\n",
    "            \n",
    "            show_metadata(faults_explode,\"fault layer\")    \n",
    "        else: \n",
    "\n",
    "            #fault_file='None'\n",
    "            print('No faults in area')\n",
    "            \n",
    "    # Process mindep points\n",
    "    \n",
    "    if (os.path.isfile(mindep_file) or not local_paths):\n",
    "        mindeps = gpd.read_file(mindep_file,bbox=bbox) \n",
    "        if(len(mindeps)==0):\n",
    "            m2l_warnings.append('no mindeps for analysis')\n",
    "        else:\n",
    "            mindeps = mindeps.replace(r'^\\s+$', np.nan, regex=True)        \n",
    "        \n",
    "            for code in ('msc','msn','mst','mtc','mscm','mcom'):\n",
    "                if(c_l[code]=='No_col'):\n",
    "                    mindeps[c_l[code]]='No_col'\n",
    "                if not c_l[code] in mindeps.columns:\n",
    "                    m2l_errors.append('field named \"'+str(c_l[code])+'\" not found in mineral deposits file')\n",
    "                else:\n",
    "                    nans=mindeps[c_l[code]].isnull().sum() \n",
    "                    if(nans>0):\n",
    "                        m2l_warnings.append(str(nans)+' NaN/blank found in column '+str(c_l[code])+' of mindep file, replacing with 0')\n",
    "                        mindeps[c_l[code]].fillna(\"0\", inplace = True)\n",
    "        show_metadata(mindeps,\"mindeps layer\")    \n",
    "\n",
    "        # explode fault/fold multipolylines\n",
    "        # sometimes faults go off map and come back in again which after clipping creates multipolylines\n",
    "\n",
    "    if(len(m2l_warnings)>0):\n",
    "        print(\"\\nWarnings:\")\n",
    "        warnings.warn('The warnings listed above were issued') \n",
    "        for w in m2l_warnings:\n",
    "            print(\"    \",w)\n",
    "    if(len(m2l_errors)>0):\n",
    "        print(\"\\nErrors:\")\n",
    "        warnings.warn('The errors listed above must be fixed prior to rerunning map2loop')                            \n",
    "        for e in m2l_errors:\n",
    "            print(\"    \",e)\n",
    "        raise NameError('map2loop error: Fix errors before running again')\n",
    "    \n",
    "    if(len(m2l_errors)==0):\n",
    "        \n",
    "        if(len(folds_clip)>0):\n",
    "            fold_file=tmp_path+'folds_clip.shp'\n",
    "            folds_clip.to_file(fold_file)         \n",
    "        else:\n",
    "            fold_file=tmp_path+'fold_clip.shp'\n",
    "            print(\"\\nFold layer metadata\\n--------------------\")             \n",
    "            print(\"No folds found\")\n",
    "        \n",
    "        if(len(faults_clip)>0):\n",
    "            fault_file=tmp_path+'faults_clip.shp'\n",
    "            faults_explode.crs=dst_crs\n",
    "            faults_explode.to_file(fault_file)         \n",
    "        else:\n",
    "            fault_file=tmp_path+'faults_clip.shp'\n",
    "            print(\"\\nFault layer metadata\\n--------------------\")             \n",
    "            print(\"No faults found\")\n",
    "            \n",
    "            \n",
    "        geol_clip=gpd.overlay(geology, polygo, how='intersection')\n",
    "        if(len(geol_clip)>0):\n",
    "            geol_clip.crs=dst_crs\n",
    "            geol_file=tmp_path+'geol_clip.shp'\n",
    "            geol_clip.to_file(geol_file)         \n",
    "        \n",
    "        if(len(orientations)>0):\n",
    "            structure_file=tmp_path+'structure_clip.shp'\n",
    "            orientations.crs=dst_crs\n",
    "            orientations[c_l['dd']] = pd.to_numeric(orientations[c_l['dd']])\n",
    "            orientations[c_l['d']] = pd.to_numeric(orientations[c_l['d']])\n",
    "\n",
    "            orientations.to_file(structure_file)         \n",
    "        \n",
    "        if(len(mindeps)>0):\n",
    "            mindep_file=tmp_path+'mindeps_clip.shp'\n",
    "            mindeps.crs=dst_crs\n",
    "            mindeps.to_file(mindep_file)\n",
    "        print('\\nNo errors found, clipped and updated files saved to tmp')\n",
    "\n",
    "        return(structure_file,geol_file,fault_file,mindep_file,fold_file,c_l) \n",
    "                \n",
    "def show_metadata(gdf,name):\n",
    "    if(len(gdf)>0):\n",
    "        print(\"\\n\",name,\" metadata\\n--------------------\")\n",
    "        print(\"    bbox\",gdf.total_bounds)\n",
    "        print(\"    CRS\",gdf.crs)\n",
    "        print(\"    # items\",len(gdf))\n",
    "        types=[]\n",
    "        for i,g in gdf.iterrows():\n",
    "            if(not g.geometry.type in types):\n",
    "                types.append(g.geometry.type)\n",
    "        \n",
    "        print(\"    Data types\",types)\n",
    "    else:\n",
    "        print(\"\\n\",name,\" metadata\\n--------------------\")\n",
    "        print(\"    empty file, check contents\") \n",
    "        \n",
    "structure_file,geology_file,fault_file,mindep_file,fold_file,c_l=check_map(structure_file,geology_file,fault_file,mindep_file,fold_file,tmp_path,bbox,c_l,dst_crs,local_paths,drift_prefix)"
   ]
  },
  {
   "cell_type": "code",
   "execution_count": 9,
   "metadata": {
    "ExecuteTime": {
     "end_time": "2020-06-02T06:36:11.328986Z",
     "start_time": "2020-06-02T06:36:09.533874Z"
    }
   },
   "outputs": [],
   "source": [
    "#structure_file,geology_file,fault_file,mindep_file,fold_file,c_l=m2l_map_checker.check_map(structure_file,geology_file,fault_file,mindep_file,fold_file,tmp_path,bbox,c_l,dst_crs,local_paths,drift_prefix)"
   ]
  },
  {
   "cell_type": "markdown",
   "metadata": {},
   "source": [
    "## Display stereonets of bedding by formations and group to see how we can combine them later"
   ]
  },
  {
   "cell_type": "code",
   "execution_count": 31,
   "metadata": {
    "ExecuteTime": {
     "end_time": "2020-06-02T06:36:23.738017Z",
     "start_time": "2020-06-02T06:36:11.334988Z"
    },
    "scrolled": false
   },
   "outputs": [
    {
     "name": "stdout",
     "output_type": "stream",
     "text": [
      "All observations n= 464\n",
      "groups ['MISSISSIPPIAN' 'UPPER DEVONIAN' 'UPPER ORDOVICIAN' 'MIDDLE ORDOVICIAN'\n",
      " 'LOWER ORDOVICIAN' 'UPPER CAMBRIAN'] \n",
      "codes ['Cb-Bf-u-B' 'Cb-Bf-l-u' 'DvCb-EBf-l-lm' 'Dv-Pa' 'Dv-Ss' 'Dv-PMH' 'Dv-A'\n",
      " 'OdSl-B' 'Od-Sk' 'Od-Tp' 'CmOd-SP']\n"
     ]
    },
    {
     "data": {
      "image/png": "[encoded data removed]",
      "text/plain": [
       "<Figure size 504x504 with 2 Axes>"
      ]
     },
     "metadata": {
      "needs_background": "light"
     },
     "output_type": "display_data"
    },
    {
     "name": "stdout",
     "output_type": "stream",
     "text": [
      "----------------------------------------------------------------------------------------------------------------------\n",
      "MISSISSIPPIAN observations has no observations\n",
      "----------------------------------------------------------------------------------------------------------------------\n",
      "UPPER DEVONIAN observations has no observations\n",
      "----------------------------------------------------------------------------------------------------------------------\n",
      "UPPER ORDOVICIAN observations has no observations\n",
      "----------------------------------------------------------------------------------------------------------------------\n",
      "MIDDLE ORDOVICIAN observations has no observations\n",
      "----------------------------------------------------------------------------------------------------------------------\n",
      "LOWER ORDOVICIAN observations has no observations\n",
      "----------------------------------------------------------------------------------------------------------------------\n",
      "UPPER CAMBRIAN observations has no observations\n"
     ]
    }
   ],
   "source": [
    "geology = gpd.read_file(geology_file,bbox=bbox)\n",
    "\n",
    "geology[c_l['g']].fillna(geology[c_l['g2']], inplace=True)\n",
    "geology[c_l['g']].fillna(geology[c_l['c']], inplace=True)\n",
    "\n",
    "orientations = gpd.read_file(structure_file,bbox=bbox)\n",
    "if(len(orientations)<2):\n",
    "    raise NameError('Not enough orientations to complete calculations (need at least 2)')\n",
    "group_girdle=m2l_utils.plot_bedding_stereonets(orientations,geology,c_l)\n"
   ]
  },
  {
   "cell_type": "markdown",
   "metadata": {},
   "source": [
    "## Test code to automatically create super_groups and use_group3"
   ]
  },
  {
   "cell_type": "code",
   "execution_count": 32,
   "metadata": {},
   "outputs": [
    {
     "data": {
      "text/html": [
       "<div>\n",
       "<style scoped>\n",
       "    .dataframe tbody tr th:only-of-type {\n",
       "        vertical-align: middle;\n",
       "    }\n",
       "\n",
       "    .dataframe tbody tr th {\n",
       "        vertical-align: top;\n",
       "    }\n",
       "\n",
       "    .dataframe thead th {\n",
       "        text-align: right;\n",
       "    }\n",
       "</style>\n",
       "<table border=\"1\" class=\"dataframe\">\n",
       "  <thead>\n",
       "    <tr style=\"text-align: right;\">\n",
       "      <th></th>\n",
       "      <th>plunge</th>\n",
       "      <th>bearing</th>\n",
       "      <th>num orientations</th>\n",
       "    </tr>\n",
       "  </thead>\n",
       "  <tbody>\n",
       "    <tr>\n",
       "      <th>MISSISSIPPIAN</th>\n",
       "      <td>-999</td>\n",
       "      <td>-999</td>\n",
       "      <td>0</td>\n",
       "    </tr>\n",
       "    <tr>\n",
       "      <th>UPPER DEVONIAN</th>\n",
       "      <td>-999</td>\n",
       "      <td>-999</td>\n",
       "      <td>0</td>\n",
       "    </tr>\n",
       "    <tr>\n",
       "      <th>UPPER ORDOVICIAN</th>\n",
       "      <td>-999</td>\n",
       "      <td>-999</td>\n",
       "      <td>0</td>\n",
       "    </tr>\n",
       "    <tr>\n",
       "      <th>MIDDLE ORDOVICIAN</th>\n",
       "      <td>-999</td>\n",
       "      <td>-999</td>\n",
       "      <td>0</td>\n",
       "    </tr>\n",
       "    <tr>\n",
       "      <th>LOWER ORDOVICIAN</th>\n",
       "      <td>-999</td>\n",
       "      <td>-999</td>\n",
       "      <td>0</td>\n",
       "    </tr>\n",
       "    <tr>\n",
       "      <th>UPPER CAMBRIAN</th>\n",
       "      <td>-999</td>\n",
       "      <td>-999</td>\n",
       "      <td>0</td>\n",
       "    </tr>\n",
       "  </tbody>\n",
       "</table>\n",
       "</div>"
      ],
      "text/plain": [
       "                   plunge  bearing  num orientations\n",
       "MISSISSIPPIAN        -999     -999                 0\n",
       "UPPER DEVONIAN       -999     -999                 0\n",
       "UPPER ORDOVICIAN     -999     -999                 0\n",
       "MIDDLE ORDOVICIAN    -999     -999                 0\n",
       "LOWER ORDOVICIAN     -999     -999                 0\n",
       "UPPER CAMBRIAN       -999     -999                 0"
      ]
     },
     "metadata": {},
     "output_type": "display_data"
    }
   ],
   "source": [
    "misorientation=30\n",
    "super_groups,use_gcode3=m2l_topology.super_groups_and_groups(group_girdle,tmp_path,misorientation)\n"
   ]
  },
  {
   "cell_type": "markdown",
   "metadata": {},
   "source": [
    "## Decide on super groups and groups\n",
    "Supergroups define what shall be interpolated as single system   \n",
    "use_gcode defines which groups we choose to calculate model from  \n",
    "\n",
    "<font color='red'>The following outputs are the default settings that put all groups as one super_group for orientation interpolation purposes and use_gcode3 defines which groups will actually be modelled If after looking at the stereonets you want to change these defaults, just copy paste the two following lines into the next cell below and edit them as you wish. </font>  "
   ]
  },
  {
   "cell_type": "code",
   "execution_count": 33,
   "metadata": {
    "ExecuteTime": {
     "end_time": "2020-06-02T06:36:23.757015Z",
     "start_time": "2020-06-02T06:36:23.743015Z"
    }
   },
   "outputs": [
    {
     "name": "stdout",
     "output_type": "stream",
     "text": [
      "super_groups= [['MISSISSIPPIAN', 'UPPER DEVONIAN', 'UPPER ORDOVICIAN', 'MIDDLE ORDOVICIAN', 'LOWER ORDOVICIAN', 'UPPER CAMBRIAN']]\n",
      "use_gcode3= ['MISSISSIPPIAN', 'UPPER_DEVONIAN', 'UPPER_ORDOVICIAN', 'MIDDLE_ORDOVICIAN', 'LOWER_ORDOVICIAN', 'UPPER_CAMBRIAN']\n"
     ]
    }
   ],
   "source": [
    "\n",
    "print(\"super_groups=\",super_groups)\n",
    "print(\"use_gcode3=\",use_gcode3)\n"
   ]
  },
  {
   "cell_type": "code",
   "execution_count": null,
   "metadata": {},
   "outputs": [],
   "source": [
    "\n",
    "\n",
    "\n",
    "\n",
    "\n",
    "\n",
    "\n",
    "\n",
    "\n",
    "\n",
    "\n",
    "\n",
    "\n",
    "\n",
    "\n",
    "\n"
   ]
  },
  {
   "cell_type": "markdown",
   "metadata": {},
   "source": [
    "## Preprocess data to ensure it meets modelling requirements"
   ]
  },
  {
   "cell_type": "code",
   "execution_count": 34,
   "metadata": {},
   "outputs": [
    {
     "name": "stdout",
     "output_type": "stream",
     "text": [
      "only processing ['MISSISSIPPIAN', 'UPPER_DEVONIAN', 'UPPER_ORDOVICIAN', 'MIDDLE_ORDOVICIAN', 'LOWER_ORDOVICIAN', 'UPPER_CAMBRIAN']\n"
     ]
    }
   ],
   "source": [
    "print('only processing',use_gcode3)\n",
    "\n",
    "inputs=('')\n",
    "\n",
    "if(workflow['model_engine'] =='geomodeller'):\n",
    "    inputs=('invented_orientations','intrusive_orientations','fat_orientations','near_fault_orientations','fault_tip_contacts','contact_orientations')\n",
    "elif(workflow['model_engine']=='loopstructural'):\n",
    "    inputs=('invented_orientations','fat_orientations','contact_orientations','intrusive_orientations')\n",
    "elif(workflow['model_engine']=='gempy'):\n",
    "    inputs=('invented_orientations','interpolated_orientations','fat_orientations')\n",
    "elif(workflow['model_engine']=='noddy'):\n",
    "    inputs=('')"
   ]
  },
  {
   "cell_type": "markdown",
   "metadata": {},
   "source": [
    "## Plot geology polygons and bounding box"
   ]
  },
  {
   "cell_type": "code",
   "execution_count": 35,
   "metadata": {
    "ExecuteTime": {
     "end_time": "2020-06-02T06:36:24.855075Z",
     "start_time": "2020-06-02T06:36:23.763015Z"
    },
    "pycharm": {
     "is_executing": false
    },
    "scrolled": false
   },
   "outputs": [
    {
     "name": "stdout",
     "output_type": "stream",
     "text": [
      "../Rockies/tmp/geol_clip.shp\n"
     ]
    },
    {
     "data": {
      "text/html": [
       "<div>\n",
       "<style scoped>\n",
       "    .dataframe tbody tr th:only-of-type {\n",
       "        vertical-align: middle;\n",
       "    }\n",
       "\n",
       "    .dataframe tbody tr th {\n",
       "        vertical-align: top;\n",
       "    }\n",
       "\n",
       "    .dataframe thead th {\n",
       "        text-align: right;\n",
       "    }\n",
       "</style>\n",
       "<table border=\"1\" class=\"dataframe\">\n",
       "  <thead>\n",
       "    <tr style=\"text-align: right;\">\n",
       "      <th></th>\n",
       "      <th>RM_AGE</th>\n",
       "      <th>OBJECTID</th>\n",
       "      <th>MAP_THEME</th>\n",
       "      <th>FEATURE</th>\n",
       "      <th>MAP_UNIT</th>\n",
       "      <th>PARENTS</th>\n",
       "      <th>MAX_AGE</th>\n",
       "      <th>MIN_AGE</th>\n",
       "      <th>LITH_LIST</th>\n",
       "      <th>GENESIS</th>\n",
       "      <th>LABEL</th>\n",
       "      <th>REFERENCE</th>\n",
       "      <th>MAP_ID</th>\n",
       "      <th>STYLE_ID</th>\n",
       "      <th>SYMBOL</th>\n",
       "      <th>Anno</th>\n",
       "      <th>Shape_Le_1</th>\n",
       "      <th>Shape_Area</th>\n",
       "      <th>RM_AGE2</th>\n",
       "      <th>geometry</th>\n",
       "    </tr>\n",
       "  </thead>\n",
       "  <tbody>\n",
       "    <tr>\n",
       "      <th>0</th>\n",
       "      <td>753</td>\n",
       "      <td>92</td>\n",
       "      <td>bedrock, at surface</td>\n",
       "      <td>map unit</td>\n",
       "      <td>Banff Formation, Upper unit; Bourgeau facies</td>\n",
       "      <td>Bourgeau facies</td>\n",
       "      <td>MISSISSIPPIAN</td>\n",
       "      <td>MISSISSIPPIAN</td>\n",
       "      <td>wackestone, packstone, dolostone, chert, grain...</td>\n",
       "      <td>Shelf Sedimentation</td>\n",
       "      <td>Cb-Bf-u-B</td>\n",
       "      <td>McMechan, M.E., 2011, CGM 13</td>\n",
       "      <td>82J/13</td>\n",
       "      <td>00760_Cb-Bf-l-u_993</td>\n",
       "      <td>None</td>\n",
       "      <td>None</td>\n",
       "      <td>12174.682909</td>\n",
       "      <td>4.178960e+06</td>\n",
       "      <td>2247</td>\n",
       "      <td>POLYGON ((605208.072 5633404.715, 605208.011 5...</td>\n",
       "    </tr>\n",
       "    <tr>\n",
       "      <th>1</th>\n",
       "      <td>756</td>\n",
       "      <td>70</td>\n",
       "      <td>bedrock, at surface</td>\n",
       "      <td>map unit</td>\n",
       "      <td>Banff Formation, Lower unit, upper part; Bourg...</td>\n",
       "      <td>Bourgeau facies</td>\n",
       "      <td>MISSISSIPPIAN</td>\n",
       "      <td>MISSISSIPPIAN</td>\n",
       "      <td>shale, carbonate, chert, siltstone</td>\n",
       "      <td>Shelf Sedimentation</td>\n",
       "      <td>Cb-Bf-l-u</td>\n",
       "      <td>McMechan, M.E., 2011, CGM 13</td>\n",
       "      <td>82J/13</td>\n",
       "      <td>00760_Cb-Bf-l-u_993</td>\n",
       "      <td>None</td>\n",
       "      <td>None</td>\n",
       "      <td>4398.576830</td>\n",
       "      <td>2.873621e+05</td>\n",
       "      <td>2244</td>\n",
       "      <td>MULTIPOLYGON (((605441.182 5632886.214, 605428...</td>\n",
       "    </tr>\n",
       "    <tr>\n",
       "      <th>2</th>\n",
       "      <td>760</td>\n",
       "      <td>64</td>\n",
       "      <td>bedrock, at surface</td>\n",
       "      <td>map unit</td>\n",
       "      <td>Exshaw and Banff (lower unit, lower and middle...</td>\n",
       "      <td>Bourgeau facies</td>\n",
       "      <td>UPPER DEVONIAN</td>\n",
       "      <td>MISSISSIPPIAN</td>\n",
       "      <td>shale, chert, siltstone, wackestone, spiculite...</td>\n",
       "      <td>Shelf Sedimentation</td>\n",
       "      <td>DvCb-EBf-l-lm</td>\n",
       "      <td>McMechan, M.E., 2011, CGM 13</td>\n",
       "      <td>82J/13</td>\n",
       "      <td>00760_Cb-Bf-l-u_993</td>\n",
       "      <td>None</td>\n",
       "      <td>None</td>\n",
       "      <td>3417.357852</td>\n",
       "      <td>1.308884e+05</td>\n",
       "      <td>2240</td>\n",
       "      <td>MULTIPOLYGON (((605626.350 5632474.350, 605615...</td>\n",
       "    </tr>\n",
       "    <tr>\n",
       "      <th>3</th>\n",
       "      <td>880</td>\n",
       "      <td>79</td>\n",
       "      <td>bedrock, at surface</td>\n",
       "      <td>map unit</td>\n",
       "      <td>Palliser Formation</td>\n",
       "      <td>Upper Devonian</td>\n",
       "      <td>UPPER DEVONIAN</td>\n",
       "      <td>UPPER DEVONIAN</td>\n",
       "      <td>limestone, dolostone, chert</td>\n",
       "      <td>Shelf Sedimentation</td>\n",
       "      <td>Dv-Pa</td>\n",
       "      <td>McMechan, M.E., 2011, CGM 13</td>\n",
       "      <td>82J/13</td>\n",
       "      <td>00880_Dv-Pa_612</td>\n",
       "      <td>None</td>\n",
       "      <td>None</td>\n",
       "      <td>6438.534531</td>\n",
       "      <td>2.322293e+06</td>\n",
       "      <td>2120</td>\n",
       "      <td>MULTIPOLYGON (((602872.859 5637104.359, 602872...</td>\n",
       "    </tr>\n",
       "    <tr>\n",
       "      <th>4</th>\n",
       "      <td>1030</td>\n",
       "      <td>83</td>\n",
       "      <td>bedrock, at surface</td>\n",
       "      <td>map unit</td>\n",
       "      <td>Sassenach Formation</td>\n",
       "      <td>Upper Devonian</td>\n",
       "      <td>UPPER DEVONIAN</td>\n",
       "      <td>UPPER DEVONIAN</td>\n",
       "      <td>siltstone, sandstone, shale, limestone</td>\n",
       "      <td>Shelf Sedimentation</td>\n",
       "      <td>Dv-Ss</td>\n",
       "      <td>McMechan, M.E., 2011, CGM 13</td>\n",
       "      <td>82J/13</td>\n",
       "      <td>01050_Dv-M_724</td>\n",
       "      <td>None</td>\n",
       "      <td>None</td>\n",
       "      <td>10601.587944</td>\n",
       "      <td>7.113647e+05</td>\n",
       "      <td>1970</td>\n",
       "      <td>POLYGON ((602707.181 5636433.594, 602705.246 5...</td>\n",
       "    </tr>\n",
       "  </tbody>\n",
       "</table>\n",
       "</div>"
      ],
      "text/plain": [
       "   RM_AGE  OBJECTID            MAP_THEME   FEATURE  \\\n",
       "0     753        92  bedrock, at surface  map unit   \n",
       "1     756        70  bedrock, at surface  map unit   \n",
       "2     760        64  bedrock, at surface  map unit   \n",
       "3     880        79  bedrock, at surface  map unit   \n",
       "4    1030        83  bedrock, at surface  map unit   \n",
       "\n",
       "                                            MAP_UNIT          PARENTS  \\\n",
       "0       Banff Formation, Upper unit; Bourgeau facies  Bourgeau facies   \n",
       "1  Banff Formation, Lower unit, upper part; Bourg...  Bourgeau facies   \n",
       "2  Exshaw and Banff (lower unit, lower and middle...  Bourgeau facies   \n",
       "3                                 Palliser Formation   Upper Devonian   \n",
       "4                                Sassenach Formation   Upper Devonian   \n",
       "\n",
       "          MAX_AGE         MIN_AGE  \\\n",
       "0   MISSISSIPPIAN   MISSISSIPPIAN   \n",
       "1   MISSISSIPPIAN   MISSISSIPPIAN   \n",
       "2  UPPER DEVONIAN   MISSISSIPPIAN   \n",
       "3  UPPER DEVONIAN  UPPER DEVONIAN   \n",
       "4  UPPER DEVONIAN  UPPER DEVONIAN   \n",
       "\n",
       "                                           LITH_LIST              GENESIS  \\\n",
       "0  wackestone, packstone, dolostone, chert, grain...  Shelf Sedimentation   \n",
       "1                 shale, carbonate, chert, siltstone  Shelf Sedimentation   \n",
       "2  shale, chert, siltstone, wackestone, spiculite...  Shelf Sedimentation   \n",
       "3                        limestone, dolostone, chert  Shelf Sedimentation   \n",
       "4             siltstone, sandstone, shale, limestone  Shelf Sedimentation   \n",
       "\n",
       "           LABEL                     REFERENCE  MAP_ID             STYLE_ID  \\\n",
       "0      Cb-Bf-u-B  McMechan, M.E., 2011, CGM 13  82J/13  00760_Cb-Bf-l-u_993   \n",
       "1      Cb-Bf-l-u  McMechan, M.E., 2011, CGM 13  82J/13  00760_Cb-Bf-l-u_993   \n",
       "2  DvCb-EBf-l-lm  McMechan, M.E., 2011, CGM 13  82J/13  00760_Cb-Bf-l-u_993   \n",
       "3          Dv-Pa  McMechan, M.E., 2011, CGM 13  82J/13      00880_Dv-Pa_612   \n",
       "4          Dv-Ss  McMechan, M.E., 2011, CGM 13  82J/13       01050_Dv-M_724   \n",
       "\n",
       "  SYMBOL  Anno    Shape_Le_1    Shape_Area  RM_AGE2  \\\n",
       "0   None  None  12174.682909  4.178960e+06     2247   \n",
       "1   None  None   4398.576830  2.873621e+05     2244   \n",
       "2   None  None   3417.357852  1.308884e+05     2240   \n",
       "3   None  None   6438.534531  2.322293e+06     2120   \n",
       "4   None  None  10601.587944  7.113647e+05     1970   \n",
       "\n",
       "                                            geometry  \n",
       "0  POLYGON ((605208.072 5633404.715, 605208.011 5...  \n",
       "1  MULTIPOLYGON (((605441.182 5632886.214, 605428...  \n",
       "2  MULTIPOLYGON (((605626.350 5632474.350, 605615...  \n",
       "3  MULTIPOLYGON (((602872.859 5637104.359, 602872...  \n",
       "4  POLYGON ((602707.181 5636433.594, 602705.246 5...  "
      ]
     },
     "metadata": {},
     "output_type": "display_data"
    },
    {
     "data": {
      "text/plain": [
       "<matplotlib.axes._subplots.AxesSubplot at 0x1fe49a0f9c8>"
      ]
     },
     "execution_count": 35,
     "metadata": {},
     "output_type": "execute_result"
    },
    {
     "data": {
      "image/png": "[encoded data removed]",
      "text/plain": [
       "<Figure size 720x720 with 1 Axes>"
      ]
     },
     "metadata": {
      "needs_background": "light"
     },
     "output_type": "display_data"
    }
   ],
   "source": [
    "print(geology_file)\n",
    "geology_ll = gpd.read_file(geology_file,bbox=bbox)\n",
    "\n",
    "geology_ll[c_l['g']].fillna(geology_ll[c_l['g2']], inplace=True)\n",
    "geology_ll[c_l['g']].fillna(geology_ll[c_l['c']], inplace=True)\n",
    "display(geology_ll.head())\n",
    "base=geology_ll.plot(column=c_l['c'],figsize=(10,10),edgecolor='#000000',linewidth=0.2)\n",
    "polygon.plot(ax=base, color='none',edgecolor='black')\n"
   ]
  },
  {
   "cell_type": "code",
   "execution_count": 36,
   "metadata": {},
   "outputs": [
    {
     "data": {
      "text/plain": [
       "{'d': 'DIP',\n",
       " 'dd': 'STRIKE',\n",
       " 'sf': 'SUBFEATURE',\n",
       " 'bedding': 'bed',\n",
       " 'otype': 'strike',\n",
       " 'bo': 'ATTITUDE',\n",
       " 'btype': 'over',\n",
       " 'g': 'MAX_AGE',\n",
       " 'g2': 'MIN_AGE',\n",
       " 'c': 'LABEL',\n",
       " 'ds': 'LITH_LIST',\n",
       " 'u': 'MAP_THEME',\n",
       " 'r1': 'LITH_LIST',\n",
       " 'r2': 'GENESIS',\n",
       " 'sill': 'sill',\n",
       " 'intrusive': 'intrusive',\n",
       " 'volcanic': 'volc',\n",
       " 'msc': 'SITE_CODE',\n",
       " 'msn': 'SHORT_NAME',\n",
       " 'mst': 'SITE_TYPE_',\n",
       " 'mtc': 'TARGET_COM',\n",
       " 'mscm': 'SITE_COMMO',\n",
       " 'mcom': 'COMMODITY_',\n",
       " 'minf': 'Cons',\n",
       " 'min': 'RM_AGE',\n",
       " 'max': 'RM_AGE',\n",
       " 'f': 'FEATURE',\n",
       " 'fault': 'fault',\n",
       " 'ff': 'FEATURE',\n",
       " 'fold': 'Fold',\n",
       " 'fdip': 'ATTITUDE',\n",
       " 'fdipnull': '0',\n",
       " 'fdipdir': 'CONFIDENCE',\n",
       " 'fdipdir_flag': 'alpha',\n",
       " 'fdipest': 'OBJECTID',\n",
       " 'fdipest_vals': 'MOVEMENT',\n",
       " 'n': 'NAME',\n",
       " 't': 'SUBFEATURE',\n",
       " 'syn': 'syn',\n",
       " 'o': 'OBJECTID',\n",
       " 'gi': 'STATION_ID'}"
      ]
     },
     "execution_count": 36,
     "metadata": {},
     "output_type": "execute_result"
    }
   ],
   "source": [
    "c_l"
   ]
  },
  {
   "cell_type": "markdown",
   "metadata": {},
   "source": [
    "## Save geology to file as WKT"
   ]
  },
  {
   "cell_type": "code",
   "execution_count": 37,
   "metadata": {
    "ExecuteTime": {
     "end_time": "2020-06-02T06:36:25.302073Z",
     "start_time": "2020-06-02T06:36:24.861074Z"
    },
    "pycharm": {
     "is_executing": false
    }
   },
   "outputs": [
    {
     "name": "stdout",
     "output_type": "stream",
     "text": [
      "11  polygons\n"
     ]
    }
   ],
   "source": [
    "hint_flag=False # use GSWA strat database to provide relative age hints\n",
    "def unique_list(list1): \n",
    "      \n",
    "    # insert the list to the set \n",
    "    list_set = set(list1) \n",
    "    # convert the set to the list \n",
    "    return(list(list_set)) \n",
    "list1=['geometry', c_l['o'],c_l['c'],c_l['g'],c_l['u'],c_l['min'],c_l['max'],c_l['ds'],c_l['r1'],c_l['r2']]\n",
    "list2=unique_list(list1)\n",
    "\n",
    "sub_geol = geology_ll[list2]\n",
    "m2l_topology.save_geol_wkt(sub_geol,geology_file_csv, c_l,hint_flag)"
   ]
  },
  {
   "cell_type": "markdown",
   "metadata": {},
   "source": [
    "## Save mineral deposits to file as WKT\n",
    "This is not needed by map2loop to build 3D models, but is used by map2model to calculate mineral deposit/topology analyses."
   ]
  },
  {
   "cell_type": "code",
   "execution_count": 38,
   "metadata": {
    "ExecuteTime": {
     "end_time": "2020-06-02T06:36:26.206626Z",
     "start_time": "2020-06-02T06:36:25.308075Z"
    },
    "pycharm": {
     "is_executing": false
    }
   },
   "outputs": [
    {
     "name": "stdout",
     "output_type": "stream",
     "text": [
      "0  points\n"
     ]
    },
    {
     "name": "stderr",
     "output_type": "stream",
     "text": [
      "C:\\Users\\00073294\\Anaconda3\\envs\\loop\\lib\\site-packages\\geopandas\\plotting.py:607: UserWarning: The GeoDataFrame you are attempting to plot is empty. Nothing has been displayed.\n",
      "  UserWarning,\n"
     ]
    },
    {
     "data": {
      "text/plain": [
       "<matplotlib.axes._subplots.AxesSubplot at 0x1fe4b7ee2c8>"
      ]
     },
     "execution_count": 38,
     "metadata": {},
     "output_type": "execute_result"
    },
    {
     "data": {
      "image/png": "[encoded data removed]",
      "text/plain": [
       "<Figure size 432x288 with 1 Axes>"
      ]
     },
     "metadata": {
      "needs_background": "light"
     },
     "output_type": "display_data"
    }
   ],
   "source": [
    "mindep = gpd.read_file(mindep_file,bbox=bbox)\n",
    "\n",
    "sub_mindep = mindep[['geometry', c_l['msc'],c_l['msn'],c_l['mst'],c_l['mtc'],c_l['mscm'],c_l['mcom']]]\n",
    "m2l_topology.save_mindep_wkt(sub_mindep,mindep_file_csv, c_l)\n",
    "\n",
    "base=sub_mindep.plot()\n",
    "polygon.plot(ax=base, color='none',edgecolor='black')\n"
   ]
  },
  {
   "cell_type": "markdown",
   "metadata": {},
   "source": [
    "## Read and save orientations data point data as WKT"
   ]
  },
  {
   "cell_type": "code",
   "execution_count": 39,
   "metadata": {
    "ExecuteTime": {
     "end_time": "2020-06-02T06:36:26.990149Z",
     "start_time": "2020-06-02T06:36:26.213605Z"
    },
    "pycharm": {
     "is_executing": false
    }
   },
   "outputs": [
    {
     "name": "stdout",
     "output_type": "stream",
     "text": [
      "464  points\n"
     ]
    },
    {
     "data": {
      "text/plain": [
       "<matplotlib.axes._subplots.AxesSubplot at 0x1fe49b33948>"
      ]
     },
     "execution_count": 39,
     "metadata": {},
     "output_type": "execute_result"
    },
    {
     "data": {
      "image/png": "[encoded data removed]",
      "text/plain": [
       "<Figure size 432x288 with 1 Axes>"
      ]
     },
     "metadata": {
      "needs_background": "light"
     },
     "output_type": "display_data"
    }
   ],
   "source": [
    "orientations = gpd.read_file(structure_file,bbox=bbox)\n",
    "\n",
    "sub_pts = orientations[['geometry', c_l['gi'],c_l['d'],c_l['dd']]]\n",
    "\n",
    "m2l_topology.save_structure_wkt(sub_pts,structure_file_csv,c_l)\n",
    "\n",
    "base=sub_pts.plot()\n",
    "polygon.plot(ax=base, color='none',edgecolor='black')\n"
   ]
  },
  {
   "cell_type": "markdown",
   "metadata": {},
   "source": [
    "## Plot faults and bounding box"
   ]
  },
  {
   "cell_type": "code",
   "execution_count": 40,
   "metadata": {
    "ExecuteTime": {
     "end_time": "2020-06-02T06:36:27.704149Z",
     "start_time": "2020-06-02T06:36:26.996145Z"
    },
    "pycharm": {
     "is_executing": false
    }
   },
   "outputs": [
    {
     "data": {
      "image/png": "[encoded data removed]",
      "text/plain": [
       "<Figure size 432x288 with 1 Axes>"
      ]
     },
     "metadata": {
      "needs_background": "light"
     },
     "output_type": "display_data"
    }
   ],
   "source": [
    "#tempcode=c_l['o'] # fudge********************************\n",
    "#c_l['o']='NAME' # fudge********************************\n",
    "if(os.path.exists(fault_file)):\n",
    "    lines_ll=gpd.read_file(fault_file,bbox=bbox)\n",
    "\n",
    "    sub_lines = lines_ll[['geometry', c_l['o'],c_l['f']]]\n",
    "    base=sub_lines.plot()\n",
    "    polygon.plot(ax=base, color='none',edgecolor='black')\n",
    "else:\n",
    "    sub_lines=[]\n"
   ]
  },
  {
   "cell_type": "markdown",
   "metadata": {},
   "source": [
    "## Save faults to file as WKT"
   ]
  },
  {
   "cell_type": "code",
   "execution_count": 41,
   "metadata": {
    "ExecuteTime": {
     "end_time": "2020-06-02T06:36:27.829145Z",
     "start_time": "2020-06-02T06:36:27.711143Z"
    },
    "pycharm": {
     "is_executing": false
    }
   },
   "outputs": [
    {
     "name": "stdout",
     "output_type": "stream",
     "text": [
      "4  polylines\n"
     ]
    }
   ],
   "source": [
    "m2l_topology.save_faults_wkt(sub_lines,fault_file_csv,c_l)\n",
    "#c_l['o']=tempcode # fudge********************************\n"
   ]
  },
  {
   "cell_type": "markdown",
   "metadata": {},
   "source": [
    "## Create map2model input file"
   ]
  },
  {
   "cell_type": "code",
   "execution_count": 42,
   "metadata": {
    "ExecuteTime": {
     "end_time": "2020-06-02T06:36:27.851146Z",
     "start_time": "2020-06-02T06:36:27.835146Z"
    },
    "pycharm": {
     "is_executing": false
    }
   },
   "outputs": [],
   "source": [
    "m2l_topology.save_Parfile(m2m_cpp_path,c_l,graph_path,geology_file_csv,fault_file_csv,structure_file_csv,mindep_file_csv,minx,maxx,miny,maxy,500.0,'Fe,Cu,Au,NONE',2)\n"
   ]
  },
  {
   "cell_type": "markdown",
   "metadata": {},
   "source": [
    "## Calculate topology"
   ]
  },
  {
   "cell_type": "code",
   "execution_count": 43,
   "metadata": {
    "ExecuteTime": {
     "end_time": "2020-06-02T06:36:31.879760Z",
     "start_time": "2020-06-02T06:36:27.859150Z"
    },
    "pycharm": {
     "is_executing": false
    }
   },
   "outputs": [
    {
     "name": "stdout",
     "output_type": "stream",
     "text": [
      "C:\\Users\\00073294\\Dropbox\\1_Jupyter_notebooks\\map2loop\\m2m_cpp\n"
     ]
    }
   ],
   "source": [
    "import subprocess\n",
    "import platform\n",
    "os.chdir(m2m_cpp_path)\n",
    "print(os.getcwd())\n",
    "#%system map2model.exe Parfile\n",
    "if(platform.system()=='Windows'):\n",
    "    subprocess.run([\"map2model.exe\", \"Parfile\"])\n",
    "else:\n",
    "    subprocess.run([\"./map2model\", \"Parfile\"])"
   ]
  },
  {
   "cell_type": "markdown",
   "metadata": {},
   "source": [
    "## Simple network graph of the geology with legend   \n",
    "If in Australia we can use data derived from the ASUD database to refine stratigraphic relationships"
   ]
  },
  {
   "cell_type": "code",
   "execution_count": 44,
   "metadata": {},
   "outputs": [],
   "source": [
    "if(Australia):\n",
    "    asud_strat_file='../source_data/ASUD.csv'\n",
    "    m2l_topology.use_asud(strat_graph_file, asud_strat_file,graph_path)\n",
    "    strat_graph_file=graph_path+'ASUD_strat.gml'\n",
    "\n"
   ]
  },
  {
   "cell_type": "code",
   "execution_count": 45,
   "metadata": {
    "ExecuteTime": {
     "end_time": "2020-06-02T06:36:33.117911Z",
     "start_time": "2020-06-02T06:36:31.884772Z"
    },
    "pycharm": {
     "is_executing": false
    },
    "scrolled": false
   },
   "outputs": [
    {
     "name": "stdout",
     "output_type": "stream",
     "text": [
      "0    'Cb-Bf-u-B'\n",
      "1    'Cb-Bf-l-u'\n",
      "2    'DvCb-EBf-l-lm'\n",
      "3    'Dv-Pa'\n",
      "4    'Dv-Ss'\n",
      "5    'Dv-PMH'\n",
      "6    'Dv-A'\n",
      "7    'OdSl-B'\n",
      "8    'Od-Sk'\n",
      "9    'Od-Tp'\n",
      "10    'CmOd-SP'\n"
     ]
    },
    {
     "data": {
      "image/png": "[encoded data removed]",
      "text/plain": [
       "<Figure size 432x288 with 1 Axes>"
      ]
     },
     "metadata": {},
     "output_type": "display_data"
    }
   ],
   "source": [
    "G=nx.read_gml(strat_graph_file,label='id')\n",
    "selected_nodes = [n for n,v in G.nodes(data=True) if n >=0]\n",
    "nx.draw_networkx(G, pos=nx.kamada_kawai_layout(G), arrows=True, nodelist=selected_nodes)\n",
    "\n",
    "nlist=list(G.nodes.data('LabelGraphics'))\n",
    "nlist.sort()\n",
    "for no in nlist:\n",
    "    if(no[0]>=0):\n",
    "        elem=str(no[1]).replace(\"{'text':\",\"\").replace(\", 'fontSize': 14}\",\"\")\n",
    "        #second=elem.split(\":\").replace(\"'\",\"\")\n",
    "        print(no[0],\" \",elem)"
   ]
  },
  {
   "cell_type": "markdown",
   "metadata": {
    "scrolled": false
   },
   "source": [
    "## Process topography, stratigraphy, fold axial traces and faults\n",
    "\n",
    "### Takes GML file produced by topology code, combines with geology polygons, structure points and dtm to create 3D model in gempy.<br><br>\n",
    "\n",
    "Limitations:  no dykes, no sills. Sills require us to assign a unique surface to each instance of a sill (sill between units A and B needs to be different from sill of same age and strat codes as one found between E and F). Dykes via cokriging are really hard without just cookie cutting them in (but that is not our problem!). We are not checking for onlap relationships, which can perhaps been seen by having lots of units from one series adjacent to the youngest surface of the older series. Could also think about interpreting these as faults to introduce conceptual uncertainty. All mistakes belong to Mark Jessell, topology code that feeds this system by Vitaliy Ogarko.<br><br>\n",
    "\n",
    "Geology layer needs to have some unique strat code or text, some group code or text to function<br>\n",
    "Structure layer needs dip/dip direction<br>\n",
    "\n",
    "\n"
   ]
  },
  {
   "cell_type": "code",
   "execution_count": 46,
   "metadata": {
    "ExecuteTime": {
     "end_time": "2020-06-02T06:36:33.135909Z",
     "start_time": "2020-06-02T06:36:33.123906Z"
    },
    "pycharm": {
     "is_executing": false
    }
   },
   "outputs": [
    {
     "name": "stdout",
     "output_type": "stream",
     "text": [
      "C:\\Users\\00073294\\Dropbox\\1_Jupyter_notebooks\\map2loop\\map2loop\n",
      "C:\\Users\\00073294\\Dropbox\\1_Jupyter_notebooks\\map2loop\\map2loop\n"
     ]
    }
   ],
   "source": [
    "os.chdir('../map2loop')\n",
    "\n",
    "print(os.getcwd())\n",
    "\n",
    "#from IPython.core.display import display, HTML\n",
    "#display(HTML(\"<style>.container { width:80% !important; }</style>\"))\n",
    "\n",
    "sys.path.insert(0,\"../..\")\n",
    "print(os.getcwd())\n"
   ]
  },
  {
   "cell_type": "markdown",
   "metadata": {},
   "source": [
    "## Next we define an area of interest and some other basic stuff"
   ]
  },
  {
   "cell_type": "code",
   "execution_count": 47,
   "metadata": {
    "ExecuteTime": {
     "end_time": "2020-06-02T06:36:33.159908Z",
     "start_time": "2020-06-02T06:36:33.141909Z"
    },
    "pycharm": {
     "is_executing": false
    },
    "scrolled": false
   },
   "outputs": [
    {
     "name": "stdout",
     "output_type": "stream",
     "text": [
      "C:\\Users\\00073294\\Dropbox\\1_Jupyter_notebooks\\map2loop\\map2loop\n"
     ]
    }
   ],
   "source": [
    "print(os.getcwd())\n",
    "\n",
    "bbox2=str(minx)+\",\"+str(miny)+\",\"+str(maxx)+\",\"+str(maxy)\n",
    "lat_point_list = [miny, miny, maxy, maxy, maxy]\n",
    "lon_point_list = [minx, maxx, maxx, minx, minx]\n",
    "bbox_geom = Polygon(zip(lon_point_list, lat_point_list))\n",
    "polygon = gpd.GeoDataFrame(index=[0], crs=dst_crs, geometry=[bbox_geom]) \n",
    "bbox=(minx,miny,maxx,maxy)\n",
    "\n",
    "step_out=0.045 #add (in degrees) so edge pixel from dtm reprojection are not found\n"
   ]
  },
  {
   "cell_type": "markdown",
   "metadata": {
    "scrolled": false
   },
   "source": [
    "## Download and reproject the appropriate SRTM data\n",
    "mj: Getting this from GA, but could also get from Hawaii"
   ]
  },
  {
   "cell_type": "code",
   "execution_count": 48,
   "metadata": {},
   "outputs": [],
   "source": [
    "from urllib.request import urlopen\n",
    "\n",
    "def get_dtm_topography_org(path_out, minlong,maxlong,minlat,maxlat):\n",
    "\n",
    "    link='https://portal.opentopography.org/otr/getdem?demtype=SRTMGL3&west='+str(minlong)+'&south='+str(minlat)+'&east='+str(maxlong)+'&north='+str(maxlat)+'&outputFormat=GTiff'\n",
    "\n",
    "    print(link)\n",
    "    img = urlopen(link)\n",
    "   \n",
    "    f = open(path_out, 'wb')\n",
    "    f.write(img.read())\n",
    "    f.close()\n",
    "    print(\"dtm geotif saved as\",path_out)"
   ]
  },
  {
   "cell_type": "code",
   "execution_count": 49,
   "metadata": {
    "ExecuteTime": {
     "end_time": "2020-06-02T06:36:35.360910Z",
     "start_time": "2020-06-02T06:36:33.170933Z"
    },
    "pycharm": {
     "is_executing": false
    }
   },
   "outputs": [
    {
     "name": "stdout",
     "output_type": "stream",
     "text": [
      "-115.96604120090015 -115.15503738971087 50.47547240934318 51.049125500685236\n",
      "Attempt: 0 https://portal.opentopography.org/otr/getdem?demtype=SRTMGL3&west=-115.96604120090015&south=50.47547240934318&east=-115.15503738971087&north=51.049125500685236&outputFormat=GTiff\n",
      "dtm geotif saved as ../Rockies/dtm/dtm.tif\n",
      "\n",
      "reprojected dtm geotif saved as ../Rockies/dtm/dtm_rp.tif\n"
     ]
    },
    {
     "data": {
      "image/png": "[encoded data removed]",
      "text/plain": [
       "<Figure size 432x288 with 1 Axes>"
      ]
     },
     "metadata": {
      "needs_background": "light"
     },
     "output_type": "display_data"
    }
   ],
   "source": [
    "polygon_ll=polygon.to_crs(src_crs)\n",
    "\n",
    "minlong=polygon_ll.total_bounds[0]-step_out\n",
    "maxlong=polygon_ll.total_bounds[2]+step_out\n",
    "minlat=polygon_ll.total_bounds[1]-step_out\n",
    "maxlat=polygon_ll.total_bounds[3]+step_out\n",
    "\n",
    "print(minlong,maxlong,minlat,maxlat)\n",
    "downloaded = False\n",
    "i=0\n",
    "print('Attempt: 0 ',end='')\n",
    "while downloaded == False:\n",
    "    try:\n",
    "        #m2l_utils.get_dtm_hawaii(dtm_file, minlong,maxlong,minlat,maxlat)\n",
    "        get_dtm_topography_org(dtm_file, minlong,maxlong,minlat,maxlat)\n",
    "        downloaded=True\n",
    "    except:\n",
    "        time.sleep(10)\n",
    "        i=i+1\n",
    "        print(' ',i,end='')\n",
    "if(i==100):\n",
    "    raise NameError('map2loop error: Could not access DTM server after 100 attempts')\n",
    "print()\n",
    "\n",
    "geom_rp=m2l_utils.reproject_dtm(dtm_file,dtm_reproj_file,src_crs,dst_crs)\n",
    "\n",
    "dtm = rasterio.open(dtm_reproj_file)\n",
    "pyplot.imshow(dtm.read(1), cmap='terrain',vmin=2000,vmax=5000)\n",
    "pyplot.show()\n",
    "\n"
   ]
  },
  {
   "cell_type": "markdown",
   "metadata": {
    "scrolled": false
   },
   "source": [
    "## Load stratigraphy graph and create list of series (aka groups)\n",
    "mj: The choice of what constitutes basic unit and what a group of units is hard-wired at the moment, but could be altered to any pair. Not even sure we need two levels but it seemed like a good idea at the time. Note that this needs the arcgis plugin version of the topology code (for now) as it seperates the different sub graphs. Text outputs list alternate topologies for series and surfaces, which if confirmed by comapring max-min ages will be a nice source of uncertainty."
   ]
  },
  {
   "cell_type": "code",
   "execution_count": 50,
   "metadata": {
    "ExecuteTime": {
     "end_time": "2020-06-02T06:36:37.574913Z",
     "start_time": "2020-06-02T06:36:35.371908Z"
    },
    "pycharm": {
     "is_executing": false
    }
   },
   "outputs": [
    {
     "data": {
      "text/plain": [
       "6"
      ]
     },
     "metadata": {},
     "output_type": "display_data"
    },
    {
     "data": {
      "text/plain": [
       "{-10: 'LOWER_ORDOVICIAN',\n",
       " -9: 'MIDDLE_ORDOVICIAN',\n",
       " -1: 'MISSISSIPPIAN',\n",
       " -3: 'UPPER_CAMBRIAN',\n",
       " -4: 'UPPER_DEVONIAN',\n",
       " -11: 'UPPER_ORDOVICIAN'}"
      ]
     },
     "metadata": {},
     "output_type": "display_data"
    }
   ],
   "source": [
    "groups,glabels,G = m2l_topology.get_series(strat_graph_file,'id')\n",
    "display(groups,glabels)"
   ]
  },
  {
   "cell_type": "code",
   "execution_count": 51,
   "metadata": {
    "scrolled": false
   },
   "outputs": [
    {
     "data": {
      "image/png": "[encoded data removed]",
      "text/plain": [
       "<Figure size 432x288 with 1 Axes>"
      ]
     },
     "metadata": {},
     "output_type": "display_data"
    },
    {
     "data": {
      "image/png": "[encoded data removed]",
      "text/plain": [
       "<Figure size 432x288 with 1 Axes>"
      ]
     },
     "metadata": {},
     "output_type": "display_data"
    },
    {
     "data": {
      "image/png": "[encoded data removed]",
      "text/plain": [
       "<Figure size 432x288 with 1 Axes>"
      ]
     },
     "metadata": {},
     "output_type": "display_data"
    },
    {
     "data": {
      "image/png": "[encoded data removed]",
      "text/plain": [
       "<Figure size 432x288 with 1 Axes>"
      ]
     },
     "metadata": {},
     "output_type": "display_data"
    },
    {
     "data": {
      "image/png": "[encoded data removed]",
      "text/plain": [
       "<Figure size 432x288 with 1 Axes>"
      ]
     },
     "metadata": {},
     "output_type": "display_data"
    },
    {
     "data": {
      "image/png": "[encoded data removed]",
      "text/plain": [
       "<Figure size 432x288 with 1 Axes>"
      ]
     },
     "metadata": {},
     "output_type": "display_data"
    }
   ],
   "source": [
    "import networkx as nx\n",
    "import matplotlib.pyplot as plt\n",
    "import geopandas as gpd\n",
    "import pandas as pd\n",
    "import numpy as np\n",
    "import functools \n",
    "import operator  \n",
    "import shapely.affinity\n",
    "from shapely.ops import split\n",
    "from shapely.geometry import Point, LineString, MultiLineString, GeometryCollection, Polygon\n",
    "from math import degrees,atan2, acos, degrees\n",
    "import warnings\n",
    "\n",
    "from map2loop import m2l_utils\n",
    "\n",
    "def save_units(G,path_out,glabels,Australia,asud_strat_file):\n",
    "    if Australia:\n",
    "        ASUD=pd.read_csv(asud_strat_file,',') \n",
    "    for p in glabels: #process each group, removing nodes that are not part of that group, and other groups\n",
    "        GD=G.copy() #temporary copy of full graph\n",
    "        #print()\n",
    "        #print(p,glabels[p].replace(\" \",\"_\").replace(\"-\",\"_\"))\n",
    "        nlist=list(G.nodes)\n",
    "\n",
    "        for n in nlist: # Calculate total number of groups and their names groups\n",
    "            if('gid' in GD.nodes[n]): #normal node\n",
    "                if(GD.nodes[n]['gid']!=p): #normal node but not part of current group\n",
    "                    GD.remove_node(n)\n",
    "            else:                     #group node\n",
    "                GD.remove_node(n)\n",
    "        \n",
    "        labels = {}\n",
    "        for node in GD.nodes():   #local store of node labels     \n",
    "            labels[node] = G.nodes[node]['LabelGraphics']['text'].replace(\" \",\"_\").replace(\"-\",\"_\")\n",
    "\n",
    "        cycles=nx.simple_cycles(GD)\n",
    "        #for cy in cycles:\n",
    "            #print(cy[0],cy[1])\n",
    "\n",
    "        for cy in cycles:\n",
    "            found=False\n",
    "            #print(\"go\",cy[0],cy[1])\n",
    "\n",
    "            if Australia:\n",
    "                len_cy=len(cy)\n",
    "                for i in range(len_cy-1):\n",
    "                    glabel_0=GD.nodes[cy[i]]['LabelGraphics']['text']\n",
    "                    glabel_1=GD.nodes[cy[i+1]]['LabelGraphics']['text']\n",
    "                    edge=ASUD.loc[(ASUD['over'] == glabel_0) & (ASUD['under'] == glabel_1) ]\n",
    "                    if(len(edge)==0 and (not('isGroup' in GD.nodes[cy[i]]) and not('isGroup' in GD.nodes[cy[i+1]]))):\n",
    "                        \n",
    "                        #  is this  right?????\n",
    "                        if(GD.has_edge(cy[i],cy[i+1])):  \n",
    "                            continue\n",
    "                        else:\n",
    "                            warning_msg='map2loop warning 1: Stratigraphic relationship: '+ str(GD.nodes[cy[i]]['LabelGraphics']['text'])+' overlies '+str(GD.nodes[cy[i+1]]['LabelGraphics']['text'])+' removed to prevent cycle'      \n",
    "                            warnings.warn(warning_msg)\n",
    "                            GD.remove_edge(cy[i],cy[i+1])\n",
    "                            found=True\n",
    "\n",
    "                            \n",
    "                if(not found):\n",
    "                    glabel_0=GD.nodes[cy[len_cy-1]]['LabelGraphics']['text']\n",
    "                    glabel_1=GD.nodes[cy[0]]['LabelGraphics']['text']\n",
    "                    edge=ASUD.loc[(ASUD['over'] == glabel_0) & (ASUD['under'] == glabel_1) ]\n",
    "                    if(len(edge)==0 and (not('isGroup' in GD.nodes[cy[len_cy-1]]) and not('isGroup' in GD.nodes[cy[0]]))):\n",
    "                        if( GD.has_edge(cy[len_cy-1],cy[0])):\n",
    "                            warning_msg='map2loop warning 1: Stratigraphic relationship: '+ str(GD.nodes[cy[len_cy-1]]['LabelGraphics']['text'])+' overlies '+str(GD.nodes[cy[0]]['LabelGraphics']['text'])+' removed to prevent cycle'      \n",
    "                            warnings.warn(warning_msg)\n",
    "                            GD.remove_edge(cy[len_cy-1],cy[0])\n",
    "                            found=True\n",
    "                    if(not found):\n",
    "                        if(GD.has_edge(cy[0],cy[1])):\n",
    "                            warning_msg='map2loop warning 2: Stratigraphic relationship: '+ str(GD.nodes[cy[0]]['LabelGraphics']['text'])+' overlies '+str(GD.nodes[cy[1]]['LabelGraphics']['text'])+' removed to prevent cycle'      \n",
    "                            warnings.warn(warning_msg)\n",
    "                            GD.remove_edge(cy[0],cy[1])\n",
    "                   \n",
    "            else:\n",
    "                if(GD.has_edge(cy[0],cy[1])):\n",
    "                    warning_msg='map2loop warning 3: Stratigraphic relationship: '+ str(GD.nodes[cy[0]]['LabelGraphics']['text'])+' overlies '+str(GD.nodes[cy[1]]['LabelGraphics']['text'])+' removed to prevent cycle'      \n",
    "                    warnings.warn(warning_msg)\n",
    "                    GD.remove_edge(cy[0],cy[1])\n",
    "        \n",
    "        plt.figure(p+1) #display strat graph for one group\n",
    "        plt.title(glabels[p])\n",
    "        nx.draw_networkx(GD, pos=nx.kamada_kawai_layout(GD), arrows=True,with_labels=False)\n",
    "        nx.draw_networkx_labels(GD,pos=nx.kamada_kawai_layout(GD), labels=labels, font_size=12,font_family='sans-serif')\n",
    "        \n",
    "        #cycles=nx.simple_cycles(GD)\n",
    "        #for cy in cycles:\n",
    "            #print(cy[0],cy[1])\n",
    "\n",
    "        one=True\n",
    "        if(one):\n",
    "            nlist=list(nx.topological_sort(GD)) #one possible sorted directional graphs\n",
    "        else:\n",
    "            nlist=list(nx.all_topological_sorts(GD)) #all possible sorted directional graphs\n",
    "            \n",
    "        \n",
    "        f = open(path_out+\"/\"+glabels[p].replace(\" \",\"_\").replace(\"-\",\"_\")+'.csv', 'w')\n",
    "\n",
    "        if(one):\n",
    "                f.write('Choice '+str(0))\n",
    "                for n in range(0,len(GD)): #display nodes for one sorted graph\n",
    "                   \n",
    "                    f.write(\",\"+G.nodes[nlist[n]]['LabelGraphics']['text'].replace(\" \",\"_\").replace(\"-\",\"_\"))\n",
    "                \n",
    "                f.write('\\n')\n",
    "        else:\n",
    "            for m in range(10): #process first ten sorted graphs\n",
    "                f.write('Choice '+str(m))\n",
    "                for n in range(0,len(GD)): #display nodes for one sorted graph\n",
    "                    #print(nlist[m][n],G.nodes[nlist[m][n]]['LabelGraphics']['text'].replace(\" \",\"_\").replace(\"-\",\"_\"))\n",
    "                    f.write(\",\"+G.nodes[nlist[m][n]]['LabelGraphics']['text'].replace(\" \",\"_\").replace(\"-\",\"_\"))\n",
    "                #if(m<len(nlist)-1):\n",
    "                    #print(\"....\")\n",
    "                f.write('\\n')\n",
    "        f.close()\n",
    "save_units(G,tmp_path,glabels,Australia,asud_strat_file)"
   ]
  },
  {
   "cell_type": "code",
   "execution_count": 52,
   "metadata": {
    "ExecuteTime": {
     "end_time": "2020-06-02T06:36:37.574913Z",
     "start_time": "2020-06-02T06:36:35.371908Z"
    },
    "pycharm": {
     "is_executing": false
    },
    "scrolled": false
   },
   "outputs": [],
   "source": [
    "#m2l_topology.save_units(G,tmp_path,glabels,Australia,asud_strat_file)"
   ]
  },
  {
   "cell_type": "markdown",
   "metadata": {
    "scrolled": false
   },
   "source": [
    "## Load geology & structure data\n",
    "Currently loading from local files, but could load geology from WFS server at GSWA EXCEPT that the WFS online map has less fields that the zipped shapefiles. Go figure. We don't use fault layer at the moment (except for Vitaliy's topology code) but same logic applies in terms of where to get it from. Already have fault/strat relationships and once we have fault/fault relationships will start to include faults in models."
   ]
  },
  {
   "cell_type": "code",
   "execution_count": 53,
   "metadata": {
    "ExecuteTime": {
     "end_time": "2020-06-02T06:36:38.727909Z",
     "start_time": "2020-06-02T06:36:37.580908Z"
    },
    "pycharm": {
     "is_executing": false
    }
   },
   "outputs": [
    {
     "name": "stdout",
     "output_type": "stream",
     "text": [
      "../Rockies/tmp/faults_clip.shp\n"
     ]
    },
    {
     "data": {
      "text/plain": [
       "<matplotlib.axes._subplots.AxesSubplot at 0x1fe49b7b3c8>"
      ]
     },
     "execution_count": 53,
     "metadata": {},
     "output_type": "execute_result"
    },
    {
     "data": {
      "image/png": "[encoded data removed]",
      "text/plain": [
       "<Figure size 720x720 with 1 Axes>"
      ]
     },
     "metadata": {
      "needs_background": "light"
     },
     "output_type": "display_data"
    }
   ],
   "source": [
    "# Extract point data from structure & geology layers for modelling\n",
    "##First we readin the structure and map from shapefiles, or wherever...\n",
    "\n",
    "bbox=(minx,miny,maxx,maxy)\n",
    "geology = gpd.read_file(geology_file,bbox=bbox)\n",
    "geology[c_l['g']].fillna(geology[c_l['g2']], inplace=True)\n",
    "geology[c_l['g']].fillna(geology[c_l['c']], inplace=True)\n",
    "\n",
    "\n",
    "structure = gpd.read_file(structure_file,bbox=bbox)\n",
    "structure.crs=dst_crs\n",
    "print(fault_file)\n",
    "if(os.path.exists(fault_file)):\n",
    "    faults_clip = gpd.read_file(fault_file,bbox=bbox)\n",
    "    faults_clip.crs=dst_crs\n",
    "\n",
    "list1=['geometry',c_l['d'],c_l['dd'],c_l['sf'],c_l['bo']]\n",
    "list2=unique_list(list1)\n",
    "       \n",
    "sub_pts = structure[list2] \n",
    "\n",
    "base=geology.plot(column=c_l['c'],figsize=(10,10),edgecolor='#000000',linewidth=0.2)\n",
    "sub_pts.plot(ax=base,edgecolor='black')\n",
    "faults_clip.plot(ax=base, column=c_l['f'],edgecolor='black')"
   ]
  },
  {
   "cell_type": "markdown",
   "metadata": {
    "scrolled": false
   },
   "source": [
    "## Join geology and structures, save fold axial traces"
   ]
  },
  {
   "cell_type": "code",
   "execution_count": 54,
   "metadata": {
    "ExecuteTime": {
     "end_time": "2020-06-02T06:36:40.957911Z",
     "start_time": "2020-06-02T06:36:38.733913Z"
    },
    "pycharm": {
     "is_executing": false
    },
    "scrolled": false
   },
   "outputs": [],
   "source": [
    "geol_clip = m2l_utils.explode(geology)\n",
    "geol_clip.crs = dst_crs\n",
    "pd.set_option('display.max_columns', None)\n",
    "pd.set_option('display.max_rows',None)\n",
    "structure_code = gpd.sjoin(sub_pts, geol_clip, how=\"left\", op=\"within\")\n",
    "\n",
    "y_point_list = [miny, miny, maxy, maxy, miny]\n",
    "x_point_list = [minx, maxx, maxx, minx, minx]\n",
    "\n",
    "bbox_geom = Polygon(zip(x_point_list, y_point_list))\n",
    "\n",
    "polygo = gpd.GeoDataFrame(index=[0], crs=dst_crs, geometry=[bbox_geom]) \n",
    "is_bed=structure_code[c_l['sf']].str.contains(c_l['bedding'], regex=False) \n",
    "    \n",
    "structure_clip = structure_code[is_bed]\n",
    "structure_clip.crs = dst_crs\n",
    "\n",
    "\n",
    "if(c_l['dd']=='strike'):\n",
    "    structure_clip['azimuth2'] = structure_clip.apply(lambda row: row[c_l['dd']]+90.0, axis = 1)\n",
    "    c_l['dd']='azimuth2'\n",
    "    \n",
    "\n",
    "structure_clip.to_file(tmp_path+'structure_clip.shp')\n"
   ]
  },
  {
   "cell_type": "markdown",
   "metadata": {},
   "source": [
    "## Create possible stratigraphy sets per group\n",
    "mj: <font color='red'>Uses first of each possible set of toplogies per unit and per group, which is arbitrary. </font>On the other hand we are not checking relative ages again to see if this helps reduce ambiguity, which I think it would."
   ]
  },
  {
   "cell_type": "code",
   "execution_count": 55,
   "metadata": {
    "ExecuteTime": {
     "end_time": "2020-06-02T06:36:41.820914Z",
     "start_time": "2020-06-02T06:36:40.962912Z"
    },
    "pycharm": {
     "is_executing": false
    },
    "scrolled": false
   },
   "outputs": [
    {
     "data": {
      "text/html": [
       "<div>\n",
       "<style scoped>\n",
       "    .dataframe tbody tr th:only-of-type {\n",
       "        vertical-align: middle;\n",
       "    }\n",
       "\n",
       "    .dataframe tbody tr th {\n",
       "        vertical-align: top;\n",
       "    }\n",
       "\n",
       "    .dataframe thead th {\n",
       "        text-align: right;\n",
       "    }\n",
       "</style>\n",
       "<table border=\"1\" class=\"dataframe\">\n",
       "  <thead>\n",
       "    <tr style=\"text-align: right;\">\n",
       "      <th></th>\n",
       "      <th>index</th>\n",
       "      <th>min</th>\n",
       "      <th>max</th>\n",
       "      <th>ave</th>\n",
       "    </tr>\n",
       "    <tr>\n",
       "      <th>group_</th>\n",
       "      <th></th>\n",
       "      <th></th>\n",
       "      <th></th>\n",
       "      <th></th>\n",
       "    </tr>\n",
       "  </thead>\n",
       "  <tbody>\n",
       "    <tr>\n",
       "      <th>MISSISSIPPIAN</th>\n",
       "      <td>0</td>\n",
       "      <td>753.0</td>\n",
       "      <td>756.0</td>\n",
       "      <td>754.5</td>\n",
       "    </tr>\n",
       "    <tr>\n",
       "      <th>UPPER_DEVONIAN</th>\n",
       "      <td>1</td>\n",
       "      <td>760.0</td>\n",
       "      <td>1050.0</td>\n",
       "      <td>905.0</td>\n",
       "    </tr>\n",
       "    <tr>\n",
       "      <th>UPPER_ORDOVICIAN</th>\n",
       "      <td>2</td>\n",
       "      <td>1400.0</td>\n",
       "      <td>1400.0</td>\n",
       "      <td>1400.0</td>\n",
       "    </tr>\n",
       "    <tr>\n",
       "      <th>MIDDLE_ORDOVICIAN</th>\n",
       "      <td>3</td>\n",
       "      <td>1420.0</td>\n",
       "      <td>1420.0</td>\n",
       "      <td>1420.0</td>\n",
       "    </tr>\n",
       "    <tr>\n",
       "      <th>LOWER_ORDOVICIAN</th>\n",
       "      <td>4</td>\n",
       "      <td>1450.0</td>\n",
       "      <td>1450.0</td>\n",
       "      <td>1450.0</td>\n",
       "    </tr>\n",
       "    <tr>\n",
       "      <th>UPPER_CAMBRIAN</th>\n",
       "      <td>5</td>\n",
       "      <td>1610.0</td>\n",
       "      <td>1610.0</td>\n",
       "      <td>1610.0</td>\n",
       "    </tr>\n",
       "  </tbody>\n",
       "</table>\n",
       "</div>"
      ],
      "text/plain": [
       "                   index     min     max     ave\n",
       "group_                                          \n",
       "MISSISSIPPIAN          0   753.0   756.0   754.5\n",
       "UPPER_DEVONIAN         1   760.0  1050.0   905.0\n",
       "UPPER_ORDOVICIAN       2  1400.0  1400.0  1400.0\n",
       "MIDDLE_ORDOVICIAN      3  1420.0  1420.0  1420.0\n",
       "LOWER_ORDOVICIAN       4  1450.0  1450.0  1450.0\n",
       "UPPER_CAMBRIAN         5  1610.0  1610.0  1610.0"
      ]
     },
     "metadata": {},
     "output_type": "display_data"
    },
    {
     "data": {
      "text/plain": [
       "[]"
      ]
     },
     "metadata": {},
     "output_type": "display_data"
    },
    {
     "data": {
      "text/plain": [
       "{-10: 'LOWER_ORDOVICIAN',\n",
       " -9: 'MIDDLE_ORDOVICIAN',\n",
       " -1: 'MISSISSIPPIAN',\n",
       " -3: 'UPPER_CAMBRIAN',\n",
       " -4: 'UPPER_DEVONIAN',\n",
       " -11: 'UPPER_ORDOVICIAN'}"
      ]
     },
     "metadata": {},
     "output_type": "display_data"
    },
    {
     "name": "stdout",
     "output_type": "stream",
     "text": [
      "group choices: 1\n"
     ]
    },
    {
     "data": {
      "image/png": "[encoded data removed]",
      "text/plain": [
       "<Figure size 432x288 with 1 Axes>"
      ]
     },
     "metadata": {},
     "output_type": "display_data"
    }
   ],
   "source": [
    "m2l_topology.save_group(G,tmp_path,glabels,geol_clip,c_l)"
   ]
  },
  {
   "cell_type": "markdown",
   "metadata": {},
   "source": [
    "## Calculate cover depth grid and contacts    \n",
    "Grid is assumed to be of depth below surface   \n",
    "\n",
    "Also need to cater for case when we only have grid, no shapefile, so need to add a fake horizontal orientation in the middle of the map at average depth."
   ]
  },
  {
   "cell_type": "code",
   "execution_count": 56,
   "metadata": {
    "ExecuteTime": {
     "end_time": "2020-06-02T06:36:41.845914Z",
     "start_time": "2020-06-02T06:36:41.826915Z"
    }
   },
   "outputs": [],
   "source": [
    "if(workflow['cover_map']):\n",
    "\n",
    "    dtm = rasterio.open(dtm_reproj_file)\n",
    "    dtb_raw = rasterio.open(dtb_grid)\n",
    "\n",
    "    cover=gpd.read_file(cover_map_path)\n",
    "\n",
    "    with fiona.open(cover_map_path, \"r\") as shapefile:\n",
    "        shapes = [feature[\"geometry\"] for feature in shapefile]\n",
    "\n",
    "    with rasterio.open(dtb_grid) as src:\n",
    "        out_image, out_transform = rasterio.mask.mask(src, shapes, crop=True)\n",
    "        out_meta = src.meta.copy()\n",
    "\n",
    "    out_meta.update({\"driver\": \"GTiff\",\n",
    "                     \"height\": out_image.shape[1],\n",
    "                     \"width\": out_image.shape[2],\n",
    "                     \"transform\": out_transform})\n",
    "\n",
    "    with rasterio.open(dtb_clip, \"w\", **out_meta) as dest:\n",
    "        dest.write(out_image)  \n",
    "\n",
    "    dtb = rasterio.open(dtb_clip)\n",
    "    \n",
    "    m2l_geometry.process_cover(output_path,dtm,dtb,dtb_null,cover,workflow['cover_map'],cover_dip,bbox,dst_crs,cover_spacing,contact_decimate=3,use_vector=True,use_grid=True)    \n",
    "    \n",
    "    super_groups.append('cover')"
   ]
  },
  {
   "cell_type": "markdown",
   "metadata": {
    "scrolled": false
   },
   "source": [
    "## Export orientation data in csv  format\n"
   ]
  },
  {
   "cell_type": "code",
   "execution_count": 57,
   "metadata": {
    "ExecuteTime": {
     "end_time": "2020-06-02T06:36:42.781913Z",
     "start_time": "2020-06-02T06:36:41.851916Z"
    },
    "pycharm": {
     "is_executing": false
    },
    "scrolled": false
   },
   "outputs": [
    {
     "name": "stdout",
     "output_type": "stream",
     "text": [
      "0 orientations saved to ../Rockies/output/orientations.csv\n"
     ]
    },
    {
     "name": "stderr",
     "output_type": "stream",
     "text": [
      "C:\\Users\\00073294\\Anaconda3\\envs\\loop\\lib\\site-packages\\geopandas\\plotting.py:607: UserWarning: The GeoDataFrame you are attempting to plot is empty. Nothing has been displayed.\n",
      "  UserWarning,\n"
     ]
    },
    {
     "data": {
      "image/png": "[encoded data removed]",
      "text/plain": [
       "<Figure size 504x504 with 1 Axes>"
      ]
     },
     "metadata": {
      "needs_background": "light"
     },
     "output_type": "display_data"
    }
   ],
   "source": [
    "m2l_geometry.save_orientations(structure_clip,output_path,c_l,orientation_decimate,dtm,dtb,dtb_null,workflow['cover_map'])\n",
    "\n",
    "m2l_utils.plot_points(output_path+'orientations.csv',geol_clip, 'formation','X','Y',True,'alpha')"
   ]
  },
  {
   "cell_type": "markdown",
   "metadata": {
    "scrolled": false
   },
   "source": [
    "## Find those series that don't have any orientation or contact point data  then create arbitrary point for series with no orientation data\n",
    "Not sure if gempy needs this but geomodeller does. Currently just gives a point dipping 45 degrees to North, but could use dip direction normal to basal surface)"
   ]
  },
  {
   "cell_type": "code",
   "execution_count": 58,
   "metadata": {
    "ExecuteTime": {
     "end_time": "2020-06-02T06:36:43.885916Z",
     "start_time": "2020-06-02T06:36:43.632913Z"
    },
    "pycharm": {
     "is_executing": false
    },
    "scrolled": false
   },
   "outputs": [],
   "source": [
    "#m2l_geometry.create_orientations( tmp_path, output_path, dtm,dtb,dtb_null,workflow['cover_map'],geol_clip,structure_clip,c_l)"
   ]
  },
  {
   "cell_type": "markdown",
   "metadata": {
    "scrolled": false
   },
   "source": [
    "## Export contact information subset of each polygon to gempy format\n",
    "mj: Orientation data needs calculated height as file does not provide it, taken from SRTM data already downloaded. Need to reduce number of points whilst retaining useful info (Ranee's job!)'\n",
    "To calculate which are the basal units contact for a polygon find the polygons which are older than the selected polygon, in the example below the central polygon has relative age 23 so its basal contact is with the polygons whose ages are 26 & 28. If there are no older units for a polygon it has no basal content. We keep every nth node based on the decimate term (simple count along polyline). gempy seems to need at least two points per surface, so we always take the first two points.\n",
    "\n",
    "\n",
    "<img src='../graphics/base.png'>"
   ]
  },
  {
   "cell_type": "code",
   "execution_count": 59,
   "metadata": {
    "ExecuteTime": {
     "end_time": "2020-06-02T06:36:47.910041Z",
     "start_time": "2020-06-02T06:36:43.890916Z"
    },
    "pycharm": {
     "is_executing": false
    },
    "scrolled": true
   },
   "outputs": [
    {
     "name": "stdout",
     "output_type": "stream",
     "text": [
      "basal contacts saved allpts= 2420 deci_pts= 179\n",
      "saved as ../Rockies/tmp/all_contacts.csv and ../Rockies/tmp/contacts.csv\n"
     ]
    }
   ],
   "source": [
    "ls_dict,ls_dict_decimate=m2l_geometry.save_basal_contacts(tmp_path,dtm,dtb,dtb_null,workflow['cover_map'],geol_clip,contact_decimate,c_l,intrusion_mode)"
   ]
  },
  {
   "cell_type": "markdown",
   "metadata": {},
   "source": [
    "## Remove all basal contacts that are defined by faults and save to shapefile (no decimation)"
   ]
  },
  {
   "cell_type": "code",
   "execution_count": 60,
   "metadata": {},
   "outputs": [
    {
     "name": "stdout",
     "output_type": "stream",
     "text": [
      "basal contacts without faults saved as ../Rockies/tmp/basal_contacts.shp\n"
     ]
    }
   ],
   "source": [
    "from shapely import geometry\n",
    "from shapely.geometry import shape, Polygon, LineString, Point, MultiLineString, MultiPolygon\n",
    "import matplotlib.pyplot as plt\n",
    "import requests\n",
    "import rasterio\n",
    "from pandas import DataFrame\n",
    "from geopandas import GeoDataFrame\n",
    "import geopandas as gpd\n",
    "import pandas as pd\n",
    "from math import acos, sqrt, cos, sin, degrees, radians, fabs, atan2, fmod, isnan\n",
    "from map2loop import m2l_utils\n",
    "from map2loop import m2l_interpolation\n",
    "import numpy as np\n",
    "import os\n",
    "import random\n",
    "\n",
    "def save_basal_no_faults(path_out,path_fault,ls_dict,dist_buffer,c_l,dst_crs):\n",
    "    \n",
    "    if(os.path.exists(path_fault)):\n",
    "        faults_clip_all = gpd.read_file(path_fault)\n",
    "        faults_clip=faults_clip_all[faults_clip_all[c_l['f']].str.contains(c_l['fault'])]\n",
    "        df = DataFrame.from_dict(ls_dict, \"index\")\n",
    "        contacts = GeoDataFrame(df,crs=dst_crs, geometry='geometry')\n",
    "\n",
    "\n",
    "        fault_zone = faults_clip.buffer(dist_buffer) #defines buffer around faults where strat nodes will be removed\n",
    "        fault_zone=fault_zone[~fault_zone.isna()]  # checks for empty fault strings???\n",
    "        #display(fault_zone)\n",
    "        all_fz = fault_zone.unary_union\n",
    "\n",
    "        contacts_nofaults = contacts.difference(all_fz) #deletes contact nodes within buffer\n",
    "    \n",
    "    \n",
    "        \n",
    "        ls_nf={}\n",
    "    \n",
    "        cnf_copy=contacts_nofaults.copy()\n",
    "    \n",
    "        #print(contacts_nofaults.shape)\n",
    "        for i in range(0,len(contacts_nofaults)): \n",
    "            j=len(contacts_nofaults)-i-1\n",
    "            #print(j)\n",
    "            if(cnf_copy.iloc[j].geom_type==\"GeometryCollection\"):#remove rows with geometry collections (== empty?)\n",
    "                cnf_copy.drop([j,j],inplace=True)\n",
    "            else: # save to dataframe\n",
    "                ls_nf[j]= {\"id\": j,c_l['c']:df.iloc[j][c_l['c']].replace(\" \",\"_\").replace(\"-\",\"_\"),c_l['g']:df.iloc[j][c_l['g']].replace(\" \",\"_\").replace(\"-\",\"_\"), \"geometry\": cnf_copy.iloc[j]}\n",
    "    \n",
    "    \n",
    "    \n",
    "        df_nf = DataFrame.from_dict(ls_nf, \"index\")\n",
    "    \n",
    "        contacts_nf = GeoDataFrame(df_nf,crs=dst_crs, geometry='geometry')\n",
    "        contacts_nf.to_file(driver = 'ESRI Shapefile', filename= path_out)\n",
    "    \n",
    "        #contacts_nofaults = gpd.read_file('./data/faults_clip.shp')\n",
    "        print(\"basal contacts without faults saved as\",path_out)\n",
    "    else:\n",
    "        df = DataFrame.from_dict(ls_dict, \"index\")                   \n",
    "        contacts = GeoDataFrame(df,crs=dst_crs, geometry='geometry') \n",
    "        contacts.to_file(driver = 'ESRI Shapefile', filename= path_out)        \n",
    "        print(\"basal contacts without faults saved as\",path_out)\n",
    "save_basal_no_faults(tmp_path+'basal_contacts.shp',tmp_path+'faults_clip.shp',ls_dict,10,c_l,dst_crs)"
   ]
  },
  {
   "cell_type": "code",
   "execution_count": 61,
   "metadata": {
    "ExecuteTime": {
     "end_time": "2020-06-02T06:36:48.679043Z",
     "start_time": "2020-06-02T06:36:47.916041Z"
    },
    "pycharm": {
     "is_executing": false
    }
   },
   "outputs": [],
   "source": [
    "#m2l_geometry.save_basal_no_faults(tmp_path+'basal_contacts.shp',tmp_path+'faults_clip.shp',ls_dict,10,c_l,dst_crs)"
   ]
  },
  {
   "cell_type": "markdown",
   "metadata": {},
   "source": [
    "## Remove faults from decimated basal contacts as save as csv file"
   ]
  },
  {
   "cell_type": "code",
   "execution_count": 62,
   "metadata": {
    "ExecuteTime": {
     "end_time": "2020-06-02T06:36:51.131041Z",
     "start_time": "2020-06-02T06:36:48.687041Z"
    },
    "pycharm": {
     "is_executing": false
    }
   },
   "outputs": [
    {
     "name": "stdout",
     "output_type": "stream",
     "text": [
      "decimated contacts saved as ../Rockies/output/contacts4.csv\n"
     ]
    },
    {
     "data": {
      "image/png": "[encoded data removed]",
      "text/plain": [
       "<Figure size 504x504 with 1 Axes>"
      ]
     },
     "metadata": {
      "needs_background": "light"
     },
     "output_type": "display_data"
    }
   ],
   "source": [
    "contacts=gpd.read_file(tmp_path+'basal_contacts.shp')\n",
    "\n",
    "m2l_geometry.save_basal_contacts_csv(contacts,output_path,dtm,dtb,dtb_null,workflow['cover_map'],contact_decimate,c_l)\n",
    "\n",
    "m2l_utils.plot_points(output_path+'contacts4.csv',geol_clip, 'formation','X','Y',False,'alpha')\n"
   ]
  },
  {
   "cell_type": "markdown",
   "metadata": {},
   "source": [
    "## Orientation and contact interpolation\n",
    "Interpolates a regular grid of orientations from an  shapefile of arbitrarily-located points and saves out four csv files of l,m & n direction cosines and dip dip direction data\n",
    "\n",
    "Can choose between various RBF and IDW options   \n",
    "  \n",
    "The purpose of these interpolations and associated code is to help in three cases:\n",
    "- Providing estimated dips and contacts in fault-bounded domains where no structural data are available\n",
    "- Needed to estimate true thickness of formations\n",
    "- Possibly useful for populating parts of maps where little structural data is available"
   ]
  },
  {
   "cell_type": "code",
   "execution_count": 63,
   "metadata": {
    "ExecuteTime": {
     "end_time": "2020-06-02T06:36:56.182700Z",
     "start_time": "2020-06-02T06:36:51.139045Z"
    }
   },
   "outputs": [
    {
     "name": "stdout",
     "output_type": "stream",
     "text": [
      "['MISSISSIPPIAN', 'UPPER DEVONIAN', 'UPPER ORDOVICIAN', 'MIDDLE ORDOVICIAN', 'LOWER ORDOVICIAN', 'UPPER CAMBRIAN'] has no structures\n"
     ]
    },
    {
     "name": "stderr",
     "output_type": "stream",
     "text": [
      "C:\\Users\\00073294\\AppData\\Roaming\\Python\\Python37\\site-packages\\map2loop-0.0.50-py3.7.egg\\map2loop\\m2l_interpolation.py:1481: RuntimeWarning: divide by zero encountered in true_divide\n",
      "C:\\Users\\00073294\\AppData\\Roaming\\Python\\Python37\\site-packages\\map2loop-0.0.50-py3.7.egg\\map2loop\\m2l_interpolation.py:1482: RuntimeWarning: divide by zero encountered in true_divide\n"
     ]
    }
   ],
   "source": [
    "basal_contacts=tmp_path+'basal_contacts.shp'\n",
    "\n",
    "orientation_interp,contact_interp,combo_interp=m2l_interpolation.interpolation_grids(geology_file,structure_file,basal_contacts,bbox,spacing,dst_crs,scheme,super_groups,c_l)\n",
    "\n",
    "\n",
    "f=open(tmp_path+'interpolated_orientations.csv','w')\n",
    "f.write('X,Y,l,m,n,dip,dip_dir\\n')\n",
    "for row in orientation_interp:\n",
    "    ostr='{},{},{},{},{},{},{}\\n'.format(row[0],row[1],row[2],row[3],row[4],row[5],row[6])\n",
    "    f.write(ostr)\n",
    "f.close()\n",
    "f=open(tmp_path+'interpolated_contacts.csv','w')\n",
    "f.write('X,Y,l,m,angle\\n')\n",
    "for row in contact_interp:\n",
    "    ostr='{},{},{},{},{}\\n'.format(row[0],row[1],row[2],row[3],row[4])\n",
    "    f.write(ostr)\n",
    "f.close()\n",
    "f=open(tmp_path+'interpolated_combined.csv','w')\n",
    "f.write('X,Y,l,m,n,dip,dip_dir\\n')\n",
    "for row in combo_interp:\n",
    "    ostr='{},{},{},{},{},{},{}\\n'.format(row[0],row[1],row[2],row[3],row[4],row[5],row[6])\n",
    "    f.write(ostr)\n",
    "f.close()"
   ]
  },
  {
   "cell_type": "code",
   "execution_count": 64,
   "metadata": {
    "ExecuteTime": {
     "end_time": "2020-06-02T06:36:56.860703Z",
     "start_time": "2020-06-02T06:36:56.191699Z"
    }
   },
   "outputs": [
    {
     "name": "stdout",
     "output_type": "stream",
     "text": [
      "100 106\n",
      "interpolated dips\n"
     ]
    },
    {
     "data": {
      "image/png": "[encoded data removed]",
      "text/plain": [
       "<Figure size 432x288 with 1 Axes>"
      ]
     },
     "metadata": {
      "needs_background": "light"
     },
     "output_type": "display_data"
    }
   ],
   "source": [
    "if(spacing<0):\n",
    "    spacing=-(bbox[2]-bbox[0])/spacing\n",
    "x=int((bbox[2]-bbox[0])/spacing)+1\n",
    "y=int((bbox[3]-bbox[1])/spacing)+1\n",
    "print(x,y)\n",
    "dip_grid=np.ones((y,x))\n",
    "dip_grid=dip_grid*-999\n",
    "dip_dir_grid=np.ones((y,x))\n",
    "dip_dir_grid=dip_dir_grid*-999\n",
    "contact_grid=np.ones((y,x))\n",
    "contact_grid=dip_dir_grid*-999\n",
    "for row in combo_interp:\n",
    "    r=int((row[1]-bbox[1])/spacing)\n",
    "    c=int((row[0]-bbox[0])/spacing)\n",
    "    dip_grid[r,c]=float(row[5])\n",
    "    dip_dir_grid[r,c]=float(row[6])\n",
    "\n",
    "for row in contact_interp:\n",
    "    r=int((row[1]-bbox[1])/spacing)\n",
    "    c=int((row[0]-bbox[0])/spacing)\n",
    "    contact_grid[r,c]=float(row[4])\n",
    "\n",
    "print('interpolated dips')\n",
    "plt.imshow(dip_grid, cmap=\"hsv\",origin='lower',vmin=-90,vmax=90)  \n",
    "plt.show()"
   ]
  },
  {
   "cell_type": "code",
   "execution_count": 65,
   "metadata": {
    "ExecuteTime": {
     "end_time": "2020-06-02T06:36:57.360703Z",
     "start_time": "2020-06-02T06:36:56.869698Z"
    }
   },
   "outputs": [
    {
     "name": "stdout",
     "output_type": "stream",
     "text": [
      "interpolated dip directions\n"
     ]
    },
    {
     "data": {
      "image/png": "[encoded data removed]",
      "text/plain": [
       "<Figure size 432x288 with 1 Axes>"
      ]
     },
     "metadata": {
      "needs_background": "light"
     },
     "output_type": "display_data"
    }
   ],
   "source": [
    "print('interpolated dip directions')\n",
    "       \n",
    "plt.imshow(dip_dir_grid, cmap=\"hsv\",origin='lower',vmin=0,vmax=360)    \n",
    "plt.show()"
   ]
  },
  {
   "cell_type": "code",
   "execution_count": 66,
   "metadata": {
    "ExecuteTime": {
     "end_time": "2020-06-02T06:36:57.848448Z",
     "start_time": "2020-06-02T06:36:57.367700Z"
    }
   },
   "outputs": [
    {
     "name": "stdout",
     "output_type": "stream",
     "text": [
      "interpolated contacts\n"
     ]
    },
    {
     "data": {
      "image/png": "[encoded data removed]",
      "text/plain": [
       "<Figure size 432x288 with 1 Axes>"
      ]
     },
     "metadata": {
      "needs_background": "light"
     },
     "output_type": "display_data"
    }
   ],
   "source": [
    "print('interpolated contacts')\n",
    "       \n",
    "plt.imshow(contact_grid, cmap=\"hsv\",origin='lower',vmin=-360,vmax=360)    \n",
    "plt.show()"
   ]
  },
  {
   "cell_type": "markdown",
   "metadata": {},
   "source": [
    "## Process fault geometry\n",
    "Save Faults as decimated points and representative orientation  \n",
    "Then, for each  fault string:\n",
    "- incementally advance along polyline every at each inter-node (no point in doing more?)\n",
    "- find local stratigraphy 10m to left and right of fault\n",
    "  \n",
    "Once full fault has been traversed:\n",
    "- Find list of contacts left \n",
    "- Find equivalent contacts on right\n",
    "- use interpolated orientations to estimate minimum true offset assuming vertical displacement and store \n",
    "- if no equivalent found, flag as domain fault and find min strat offset for contact, use cumulative minimum thickness estimate and store with flag (not implemented)\n",
    "- estimate median & sd of minimum fault offset and store with flag (not implemented)\n",
    "\n",
    "Local Orientations\n",
    "Since much of the code is the same, we benefit by calculating local orientation data either side of fault so that geomodeller/gempy have satisfied fault compartment orientation data## Save fault as contact info and and orientation info make vertical (for the moment)"
   ]
  },
  {
   "cell_type": "code",
   "execution_count": 67,
   "metadata": {},
   "outputs": [
    {
     "name": "stdout",
     "output_type": "stream",
     "text": [
      "fault orientations saved as ../Rockies/output/fault_orientations.csv\n",
      "fault positions saved as ../Rockies/output/faults.csv\n",
      "fault dimensions saved as ../Rockies/output/fault_dimensions.csv\n"
     ]
    }
   ],
   "source": [
    "from shapely import geometry\n",
    "from shapely.geometry import shape, Polygon, LineString, Point, MultiLineString, MultiPolygon\n",
    "import matplotlib.pyplot as plt\n",
    "import requests\n",
    "import rasterio\n",
    "from pandas import DataFrame\n",
    "from geopandas import GeoDataFrame\n",
    "import geopandas as gpd\n",
    "import pandas as pd\n",
    "from math import acos, sqrt, cos, sin, degrees, radians, fabs, atan2, fmod, isnan\n",
    "from map2loop import m2l_utils\n",
    "from map2loop import m2l_interpolation\n",
    "import numpy as np\n",
    "import os\n",
    "import random\n",
    "\n",
    "def save_faults(path_faults,output_path,dtm,dtb,dtb_null,cover_map,c_l,fault_decimate,fault_min_len,fault_dip):\n",
    "    f=open(output_path+'/faults.csv',\"w\")\n",
    "    f.write(\"X,Y,Z,formation\\n\")\n",
    "    fo=open(output_path+'/fault_orientations.csv',\"w\")\n",
    "    fo.write(\"X,Y,Z,DipDirection,dip,DipPolarity,formation\\n\")\n",
    "    #fo.write(\"X,Y,Z,azimuth,dip,polarity,formation\\n\")\n",
    "    fd=open(output_path+'/fault_dimensions.csv',\"w\")\n",
    "    fd.write(\"Fault,HorizontalRadius,VerticalRadius,InfluenceDistance\\n\")\n",
    "    #fd.write(\"Fault_ID,strike,dip_direction,down_dip\\n\")\n",
    "    if(os.path.exists(path_faults)):\n",
    "        faults_clip=gpd.read_file(path_faults)\n",
    "            \n",
    "        split=c_l['fdipest_vals'].split(\",\") #convert text dips to equally spaced angles\n",
    "        fault_dip_choices=np.linspace(0,90, len(split)+1)\n",
    "        dip_dirs={'north':(0.0,1.0),'northeast':(.707,.707),'east':(1.0,0.0),'southeast':(.707,-.707),\n",
    "                  'south':(0.0,-1.0),'southwest':(-.707,-.707),'west':(-1.0,0.0),'northwest':(-.707,.707),\n",
    "                  'North':(0.0,1.0),'Northeast':(.707,.707),'East':(1.0,0.0),'Southeast':(.707,-.707),\n",
    "                  'South':(0.0,-1.0),'Southwest':(-.707,-.707),'West':(-1.0,0.0),'Northwest':(-.707,.707),\n",
    "                  'Unknown':(0.0,1.0),'Vertical':(.707,.707)}\n",
    "        \n",
    "        \n",
    "        for indx,flt in faults_clip.iterrows():\n",
    "            if(c_l['fault'] in flt[c_l['f']]):\n",
    "                #fault_name='Fault_'+str(flt[c_l['o']])\n",
    "                fault_name=flt[c_l['n']]    #need to have flag for using objectid or name???\n",
    "                if(not str(flt.geometry)=='None'):\n",
    "                    if(flt.geometry.type=='LineString'):\n",
    "                        flt_ls=LineString(flt.geometry)\n",
    "                        dlsx=flt_ls.coords[0][0]-flt_ls.coords[len(flt_ls.coords)-1][0]\n",
    "                        dlsy=flt_ls.coords[0][1]-flt_ls.coords[len(flt_ls.coords)-1][1]\n",
    "\n",
    "                        strike=sqrt((dlsx*dlsx)+(dlsy*dlsy))\n",
    "                        if(strike>fault_min_len):\n",
    "                            i=0\n",
    "                            saved=0\n",
    "                            for afs in flt_ls.coords:\n",
    "                                if(m2l_utils.mod_safe(i,fault_decimate)==0 or i==int((len(flt_ls.coords)-1)/2) or i==len(flt_ls.coords)-1): #decimate to reduce number of points, but also take mid and end points of a series to keep some shape                         \n",
    "                                    if(saved==0):\n",
    "                                        p1x=afs[0]\n",
    "                                        p1y=afs[1]\n",
    "                                    elif(saved==1):\n",
    "                                        p2x=afs[0]\n",
    "                                        p2y=afs[1]\n",
    "                                    elif(saved==2):\n",
    "                                        p3x=afs[0]\n",
    "                                        p3y=afs[1]\n",
    "                                        # avoids narrow angles in fault traces which geomodeller refuses to solve\n",
    "                                        # should really split fault in two at apex, but life is too short\n",
    "                                        if(m2l_utils.tri_angle(p2x,p2y,p1x,p1y,p3x,p3y)<45.0): \n",
    "                                            break\n",
    "                                    elif(saved>2):\n",
    "                                        p1x=p2x\n",
    "                                        p1y=p2y\n",
    "                                        p2x=p3x\n",
    "                                        p2y=p3y\n",
    "                                        p3x=afs[0]\n",
    "                                        p3y=afs[1]\n",
    "                                        # avoids narrow angles in fault traces which geomodeller refuses to solve\n",
    "                                        # should really split fault in two at apex, but life is too short\n",
    "                                        if(m2l_utils.tri_angle(p2x,p2y,p1x,p1y,p3x,p3y)<45.0):\n",
    "                                            break \n",
    "                                    saved=saved+1\n",
    "                                    locations=[(afs[0],afs[1])]     \n",
    "                                    height=m2l_utils.value_from_dtm_dtb(dtm,dtb,dtb_null,cover_map,locations)\n",
    "                                    # slightly randomise first and last points to avoid awkward quadruple junctions etc.\n",
    "                                    #if(i==0 or i==len(flt_ls.coords)-1):\n",
    "                                    #    ostr=str(afs[0]+np.random.ranf())+\",\"+str(afs[1]+np.random.ranf())+\",\"+str(height)+\",\"+fault_name+\"\\n\"\n",
    "                                    #else:\n",
    "                                    ostr=\"{},{},{},{}\\n\"\\\n",
    "                                         .format(afs[0],afs[1],height,fault_name)\n",
    "                                    #ostr=str(afs[0])+\",\"+str(afs[1])+\",\"+str(height)+\",\"+fault_name+\"\\n\"                            \n",
    "                                    f.write(ostr)                \n",
    "                                i=i+1  \n",
    "                            if(dlsx==0.0 or dlsy == 0.0):\n",
    "                                continue\n",
    "                            lsx=dlsx/sqrt((dlsx*dlsx)+(dlsy*dlsy))\n",
    "                            lsy=dlsy/sqrt((dlsx*dlsx)+(dlsy*dlsy))        \n",
    "                            azimuth=degrees(atan2(lsy,-lsx)) % 180 #normal to line segment           \n",
    "                            locations=[(flt_ls.coords[int((len(afs)-1)/2)][0],flt_ls.coords[int((len(afs)-1)/2)][1])]     \n",
    "                            height=m2l_utils.value_from_dtm_dtb(dtm,dtb,dtb_null,cover_map,locations)\n",
    "\n",
    "                            if(flt[c_l['o']]=='-1'):\n",
    "                                print(flt[c_l['o']],c_l['fdip'],flt[c_l['fdip']],c_l['fdipnull'],c_l['fdipest'],\n",
    "                                  flt[c_l['fdipest']],c_l['fdipest_vals'])\n",
    "\n",
    "                            if(flt[c_l['fdip']]==c_l['fdipnull']): # null specifc dip defined\n",
    "                                if(not str(flt[c_l['fdipest']])=='None'): #  dip estimate defined\n",
    "                                    i=0\n",
    "                                    for choice in split:\n",
    "                                        if(flt[c_l['o']]=='-1'):\n",
    "                                            print(choice)\n",
    "                                        if(choice == flt[c_l['fdipest']]):\n",
    "                                            fault_dip=int(fault_dip_choices[i+1])\n",
    "                                            if(flt[c_l['o']]=='-1'):\n",
    "                                                print('found_dip',fault_dip)\n",
    "                                        i=i+1\n",
    "                                else:\n",
    "                                    if(fault_dip == -999): # random flag\n",
    "                                        fault_dip=random.randint(60,90)\n",
    "                            else:\n",
    "                                fault_dip=int(flt[c_l['fdip']]) # specific dip defined\n",
    "\n",
    "                            if(c_l['fdipdir_flag']=='num'): # numeric dip direction defined\n",
    "                                azimuth=flt[c_l['fdipdir']]\n",
    "                            elif(not str(flt[c_l['fdipdir']])=='None' and not flt[c_l['fdip']]== c_l['fdipnull'] ): # alpha dip direction defined\n",
    "                                dotprod=degrees(acos((-lsx*dip_dirs[flt[c_l['fdipdir']]][0])+(lsy*dip_dirs[flt[c_l['fdipdir']]][1])))\n",
    "                                if(dotprod>45):\n",
    "                                    fault_dip=-fault_dip\n",
    "\n",
    "\n",
    "                            ostr=\"{},{},{},{},{},{},{}\\n\"\\\n",
    "                                 .format(flt_ls.coords[int((len(flt_ls.coords)-1)/2)][0],flt_ls.coords[int((len(flt_ls.coords)-1)/2)][1],\n",
    "                                         height,azimuth,fault_dip,1,fault_name)\n",
    "                            #ostr=str(flt_ls.coords[int((len(flt_ls.coords)-1)/2)][0])+\",\"+str(flt_ls.coords[int((len(flt_ls.coords)-1)/2)][1])+\",\"+height+\",\"+str(azimuth)+\",\"+str(fault_dip)+\",1,\"+fault_name+\"\\n\"\n",
    "                            fo.write(ostr)\n",
    "                            strike=strike*1.25\n",
    "                            ostr=\"{},{},{},{}\\n\"\\\n",
    "                                 .format(fault_name,strike/2,strike,strike/4.0)\n",
    "                            #ostr=fault_name+\",\"+str(strike/2)+\",\"+str(strike)+\",\"+str(strike/4.0)+\"\\n\"\n",
    "                            fd.write(ostr)\n",
    "                    elif(flt.geometry.type=='MultiLineString' or flt.geometry.type=='GeometryCollection' ): #shouldn't happen any more\n",
    "                        sum_strike=0\n",
    "                        first=True\n",
    "                        for pline in flt.geometry:\n",
    "                            flt_ls=LineString(pline)\n",
    "                            dlsx=flt_ls.coords[0][0]-flt_ls.coords[len(flt_ls.coords)-1][0]\n",
    "                            dlsy=flt_ls.coords[0][1]-flt_ls.coords[len(flt_ls.coords)-1][1]\n",
    "                            sum_strike=sum_strike+sqrt((dlsx*dlsx)+(dlsy*dlsy))  \n",
    "                            if(first):\n",
    "                                firstx=flt_ls.coords[0][0]\n",
    "                                firsty=flt_ls.coords[0][1]\n",
    "                            lastx=flt_ls.coords[0][0]\n",
    "                            lasty=flt_ls.coords[0][1]\n",
    "                        ostr=\"{},{},{},{}\\n\"\\\n",
    "                                 .format(fault_name,sum_strike/2,sum_strike,sum_strike/4.0)    \n",
    "                        #ostr=fault_name+\",\"+str(sum_strike/2)+\",\"+str(sum_strike)+\",\"+str(sum_strike/4.0)+\"\\n\"\n",
    "                        fd.write(ostr) \n",
    "\n",
    "                        dlsx=firstx-lastx\n",
    "                        dlsy=firsty-lasty\n",
    "                        if(dlsx==0.0 or dlsy == 0.0):\n",
    "                                continue            \n",
    "\n",
    "                        lsx=dlsx/sqrt((dlsx*dlsx)+(dlsy*dlsy))\n",
    "                        lsy=dlsy/sqrt((dlsx*dlsx)+(dlsy*dlsy))        \n",
    "                        azimuth=degrees(atan2(lsy,-lsx)) % 180 #normal to line segment           \n",
    "                        locations=[(flt_ls.coords[int((len(afs)-1)/2)][0],flt_ls.coords[int((len(afs)-1)/2)][1])]     # should be mid-fault not mid fault segemnt but probs doesnt matter\n",
    "                        height=m2l_utils.value_from_dtm_dtb(dtm,dtb,dtb_null,cover_map,locations)\n",
    "                        ostr=\"{},{},{},{},{},{},{},\\n\"\\\n",
    "                                 .format(flt_ls.coords[int((len(flt_ls.coords)-1)/2)][0],flt_ls.coords[int((len(flt_ls.coords)-1)/2)][1],height,azimuth,fault_dip,1,fault_name)\n",
    "                        #ostr=str(flt_ls.coords[int((len(flt_ls.coords)-1)/2)][0])+\",\"+str(flt_ls.coords[int((len(flt_ls.coords)-1)/2)][1])+\",\"+height+\",\"+str(azimuth)+\",\"+str(fault_dip)+\",1,\"+fault_name+\"\\n\"\n",
    "                        fo.write(ostr)\n",
    "\n",
    "                        for pline in flt.geometry:\n",
    "                            #display(pline)\n",
    "                            #display(flt)\n",
    "                            flt_ls=LineString(pline)\n",
    "                            dlsx=flt_ls.coords[0][0]-flt_ls.coords[len(flt_ls.coords)-1][0]\n",
    "                            dlsy=flt_ls.coords[0][1]-flt_ls.coords[len(flt_ls.coords)-1][1]\n",
    "                            if(dlsx==0.0 or dlsy == 0.0):\n",
    "                                continue\n",
    "\n",
    "                            if(sum_strike>fault_min_len):\n",
    "                                i=0\n",
    "                                saved=0\n",
    "                                for afs in flt_ls.coords:\n",
    "                                    if(m2l_utils.mod_safe(i,fault_decimate)==0 or i==int((len(flt_ls.coords)-1)/2) or i==len(flt_ls.coords)-1): #decimate to reduce number of points, but also take mid and end points of a series to keep some shape                         \n",
    "                                        if(saved==0):\n",
    "                                            p1x=afs[0]\n",
    "                                            p1y=afs[1]\n",
    "                                        elif(saved==1):\n",
    "                                            p2x=afs[0]\n",
    "                                            p2y=afs[1]\n",
    "                                        elif(saved==2):\n",
    "                                            p3x=afs[0]\n",
    "                                            p3y=afs[1]\n",
    "                                            # avoids narrow angles in fault traces which geomodeller refuses to solve\n",
    "                                            # should really split fault in two at apex, but life is too short\n",
    "                                            if(m2l_utils.tri_angle(p2x,p2y,p1x,p1y,p3x,p3y)<45.0): \n",
    "                                                break\n",
    "                                        elif(saved>2):\n",
    "                                            p1x=p2x\n",
    "                                            p1y=p2y\n",
    "                                            p2x=p3x\n",
    "                                            p2y=p3y\n",
    "                                            p3x=afs[0]\n",
    "                                            p3y=afs[1]\n",
    "                                            # avoids narrow angles in fault traces which geomodeller refuses to solve\n",
    "                                            # should really split fault in two at apex, but life is too short\n",
    "                                            if(m2l_utils.tri_angle(p2x,p2y,p1x,p1y,p3x,p3y)<45.0):\n",
    "                                                break \n",
    "                                        saved=saved+1\n",
    "                                        locations=[(afs[0],afs[1])]     \n",
    "                                        height=m2l_utils.value_from_dtm_dtb(dtm,dtb,dtb_null,cover_map,locations)\n",
    "                                        # slightly randomise first and last points to avoid awkward quadruple junctions etc.\n",
    "                                        #if(i==0 or i==len(flt_ls.coords)-1):\n",
    "                                        #    ostr=str(afs[0]+np.random.ranf())+\",\"+str(afs[1]+np.random.ranf())+\",\"+str(height)+\",\"+fault_name+\"\\n\"\n",
    "                                        #else:\n",
    "                                        ostr=\"{},{},{},{}\\n\"\\\n",
    "                                             .format(afs[0],afs[1],height,fault_name)\n",
    "                                        #ostr=str(afs[0])+\",\"+str(afs[1])+\",\"+str(height)+\",\"+fault_name+\"\\n\"                            \n",
    "                                        f.write(ostr)                \n",
    "                                    i=i+1  \n",
    "    \n",
    "\n",
    "    f.close()\n",
    "    fo.close()\n",
    "    fd.close()\n",
    "    print(\"fault orientations saved as\",output_path+'fault_orientations.csv')\n",
    "    print(\"fault positions saved as\",output_path+'faults.csv')\n",
    "    print(\"fault dimensions saved as\",output_path+'fault_dimensions.csv')\n",
    "\n",
    "save_faults(tmp_path+'faults_clip.shp',output_path,dtm,dtb,dtb_null,workflow['cover_map'],c_l,fault_decimate,min_fault_length,fault_dip)\n"
   ]
  },
  {
   "cell_type": "code",
   "execution_count": 68,
   "metadata": {
    "ExecuteTime": {
     "end_time": "2020-06-02T06:36:58.310449Z",
     "start_time": "2020-06-02T06:36:57.855445Z"
    },
    "pycharm": {
     "is_executing": false
    }
   },
   "outputs": [],
   "source": [
    "#m2l_geometry.save_faults(tmp_path+'faults_clip.shp',output_path,dtm,dtb,dtb_null,workflow['cover_map'],c_l,fault_decimate,min_fault_length,fault_dip)\n"
   ]
  },
  {
   "cell_type": "code",
   "execution_count": 69,
   "metadata": {
    "ExecuteTime": {
     "end_time": "2020-06-02T06:37:52.854783Z",
     "start_time": "2020-06-02T06:36:58.316449Z"
    },
    "pycharm": {
     "is_executing": false,
     "name": "#%%\n"
    },
    "scrolled": false
   },
   "outputs": [],
   "source": [
    "import warnings\n",
    "warnings.filterwarnings('ignore')\n",
    "\n",
    "if(os.path.exists(fault_file)):\n",
    "    faults=pd.read_csv(output_path+'faults.csv')\n",
    "    faults_len=len(faults)\n",
    "\n",
    "    if(faults_len>0):\n",
    "        m2l_interpolation.process_fault_throw_and_near_faults_from_grid(tmp_path,output_path,dtm_reproj_file,dtb,dtb_null,workflow['cover_map'],c_l,dst_crs,bbox,\n",
    "                                                                scheme,dip_grid,dip_dir_grid,x,y,spacing)\n"
   ]
  },
  {
   "cell_type": "markdown",
   "metadata": {},
   "source": [
    "## Process plutons\n",
    "\n",
    "For each instruve but not sill polygon, find older neighbours and store decimated contact points. Also store dipping contact orientations (user defined, just because) with four possible sub-surface configurations:\n",
    "\n",
    "<b>saucers: \\\\_+++_/ <br>\n",
    "batholiths: +++/__ __ _\\\\+++  <br> \n",
    "domes: /‾+++‾\\\\ <br>\n",
    "pendants: +++\\\\_  _/+++ <br>\n",
    "</b>\n",
    "  \n",
    "Saves out orientations and contact points, as well as updated group level stratigraphic column.<br>\n"
   ]
  },
  {
   "cell_type": "code",
   "execution_count": 70,
   "metadata": {
    "ExecuteTime": {
     "end_time": "2020-06-02T06:37:52.975329Z",
     "start_time": "2020-06-02T06:37:52.875786Z"
    },
    "pycharm": {
     "is_executing": false
    }
   },
   "outputs": [
    {
     "name": "stdout",
     "output_type": "stream",
     "text": [
      "0 MISSISSIPPIAN\n",
      "1 UPPER_DEVONIAN\n",
      "2 UPPER_ORDOVICIAN\n",
      "3 MIDDLE_ORDOVICIAN\n",
      "4 LOWER_ORDOVICIAN\n",
      "5 UPPER_CAMBRIAN\n",
      "pluton contacts and orientations saved as:\n",
      "../Rockies/output/ign_contacts.csv\n",
      "../Rockies/output/ign_orientations_domes.csv\n"
     ]
    }
   ],
   "source": [
    "bbox=(minx,miny,maxx,maxy)\n",
    "\n",
    "pluton_dip=str(pluton_dip)\n",
    "\n",
    "dist_buffer=10\n",
    "\n",
    "m2l_geometry.process_plutons(tmp_path,output_path,geol_clip,local_paths,dtm,dtb,dtb_null,workflow['cover_map'],pluton_form,pluton_dip,contact_decimate,c_l)\n",
    "\n"
   ]
  },
  {
   "cell_type": "markdown",
   "metadata": {},
   "source": [
    "## Extract faults and basal contacts of groups from seismic section"
   ]
  },
  {
   "cell_type": "code",
   "execution_count": 71,
   "metadata": {
    "ExecuteTime": {
     "end_time": "2020-06-02T06:37:53.024318Z",
     "start_time": "2020-06-02T06:37:52.984324Z"
    },
    "pycharm": {
     "is_executing": false
    },
    "scrolled": true
   },
   "outputs": [],
   "source": [
    "if(workflow['seismic_section']):\n",
    "    seismic_line_file=data_path+'seismic_line_10GA-CP1_rev.shp'   #input geology file (if local)\n",
    "    seismic_line = gpd.read_file(seismic_line_file) #import map\n",
    "    seismic_line.plot(figsize=(10,10),edgecolor='#000000',linewidth=0.2) #display map\n",
    "    display(seismic_line)\n",
    "\n",
    "\n",
    "    seismic_bbox_file=data_path+'seismic_bbox.shp'   #input geology file (if local)\n",
    "    seismic_bbox = gpd.read_file(seismic_bbox_file) #import map\n",
    "    seismic_bbox.set_index('POSITION',inplace=True)\n",
    "\n",
    "    seismic_interp_file=data_path+'seismic_interp.shp'   #input geology file (if local)\n",
    "    seismic_interp = gpd.read_file(seismic_interp_file) #import map\n",
    "    seismic_interp.plot(column='FEATURE',figsize=(10,10),edgecolor='#000000',linewidth=0.5) #display map\n",
    "    display(seismic_interp)\n",
    "\n",
    "    surface_cut=2000\n",
    "\n",
    "    m2l_geometry.extract_section(tmp_path,output_path,seismic_line,seismic_bbox,seismic_interp,dtm,dtb,dtb_null,workflow['cover_map'],surface_cut)\n",
    "\n",
    "    contacts=pd.read_csv(output_path+'contacts4.csv',\",\")\n",
    "    seismic_contacts=pd.read_csv(output_path+'seismic_base.csv',\",\")\n",
    "    all_contacts=pd.concat([contacts,seismic_contacts],sort=False)\n",
    "    all_contacts.to_csv (output_path+'contacts4.csv', index = None, header=True)\n",
    "\n",
    "    faults=pd.read_csv(output_path+'faults.csv',\",\")\n",
    "    seismic_faults=pd.read_csv(output_path+'seismic_faults.csv',\",\")\n",
    "    all_faults=pd.concat([faults,seismic_faults],sort=False)\n",
    "    all_faults.to_csv (output_path+'faults.csv', index = None, header=True)\n"
   ]
  },
  {
   "cell_type": "markdown",
   "metadata": {},
   "source": [
    "## Propagate dips along contacts\n"
   ]
  },
  {
   "cell_type": "code",
   "execution_count": 72,
   "metadata": {
    "ExecuteTime": {
     "end_time": "2020-06-02T06:37:57.153856Z",
     "start_time": "2020-06-02T06:37:53.039322Z"
    },
    "pycharm": {
     "is_executing": false
    }
   },
   "outputs": [],
   "source": [
    "if(workflow['contact_dips']):\n",
    "    orientations=pd.read_csv(output_path+'orientations.csv',\",\")\n",
    "    contact_dip=-999\n",
    "    contact_orientation_decimate=5\n",
    "    m2l_geometry.save_basal_contacts_orientations_csv(contacts,orientations,geol_clip,tmp_path,output_path,dtm,dtb,\n",
    "                            dtb_null,workflow['cover_map'],contact_orientation_decimate,c_l,contact_dip,dip_grid,spacing,bbox)"
   ]
  },
  {
   "cell_type": "markdown",
   "metadata": {},
   "source": [
    "## Estimate formation thickness and normalised formation thickness"
   ]
  },
  {
   "cell_type": "code",
   "execution_count": 73,
   "metadata": {
    "ExecuteTime": {
     "end_time": "2020-06-02T06:38:05.469082Z",
     "start_time": "2020-06-02T06:37:57.161852Z"
    },
    "pycharm": {
     "is_executing": false
    }
   },
   "outputs": [
    {
     "name": "stdout",
     "output_type": "stream",
     "text": [
      "23\n",
      "424 points saved to ../Rockies/tmp/raw_contacts.csv\n",
      "261 thickness estimates saved as ../Rockies/output/formation_thicknesses.csv\n",
      "['Od_Tp' 'Od_Sk' 'OdSl_B' 'Dv_A' 'Dv_PMH' 'Dv_Ss' 'Cb_Bf_l_u'] already processed\n",
      "382 min thickness estimates appended to ../Rockies/output/formation_thicknesses.csv\n",
      "Od_Tp 101.0 75.07032503603514\n",
      "Od_Sk 490.5 140.69278701291094\n",
      "OdSl_B 287.0 182.04281030882152\n",
      "Dv_A 98.5 246.6798335390257\n",
      "Dv_PMH 293.0 283.7177014975448\n",
      "Dv_Ss 137.0 281.3209337072794\n",
      "Cb_Bf_l_u 170.0 148.94286248284936\n",
      "Dv_Pa 480.0 433.96219220026444\n",
      "Cb_Bf_u_B 542.0 183.3040622665103\n"
     ]
    },
    {
     "data": {
      "image/png": "[encoded data removed]",
      "text/plain": [
       "<Figure size 504x504 with 2 Axes>"
      ]
     },
     "metadata": {
      "needs_background": "light"
     },
     "output_type": "display_data"
    }
   ],
   "source": [
    "if(workflow['formation_thickness']):\n",
    "\n",
    "    geology_file=tmp_path+'basal_contacts.shp'\n",
    "    contact_decimate=5\n",
    "    null_scheme='null'\n",
    "    m2l_interpolation.save_contact_vectors(geology_file,tmp_path,dtm,dtb,dtb_null,workflow['cover_map'],bbox,c_l,null_scheme,contact_decimate)\n",
    "    \n",
    "    buffer =5000\n",
    "    max_thickness_allowed=10000\n",
    "\n",
    "    m2l_geometry.calc_thickness_with_grid(tmp_path,output_path,buffer,max_thickness_allowed,\n",
    "                                          c_l,bbox,dip_grid,dip_dir_grid,x,y,spacing)\n",
    "    \n",
    "    m2l_geometry.calc_min_thickness_with_grid(tmp_path,output_path,buffer,max_thickness_allowed,\n",
    "                                          c_l,bbox,dip_grid,dip_dir_grid,x,y,spacing)\n",
    "    m2l_geometry.normalise_thickness(output_path)\n",
    "    \n",
    "    m2l_utils.plot_points(output_path+'formation_thicknesses_norm.csv',geol_clip,'norm_th','x','y',True,'numeric')\n"
   ]
  },
  {
   "cell_type": "markdown",
   "metadata": {},
   "source": [
    "## Creates fold axial trace points"
   ]
  },
  {
   "cell_type": "code",
   "execution_count": 77,
   "metadata": {
    "ExecuteTime": {
     "end_time": "2020-06-02T06:38:05.498083Z",
     "start_time": "2020-06-02T06:38:05.479082Z"
    },
    "pycharm": {
     "is_executing": false
    }
   },
   "outputs": [
    {
     "name": "stdout",
     "output_type": "stream",
     "text": [
      "fold axial traces saved as ../Rockies/output/fold_axial_traces.csv\n",
      "fold axial traces saved as ../Rockies/output/fold_axial_traces.csv\n",
      "fold axial trace orientations saved as ../Rockies/output/fold_axial_trace_orientations.csv\n"
     ]
    }
   ],
   "source": [
    "from shapely import geometry\n",
    "from shapely.geometry import shape, Polygon, LineString, Point, MultiLineString, MultiPolygon\n",
    "import matplotlib.pyplot as plt\n",
    "import requests\n",
    "import rasterio\n",
    "from pandas import DataFrame\n",
    "from geopandas import GeoDataFrame\n",
    "import geopandas as gpd\n",
    "import pandas as pd\n",
    "from math import acos, sqrt, cos, sin, degrees, radians, fabs, atan2, fmod, isnan\n",
    "from map2loop import m2l_utils\n",
    "from map2loop import m2l_interpolation\n",
    "import numpy as np\n",
    "import os\n",
    "import random\n",
    "\n",
    "def save_fold_axial_traces(path_folds,path_fold_orientations,dtm,dtb,dtb_null,cover_map,c_l,fold_decimate):\n",
    "    folds_clip=gpd.read_file(path_folds)\n",
    "    fo=open(path_fold_orientations+'/fold_axial_traces.csv',\"w\")\n",
    "    fo.write(\"X,Y,Z,code,type\\n\")\n",
    "\n",
    "    for indx,fold in folds_clip.iterrows():\n",
    "        fold_name=str(fold[c_l['o']])\n",
    "        if(not str(fold.geometry) =='None'):\n",
    "            if(fold.geometry.type=='MultiLineString'):\n",
    "                for mls in fold.geometry:\n",
    "                    fold_ls=LineString(mls)\n",
    "\n",
    "                    i=0\n",
    "                    for afs in fold_ls.coords:\n",
    "                        if(c_l['fold'] in fold[c_l['ff']]):\n",
    "                            if(m2l_utils.mod_safe(i,fold_decimate)==0 or i==int((len(fold_ls.coords)-1)/2) or i==len(fold_ls.coords)-1): #decimate to reduce number of points, but also take mid and end points of a series to keep some shape\n",
    "                                locations=[(afs[0],afs[1])]     \n",
    "                                height=m2l_utils.value_from_dtm_dtb(dtm,dtb,dtb_null,cover_map,locations)\n",
    "                                ostr=\"{},{},{},FA_{},{}\\n\"\\\n",
    "                                     .format(afs[0],afs[1],height,fold_name,fold[c_l['t']].replace(',',''))\n",
    "                                #ostr=str(afs[0])+','+str(afs[1])+','+str(height)+','+'FA_'+fold_name+','+fold[c_l['t']].replace(',','')+'\\n'\n",
    "                                fo.write(ostr)                \n",
    "                        i=i+1  \n",
    "            else:\n",
    "                fold_ls=LineString(fold.geometry)\n",
    "\n",
    "                i=0\n",
    "                for afs in fold_ls.coords:\n",
    "                    if(c_l['fold'] in fold[c_l['ff']]):\n",
    "                        if(m2l_utils.mod_safe(i,fold_decimate)==0 or i==int((len(fold_ls.coords)-1)/2) or i==len(fold_ls.coords)-1): #decimate to reduce number of points, but also take mid and end points of a series to keep some shape\n",
    "                            locations=[(afs[0],afs[1])]     \n",
    "                            height=m2l_utils.value_from_dtm_dtb(dtm,dtb,dtb_null,cover_map,locations)\n",
    "                            ostr=\"{},{},{},FA_{},{}\\n\"\\\n",
    "                                  .format(afs[0],afs[1],height,fold_name,fold[c_l['t']].replace(',',''))\n",
    "                            #ostr=str(afs[0])+','+str(afs[1])+','+str(height)+','+'FA_'+fold_name+','+fold[c_l['t']].replace(',','')+'\\n'\n",
    "                            fo.write(ostr)                \n",
    "                    i=i+1  \n",
    "\n",
    "    fo.close()\n",
    "    print(\"fold axial traces saved as\",path_fold_orientations+'fold_axial_traces.csv')\n",
    "def save_fold_axial_traces_orientations(path_folds,output_path,tmp_path,dtm,dtb,dtb_null,cover_map,c_l,dst_crs,fold_decimate,fat_step,close_dip,scheme,bbox,spacing,dip_grid,dip_dir_grid):\n",
    "    geology = gpd.read_file(tmp_path+'geol_clip.shp')\n",
    "    #contacts=np.genfromtxt(tmp_path+'interpolation_contacts_'+scheme+'.csv',delimiter=',',dtype='float')\n",
    "    f=open(output_path+'fold_axial_trace_orientations2.csv','w')\n",
    "    f.write('X,Y,Z,azimuth,dip,polarity,formation,group\\n')\n",
    "    folds_clip=gpd.read_file(path_folds,)\n",
    "    fo=open(output_path+'fold_axial_traces.csv',\"w\")\n",
    "    fo.write(\"X,Y,Z,code,type\\n\")\n",
    "    dummy=[]\n",
    "    dummy.append(1)\n",
    "    for indx,fold in folds_clip.iterrows():\n",
    "        fold_name=str(fold[c_l['o']])   \n",
    "        if(not str(fold.geometry) =='None'):\n",
    "            if(fold.geometry.type=='MultiLineString'):\n",
    "                for mls in fold.geometry:              \n",
    "                    fold_ls=LineString(mls)        \n",
    "\n",
    "                    i=0\n",
    "                    first=True\n",
    "                    for afs in fold_ls.coords:\n",
    "                        if(c_l['fold'] in fold[c_l['ff']]):\n",
    "                            # save out current geometry of FAT\n",
    "                            if(m2l_utils.mod_safe(i,fold_decimate)==0 or i==int((len(fold_ls.coords)-1)/2) or i==len(fold_ls.coords)-1): #decimate to reduce number of points, but also take mid and end points of a series to keep some shape\n",
    "                                locations=[(afs[0],afs[1])]                  \n",
    "                                height=m2l_utils.value_from_dtm_dtb(dtm,dtb,dtb_null,cover_map,locations)\n",
    "                                ostr=\"{},{},{},FA_{},{}\\n\"\\\n",
    "                                      .format(afs[0],afs[1],height,fold_name,fold[c_l['t']].replace(',',''))\n",
    "                                #ostr=str(afs[0])+','+str(afs[1])+','+str(height)+','+'FA_'+fold_name+','+fold[c_l['t']].replace(',','')+'\\n'\n",
    "                                fo.write(ostr)  \n",
    "                                # calculate FAT normal offsets  \n",
    "                                if(not first):\n",
    "                                    l,m=m2l_utils.pts2dircos(lastx,lasty,afs[0],afs[1])\n",
    "                                    midx=lastx+((afs[0]-lastx)/2)\n",
    "                                    midy=lasty+((afs[1]-lasty)/2)\n",
    "                                    midxr=midx+(fat_step*-m)\n",
    "                                    midyr=midy+(fat_step*l)\n",
    "                                    midxl=midx-(fat_step*-m)\n",
    "                                    midyl=midy-(fat_step*l)\n",
    "                                    r=int((midy-bbox[1])/spacing)\n",
    "                                    c=int((midx-bbox[0])/spacing)\n",
    "                                    if(close_dip==-999):\n",
    "                                        dip=dip_grid[r,c]\n",
    "                                    else:\n",
    "                                        dip=close_dip\n",
    "                                    dip_dir=dip_dir_grid[r,c]\n",
    "\n",
    "                                    dip2,dipdir2=m2l_utils.dircos2ddd(-m,l,cos(radians(dip)))\n",
    "                                    if(c_l['syn'] in fold[c_l['t']]):\n",
    "                                        dipdir2=dipdir2+180\n",
    "\n",
    "                                    lc=sin(radians(dip_dir-90))\n",
    "                                    mc=cos(radians(dip_dir-90))\n",
    "                                    dotprod=fabs((l*lc)+(m*mc))\n",
    "                                    #print(dotprod,midx,midy,minind,contacts[minind,2],l,m,lc,mc)   \n",
    "                                    # if FAT is sub-parallel to local interpolated contacts, save out as orientations  \n",
    "                                    if(dotprod>0.85):\n",
    "                                        geometry = [Point(midxr,midyr)]\n",
    "                                        gdf = GeoDataFrame(dummy, crs=dst_crs, geometry=geometry)\n",
    "                                        structure_code = gpd.sjoin(gdf, geology, how=\"left\", op=\"within\")\n",
    "                                        if(not str(structure_code.iloc[0][c_l['c']])=='nan'):\n",
    "                                            locations=[(midxr,midyr)]                  \n",
    "                                            height=m2l_utils.value_from_dtm_dtb(dtm,dtb,dtb_null,cover_map,locations)\n",
    "                                            ostr=\"{},{},{},{},{},{},{},{}\\n\"\\\n",
    "                                                  .format(midxr,midyr,height,dipdir2,int(dip),1,str(structure_code.iloc[0][c_l['c']]).replace(\" \",\"_\").replace(\"-\",\"_\"),structure_code.iloc[0][c_l['g']])\n",
    "                                            #ostr=str(midxr)+','+str(midyr)+','+str(height)+','+str(dipdir)+','+str(int(dip))+',1,'+str(structure_code.iloc[0][c_l['c']]).replace(\" \",\"_\").replace(\"-\",\"_\")+','+str(structure_code.iloc[0][c_l['g']])+'\\n'\n",
    "                                            f.write(ostr)\n",
    "\n",
    "                                        geometry = [Point(midxl,midyl)]\n",
    "                                        gdf = GeoDataFrame(dummy, crs=dst_crs, geometry=geometry)\n",
    "                                        structure_code = gpd.sjoin(gdf, geology, how=\"left\", op=\"within\")\n",
    "                                        if(not str(structure_code.iloc[0][c_l['c']])=='nan'):\n",
    "                                            locations=[(midxl,midyl)]                  \n",
    "                                            height=m2l_utils.value_from_dtm_dtb(dtm,dtb,dtb_null,cover_map,locations)\n",
    "                                            ostr=\"{},{},{},{},{},{},{},{}\\n\"\\\n",
    "                                                  .format(midxl,midyl,height,dipdir2+180,int(dip),1,str(structure_code.iloc[0][c_l['c']]).replace(\" \",\"_\").replace(\"-\",\"_\"),structure_code.iloc[0][c_l['g']])\n",
    "                                            #ostr=str(midxl)+','+str(midyl)+','+str(height)+','+str(dipdir+180)+','+str(int(dip))+',1,'+str(structure_code.iloc[0][c_l['c']]).replace(\" \",\"_\").replace(\"-\",\"_\")+','+str(structure_code.iloc[0][c_l['g']])+'\\n'\n",
    "                                            f.write(ostr)\n",
    "                                first=False\n",
    "                                lastx=afs[0]\n",
    "                                lasty=afs[1]\n",
    "                        i=i+1  \n",
    "            else:\n",
    "                fold_ls=LineString(fold.geometry)\n",
    "                i=0\n",
    "                first=True\n",
    "                for afs in fold_ls.coords:\n",
    "                    if(c_l['fold'] in fold[c_l['ff']]):\n",
    "                        # save out current geometry of FAT\n",
    "                        if(m2l_utils.mod_safe(i,fold_decimate)==0 or i==int((len(fold_ls.coords)-1)/2) or i==len(fold_ls.coords)-1): #decimate to reduce number of points, but also take mid and end points of a series to keep some shape\n",
    "                            locations=[(afs[0],afs[1])]                  \n",
    "                            height=m2l_utils.value_from_dtm_dtb(dtm,dtb,dtb_null,cover_map,locations)\n",
    "                            ostr=\"{},{},{},FA_{},{}\\n\"\\\n",
    "                                  .format(afs[0],afs[1],height,fold_name,fold[c_l['t']].replace(',',''))\n",
    "                            #ostr=str(afs[0])+','+str(afs[1])+','+str(height)+','+'FA_'+fold_name+','+fold[c_l['t']].replace(',','')+'\\n'\n",
    "                            fo.write(ostr)  \n",
    "                            # calculate FAT normal offsets  \n",
    "                            if(not first):\n",
    "                                l,m=m2l_utils.pts2dircos(lastx,lasty,afs[0],afs[1])\n",
    "                                midx=lastx+((afs[0]-lastx)/2)\n",
    "                                midy=lasty+((afs[1]-lasty)/2)\n",
    "                                midxr=midx+(fat_step*-m)\n",
    "                                midyr=midy+(fat_step*l)\n",
    "                                midxl=midx-(fat_step*-m)\n",
    "                                midyl=midy-(fat_step*l)\n",
    "                                r=int((midy-bbox[1])/spacing)\n",
    "                                c=int((midx-bbox[0])/spacing)\n",
    "                                if(close_dip==-999):\n",
    "                                    dip=dip_grid[r,c]\n",
    "                                else:\n",
    "                                    dip=close_dip\n",
    "                                dipdir=dip_dir_grid[r,c]\n",
    "                                dip2,dipdir2=m2l_utils.dircos2ddd(-m,l,cos(radians(dip)))\n",
    "                                if(c_l['syn'] in fold[c_l['t']]):\n",
    "                                    dipdir2=dipdir2+180\n",
    "                                lc=sin(radians(dipdir-90))\n",
    "                                mc=cos(radians(dipdir-90))\n",
    "                                dotprod=fabs((l*lc)+(m*mc))\n",
    "                                #print(dotprod,midx,midy,minind,contacts[minind,2],l,m,lc,mc)   \n",
    "                                # if FAT is sub-parallel to local interpolated contacts, save out as orientations  \n",
    "                                if(dotprod>0.85):\n",
    "                                    geometry = [Point(midxr,midyr)]\n",
    "                                    gdf = GeoDataFrame(dummy, crs=dst_crs, geometry=geometry)\n",
    "                                    structure_code = gpd.sjoin(gdf, geology, how=\"left\", op=\"within\")\n",
    "                                    if(not str(structure_code.iloc[0][c_l['c']])=='nan'):\n",
    "                                        locations=[(midxr,midyr)]                  \n",
    "                                        height=m2l_utils.value_from_dtm_dtb(dtm,dtb,dtb_null,cover_map,locations)\n",
    "                                        ostr=\"{},{},{},{},{},{},{},{}\\n\"\\\n",
    "                                              .format(midxr,midyr,height,dipdir2,int(dip),1,str(structure_code.iloc[0][c_l['c']]).replace(\" \",\"_\").replace(\"-\",\"_\"),structure_code.iloc[0][c_l['g']])\n",
    "                                        #ostr=str(midxr)+','+str(midyr)+','+str(height)+','+str(dipdir)+','+str(int(dip))+',1,'+str(structure_code.iloc[0][c_l['c']]).replace(\" \",\"_\").replace(\"-\",\"_\")+','+str(structure_code.iloc[0][c_l['g']])+'\\n'\n",
    "                                        f.write(ostr)\n",
    "\n",
    "                                    geometry = [Point(midxl,midyl)]\n",
    "                                    gdf = GeoDataFrame(dummy, crs=dst_crs, geometry=geometry)\n",
    "                                    structure_code = gpd.sjoin(gdf, geology, how=\"left\", op=\"within\")\n",
    "                                    if(not str(structure_code.iloc[0][c_l['c']])=='nan'):\n",
    "                                        locations=[(midxl,midyl)]                  \n",
    "                                        height=m2l_utils.value_from_dtm_dtb(dtm,dtb,dtb_null,cover_map,locations)\n",
    "                                        ostr=\"{},{},{},{},{},{},{},{}\\n\"\\\n",
    "                                              .format(midxl,midyl,height,dipdir2+180,int(dip),1,str(structure_code.iloc[0][c_l['c']]).replace(\" \",\"_\").replace(\"-\",\"_\"),structure_code.iloc[0][c_l['g']])\n",
    "                                        #ostr=str(midxl)+','+str(midyl)+','+str(height)+','+str(dipdir+180)+','+str(int(dip))+',1,'+str(structure_code.iloc[0][c_l['c']]).replace(\" \",\"_\").replace(\"-\",\"_\")+','+str(structure_code.iloc[0][c_l['g']])+'\\n'\n",
    "                                        f.write(ostr)\n",
    "                            first=False\n",
    "                            lastx=afs[0]\n",
    "                            lasty=afs[1]\n",
    "                    i=i+1  \n",
    "    \n",
    "    fo.close()\n",
    "    f.close()\n",
    "    print(\"fold axial traces saved as\",output_path+'fold_axial_traces.csv')\n",
    "    print(\"fold axial trace orientations saved as\",output_path+'fold_axial_trace_orientations.csv')\n",
    "    \n",
    "if(workflow['fold_axial_traces']   and  os.path.exists(fold_file)):\n",
    "    folds_clip = gpd.read_file(fold_file)\n",
    "    if(len(folds_clip)>0):\n",
    "        \n",
    "        #m2l_geometry.save_fold_axial_traces(fold_file,output_path,dtm,dtb,dtb_null,workflow['cover_map'],c_l,fold_decimate)\n",
    "        save_fold_axial_traces(fold_file,output_path,dtm,dtb,dtb_null,workflow['cover_map'],c_l,fold_decimate)\n",
    "\n",
    "        #Save fold axial trace near-hinge orientations\n",
    "        fat_step=750         # how much to step out normal to fold axial trace\n",
    "        close_dip=-999       #dip to assign to all new orientations (-999= use local interpolated dip)\n",
    "\n",
    "#        m2l_geometry.save_fold_axial_traces_orientations(fold_file,output_path,tmp_path,dtm,dtb,dtb_null,workflow['cover_map'],c_l,dst_crs,\n",
    "#                                                         fold_decimate,fat_step,close_dip,scheme,bbox,spacing,dip_grid,dip_dir_grid)\n",
    "        save_fold_axial_traces_orientations(fold_file,output_path,tmp_path,dtm,dtb,dtb_null,workflow['cover_map'],c_l,dst_crs,\n",
    "                                                         fold_decimate,fat_step,close_dip,scheme,bbox,spacing,dip_grid,dip_dir_grid)\n"
   ]
  },
  {
   "cell_type": "markdown",
   "metadata": {},
   "source": [
    "## Preprocess data to ensure it meets modelling requirements"
   ]
  },
  {
   "cell_type": "code",
   "execution_count": 78,
   "metadata": {
    "ExecuteTime": {
     "end_time": "2020-06-02T06:38:08.027612Z",
     "start_time": "2020-06-02T06:38:05.533086Z"
    },
    "pycharm": {
     "is_executing": false
    },
    "scrolled": true
   },
   "outputs": [
    {
     "name": "stdout",
     "output_type": "stream",
     "text": [
      "No invented orientations available for merging.\n",
      "Guessing formation thickness of DvCb_EBf_l_lm as 287.0\n"
     ]
    }
   ],
   "source": [
    "m2l_geometry.tidy_data(output_path,tmp_path,clut_path,use_gcode3,use_interpolations,use_fat,pluton_form,inputs,workflow,c_l)\n",
    "dtm.close()\n",
    "if(workflow['cover_map']):\n",
    "    dtb.close()"
   ]
  },
  {
   "cell_type": "markdown",
   "metadata": {},
   "source": [
    "## Calculate polarity of original bedding orientation data (not used yet in final calc)"
   ]
  },
  {
   "cell_type": "code",
   "execution_count": 79,
   "metadata": {
    "ExecuteTime": {
     "end_time": "2020-06-02T06:38:08.045611Z",
     "start_time": "2020-06-02T06:38:08.033612Z"
    },
    "pycharm": {
     "is_executing": false
    }
   },
   "outputs": [],
   "source": [
    "if(workflow['polarity']):\n",
    "    m2l_geometry.save_orientations_with_polarity(output_path+'orientations.csv',output_path,c_l,tmp_path+'basal_contacts.shp',tmp_path+'all_sorts.csv',)\n",
    "\n",
    "    m2l_utils.plot_points(output_path+'orientations_polarity.csv',geol_clip,'polarity','X','Y',True,'alpha')\n"
   ]
  },
  {
   "cell_type": "markdown",
   "metadata": {},
   "source": [
    "## Calculate minimum fault offset from stratigraphy and stratigraphic fault offset"
   ]
  },
  {
   "cell_type": "code",
   "execution_count": 80,
   "metadata": {
    "ExecuteTime": {
     "end_time": "2020-06-02T06:38:14.593318Z",
     "start_time": "2020-06-02T06:38:08.052612Z"
    },
    "pycharm": {
     "is_executing": false
    }
   },
   "outputs": [],
   "source": [
    "if(workflow['strat_offset'] and os.path.exists(fault_file)):\n",
    "    fault_test=pd.read_csv(output_path+'fault_dimensions.csv',',')\n",
    "    if(len(fault_test)>0):\n",
    "\n",
    "        m2l_geometry.fault_strat_offset(output_path,c_l,dst_crs,output_path+'formation_summary_thicknesses.csv', tmp_path+'all_sorts.csv',tmp_path+'faults_clip.shp',tmp_path+'geol_clip.shp',output_path+'fault_dimensions.csv')\n",
    "\n",
    "\n",
    "        m2l_utils.plot_points(output_path+'fault_strat_offset3.csv',geol_clip,'min_offset','X','Y',True,'numeric')\n",
    "        m2l_utils.plot_points(output_path+'fault_strat_offset3.csv',geol_clip,'strat_offset','X','Y',True,'numeric')"
   ]
  },
  {
   "cell_type": "markdown",
   "metadata": {},
   "source": [
    "## Analyse fault-fault topology"
   ]
  },
  {
   "cell_type": "code",
   "execution_count": 81,
   "metadata": {
    "ExecuteTime": {
     "end_time": "2020-06-02T06:38:15.206377Z",
     "start_time": "2020-06-02T06:38:14.598316Z"
    },
    "pycharm": {
     "is_executing": false
    }
   },
   "outputs": [
    {
     "name": "stdout",
     "output_type": "stream",
     "text": [
      "cycles []\n"
     ]
    },
    {
     "data": {
      "image/png": "[encoded data removed]",
      "text/plain": [
       "<Figure size 432x288 with 1 Axes>"
      ]
     },
     "metadata": {},
     "output_type": "display_data"
    }
   ],
   "source": [
    "if(os.path.exists(fault_file)):\n",
    "    m2l_topology.parse_fault_relationships(graph_path,tmp_path,output_path)"
   ]
  },
  {
   "cell_type": "markdown",
   "metadata": {
    "scrolled": false
   },
   "source": [
    "# loop2gemodeller test \n",
    "\n"
   ]
  },
  {
   "cell_type": "code",
   "execution_count": 82,
   "metadata": {
    "ExecuteTime": {
     "end_time": "2020-06-02T06:38:31.275540Z",
     "start_time": "2020-06-02T06:38:15.211380Z"
    },
    "pycharm": {
     "is_executing": false
    },
    "scrolled": false
   },
   "outputs": [],
   "source": [
    "if(workflow['model_engine']=='geomodeller'):\n",
    "    from datetime import datetime\n",
    "    import shutil\n",
    "\n",
    "    \n",
    "    m2l_topology.check_near_fault_contacts(tmp_path+'faults_clip.shp',tmp_path+'all_sorts_clean.csv',\n",
    "                                           output_path+'fault_dimensions.csv',output_path+'group-fault-relationships.csv',\n",
    "                                           output_path+'contacts_clean.csv',c_l,dst_crs)\n",
    "\n",
    "    nowtime=datetime.now().isoformat(timespec='minutes')   \n",
    "    model_name=test_data_name+'_'+nowtime.replace(\":\",\"-\").replace(\"T\",\"-\")\n",
    "    os.mkdir(test_data_path+'/'+model_name)\n",
    "    save_faults=True\n",
    "    compute_etc=True\n",
    "    t1 = time.time()\n",
    "    m2l_export.loop2geomodeller(model_name,test_data_path,tmp_path,output_path,'../dtm/dtm_rp.tif',bbox,\n",
    "                                model_top,model_base,save_faults,compute_etc,workflow)\n",
    "    t2 = time.time()\n",
    "    os.chdir(test_data_path+'/'+model_name)\n",
    "    %system geomodellerbatch.exe -batch m2l.taskfile\n",
    "    t3 = time.time()\n",
    "    #%system geomodellerbatch.exe -batch m2l_compute.taskfile\n",
    "    t4 = time.time()\n",
    "    print(\"m2l\",(t1-t0)/60.0,\"export process\",(t2-t1)/60.0,\"batch process\",(t3-t2)/60.0,\"batch calculate\",(t4-t3)/60.0,\"minutes\")\n",
    "    #shutil.copy('../tmp','.')\n",
    "    #shutil.copy('../output','.')\n",
    "    #shutil.copy('../graph','.')\n",
    "    #shutil.copy('../dtm','.')\n",
    "    os.chdir('..')"
   ]
  },
  {
   "cell_type": "code",
   "execution_count": 83,
   "metadata": {
    "scrolled": true
   },
   "outputs": [],
   "source": [
    "data_path='D:/Loop_Data/GSC/3D_Rockies/'\n",
    "gsc_out_path=data_path+'m2l/'\n",
    "faults=pd.read_csv(output_path+'faults.csv',',')\n",
    "contacts=pd.read_csv(output_path+'contacts_clean.csv',',')\n",
    "#display(contacts,faults)   \n",
    "for sec_no in range(1,11):\n",
    "    section_contacts_path=gsc_out_path+'basal_contacts_{}.csv'.format(sec_no)    \n",
    "    section_contacts=pd.read_csv(section_contacts_path,',')\n",
    "    contacts=pd.concat([contacts,section_contacts],sort=False)\n",
    "    \n",
    "    section_faults_path=gsc_out_path+'fault_{}.csv'.format(sec_no)\n",
    "    section_faults=pd.read_csv(section_faults_path,',')\n",
    "    section_faults=section_faults[~section_faults['formation'].str.contains('None')]\n",
    "    faults=pd.concat([faults,section_faults],sort=False)\n",
    "\n",
    "\n",
    "contacts.index = range(len(contacts.index))\n",
    "faults.index = range(len(faults.index))\n",
    "contacts.to_csv(output_path+'contacts_clean.csv',index_label='index')\n",
    "faults.to_csv(output_path+'faults.csv',index=False)"
   ]
  },
  {
   "cell_type": "markdown",
   "metadata": {},
   "source": [
    "# loopstructural test"
   ]
  },
  {
   "cell_type": "code",
   "execution_count": 84,
   "metadata": {
    "scrolled": false
   },
   "outputs": [
    {
     "ename": "ValueError",
     "evalue": "setting an array element with a sequence.",
     "output_type": "error",
     "traceback": [
      "\u001b[1;31m---------------------------------------------------------------------------\u001b[0m",
      "\u001b[1;31mTypeError\u001b[0m                                 Traceback (most recent call last)",
      "\u001b[1;32m~\\Anaconda3\\envs\\loop\\lib\\site-packages\\pandas\\core\\series.py\u001b[0m in \u001b[0;36mwrapper\u001b[1;34m(self)\u001b[0m\n\u001b[0;32m    111\u001b[0m             \u001b[1;32mreturn\u001b[0m \u001b[0mconverter\u001b[0m\u001b[1;33m(\u001b[0m\u001b[0mself\u001b[0m\u001b[1;33m.\u001b[0m\u001b[0miloc\u001b[0m\u001b[1;33m[\u001b[0m\u001b[1;36m0\u001b[0m\u001b[1;33m]\u001b[0m\u001b[1;33m)\u001b[0m\u001b[1;33m\u001b[0m\u001b[1;33m\u001b[0m\u001b[0m\n\u001b[1;32m--> 112\u001b[1;33m         \u001b[1;32mraise\u001b[0m \u001b[0mTypeError\u001b[0m\u001b[1;33m(\u001b[0m\u001b[1;34mf\"cannot convert the series to {converter}\"\u001b[0m\u001b[1;33m)\u001b[0m\u001b[1;33m\u001b[0m\u001b[1;33m\u001b[0m\u001b[0m\n\u001b[0m\u001b[0;32m    113\u001b[0m \u001b[1;33m\u001b[0m\u001b[0m\n",
      "\u001b[1;31mTypeError\u001b[0m: cannot convert the series to <class 'float'>",
      "\nThe above exception was the direct cause of the following exception:\n",
      "\u001b[1;31mValueError\u001b[0m                                Traceback (most recent call last)",
      "\u001b[1;32mm2l_config.py\u001b[0m in \u001b[0;36m<module>\u001b[1;34m\u001b[0m\n\u001b[0;32m     54\u001b[0m                                                               \u001b[0mskip_faults\u001b[0m\u001b[1;33m=\u001b[0m\u001b[1;32mFalse\u001b[0m\u001b[1;33m,\u001b[0m\u001b[1;33m\u001b[0m\u001b[1;33m\u001b[0m\u001b[0m\n\u001b[0;32m     55\u001b[0m                                                               \u001b[0mfault_params\u001b[0m\u001b[1;33m=\u001b[0m\u001b[0mfault_params\u001b[0m\u001b[1;33m,\u001b[0m\u001b[1;33m\u001b[0m\u001b[1;33m\u001b[0m\u001b[0m\n\u001b[1;32m---> 56\u001b[1;33m                                                               foliation_params=foliation_params)\n\u001b[0m\u001b[0;32m     57\u001b[0m \u001b[1;33m\u001b[0m\u001b[0m\n\u001b[0;32m     58\u001b[0m     \u001b[0mview\u001b[0m \u001b[1;33m=\u001b[0m \u001b[0mLavaVuModelViewer\u001b[0m\u001b[1;33m(\u001b[0m\u001b[0mmodel\u001b[0m\u001b[1;33m,\u001b[0m\u001b[0mvertical_exaggeration\u001b[0m\u001b[1;33m=\u001b[0m\u001b[1;36m2\u001b[0m\u001b[1;33m)\u001b[0m\u001b[1;33m\u001b[0m\u001b[1;33m\u001b[0m\u001b[0m\n",
      "\u001b[1;32m~\\Anaconda3\\envs\\loop\\lib\\site-packages\\loopstructural-1.0.3-py3.7-win-amd64.egg\\LoopStructural\\modelling\\core\\geological_model.py\u001b[0m in \u001b[0;36mfrom_map2loop_directory\u001b[1;34m(cls, m2l_directory, **kwargs)\u001b[0m\n\u001b[0;32m    171\u001b[0m         \u001b[1;32mfrom\u001b[0m \u001b[0mLoopStructural\u001b[0m\u001b[1;33m.\u001b[0m\u001b[0mutils\u001b[0m \u001b[1;32mimport\u001b[0m \u001b[0mprocess_map2loop\u001b[0m\u001b[1;33m,\u001b[0m \u001b[0mbuild_model\u001b[0m\u001b[1;33m\u001b[0m\u001b[1;33m\u001b[0m\u001b[0m\n\u001b[0;32m    172\u001b[0m         \u001b[0mm2lflags\u001b[0m \u001b[1;33m=\u001b[0m \u001b[0mkwargs\u001b[0m\u001b[1;33m.\u001b[0m\u001b[0mpop\u001b[0m\u001b[1;33m(\u001b[0m\u001b[1;34m'm2lflags'\u001b[0m\u001b[1;33m,\u001b[0m\u001b[1;33m{\u001b[0m\u001b[1;33m}\u001b[0m\u001b[1;33m)\u001b[0m\u001b[1;33m\u001b[0m\u001b[1;33m\u001b[0m\u001b[0m\n\u001b[1;32m--> 173\u001b[1;33m         \u001b[0mm2l_data\u001b[0m \u001b[1;33m=\u001b[0m \u001b[0mprocess_map2loop\u001b[0m\u001b[1;33m(\u001b[0m\u001b[0mm2l_directory\u001b[0m\u001b[1;33m,\u001b[0m\u001b[0mm2lflags\u001b[0m\u001b[1;33m)\u001b[0m\u001b[1;33m\u001b[0m\u001b[1;33m\u001b[0m\u001b[0m\n\u001b[0m\u001b[0;32m    174\u001b[0m         \u001b[1;32mreturn\u001b[0m \u001b[0mbuild_model\u001b[0m\u001b[1;33m(\u001b[0m\u001b[0mm2l_data\u001b[0m\u001b[1;33m,\u001b[0m\u001b[1;33m**\u001b[0m\u001b[0mkwargs\u001b[0m\u001b[1;33m)\u001b[0m\u001b[1;33m,\u001b[0m \u001b[0mm2l_data\u001b[0m\u001b[1;33m\u001b[0m\u001b[1;33m\u001b[0m\u001b[0m\n\u001b[0;32m    175\u001b[0m \u001b[1;33m\u001b[0m\u001b[0m\n",
      "\u001b[1;32m~\\Anaconda3\\envs\\loop\\lib\\site-packages\\loopstructural-1.0.3-py3.7-win-amd64.egg\\LoopStructural\\utils\\map2loop.py\u001b[0m in \u001b[0;36mprocess_map2loop\u001b[1;34m(m2l_directory, flags)\u001b[0m\n\u001b[0;32m    184\u001b[0m         \u001b[0mfault_centers\u001b[0m\u001b[1;33m[\u001b[0m\u001b[1;33m:\u001b[0m\u001b[1;36m3\u001b[0m\u001b[1;33m]\u001b[0m \u001b[1;33m=\u001b[0m \u001b[0mnp\u001b[0m\u001b[1;33m.\u001b[0m\u001b[0mmean\u001b[0m\u001b[1;33m(\u001b[0m\u001b[0mfault_locations\u001b[0m\u001b[1;33m.\u001b[0m\u001b[0mloc\u001b[0m\u001b[1;33m[\u001b[0m\u001b[0mfault_locations\u001b[0m\u001b[1;33m[\u001b[0m\u001b[1;34m'formation'\u001b[0m\u001b[1;33m]\u001b[0m\u001b[1;33m==\u001b[0m\u001b[0mf\u001b[0m\u001b[1;33m,\u001b[0m\u001b[1;33m[\u001b[0m\u001b[1;34m'X'\u001b[0m\u001b[1;33m,\u001b[0m\u001b[1;34m'Y'\u001b[0m\u001b[1;33m,\u001b[0m\u001b[1;34m'Z'\u001b[0m\u001b[1;33m]\u001b[0m\u001b[1;33m]\u001b[0m\u001b[1;33m,\u001b[0m\u001b[0maxis\u001b[0m\u001b[1;33m=\u001b[0m\u001b[1;36m0\u001b[0m\u001b[1;33m)\u001b[0m\u001b[1;33m\u001b[0m\u001b[1;33m\u001b[0m\u001b[0m\n\u001b[0;32m    185\u001b[0m         \u001b[0mfault_centers\u001b[0m\u001b[1;33m[\u001b[0m\u001b[1;36m3\u001b[0m\u001b[1;33m]\u001b[0m \u001b[1;33m=\u001b[0m \u001b[0mnp\u001b[0m\u001b[1;33m.\u001b[0m\u001b[0mmean\u001b[0m\u001b[1;33m(\u001b[0m\u001b[0mfault_orientations\u001b[0m\u001b[1;33m.\u001b[0m\u001b[0mloc\u001b[0m\u001b[1;33m[\u001b[0m\u001b[0mfault_orientations\u001b[0m\u001b[1;33m[\u001b[0m\u001b[1;34m'formation'\u001b[0m\u001b[1;33m]\u001b[0m\u001b[1;33m==\u001b[0m\u001b[0mf\u001b[0m\u001b[1;33m,\u001b[0m\u001b[1;33m[\u001b[0m\u001b[1;34m'DipDirection'\u001b[0m\u001b[1;33m]\u001b[0m\u001b[1;33m]\u001b[0m\u001b[1;33m)\u001b[0m\u001b[1;33m\u001b[0m\u001b[1;33m\u001b[0m\u001b[0m\n\u001b[1;32m--> 186\u001b[1;33m         \u001b[0mfault_centers\u001b[0m\u001b[1;33m[\u001b[0m\u001b[1;36m4\u001b[0m\u001b[1;33m]\u001b[0m \u001b[1;33m=\u001b[0m \u001b[0mfault_dimensions\u001b[0m\u001b[1;33m.\u001b[0m\u001b[0mloc\u001b[0m\u001b[1;33m[\u001b[0m\u001b[0mfault_dimensions\u001b[0m\u001b[1;33m[\u001b[0m\u001b[1;34m'Fault'\u001b[0m\u001b[1;33m]\u001b[0m\u001b[1;33m==\u001b[0m\u001b[0mf\u001b[0m\u001b[1;33m,\u001b[0m\u001b[1;34m'InfluenceDistance'\u001b[0m\u001b[1;33m]\u001b[0m\u001b[1;33m\u001b[0m\u001b[1;33m\u001b[0m\u001b[0m\n\u001b[0m\u001b[0;32m    187\u001b[0m         \u001b[0mfault_centers\u001b[0m\u001b[1;33m[\u001b[0m\u001b[1;36m5\u001b[0m\u001b[1;33m]\u001b[0m \u001b[1;33m=\u001b[0m \u001b[0mfault_dimensions\u001b[0m\u001b[1;33m.\u001b[0m\u001b[0mloc\u001b[0m\u001b[1;33m[\u001b[0m\u001b[0mfault_dimensions\u001b[0m\u001b[1;33m[\u001b[0m\u001b[1;34m'Fault'\u001b[0m\u001b[1;33m]\u001b[0m\u001b[1;33m==\u001b[0m\u001b[0mf\u001b[0m\u001b[1;33m,\u001b[0m\u001b[1;34m'HorizontalRadius'\u001b[0m\u001b[1;33m]\u001b[0m\u001b[1;33m\u001b[0m\u001b[1;33m\u001b[0m\u001b[0m\n\u001b[0;32m    188\u001b[0m         \u001b[0mnormal_vector\u001b[0m\u001b[1;33m[\u001b[0m\u001b[1;36m0\u001b[0m\u001b[1;33m]\u001b[0m \u001b[1;33m=\u001b[0m \u001b[0mnp\u001b[0m\u001b[1;33m.\u001b[0m\u001b[0msin\u001b[0m\u001b[1;33m(\u001b[0m\u001b[0mnp\u001b[0m\u001b[1;33m.\u001b[0m\u001b[0mdeg2rad\u001b[0m\u001b[1;33m(\u001b[0m\u001b[0mfault_centers\u001b[0m\u001b[1;33m[\u001b[0m\u001b[1;36m3\u001b[0m\u001b[1;33m]\u001b[0m\u001b[1;33m)\u001b[0m\u001b[1;33m)\u001b[0m\u001b[1;33m\u001b[0m\u001b[1;33m\u001b[0m\u001b[0m\n",
      "\u001b[1;31mValueError\u001b[0m: setting an array element with a sequence."
     ]
    }
   ],
   "source": [
    "if(workflow['model_engine']=='loopstructural'):\n",
    "    #model_base=-8200\n",
    "\n",
    "    import random\n",
    "    \n",
    "    from LoopStructural import GeologicalModel\n",
    "    import lavavu\n",
    "    from LoopStructural.visualisation import LavaVuModelViewer\n",
    "    from LoopStructural import GeologicalModel\n",
    "    import logging\n",
    "    logging.getLogger().setLevel(logging.ERROR)\n",
    "\n",
    "    f=open(tmp_path+'bbox.csv','w')\n",
    "    f.write('minx,miny,maxx,maxy,lower,upper\\n')\n",
    "    ostr='{},{},{},{},{},{}\\n'.format(minx,miny,maxx,maxy,model_base,model_top)\n",
    "    f.write(ostr)\n",
    "    f.close()\n",
    "    t1 = time.time()\n",
    "    fault_params = {'interpolatortype':'FDI',\n",
    "                    'nelements':3e4,\n",
    "                    'data_region':.1,\n",
    "                    'solver':'pyamg',\n",
    "    #                 overprints:overprints,\n",
    "                    'cpw':10,\n",
    "                    'npw':10}\n",
    "    foliation_params = {'interpolatortype':'PLI' , # 'interpolatortype':'PLI',\n",
    "                        'nelements':1e5,  # how many tetras/voxels\n",
    "                        'buffer':0.8,  # how much to extend nterpolation around box\n",
    "                        'solver':'pyamg',\n",
    "                        'damp':True}\n",
    "    if(not os.path.exists(fault_file)):\n",
    "        f=open(output_path + '/fault_displacements3.csv','w')\n",
    "        f.write('X,Y,fname,apparent_displacement,vertical_displacement,downthrow_dir\\n')\n",
    "        f.close()\n",
    "        f=open(output_path + '/fault_orientations.csv','w')\n",
    "        f.write('X,Y,Z,DipDirection,dip,DipPolarity,formation\\n')\n",
    "        f.close()\n",
    "        f=open(output_path + '/faults.csv','w')\n",
    "        f.write('X,Y,Z,formation\\n')\n",
    "        f.close()\n",
    "        f=open(output_path + '/fault-fault-relationships.csv','w')\n",
    "        f.write('fault_id\\n')\n",
    "        f.close()\n",
    "        f=open(output_path + '/group-fault-relationships.csv','w')\n",
    "        f.write('group\\n')\n",
    "        f.close()\n",
    "\n",
    "        model, m2l_data = GeologicalModel.from_map2loop_directory(test_data_path,\n",
    "                                                              skip_faults=True,\n",
    "                                                              fault_params=fault_params,\n",
    "                                                              foliation_params=foliation_params)\n",
    "    else:\n",
    "        model, m2l_data = GeologicalModel.from_map2loop_directory(test_data_path,\n",
    "                                                              skip_faults=False,\n",
    "                                                              fault_params=fault_params,\n",
    "                                                              foliation_params=foliation_params)\n",
    "  \n",
    "    view = LavaVuModelViewer(model,vertical_exaggeration=2) \n",
    "    view.nsteps = np.array([200,200,200])\n",
    "    #view.set_zscale(2)\n",
    "    for sg in model.feature_name_index:\n",
    "        if( 'super' in sg ):\n",
    "            view.add_data(model.features[model.feature_name_index[sg]])\n",
    "    view.add_model(cmap='tab20')\n",
    "    view.nsteps=np.array([50,50,50])\n",
    "    view.add_model_surfaces()\n",
    "    view.interactive()  \n",
    "    \n",
    "\n",
    "    t2 = time.time()\n",
    "    print(\"m2l\",(t1-t0)/60.0,\"LoopStructural\",(t2-t1)/60.0,\"Total\",(t2-t0)/60.0,\"minutes\")"
   ]
  },
  {
   "cell_type": "markdown",
   "metadata": {},
   "source": [
    "## Overlay map over model"
   ]
  },
  {
   "cell_type": "code",
   "execution_count": null,
   "metadata": {
    "scrolled": false
   },
   "outputs": [],
   "source": [
    "import matplotlib.colors as colors\n",
    "clut_path =''\n",
    "if(clut_path ==''):\n",
    "    geol_clip.plot(column=c_l['c'],figsize=(10,10),edgecolor='#000000',linewidth=0.2)\n",
    "    use_cmap=True\n",
    "    cmap = m2l_export.rand_cmap(100, type='soft', first_color_black=False, last_color_black=False, verbose=False)\n",
    "elif(workflow['model_engine']=='loopstructural'):\n",
    "    use_cmap=True\n",
    "    asc=pd.read_csv(tmp_path+'all_sorts_clean.csv',\",\")\n",
    "    #display(asc)\n",
    "    colours=pd.read_csv(clut_path,\",\")\n",
    "    if( c_l['c']=='CODE'):\n",
    "        code=c_l['c'].lower()\n",
    "    else:\n",
    "        code=c_l['c']\n",
    "\n",
    "    colours = [] #container for the discrete colours we are using\n",
    "    i=0\n",
    "    geol_clip['colour_index'] = np.nan #initialise a colour index attribute column\n",
    "    for ind,strat in asc.iterrows():\n",
    "        geol_clip[c_l['c']].str.replace(\" \",\"_\")\n",
    "        geol_clip.loc[geol_clip[c_l['c']]==strat['code'].replace(\"_\",\" \"),'colour_index'] = i\n",
    "        colours.append(strat['colour'])\n",
    "        i=i+1\n",
    "    \n",
    "    cmap = colors.ListedColormap(colours) # create a cmap for passing to geopandas\n",
    "    #display(colours)\n",
    "    fig, ax = matplotlib.pyplot.subplots(figsize=(15, 15))\n",
    "    geol_clip.plot(ax=ax,column='colour_index',figsize=(10,10),edgecolor='#000000',linewidth=0.2,cmap=cmap)\n",
    "if(workflow['model_engine']=='loopstructural'):  \n",
    "    dtm = rasterio.open(dtm_reproj_file)\n",
    "    if(os.path.exists(fault_file)):\n",
    "        f_clip=faults_clip[faults_clip[c_l['f']].str.contains(c_l['fault'])]\n",
    "        m2l_export.display_LS_map(model,dtm,geol_clip,f_clip,dst_crs,use_cmap,cmap,use_topo=True,use_faults=True)\n",
    "    else:\n",
    "        f_clip=[]\n",
    "        m2l_export.display_LS_map(model,dtm,geol_clip,f_clip,dst_crs,use_cmap,cmap,use_topo=True,use_faults=False)\n",
    "\n",
    "    dtm.close()\n"
   ]
  },
  {
   "cell_type": "markdown",
   "metadata": {},
   "source": [
    "## Save out voxel model"
   ]
  },
  {
   "cell_type": "code",
   "execution_count": null,
   "metadata": {},
   "outputs": [],
   "source": [
    "if(workflow['model_engine']=='loopstructural'):  \n",
    "    voxel_size=500\n",
    "    sizex=int((maxx-minx)/voxel_size)\n",
    "    sizey=int((maxy-miny)/voxel_size)\n",
    "    sizez=int((model_top-model_base)/voxel_size)\n",
    "    print('voxel_size=',voxel_size,', saved in Z,Y,X order, Z=',sizez,', Y=',sizey,', X=',sizex)\n",
    "    print('lower south west corner: west=',minx,', south=',miny,', lower=',model_base)\n",
    "    voxels=model.evaluate_model(model.regular_grid(nsteps=(sizey,sizex,sizez),shuffle=False))\n",
    "    np.savetxt(tmp_path+'voxels.raw', voxels, fmt='%d',delimiter='\\t',newline='')\n",
    "    print('voxels saved as',tmp_path+'voxels.raw')\n",
    "    print(\"ImageJ ordering Width=\",sizez,', Height=',sizex,', Number of Images=',sizey)"
   ]
  },
  {
   "cell_type": "markdown",
   "metadata": {},
   "source": [
    "# gempy test"
   ]
  },
  {
   "cell_type": "code",
   "execution_count": null,
   "metadata": {
    "ExecuteTime": {
     "end_time": "2020-06-02T06:38:31.327540Z",
     "start_time": "2020-06-02T06:38:31.303541Z"
    },
    "pycharm": {
     "is_executing": false
    },
    "scrolled": false
   },
   "outputs": [],
   "source": [
    "if(workflow['model_engine']=='gempy'):\n",
    "\n",
    "    t1 = time.time()\n",
    "    import importlib\n",
    "    importlib.reload(m2l_export)\n",
    "\n",
    "\n",
    "    vtk = True\n",
    "    if  vtk:\n",
    "        vtkexp = gp._plot.export_to_vtk(geo_model, path=vtk_path, name=test_data_name + '.vtk', voxels=False, block=None,\n",
    "        surfaces=True)\n",
    "    else:\n",
    "        m2l_export.loop2gempy(test_data_name,tmp_path,vtk_path,output_path+'orientations_clean.csv',\n",
    "                                output_path+'contacts_clean.csv',tmp_path+'groups_clean.csv',\n",
    "                                bbox,model_base, model_top,vtk,dtm_reproj_file)\n"
   ]
  },
  {
   "cell_type": "markdown",
   "metadata": {},
   "source": [
    "# noddy test"
   ]
  },
  {
   "cell_type": "code",
   "execution_count": null,
   "metadata": {
    "ExecuteTime": {
     "end_time": "2020-06-02T06:38:31.378548Z",
     "start_time": "2020-06-02T06:38:31.335540Z"
    },
    "pycharm": {
     "is_executing": false
    }
   },
   "outputs": [],
   "source": [
    "if(workflow['model_engine']=='noddy'):\n",
    "\n",
    "    import pynoddy.history\n",
    "    import networkx as nx\n",
    "    #Read a csv file with the vertices of the faults\n",
    "    #see notes in the bottom of the notebook for instructions on how to generate such vertices files\n",
    "    t1 = time.time()\n",
    "    \n",
    "    scale=1.5 #  scales mdoel to fit predefined volume (complete hack)\n",
    "    \n",
    "    # load fault coordinates\n",
    "    faultsxy=pd.read_csv(output_path+'faults.csv')\n",
    "\n",
    "    #load fault graph, remove cyclic loops and find (non-unique) age-ordered list \n",
    "    G=nx.read_gml(tmp_path+\"fault_network.gml\")\n",
    "    cycles=list(nx.simple_cycles(G))\n",
    "    for c in cycles:\n",
    "        G.remove_edge(c[0], c[1])\n",
    "    faults=nx.topological_sort(G)\n",
    "\n",
    "    # write out Noe format format file\n",
    "    file=open(tmp_path+'faults_for_noe.csv','w')\n",
    "    file.write('id,DipDirecti,X,Y\\n')\n",
    "    for f in faults:\n",
    "            fxy=faultsxy[faultsxy[\"formation\"]==f.replace(\"\\n\",\"\")]\n",
    "            #display(f.replace(\"\\n\",\"\"))\n",
    "            for ind,xy in fxy.iterrows():\n",
    "                ostr=f.replace('\\n','')+',West,'+str(xy['X']/scale)+','+str(xy['Y']/scale)+'\\n'\n",
    "                file.write(ostr)\n",
    "    file.close()\n",
    "    \n",
    "    csvfile = tmp_path+'faults_for_noe.csv'\n",
    "    CsvFaultData = pd.read_csv(csvfile)\n",
    "\n",
    "    #how much does the fault slip relative to the fault length\n",
    "    SlipParam = 0.1\n",
    "\n",
    "    #the xyz origin of the model you will be generating\n",
    "    xy_origin=[minx/scale,miny/scale, 1200-4000]\n",
    "\n",
    "    #Get information about each parameter in Noddy format\n",
    "    #The output from the function is a dictionary with lists of the fault parameters\n",
    "    noddyFormattedFaultData =  pynoddy.history.setUpFaultRepresentation(CsvFaultData,\n",
    "                                                        xy_origin=xy_origin, \n",
    "                                                        SlipParam=SlipParam)\n",
    "\n",
    "    #Create a dictionary with the stratigraphy information\n",
    "    StratDict = {}\n",
    "    StratDict['Heights'] = [2000, 2500, 3000, 3700]\n",
    "    StratDict['Names'] = ['Intrusive', 'Felsic', 'Mafic','Sed'] \n",
    "    StratDict['Density'] =  [2.65, 2.5, 2.4, 2.3] \n",
    "    StratDict['MagSus'] = [0.0015, 0.0012, 0.0018, 0.001]\n",
    "\n",
    "    #Now make the history file\n",
    "    filename = output_path+'faultmodel.his'\n",
    "    noddyFormattedFaultData =  pynoddy.history.createPyNoddyHistoryFile(noddyFormattedFaultData, StratDict, filename=filename)\n"
   ]
  },
  {
   "cell_type": "code",
   "execution_count": null,
   "metadata": {
    "ExecuteTime": {
     "end_time": "2020-06-02T06:38:31.412547Z",
     "start_time": "2020-06-02T06:38:31.390541Z"
    },
    "pycharm": {
     "is_executing": false
    }
   },
   "outputs": [],
   "source": [
    "if(workflow['model_engine']=='noddy'):\n",
    "    import vtkplotter as vtkP\n",
    "    import itkwidgets\n",
    "    import k3d\n",
    "    import pynoddy.output\n",
    "    import pynoddy.history\n",
    "\n",
    "    modelfile = output_path+'faultmodel.his'\n",
    "\n",
    "    # Determine the path to the noddy executable\n",
    "    noddy_path = '../../pynoddy-new/noddyapp/noddy_win64.exe'\n",
    "\n",
    "    # Where you would like to place all your output files\n",
    "    outputfolder = tmp_path\n",
    "\n",
    "    # choose what software to use for visualizing the model\n",
    "    #you can also choose to change to itkwidgets, k3d, False (popup), or panel\n",
    "    #you might need to install packages depending on what you choose\n",
    "    vtkP.settings.embedWindow('k3d') \n",
    "\n",
    "    # create a plot in vtkplotter\n",
    "    plot = vtkP.Plotter(axes=1, bg='white', interactive=1)\n",
    "\n",
    "    # call the plotting function\n",
    "    points = pynoddy.output.CalculatePlotStructure(modelfile, plot, noddy_path, \n",
    "                                           outputfolder=outputfolder,\n",
    "                                           LithologyOpacity=0.2, outputOption=0)\n",
    "    plot.show(viewup='z')\n",
    "    t2 = time.time()\n",
    "\n",
    "    print(\"m2l\",(t1-t0)/60.0,\"noddy\",(t2-t1)/60.0,\"Total\",(t2-t0)/60.0,\"minutes\")\n"
   ]
  },
  {
   "cell_type": "code",
   "execution_count": null,
   "metadata": {},
   "outputs": [],
   "source": []
  }
 ],
 "metadata": {
  "hide_input": false,
  "kernelspec": {
   "display_name": "Python 3",
   "language": "python",
   "name": "python3"
  },
  "language_info": {
   "codemirror_mode": {
    "name": "ipython",
    "version": 3
   },
   "file_extension": ".py",
   "mimetype": "text/x-python",
   "name": "python",
   "nbconvert_exporter": "python",
   "pygments_lexer": "ipython3",
   "version": "3.7.7"
  },
  "pycharm": {
   "stem_cell": {
    "cell_type": "raw",
    "metadata": {
     "collapsed": false
    },
    "source": []
   }
  },
  "toc": {
   "base_numbering": 1,
   "nav_menu": {},
   "number_sections": true,
   "sideBar": true,
   "skip_h1_title": false,
   "title_cell": "Table of Contents",
   "title_sidebar": "Contents",
   "toc_cell": true,
   "toc_position": {},
   "toc_section_display": true,
   "toc_window_display": false
  }
 },
 "nbformat": 4,
 "nbformat_minor": 2
}
