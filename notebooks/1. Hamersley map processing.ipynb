{
 "cells": [
  {
   "cell_type": "markdown",
   "metadata": {},
   "source": [
    "## map2loop: Hamersely maps\n",
    "\n",
    "<img src='../graphics/loop_sm.png'>\n",
    "\n",
    "This notebook reads in three layers from  local or remote sources:  geology polygons, orientation data and fault polylines; and calculates the topological relationships between the different features. Requires compiled cpp code from Vitaliy Ogarko\n",
    "\n",
    "This all gets fed into successive tolopogical and geometric transfroms that end up feeding into a mdelling engine to make a 3D model \n"
   ]
  },
  {
   "cell_type": "markdown",
   "metadata": {},
   "source": [
    "## Choose map area\n",
    "1. Run cell below\n",
    "2. Select map area from drop down menu   \n",
    "3. Click in next cell and run next cells to define modelling engine run to end using menu:  \n",
    "   *Cell->Run all below*\n"
   ]
  },
  {
   "cell_type": "code",
   "execution_count": 1,
   "metadata": {
    "ExecuteTime": {
     "end_time": "2020-06-02T06:36:02.227776Z",
     "start_time": "2020-06-02T06:36:02.201776Z"
    }
   },
   "outputs": [
    {
     "data": {
      "application/vnd.jupyter.widget-view+json": {
       "model_id": "4e335b0e73774bf59d0fcb9622861e7f",
       "version_major": 2,
       "version_minor": 0
      },
      "text/plain": [
       "Dropdown(description='Map area:', options=('Turner_Syncline', 'test_data3'), value='Turner_Syncline')"
      ]
     },
     "metadata": {},
     "output_type": "display_data"
    }
   ],
   "source": [
    "import ipywidgets as widgets\n",
    "import os\n",
    "\n",
    "# load last saved map area and mdoe engine (if they exist)\n",
    "if(os.path.isfile('../last_choices.txt')):\n",
    "    f=open('../last_choices.txt','r')\n",
    "    contents =f.readlines()\n",
    "    f.close()\n",
    "    default_map=contents[0].replace(\"\\n\",\"\")\n",
    "    default_engine=contents[1].replace(\"\\n\",\"\")\n",
    "else:\n",
    "    default_map='test_data3'\n",
    "    default_engine='loopstructural'\n",
    "\n",
    "options=['Turner_Syncline','test_data3']\n",
    "\n",
    "if(not default_map in options):\n",
    "    default_map= options[0]\n",
    "\n",
    "map_choice=widgets.Dropdown(\n",
    "    options=options,\n",
    "    value=default_map,\n",
    "    description='Map area:',\n",
    "    disabled=False,\n",
    ")\n",
    "display(map_choice)"
   ]
  },
  {
   "cell_type": "code",
   "execution_count": 2,
   "metadata": {
    "ExecuteTime": {
     "end_time": "2020-06-02T06:36:02.266775Z",
     "start_time": "2020-06-02T06:36:02.233778Z"
    }
   },
   "outputs": [
    {
     "name": "stdout",
     "output_type": "stream",
     "text": [
      "Turner_Syncline\n"
     ]
    }
   ],
   "source": [
    "test_data_name=map_choice.value\n",
    "print(test_data_name)\n"
   ]
  },
  {
   "cell_type": "markdown",
   "metadata": {},
   "source": [
    "## Choose model engine\n",
    "1. Run cell below\n",
    "2. Select modelling engine from drop down menu   \n",
    "3. Click in next cell and run to end using menu: *Cell->Run all below* "
   ]
  },
  {
   "cell_type": "code",
   "execution_count": 3,
   "metadata": {
    "ExecuteTime": {
     "end_time": "2020-06-02T06:36:02.295774Z",
     "start_time": "2020-06-02T06:36:02.272778Z"
    }
   },
   "outputs": [
    {
     "data": {
      "application/vnd.jupyter.widget-view+json": {
       "model_id": "11af13ab29e34e6e8f619abbec46e80c",
       "version_major": 2,
       "version_minor": 0
      },
      "text/plain": [
       "Dropdown(description='Modeller:', index=2, options=('geomodeller', 'gempy', 'loopstructural', 'noddy', 'null')…"
      ]
     },
     "metadata": {},
     "output_type": "display_data"
    }
   ],
   "source": [
    "engine_choice=widgets.Dropdown(\n",
    "    options=['geomodeller', 'gempy','loopstructural','noddy','null'],\n",
    "    value=default_engine,\n",
    "    description='Modeller:',\n",
    "    disabled=False,\n",
    ")\n",
    "display(engine_choice)"
   ]
  },
  {
   "cell_type": "code",
   "execution_count": 6,
   "metadata": {
    "ExecuteTime": {
     "end_time": "2020-06-02T06:36:02.318778Z",
     "start_time": "2020-06-02T06:36:02.302782Z"
    }
   },
   "outputs": [
    {
     "name": "stdout",
     "output_type": "stream",
     "text": [
      "gempy\n"
     ]
    }
   ],
   "source": [
    "workflow={'model_engine':engine_choice.value} \n",
    "print(workflow['model_engine'])\n",
    "# save last map and engine choices\n",
    "f=open('../last_choices.txt','w') \n",
    "ostr=str(map_choice.value)+'\\n'+str(engine_choice.value)+'\\n'\n",
    "f.write(ostr)\n",
    "f.close()"
   ]
  },
  {
   "cell_type": "code",
   "execution_count": 8,
   "metadata": {
    "ExecuteTime": {
     "end_time": "2020-06-02T06:36:09.098804Z",
     "start_time": "2020-06-02T06:36:02.324778Z"
    },
    "pycharm": {
     "is_executing": false
    },
    "scrolled": false
   },
   "outputs": [],
   "source": [
    "import geopandas as gpd\n",
    "import pandas as pd\n",
    "import numpy as np\n",
    "import os\n",
    "import sys\n",
    "import stat\n",
    "import functools \n",
    "import operator  \n",
    "import matplotlib\n",
    "import networkx as nx\n",
    "import rasterio\n",
    "from matplotlib import pyplot\n",
    "import matplotlib.pyplot as plt\n",
    "from shapely.geometry import Polygon\n",
    "from map2loop import m2l_utils\n",
    "from map2loop import m2l_topology\n",
    "from map2loop import m2l_geometry\n",
    "from map2loop import m2l_interpolation\n",
    "from map2loop import m2l_export\n",
    "from map2loop import m2l_map_checker\n",
    "import time\n",
    "import shutil\n",
    "%matplotlib inline\n",
    "t0 = time.time()\n"
   ]
  },
  {
   "cell_type": "markdown",
   "metadata": {},
   "source": [
    "## Load config file"
   ]
  },
  {
   "cell_type": "code",
   "execution_count": 9,
   "metadata": {
    "ExecuteTime": {
     "end_time": "2020-06-02T06:36:09.133807Z",
     "start_time": "2020-06-02T06:36:09.103808Z"
    },
    "pycharm": {
     "is_executing": false
    },
    "scrolled": true
   },
   "outputs": [
    {
     "name": "stdout",
     "output_type": "stream",
     "text": [
      "Default parameters loaded from ../Turner_Syncline/m2l_config.py:\n",
      "#ROI\n",
      "\n",
      "step_out=0.1   #padding arounf dtm to ensure reprojected dtm covers target area (in degrees)\n",
      "inset=0      #unused??\n",
      "\n",
      "minx=500000 #region of interest coordinates in metre-based system (or non-degree system)\n",
      "maxx=545000\n",
      "miny=7490000\n",
      "maxy=7520000\n",
      "model_top=1200\n",
      "model_base=-3200\n",
      "\n",
      "#PATHS\n",
      "\n",
      "local_paths=True       #flag to use local or WFS source for data inputs (True = local)\n",
      "import os\n",
      "\n",
      "\n",
      "last=os.path.split(os.getcwd())[1]\n",
      "\n",
      "test_data_path='../'+last+'/'\n",
      "clut_path='../source_data/500kibg_colours.csv'\n",
      "\n",
      "data_path='../source_data/'\n",
      "\n",
      "geology_file='hams2_geol.shp'   #input geology file (if local)\n",
      "fault_file='GEOS_GEOLOGY_LINEARSTRUCTURE_500K_GSD.shp' #input fault file (if local)\n",
      "fold_file='GEOS_GEOLOGY_LINEARSTRUCTURE_500K_GSD.shp' #input fold file (if local)\n",
      "structure_file='hams2_structure.shp' #input bedding orientation file (if local)\n",
      "mindep_file='mindeps_2018.shp' #input mineral deposit file (if local)\n",
      "\n",
      "#CRS\n",
      "\n",
      "src_crs = {'init': 'epsg:4326'}  # coordinate reference system for imported dtms (geodetic lat/long WGS84)\n",
      "dst_crs = {'init': 'epsg:28350'} # coordinate system for data\n",
      "\n",
      "#CODES AND LABELS \n",
      "# these refer to specific fields (codes) in GIS layer or database that contain the info needed for these calcs and text substrings (labels) in the contents of these fields\n",
      "c_l= {\n",
      "#Orientations\n",
      "  \"d\": \"DIP\",                  #field that contains dip information\n",
      "  \"dd\": \"DIP_DIR\",             #field that contains dip direction information\n",
      "  \"sf\": 'FEATURE',             #field that contains information on type of structure\n",
      "  \"bedding\": 'Bed',            #text to search for in field defined by sf code to show that this is a bedding measurement\n",
      "  \"otype\": 'dip direction',            #flag to determine measurement convention (currently 'strike' or 'dip direction')\n",
      "  \"bo\": \"TYPE\",             #field that contains type of foliation\n",
      "  \"btype\": 'overturned',            #text to search for in field defined by bo code to show that this is an overturned bedding measurement\n",
      "#Stratigraphy\n",
      "  \"g\": 'GROUP_',               #field that contains coarser stratigraphic coding\n",
      "  \"g2\": 'SUPERSUITE',              #field that contains alternate coarser stratigraphic coding if 'g' is blank\n",
      "  \"c\": 'UNITNAME',                 #field that contains finer stratigraphic coding\n",
      "  \"ds\": 'DESCRIPTN',           #field that contains information about lithology\n",
      "  \"u\": 'CODE',             #field that contains alternate stratigraphic coding (not used??)\n",
      "  \"r1\": 'ROCKTYPE1',           #field that contains  extra lithology information\n",
      "  \"r2\": 'ROCKTYPE2',           #field that contains even more lithology information\n",
      "  \"sill\": 'sill',              #text to search for in field defined by ds code to show that this is a sill\n",
      "  \"intrusive\": 'intrusive',    #text to search for in field defined by r1 code to show that this is an intrusion\n",
      "  \"volcanic\": 'volcanic',      #text to search for in field defined by ds code to show that this is an volv=canic (not intrusion)\n",
      "#Mineral Deposits\n",
      "  \"msc\": 'SITE_CODE',          #field that contains site code of deposit\n",
      "  \"msn\": 'SHORT_NAME',         #field that contains short name of deposit\n",
      "  \"mst\": 'SITE_TYPE_',         #field that contains site type of deposit\n",
      "  \"mtc\": 'TARGET_COM',         #field that contains target commodity of deposit\n",
      "  \"mscm\": 'SITE_COMMO',        #field that contains site commodity of deposit\n",
      "  \"mcom\": 'COMMODITY_',        #field that contains commodity group of deposit\n",
      "  \"minf\": 'Infrastructure',    #text to search for in field defined by mst code that shows site to ignore\n",
      "#Timing\n",
      "  \"min\": 'MIN_AGE_MA',         #field that contains minimum age of unit defined by ccode\n",
      "  \"max\": 'MAX_AGE_MA',         #field that contains maximum age of unit defined by ccode\n",
      "#faults and folds\n",
      "  \"f\": 'FEATURE',              #field that contains information on type of structure\n",
      "  \"fault\": 'Fault',            #text to search for in field defined by f code to show that this is a fault\n",
      "  \"ff\": 'FEATURE',  # field that contains information on type of structure\n",
      "  \"fold\": 'Fold axial trace',  #text to search for in field defined by f code to show that this is a fold axial trace\n",
      "  \"fdip\": 'DIP',               # field for numeric fault dip value\n",
      "  \"fdipnull\": '0',         # text to search for in field defined by fdip to show that this has no known dip\n",
      "  \"fdipdir\": 'DIP_DIR',        # field for text fault dip direction value \n",
      "  \"fdipdir_flag\": 'alpha',        # flag for text fault dip direction type num e.g. 045 or alpha e.g. southeast    \n",
      "  \"fdipest\": 'DIP_EST',        # field for text fault dip estimate value\n",
      "  \"fdipest_vals\": 'gentle,moderate,steep',        # text to search for in field defined by fdipest to give fault dip estimate in increasing steepness\n",
      "  \"n\": 'NAME',                 #field that contains information on name of fault (not used??)\n",
      "  \"t\": 'TYPE',                 #field that contains information on type of fold\n",
      "  \"syn\": 'syncline',           #text to search for in field defined by t to show that this is a syncline\n",
      "#ids\n",
      "  \"o\": 'OBJECTID',             #field that contains unique id of geometry object\n",
      "  \"gi\": 'GEOPNT_ID'            #field that contains unique id of structure point\n",
      "}\n",
      "\n",
      "#DECIMATION\n",
      "\n",
      "orientation_decimate=0  #store every nth orientation (in object order) 0 = save all\n",
      "contact_decimate=10     #store every nth contact point (in object order) 0 = save all\n",
      "fault_decimate=5        #store every nth fault point (in object order) 0 = save all\n",
      "fold_decimate=5         #store every nth fold axial trace point (in object order) 0 = save all\n",
      "\n",
      "#INTERPOLATION\n",
      "\n",
      "gridx=50                #x grid dimensions (no of points, not distance) for interpolations\n",
      "gridy=50                #x grid dimensions (no of points, not distance) for interpolations\n",
      "scheme='scipy_rbf'      #interpolation scheme\n",
      "dist_buffer=5           #buffer distance for clipping points by faults (in metres or same units as dst_crs)\n",
      "intrusion_mode=0        # 1 all intrusions exluded from basal contacts, 0 only sills\n",
      "use_interpolations=False    # flag to use interpolated orientations or not.\n",
      "\n",
      "#ASSUMPTIONS\n",
      "\n",
      "pluton_dip=45           #surface dip of pluton contacts\n",
      "pluton_form='domes'     #saucers: \\__+_+__/  batholith: +/       \\+   domes: /  +  + \\  pendant: +\\_____/+\n",
      "fault_dip=90            #surface dip of faults\n",
      "\n",
      "#DERIVED AND FIXED PATHS\n",
      "\n",
      "m2m_cpp_path='../m2m_cpp/'\n",
      "\n",
      "graph_path=test_data_path+'graph/'\n",
      "tmp_path=test_data_path+'tmp/'\n",
      "#data_path=test_data_path+'data/'\n",
      "dtm_path=test_data_path+'dtm/'\n",
      "output_path=test_data_path+'output/'\n",
      "vtk_path=test_data_path+'vtk/'\n",
      "\n",
      "fault_file_csv=tmp_path+fault_file.replace(\".shp\",\".csv\")\n",
      "structure_file_csv=tmp_path+structure_file.replace(\".shp\",\".csv\")\n",
      "geology_file_csv=tmp_path+geology_file.replace(\".shp\",\".csv\")\n",
      "mindep_file_csv=tmp_path+mindep_file.replace(\".shp\",\".csv\")\n",
      "\n",
      "fault_file=data_path+fault_file\n",
      "fold_file=data_path+fold_file\n",
      "structure_file=data_path+structure_file\n",
      "geology_file=data_path+geology_file\n",
      "mindep_file=data_path+mindep_file\n",
      "\n",
      "strat_graph_file=test_data_path+'graph/graph_strat_NONE.gml'\n",
      "\n",
      "dtm_file=dtm_path+'dtm.tif'\n",
      "dtm_reproj_file=dtm_path+'dtm_rp.tif'\n",
      "\n",
      "if(not os.path.isdir(test_data_path)):\n",
      "   os.mkdir(test_data_path)\n",
      "if(not os.path.isdir(tmp_path)):\n",
      "   os.mkdir(tmp_path)\n",
      "if(not os.path.isdir(output_path)):\n",
      "   os.mkdir(output_path)\n",
      "if(not os.path.isdir(dtm_path)):\n",
      "   os.mkdir(dtm_path)\n",
      "if(not os.path.isdir(vtk_path)):\n",
      "   os.mkdir(vtk_path)\n",
      "if(not os.path.isdir(graph_path)):\n",
      "   os.mkdir(graph_path)\n",
      "\n",
      "print('Default parameters loaded from '+test_data_path+'m2l_config.py:')\n",
      "with open(test_data_path+'m2l_config.py', 'r') as myfile:\n",
      "  data = myfile.read()\n",
      "  print(data)\n",
      "  myfile.close()\n",
      "\n",
      "print('\\nModify these parameters in the cell below')\n",
      "\n",
      "Modify these parameters in the cell below\n",
      "C:\\Users\\legui\\PycharmProjects\\map2loop\\Turner_Syncline\n"
     ]
    },
    {
     "name": "stderr",
     "output_type": "stream",
     "text": [
      "C:\\Users\\legui\\miniconda3\\envs\\gu\\lib\\site-packages\\pyproj\\crs\\crs.py:53: FutureWarning: '+init=<authority>:<code>' syntax is deprecated. '<authority>:<code>' is the preferred initialization method. When making the change, be mindful of axis order changes: https://pyproj4.github.io/pyproj/stable/gotchas.html#axis-order-changes-in-proj-6\n",
      "  return _prepare_from_string(\" \".join(pjargs))\n"
     ]
    }
   ],
   "source": [
    "test_data_path='../'+test_data_name+'/'\n",
    "\n",
    "os.chdir(test_data_path)\n",
    "%run -i \"m2l_config.py\"\n",
    "#%run -i \"m2l_config_remote.py\"\n",
    "print(os.getcwd())\n",
    "\n",
    "bbox2=str(minx)+\",\"+str(miny)+\",\"+str(maxx)+\",\"+str(maxy)\n",
    "lat_point_list = [miny, miny, maxy, maxy, maxy]\n",
    "lon_point_list = [minx, maxx, maxx, minx, minx]\n",
    "bbox_geom = Polygon(zip(lon_point_list, lat_point_list))\n",
    "polygon = gpd.GeoDataFrame(index=[0], crs=dst_crs, geometry=[bbox_geom]) \n",
    "bbox=(minx,miny,maxx,maxy)\n"
   ]
  },
  {
   "cell_type": "code",
   "execution_count": 10,
   "metadata": {
    "ExecuteTime": {
     "end_time": "2020-06-02T06:36:09.160806Z",
     "start_time": "2020-06-02T06:36:09.138805Z"
    },
    "pycharm": {
     "is_executing": false
    }
   },
   "outputs": [],
   "source": [
    "# opportunity to second guess config file or add extra parameters not yet in config file...\n",
    "\n",
    "fold_decimate=2         \n",
    "\n",
    "fault_decimate=0\n",
    "\n",
    "contact_decimate=5\n",
    "\n",
    "orientation_decimate=0\n",
    "\n",
    "use_interpolations=True       #use interpolated dips/contacts as additional constraints\n",
    "\n",
    "use_fat=True                   #use fold axial trace orientation hints\n",
    "\n",
    "pluton_form='domes'\n",
    "\n",
    "fault_dip=90\n",
    "\n",
    "min_fault_length=5000\n",
    "\n",
    "compute_etc=False\n",
    "\n",
    "spacing=500   #grid spacing in metres of interpolation points\n",
    "\n",
    "Australia=True\n",
    "\n",
    "local_paths=True\n",
    "\n",
    "drift_prefix=['None']\n",
    "\n",
    "#################################\n",
    "# There are many alternative datasets that \n",
    "# can be extracted from the input data, \n",
    "# and many choices of possible input data\n",
    "#\n",
    "# These flags define what the actual workflow \n",
    "# will be for this experiment, based partly \n",
    "# on which (if any) modelling engine is used\n",
    "#\n",
    "#############################################\n",
    "\n",
    "\n",
    "if(workflow['model_engine']=='geomodeller'):\n",
    "    workflow.update( {'seismic_section':False,\n",
    "          'cover_map':False,\n",
    "          'near_fault_interpolations':True,\n",
    "          'fold_axial_traces':False,\n",
    "          'stereonets':True,\n",
    "          'formation_thickness':True,\n",
    "          'polarity':False,\n",
    "          'strat_offset':True,\n",
    "          'contact_dips':True} )\n",
    "elif(workflow['model_engine']=='loopstructural'):\n",
    "    workflow.update( {'seismic_section':False,\n",
    "          'cover_map':False,\n",
    "          'near_fault_interpolations':False,\n",
    "          'fold_axial_traces':True,\n",
    "          'stereonets':True,\n",
    "          'formation_thickness':True,\n",
    "          'polarity':False,\n",
    "          'strat_offset':True,\n",
    "          'contact_dips':True} )\n",
    "elif(workflow['model_engine']=='gempy'):\n",
    "    workflow.update( {'seismic_section':False,\n",
    "          'cover_map':False,\n",
    "          'near_fault_interpolations':False,\n",
    "          'fold_axial_traces':True,\n",
    "          'stereonets':False,\n",
    "          'formation_thickness':False,\n",
    "          'polarity':False,\n",
    "          'strat_offset':False,\n",
    "          'contact_dips':False} )\n",
    "elif(workflow['model_engine']=='noddy'):\n",
    "    workflow.update( {'seismic_section':False,\n",
    "          'cover_map':False,\n",
    "          'near_fault_interpolations':False,\n",
    "          'fold_axial_traces':False,\n",
    "          'stereonets':False,\n",
    "          'formation_thickness':False,\n",
    "          'polarity':False,\n",
    "          'strat_offset':False,\n",
    "          'contact_dips':False} )\n",
    "else:\n",
    "    workflow.update( {'seismic_section':False,\n",
    "          'cover_map':False,\n",
    "          'near_fault_interpolations':False,\n",
    "          'fold_axial_traces':False,\n",
    "          'stereonets':True,\n",
    "          'formation_thickness':True,\n",
    "          'polarity':False,\n",
    "          'strat_offset':True,\n",
    "          'contact_dips':False} )\n",
    "    \n",
    "\n",
    "\n",
    "# no cover info so no need load cover layers\n",
    "if(not workflow['cover_map']):\n",
    "    dtb=0\n",
    "    dtb_null=0\n",
    "else:\n",
    "    dtb_grid=data_path+'young_cover_grid.tif' #obviously hard-wired for the moment\n",
    "    dtb_null='-2147483648' #obviously hard-wired for the moment\n",
    "    cover_map_path=data_path+'Young_Cover_FDS_MGA_clean.shp' #obviously hard-wired for the moment\n",
    "    dtb_clip=output_path+'young_cover_grid_clip.tif' #obviously hard-wired for the moment\n",
    "    cover_dip=10 # dip of cover away from contact\n",
    "    cover_spacing=5000 # of contact grid in metres\n"
   ]
  },
  {
   "cell_type": "markdown",
   "metadata": {},
   "source": [
    "## First we test to see if we have access to the online data we need\n"
   ]
  },
  {
   "cell_type": "code",
   "execution_count": 11,
   "metadata": {
    "ExecuteTime": {
     "end_time": "2020-06-02T06:36:09.528875Z",
     "start_time": "2020-06-02T06:36:09.168807Z"
    },
    "pycharm": {
     "is_executing": false
    }
   },
   "outputs": [
    {
     "name": "stdout",
     "output_type": "stream",
     "text": [
      "available: geo.loop-gis.org\n",
      "available: services.ga.gov.au\n"
     ]
    }
   ],
   "source": [
    "loopwfs=m2l_utils.have_access(\"geo.loop-gis.org\")\n",
    "ga=m2l_utils.have_access(\"services.ga.gov.au\")\n",
    "if(not local_paths and not loopwfs):\n",
    "    raise NameError('map2loop error: No access to remote map server')\n",
    "if(not (loopwfs & ga)):\n",
    "    local_paths=True\n",
    "    net=False\n",
    "    print('using local paths')\n",
    "else:\n",
    "    net=True"
   ]
  },
  {
   "cell_type": "markdown",
   "metadata": {},
   "source": [
    "##  Check Map for valid input files   \n",
    "   \n",
    "### Checks for:   \n",
    "- Files exist\n",
    "- Requred fields\n",
    "- No NaN/blanks in required fields\n",
    "- Sufficient orientation data\n",
    "- LineString/PolyLines for faults (i.e. not MultiLineStrings/MultiPolylines), if found splits into unique ID polylines\n",
    "- Commas in unit code (maybe should check in groups and alt groups??\n",
    "\n",
    "### Should also check for:   \n",
    "- Significantly overlapping polygons\n",
    "- Faults that should be joined (c.f. FracG code)\n",
    "- Orientations near contacts that make no sense (i.e. strike is at high angle to contact tangent)\n",
    "\n"
   ]
  },
  {
   "cell_type": "code",
   "execution_count": 12,
   "metadata": {
    "ExecuteTime": {
     "end_time": "2020-06-02T06:36:11.328986Z",
     "start_time": "2020-06-02T06:36:09.533874Z"
    }
   },
   "outputs": [
    {
     "name": "stdout",
     "output_type": "stream",
     "text": [
      "\n",
      " orientations layer  metadata\n",
      "--------------------\n",
      "    bbox [ 506680.48013113 7498960.6092396   544783.45459606 7517250.2104638 ]\n",
      "    CRS epsg:28350\n",
      "    # items 15\n",
      "    Data types ['Point']\n",
      "\n",
      " geology layer  metadata\n",
      "--------------------\n",
      "    bbox [ 455101.55911556 7430805.86931752  654057.86604528 7540137.55196782]\n",
      "    CRS epsg:28350\n",
      "    # items 51\n",
      "    Data types ['Polygon']\n",
      "\n",
      " fold layer  metadata\n",
      "--------------------\n",
      "    bbox [ 500000. 7490000.  545000. 7520000.]\n",
      "    CRS epsg:28350\n",
      "    # items 34\n",
      "    Data types ['LineString']\n"
     ]
    },
    {
     "name": "stderr",
     "output_type": "stream",
     "text": [
      "C:\\Users\\legui\\miniconda3\\envs\\gu\\lib\\site-packages\\pyproj\\crs\\crs.py:53: FutureWarning: '+init=<authority>:<code>' syntax is deprecated. '<authority>:<code>' is the preferred initialization method. When making the change, be mindful of axis order changes: https://pyproj4.github.io/pyproj/stable/gotchas.html#axis-order-changes-in-proj-6\n",
      "  return _prepare_from_string(\" \".join(pjargs))\n"
     ]
    },
    {
     "name": "stdout",
     "output_type": "stream",
     "text": [
      "\n",
      " fault layer  metadata\n",
      "--------------------\n",
      "    bbox [ 500000. 7490000.  545000. 7520000.]\n",
      "    CRS +init=epsg:28350 +type=crs\n",
      "    # items 29\n",
      "    Data types ['LineString']\n",
      "\n",
      " mindeps layer  metadata\n",
      "--------------------\n",
      "    bbox [ 503344.19866124 7491970.09391213  544819.95020013 7519998.99751085]\n",
      "    CRS epsg:28350\n",
      "    # items 76\n",
      "    Data types ['Point']\n",
      "\n",
      "Warnings:\n",
      "     51 NaN/blank found in column \"SUPERSUITE\" of geology file, replacing with 0\n",
      "     No fault dip estimate text for fault polylines\n",
      "     29 NaN/blank found in column \"DIP_DIR\" of fault file, replacing with -999\n",
      "     29 NaN/blank found in column \"DIP_EST\" of fault file, replacing with -999\n"
     ]
    },
    {
     "name": "stderr",
     "output_type": "stream",
     "text": [
      "c:\\users\\legui\\pycharmprojects\\map2loop\\map2loop\\m2l_map_checker.py:303: UserWarning: The warnings listed above were issued\n",
      "  warnings.warn('The warnings listed above were issued')\n",
      "C:\\Users\\legui\\miniconda3\\envs\\gu\\lib\\site-packages\\pyproj\\crs\\crs.py:53: FutureWarning: '+init=<authority>:<code>' syntax is deprecated. '<authority>:<code>' is the preferred initialization method. When making the change, be mindful of axis order changes: https://pyproj4.github.io/pyproj/stable/gotchas.html#axis-order-changes-in-proj-6\n",
      "  return _prepare_from_string(\" \".join(pjargs))\n"
     ]
    },
    {
     "name": "stdout",
     "output_type": "stream",
     "text": [
      "\n",
      "No errors found, clipped and updated files saved to tmp\n"
     ]
    }
   ],
   "source": [
    "structure_file,geology_file,fault_file,mindep_file,fold_file,c_l=m2l_map_checker.check_map(structure_file,geology_file,fault_file,mindep_file,fold_file,tmp_path,bbox,c_l,dst_crs,local_paths,drift_prefix)"
   ]
  },
  {
   "cell_type": "markdown",
   "metadata": {},
   "source": [
    "## Display stereonets of bedding by formations and group to see how we can combine them later"
   ]
  },
  {
   "cell_type": "code",
   "execution_count": 13,
   "metadata": {
    "ExecuteTime": {
     "end_time": "2020-06-02T06:36:23.738017Z",
     "start_time": "2020-06-02T06:36:11.334988Z"
    },
    "scrolled": true
   },
   "outputs": [
    {
     "name": "stdout",
     "output_type": "stream",
     "text": [
      "All observations n= 15\n",
      "groups ['Fortescue Group' 'Hamersley Group' 'Turee Creek Group'] \n",
      "codes ['Pyradie Formation' 'Brockman Iron Formation' 'Jeerinah Formation'\n",
      " 'Woongarra Rhyolite' 'Boolgeeda Iron Formation'\n",
      " 'Mount McRae Shale and Mount Sylvia Formation' 'Wittenoom Formation'\n",
      " 'Fortescue Group' 'Weeli Wolli Formation' 'Marra Mamba Iron Formation'\n",
      " 'Turee Creek Group' 'Bunjinah Formation']\n"
     ]
    },
    {
     "data": {
      "image/png": "[encoded data removed]",
      "text/plain": [
       "<Figure size 504x504 with 2 Axes>"
      ]
     },
     "metadata": {
      "needs_background": "light"
     },
     "output_type": "display_data"
    },
    {
     "name": "stdout",
     "output_type": "stream",
     "text": [
      "----------------------------------------------------------------------------------------------------------------------\n",
      "Fortescue Group observations has 1 observation\n",
      "----------------------------------------------------------------------------------------------------------------------\n",
      "Hamersley Group observations n= 13\n",
      "strike/dip of girdle 11.180205562008041 / 81.95747948449605\n"
     ]
    },
    {
     "data": {
      "image/png": "[encoded data removed]",
      "text/plain": [
       "<Figure size 360x360 with 2 Axes>"
      ]
     },
     "metadata": {
      "needs_background": "light"
     },
     "output_type": "display_data"
    },
    {
     "name": "stdout",
     "output_type": "stream",
     "text": [
      "----------------------------------------------------------------------------------------------------------------------\n",
      "Turee Creek Group observations has 1 observation\n"
     ]
    }
   ],
   "source": [
    "geology = gpd.read_file(geology_file,bbox=bbox)\n",
    "\n",
    "geology[c_l['g']].fillna(geology[c_l['g2']], inplace=True)\n",
    "geology[c_l['g']].fillna(geology[c_l['c']], inplace=True)\n",
    "\n",
    "orientations = gpd.read_file(structure_file,bbox=bbox)\n",
    "if(len(orientations)<2):\n",
    "    raise NameError('Not enough orientations to complete calculations (need at least 2)')\n",
    "group_girdle=m2l_utils.plot_bedding_stereonets(orientations,geology,c_l)\n"
   ]
  },
  {
   "cell_type": "markdown",
   "metadata": {},
   "source": [
    "## Test code to automatically create super_groups and use_group3"
   ]
  },
  {
   "cell_type": "code",
   "execution_count": 14,
   "metadata": {},
   "outputs": [
    {
     "data": {
      "text/html": [
       "<div>\n",
       "<style scoped>\n",
       "    .dataframe tbody tr th:only-of-type {\n",
       "        vertical-align: middle;\n",
       "    }\n",
       "\n",
       "    .dataframe tbody tr th {\n",
       "        vertical-align: top;\n",
       "    }\n",
       "\n",
       "    .dataframe thead th {\n",
       "        text-align: right;\n",
       "    }\n",
       "</style>\n",
       "<table border=\"1\" class=\"dataframe\">\n",
       "  <thead>\n",
       "    <tr style=\"text-align: right;\">\n",
       "      <th></th>\n",
       "      <th>plunge</th>\n",
       "      <th>bearing</th>\n",
       "      <th>num orientations</th>\n",
       "    </tr>\n",
       "  </thead>\n",
       "  <tbody>\n",
       "    <tr>\n",
       "      <th>Hamersley Group</th>\n",
       "      <td>8.042521</td>\n",
       "      <td>281.180206</td>\n",
       "      <td>13</td>\n",
       "    </tr>\n",
       "    <tr>\n",
       "      <th>Fortescue Group</th>\n",
       "      <td>-999.000000</td>\n",
       "      <td>-999.000000</td>\n",
       "      <td>1</td>\n",
       "    </tr>\n",
       "    <tr>\n",
       "      <th>Turee Creek Group</th>\n",
       "      <td>-999.000000</td>\n",
       "      <td>-999.000000</td>\n",
       "      <td>1</td>\n",
       "    </tr>\n",
       "  </tbody>\n",
       "</table>\n",
       "</div>"
      ],
      "text/plain": [
       "                       plunge     bearing  num orientations\n",
       "Hamersley Group      8.042521  281.180206                13\n",
       "Fortescue Group   -999.000000 -999.000000                 1\n",
       "Turee Creek Group -999.000000 -999.000000                 1"
      ]
     },
     "metadata": {},
     "output_type": "display_data"
    }
   ],
   "source": [
    "misorientation=30\n",
    "super_groups,use_gcode3=m2l_topology.super_groups_and_groups(group_girdle,tmp_path,misorientation)\n"
   ]
  },
  {
   "cell_type": "markdown",
   "metadata": {},
   "source": [
    "## Decide on super groups and groups\n",
    "Supergroups define what shall be interpolated as single system   \n",
    "use_gcode defines which groups we choose to calculate model from  \n",
    "\n",
    "<font color='red'>The following outputs are the default settings that put all groups as one super_group for orientation interpolation purposes and use_gcode3 defines which groups will actually be modelled If after looking at the stereonets you want to change these defaults, just copy paste the two following lines into the next cell below and edit them as you wish. </font>  "
   ]
  },
  {
   "cell_type": "code",
   "execution_count": 15,
   "metadata": {
    "ExecuteTime": {
     "end_time": "2020-06-02T06:36:23.757015Z",
     "start_time": "2020-06-02T06:36:23.743015Z"
    }
   },
   "outputs": [
    {
     "name": "stdout",
     "output_type": "stream",
     "text": [
      "super_groups= [['Hamersley Group', 'Fortescue Group', 'Turee Creek Group']]\n",
      "use_gcode3= ['Hamersley_Group', 'Fortescue_Group', 'Turee_Creek_Group']\n"
     ]
    }
   ],
   "source": [
    "\n",
    "print(\"super_groups=\",super_groups)\n",
    "print(\"use_gcode3=\",use_gcode3)\n"
   ]
  },
  {
   "cell_type": "code",
   "execution_count": null,
   "metadata": {},
   "outputs": [],
   "source": [
    "\n",
    "\n",
    "\n",
    "\n",
    "\n",
    "\n",
    "\n",
    "\n",
    "\n",
    "\n",
    "\n",
    "\n",
    "\n",
    "\n",
    "\n",
    "\n"
   ]
  },
  {
   "cell_type": "markdown",
   "metadata": {},
   "source": [
    "## Preprocess data to ensure it meets modelling requirements"
   ]
  },
  {
   "cell_type": "code",
   "execution_count": 16,
   "metadata": {},
   "outputs": [
    {
     "name": "stdout",
     "output_type": "stream",
     "text": [
      "only processing ['Hamersley_Group', 'Fortescue_Group', 'Turee_Creek_Group']\n"
     ]
    }
   ],
   "source": [
    "print('only processing',use_gcode3)\n",
    "\n",
    "inputs=('')\n",
    "\n",
    "if(workflow['model_engine'] =='geomodeller'):\n",
    "    inputs=('invented_orientations','intrusive_orientations','fat_orientations','near_fault_orientations','fault_tip_contacts','contact_orientations')\n",
    "elif(workflow['model_engine']=='loopstructural'):\n",
    "    inputs=('invented_orientations','fat_orientations','contact_orientations','intrusive_orientations')\n",
    "elif(workflow['model_engine']=='gempy'):\n",
    "    inputs=('invented_orientations','interpolated_orientations','fat_orientations')\n",
    "elif(workflow['model_engine']=='noddy'):\n",
    "    inputs=('')"
   ]
  },
  {
   "cell_type": "markdown",
   "metadata": {},
   "source": [
    "## Plot geology polygons and bounding box"
   ]
  },
  {
   "cell_type": "code",
   "execution_count": 17,
   "metadata": {
    "ExecuteTime": {
     "end_time": "2020-06-02T06:36:24.855075Z",
     "start_time": "2020-06-02T06:36:23.763015Z"
    },
    "pycharm": {
     "is_executing": false
    },
    "scrolled": false
   },
   "outputs": [
    {
     "name": "stdout",
     "output_type": "stream",
     "text": [
      "../Turner_Syncline/tmp/geol_clip.shp\n"
     ]
    },
    {
     "data": {
      "text/html": [
       "<div>\n",
       "<style scoped>\n",
       "    .dataframe tbody tr th:only-of-type {\n",
       "        vertical-align: middle;\n",
       "    }\n",
       "\n",
       "    .dataframe tbody tr th {\n",
       "        vertical-align: top;\n",
       "    }\n",
       "\n",
       "    .dataframe thead th {\n",
       "        text-align: right;\n",
       "    }\n",
       "</style>\n",
       "<table border=\"1\" class=\"dataframe\">\n",
       "  <thead>\n",
       "    <tr style=\"text-align: right;\">\n",
       "      <th></th>\n",
       "      <th>OBJECTID_1</th>\n",
       "      <th>OBJECTID</th>\n",
       "      <th>LITHSTRTNO</th>\n",
       "      <th>CODE</th>\n",
       "      <th>UNITNAME</th>\n",
       "      <th>GSWASTATUS</th>\n",
       "      <th>RANK</th>\n",
       "      <th>DESCRIPTN</th>\n",
       "      <th>PARENTCODE</th>\n",
       "      <th>PARENTNAME</th>\n",
       "      <th>...</th>\n",
       "      <th>MIN_AGE_MA</th>\n",
       "      <th>MINUNCERTY</th>\n",
       "      <th>MAX_AGE_DA</th>\n",
       "      <th>MIN_AGE_DA</th>\n",
       "      <th>EXTRACT_DA</th>\n",
       "      <th>SHAPE_Leng</th>\n",
       "      <th>ORIG_FID</th>\n",
       "      <th>Shape_Le_1</th>\n",
       "      <th>Shape_Area</th>\n",
       "      <th>geometry</th>\n",
       "    </tr>\n",
       "  </thead>\n",
       "  <tbody>\n",
       "    <tr>\n",
       "      <th>0</th>\n",
       "      <td>2</td>\n",
       "      <td>2</td>\n",
       "      <td>4144</td>\n",
       "      <td>A-FOp-bs</td>\n",
       "      <td>Pyradie Formation</td>\n",
       "      <td>Formal</td>\n",
       "      <td>Formation</td>\n",
       "      <td>Pyroxene spinifex-textured basaltic flows and ...</td>\n",
       "      <td>A-FO-xb-s</td>\n",
       "      <td>Fortescue Group</td>\n",
       "      <td>...</td>\n",
       "      <td>2718</td>\n",
       "      <td>None</td>\n",
       "      <td>Inferred</td>\n",
       "      <td>Inferred</td>\n",
       "      <td>2014-12-04</td>\n",
       "      <td>2.091002</td>\n",
       "      <td>1</td>\n",
       "      <td>2.091002</td>\n",
       "      <td>0.017331</td>\n",
       "      <td>MULTIPOLYGON (((529739.115 7490000.000, 528977...</td>\n",
       "    </tr>\n",
       "    <tr>\n",
       "      <th>1</th>\n",
       "      <td>17</td>\n",
       "      <td>12</td>\n",
       "      <td>4113</td>\n",
       "      <td>P_-HAb-cib</td>\n",
       "      <td>Brockman Iron Formation</td>\n",
       "      <td>Formal</td>\n",
       "      <td>Formation</td>\n",
       "      <td>Banded iron-formation, chert, mudstone, and si...</td>\n",
       "      <td>P_-HAU-xci-f</td>\n",
       "      <td>Hamersley Group, upper</td>\n",
       "      <td>...</td>\n",
       "      <td>2451</td>\n",
       "      <td>None</td>\n",
       "      <td>Inferred</td>\n",
       "      <td>Inferred</td>\n",
       "      <td>2014-12-04</td>\n",
       "      <td>5.308226</td>\n",
       "      <td>11</td>\n",
       "      <td>5.308226</td>\n",
       "      <td>0.057164</td>\n",
       "      <td>POLYGON ((528055.800 7501423.059, 528302.380 7...</td>\n",
       "    </tr>\n",
       "    <tr>\n",
       "      <th>2</th>\n",
       "      <td>59</td>\n",
       "      <td>49</td>\n",
       "      <td>4144</td>\n",
       "      <td>A-FOp-bs</td>\n",
       "      <td>Pyradie Formation</td>\n",
       "      <td>Formal</td>\n",
       "      <td>Formation</td>\n",
       "      <td>Pyroxene spinifex-textured basaltic flows and ...</td>\n",
       "      <td>A-FO-xb-s</td>\n",
       "      <td>Fortescue Group</td>\n",
       "      <td>...</td>\n",
       "      <td>2718</td>\n",
       "      <td>None</td>\n",
       "      <td>Inferred</td>\n",
       "      <td>Inferred</td>\n",
       "      <td>2014-12-04</td>\n",
       "      <td>0.387243</td>\n",
       "      <td>48</td>\n",
       "      <td>0.387243</td>\n",
       "      <td>0.001412</td>\n",
       "      <td>POLYGON ((512064.109 7520000.000, 512084.779 7...</td>\n",
       "    </tr>\n",
       "    <tr>\n",
       "      <th>3</th>\n",
       "      <td>75</td>\n",
       "      <td>58</td>\n",
       "      <td>3368</td>\n",
       "      <td>A-FOj-xs-b</td>\n",
       "      <td>Jeerinah Formation</td>\n",
       "      <td>Formal</td>\n",
       "      <td>Formation</td>\n",
       "      <td>Siliciclastic sedimentary rocks, mafic volcani...</td>\n",
       "      <td>A-FO-xb-s</td>\n",
       "      <td>Fortescue Group</td>\n",
       "      <td>...</td>\n",
       "      <td>2629</td>\n",
       "      <td>5</td>\n",
       "      <td>Isotopic</td>\n",
       "      <td>Isotopic</td>\n",
       "      <td>2014-12-04</td>\n",
       "      <td>14.712921</td>\n",
       "      <td>57</td>\n",
       "      <td>14.712921</td>\n",
       "      <td>0.087554</td>\n",
       "      <td>MULTIPOLYGON (((545000.000 7504847.551, 544943...</td>\n",
       "    </tr>\n",
       "    <tr>\n",
       "      <th>4</th>\n",
       "      <td>90</td>\n",
       "      <td>68</td>\n",
       "      <td>3368</td>\n",
       "      <td>A-FOj-xs-b</td>\n",
       "      <td>Jeerinah Formation</td>\n",
       "      <td>Formal</td>\n",
       "      <td>Formation</td>\n",
       "      <td>Siliciclastic sedimentary rocks, mafic volcani...</td>\n",
       "      <td>A-FO-xb-s</td>\n",
       "      <td>Fortescue Group</td>\n",
       "      <td>...</td>\n",
       "      <td>2629</td>\n",
       "      <td>5</td>\n",
       "      <td>Isotopic</td>\n",
       "      <td>Isotopic</td>\n",
       "      <td>2014-12-04</td>\n",
       "      <td>4.052899</td>\n",
       "      <td>67</td>\n",
       "      <td>4.052899</td>\n",
       "      <td>0.020812</td>\n",
       "      <td>POLYGON ((545000.000 7493337.565, 544793.198 7...</td>\n",
       "    </tr>\n",
       "  </tbody>\n",
       "</table>\n",
       "<p>5 rows × 63 columns</p>\n",
       "</div>"
      ],
      "text/plain": [
       "   OBJECTID_1  OBJECTID  LITHSTRTNO        CODE                 UNITNAME  \\\n",
       "0           2         2        4144    A-FOp-bs        Pyradie Formation   \n",
       "1          17        12        4113  P_-HAb-cib  Brockman Iron Formation   \n",
       "2          59        49        4144    A-FOp-bs        Pyradie Formation   \n",
       "3          75        58        3368  A-FOj-xs-b       Jeerinah Formation   \n",
       "4          90        68        3368  A-FOj-xs-b       Jeerinah Formation   \n",
       "\n",
       "  GSWASTATUS       RANK                                          DESCRIPTN  \\\n",
       "0     Formal  Formation  Pyroxene spinifex-textured basaltic flows and ...   \n",
       "1     Formal  Formation  Banded iron-formation, chert, mudstone, and si...   \n",
       "2     Formal  Formation  Pyroxene spinifex-textured basaltic flows and ...   \n",
       "3     Formal  Formation  Siliciclastic sedimentary rocks, mafic volcani...   \n",
       "4     Formal  Formation  Siliciclastic sedimentary rocks, mafic volcani...   \n",
       "\n",
       "     PARENTCODE              PARENTNAME  ... MIN_AGE_MA MINUNCERTY MAX_AGE_DA  \\\n",
       "0     A-FO-xb-s         Fortescue Group  ...       2718       None   Inferred   \n",
       "1  P_-HAU-xci-f  Hamersley Group, upper  ...       2451       None   Inferred   \n",
       "2     A-FO-xb-s         Fortescue Group  ...       2718       None   Inferred   \n",
       "3     A-FO-xb-s         Fortescue Group  ...       2629          5   Isotopic   \n",
       "4     A-FO-xb-s         Fortescue Group  ...       2629          5   Isotopic   \n",
       "\n",
       "  MIN_AGE_DA  EXTRACT_DA SHAPE_Leng ORIG_FID Shape_Le_1 Shape_Area  \\\n",
       "0   Inferred  2014-12-04   2.091002        1   2.091002   0.017331   \n",
       "1   Inferred  2014-12-04   5.308226       11   5.308226   0.057164   \n",
       "2   Inferred  2014-12-04   0.387243       48   0.387243   0.001412   \n",
       "3   Isotopic  2014-12-04  14.712921       57  14.712921   0.087554   \n",
       "4   Isotopic  2014-12-04   4.052899       67   4.052899   0.020812   \n",
       "\n",
       "                                            geometry  \n",
       "0  MULTIPOLYGON (((529739.115 7490000.000, 528977...  \n",
       "1  POLYGON ((528055.800 7501423.059, 528302.380 7...  \n",
       "2  POLYGON ((512064.109 7520000.000, 512084.779 7...  \n",
       "3  MULTIPOLYGON (((545000.000 7504847.551, 544943...  \n",
       "4  POLYGON ((545000.000 7493337.565, 544793.198 7...  \n",
       "\n",
       "[5 rows x 63 columns]"
      ]
     },
     "metadata": {},
     "output_type": "display_data"
    },
    {
     "data": {
      "text/plain": [
       "<AxesSubplot:>"
      ]
     },
     "execution_count": 17,
     "metadata": {},
     "output_type": "execute_result"
    },
    {
     "data": {
      "image/png": "[encoded data removed]",
      "text/plain": [
       "<Figure size 720x720 with 1 Axes>"
      ]
     },
     "metadata": {
      "needs_background": "light"
     },
     "output_type": "display_data"
    }
   ],
   "source": [
    "print(geology_file)\n",
    "geology_ll = gpd.read_file(geology_file,bbox=bbox)\n",
    "\n",
    "geology_ll[c_l['g']].fillna(geology_ll[c_l['g2']], inplace=True)\n",
    "geology_ll[c_l['g']].fillna(geology_ll[c_l['c']], inplace=True)\n",
    "display(geology_ll.head())\n",
    "base=geology_ll.plot(column=c_l['c'],figsize=(10,10),edgecolor='#000000',linewidth=0.2)\n",
    "polygon.plot(ax=base, color='none',edgecolor='black')\n"
   ]
  },
  {
   "cell_type": "markdown",
   "metadata": {},
   "source": [
    "## Save geology to file as WKT"
   ]
  },
  {
   "cell_type": "code",
   "execution_count": 18,
   "metadata": {
    "ExecuteTime": {
     "end_time": "2020-06-02T06:36:25.302073Z",
     "start_time": "2020-06-02T06:36:24.861074Z"
    },
    "pycharm": {
     "is_executing": false
    }
   },
   "outputs": [
    {
     "name": "stdout",
     "output_type": "stream",
     "text": [
      "51  polygons\n"
     ]
    }
   ],
   "source": [
    "hint_flag=False # use GSWA strat database to provide relative age hints\n",
    "def unique_list(list1): \n",
    "      \n",
    "    # insert the list to the set \n",
    "    list_set = set(list1) \n",
    "    # convert the set to the list \n",
    "    return(list(list_set)) \n",
    "list1=['geometry', c_l['o'],c_l['c'],c_l['g'],c_l['u'],c_l['min'],c_l['max'],c_l['ds'],c_l['r1'],c_l['r2']]\n",
    "list2=unique_list(list1)\n",
    "\n",
    "sub_geol = geology_ll[list2]\n",
    "m2l_topology.save_geol_wkt(sub_geol,geology_file_csv, c_l,hint_flag)"
   ]
  },
  {
   "cell_type": "code",
   "execution_count": 19,
   "metadata": {},
   "outputs": [
    {
     "data": {
      "text/plain": [
       "'../Turner_Syncline/tmp/hams2_geol.csv'"
      ]
     },
     "execution_count": 19,
     "metadata": {},
     "output_type": "execute_result"
    }
   ],
   "source": [
    "geology_file_csv"
   ]
  },
  {
   "cell_type": "markdown",
   "metadata": {},
   "source": [
    "## Save mineral deposits to file as WKT\n",
    "This is not needed by map2loop to build 3D models, but is used by map2model to calculate mineral deposit/topology analyses."
   ]
  },
  {
   "cell_type": "code",
   "execution_count": null,
   "metadata": {
    "ExecuteTime": {
     "end_time": "2020-06-02T06:36:26.206626Z",
     "start_time": "2020-06-02T06:36:25.308075Z"
    },
    "pycharm": {
     "is_executing": false
    }
   },
   "outputs": [],
   "source": [
    "mindep = gpd.read_file(mindep_file,bbox=bbox)\n",
    "\n",
    "sub_mindep = mindep[['geometry', c_l['msc'],c_l['msn'],c_l['mst'],c_l['mtc'],c_l['mscm'],c_l['mcom']]]\n",
    "m2l_topology.save_mindep_wkt(sub_mindep,mindep_file_csv, c_l)\n",
    "\n",
    "base=sub_mindep.plot()\n",
    "polygon.plot(ax=base, color='none',edgecolor='black')\n"
   ]
  },
  {
   "cell_type": "markdown",
   "metadata": {},
   "source": [
    "## Read and save orientations data point data as WKT"
   ]
  },
  {
   "cell_type": "code",
   "execution_count": null,
   "metadata": {
    "ExecuteTime": {
     "end_time": "2020-06-02T06:36:26.990149Z",
     "start_time": "2020-06-02T06:36:26.213605Z"
    },
    "pycharm": {
     "is_executing": false
    }
   },
   "outputs": [],
   "source": [
    "orientations = gpd.read_file(structure_file,bbox=bbox)\n",
    "\n",
    "sub_pts = orientations[['geometry', c_l['gi'],c_l['d'],c_l['dd']]]\n",
    "\n",
    "m2l_topology.save_structure_wkt(sub_pts,structure_file_csv,c_l)\n",
    "\n",
    "base=sub_pts.plot()\n",
    "polygon.plot(ax=base, color='none',edgecolor='black')\n"
   ]
  },
  {
   "cell_type": "markdown",
   "metadata": {},
   "source": [
    "## Plot faults and bounding box"
   ]
  },
  {
   "cell_type": "code",
   "execution_count": null,
   "metadata": {
    "ExecuteTime": {
     "end_time": "2020-06-02T06:36:27.704149Z",
     "start_time": "2020-06-02T06:36:26.996145Z"
    },
    "pycharm": {
     "is_executing": false
    }
   },
   "outputs": [],
   "source": [
    "if(os.path.exists(fault_file)):\n",
    "    lines_ll=gpd.read_file(fault_file,bbox=bbox)\n",
    "\n",
    "    sub_lines = lines_ll[['geometry', c_l['o'],c_l['f']]]\n",
    "    base=sub_lines.plot()\n",
    "    polygon.plot(ax=base, color='none',edgecolor='black')\n",
    "else:\n",
    "    sub_lines=[]\n"
   ]
  },
  {
   "cell_type": "markdown",
   "metadata": {},
   "source": [
    "## Save faults to file as WKT"
   ]
  },
  {
   "cell_type": "code",
   "execution_count": null,
   "metadata": {
    "ExecuteTime": {
     "end_time": "2020-06-02T06:36:27.829145Z",
     "start_time": "2020-06-02T06:36:27.711143Z"
    },
    "pycharm": {
     "is_executing": false
    }
   },
   "outputs": [],
   "source": [
    "\n",
    "m2l_topology.save_faults_wkt(sub_lines,fault_file_csv,c_l)"
   ]
  },
  {
   "cell_type": "markdown",
   "metadata": {},
   "source": [
    "## Create map2model input file"
   ]
  },
  {
   "cell_type": "code",
   "execution_count": null,
   "metadata": {
    "ExecuteTime": {
     "end_time": "2020-06-02T06:36:27.851146Z",
     "start_time": "2020-06-02T06:36:27.835146Z"
    },
    "pycharm": {
     "is_executing": false
    }
   },
   "outputs": [],
   "source": [
    "m2l_topology.save_Parfile(m2m_cpp_path,c_l,graph_path,geology_file_csv,fault_file_csv,structure_file_csv,mindep_file_csv,minx,maxx,miny,maxy,500.0,'Fe,Cu,Au,NONE',2)\n"
   ]
  },
  {
   "cell_type": "markdown",
   "metadata": {},
   "source": [
    "## Calculate topology"
   ]
  },
  {
   "cell_type": "code",
   "execution_count": null,
   "metadata": {
    "ExecuteTime": {
     "end_time": "2020-06-02T06:36:31.879760Z",
     "start_time": "2020-06-02T06:36:27.859150Z"
    },
    "pycharm": {
     "is_executing": false
    }
   },
   "outputs": [],
   "source": [
    "import subprocess\n",
    "import platform\n",
    "os.chdir(m2m_cpp_path)\n",
    "print(os.getcwd())\n",
    "#%system map2model.exe Parfile\n",
    "if(platform.system()=='Windows'):\n",
    "    subprocess.run([\"map2model.exe\", \"Parfile\"])\n",
    "else:\n",
    "    subprocess.run([\"./map2model\", \"Parfile\"])"
   ]
  },
  {
   "cell_type": "markdown",
   "metadata": {},
   "source": [
    "## Simple network graph of the geology with legend   \n",
    "If in Australia we can use data derived from the ASUD database to refine stratigraphic relationships"
   ]
  },
  {
   "cell_type": "code",
   "execution_count": null,
   "metadata": {},
   "outputs": [],
   "source": [
    "if(Australia):\n",
    "    asud_strat_file='../source_data/ASUD.csv'\n",
    "    m2l_topology.use_asud(strat_graph_file, asud_strat_file,graph_path)\n",
    "    strat_graph_file=graph_path+'ASUD_strat.gml'\n",
    "\n"
   ]
  },
  {
   "cell_type": "code",
   "execution_count": null,
   "metadata": {
    "ExecuteTime": {
     "end_time": "2020-06-02T06:36:33.117911Z",
     "start_time": "2020-06-02T06:36:31.884772Z"
    },
    "pycharm": {
     "is_executing": false
    },
    "scrolled": false
   },
   "outputs": [],
   "source": [
    "G=nx.read_gml(strat_graph_file,label='id')\n",
    "selected_nodes = [n for n,v in G.nodes(data=True) if n >=0]\n",
    "nx.draw_networkx(G, pos=nx.kamada_kawai_layout(G), arrows=True, nodelist=selected_nodes)\n",
    "\n",
    "nlist=list(G.nodes.data('LabelGraphics'))\n",
    "nlist.sort()\n",
    "for no in nlist:\n",
    "    if(no[0]>=0):\n",
    "        elem=str(no[1]).replace(\"{'text':\",\"\").replace(\", 'fontSize': 14}\",\"\")\n",
    "        #second=elem.split(\":\").replace(\"'\",\"\")\n",
    "        print(no[0],\" \",elem)"
   ]
  },
  {
   "cell_type": "markdown",
   "metadata": {
    "scrolled": false
   },
   "source": [
    "## Process topography, stratigraphy, fold axial traces and faults\n",
    "\n",
    "### Takes GML file produced by topology code, combines with geology polygons, structure points and dtm to create 3D model in gempy.<br><br>\n",
    "\n",
    "Limitations:  no dykes, no sills. Sills require us to assign a unique surface to each instance of a sill (sill between units A and B needs to be different from sill of same age and strat codes as one found between E and F). Dykes via cokriging are really hard without just cookie cutting them in (but that is not our problem!). We are not checking for onlap relationships, which can perhaps been seen by having lots of units from one series adjacent to the youngest surface of the older series. Could also think about interpreting these as faults to introduce conceptual uncertainty. All mistakes belong to Mark Jessell, topology code that feeds this system by Vitaliy Ogarko.<br><br>\n",
    "\n",
    "Geology layer needs to have some unique strat code or text, some group code or text to function<br>\n",
    "Structure layer needs dip/dip direction<br>\n",
    "\n",
    "\n"
   ]
  },
  {
   "cell_type": "code",
   "execution_count": null,
   "metadata": {
    "ExecuteTime": {
     "end_time": "2020-06-02T06:36:33.135909Z",
     "start_time": "2020-06-02T06:36:33.123906Z"
    },
    "pycharm": {
     "is_executing": false
    }
   },
   "outputs": [],
   "source": [
    "os.chdir('../map2loop')\n",
    "\n",
    "print(os.getcwd())\n",
    "\n",
    "#from IPython.core.display import display, HTML\n",
    "#display(HTML(\"<style>.container { width:80% !important; }</style>\"))\n",
    "\n",
    "sys.path.insert(0,\"../..\")\n",
    "print(os.getcwd())\n"
   ]
  },
  {
   "cell_type": "markdown",
   "metadata": {},
   "source": [
    "## Next we define an area of interest and some other basic stuff"
   ]
  },
  {
   "cell_type": "code",
   "execution_count": null,
   "metadata": {
    "ExecuteTime": {
     "end_time": "2020-06-02T06:36:33.159908Z",
     "start_time": "2020-06-02T06:36:33.141909Z"
    },
    "pycharm": {
     "is_executing": false
    },
    "scrolled": false
   },
   "outputs": [],
   "source": [
    "print(os.getcwd())\n",
    "\n",
    "bbox2=str(minx)+\",\"+str(miny)+\",\"+str(maxx)+\",\"+str(maxy)\n",
    "lat_point_list = [miny, miny, maxy, maxy, maxy]\n",
    "lon_point_list = [minx, maxx, maxx, minx, minx]\n",
    "bbox_geom = Polygon(zip(lon_point_list, lat_point_list))\n",
    "polygon = gpd.GeoDataFrame(index=[0], crs=dst_crs, geometry=[bbox_geom]) \n",
    "bbox=(minx,miny,maxx,maxy)\n",
    "\n",
    "step_out=0.045 #add (in degrees) so edge pixel from dtm reprojection are not found\n"
   ]
  },
  {
   "cell_type": "markdown",
   "metadata": {
    "scrolled": false
   },
   "source": [
    "## Download and reproject the appropriate SRTM data\n",
    "mj: Getting this from GA, but could also get from Hawaii"
   ]
  },
  {
   "cell_type": "code",
   "execution_count": null,
   "metadata": {
    "ExecuteTime": {
     "end_time": "2020-06-02T06:36:35.360910Z",
     "start_time": "2020-06-02T06:36:33.170933Z"
    },
    "pycharm": {
     "is_executing": false
    }
   },
   "outputs": [],
   "source": [
    "polygon_ll=polygon.to_crs(src_crs)\n",
    "\n",
    "minlong=polygon_ll.total_bounds[0]-step_out\n",
    "maxlong=polygon_ll.total_bounds[2]+step_out\n",
    "minlat=polygon_ll.total_bounds[1]-step_out\n",
    "maxlat=polygon_ll.total_bounds[3]+step_out\n",
    "\n",
    "print(minlong,maxlong,minlat,maxlat)\n",
    "downloaded = False\n",
    "i=0\n",
    "print('Attempt: 0 ',end='')\n",
    "while downloaded == False:\n",
    "    try:\n",
    "        m2l_utils.get_dtm(dtm_file, minlong,maxlong,minlat,maxlat)\n",
    "        downloaded=True\n",
    "    except:\n",
    "        time.sleep(10)\n",
    "        i=i+1\n",
    "        print(' ',i,end='')\n",
    "if(i==100):\n",
    "    raise NameError('map2loop error: Could not access DTM server after 100 attempts')\n",
    "print()\n",
    "\n",
    "geom_rp=m2l_utils.reproject_dtm(dtm_file,dtm_reproj_file,src_crs,dst_crs)\n",
    "\n",
    "dtm = rasterio.open(dtm_reproj_file)\n",
    "pyplot.imshow(dtm.read(1), cmap='terrain',vmin=0,vmax=1000)\n",
    "pyplot.show()\n",
    "\n"
   ]
  },
  {
   "cell_type": "markdown",
   "metadata": {
    "scrolled": false
   },
   "source": [
    "## Load stratigraphy graph and create list of series (aka groups)\n",
    "mj: The choice of what constitutes basic unit and what a group of units is hard-wired at the moment, but could be altered to any pair. Not even sure we need two levels but it seemed like a good idea at the time. Note that this needs the arcgis plugin version of the topology code (for now) as it seperates the different sub graphs. Text outputs list alternate topologies for series and surfaces, which if confirmed by comapring max-min ages will be a nice source of uncertainty."
   ]
  },
  {
   "cell_type": "code",
   "execution_count": null,
   "metadata": {
    "ExecuteTime": {
     "end_time": "2020-06-02T06:36:37.574913Z",
     "start_time": "2020-06-02T06:36:35.371908Z"
    },
    "pycharm": {
     "is_executing": false
    },
    "scrolled": true
   },
   "outputs": [],
   "source": [
    "groups,glabels,G = m2l_topology.get_series(strat_graph_file,'id')\n",
    "display(groups,glabels,G.nodes,G.edges)\n",
    "m2l_topology.save_units(G,tmp_path,glabels,Australia,asud_strat_file)"
   ]
  },
  {
   "cell_type": "markdown",
   "metadata": {
    "scrolled": false
   },
   "source": [
    "## Load geology & structure data\n",
    "Currently loading from local files, but could load geology from WFS server at GSWA EXCEPT that the WFS online map has less fields that the zipped shapefiles. Go figure. We don't use fault layer at the moment (except for Vitaliy's topology code) but same logic applies in terms of where to get it from. Already have fault/strat relationships and once we have fault/fault relationships will start to include faults in models."
   ]
  },
  {
   "cell_type": "code",
   "execution_count": null,
   "metadata": {
    "ExecuteTime": {
     "end_time": "2020-06-02T06:36:38.727909Z",
     "start_time": "2020-06-02T06:36:37.580908Z"
    },
    "pycharm": {
     "is_executing": false
    }
   },
   "outputs": [],
   "source": [
    "# Extract point data from structure & geology layers for modelling\n",
    "##First we readin the structure and map from shapefiles, or wherever...\n",
    "\n",
    "bbox=(minx,miny,maxx,maxy)\n",
    "geology = gpd.read_file(geology_file,bbox=bbox)\n",
    "geology[c_l['g']].fillna(geology[c_l['g2']], inplace=True)\n",
    "geology[c_l['g']].fillna(geology[c_l['c']], inplace=True)\n",
    "\n",
    "\n",
    "structure = gpd.read_file(structure_file,bbox=bbox)\n",
    "structure.crs=dst_crs\n",
    "print(fault_file)\n",
    "if(os.path.exists(fault_file)):\n",
    "    faults_clip = gpd.read_file(fault_file,bbox=bbox)\n",
    "    faults_clip.crs=dst_crs\n",
    "\n",
    "list1=['geometry',c_l['d'],c_l['dd'],c_l['sf'],c_l['bo']]\n",
    "list2=unique_list(list1)\n",
    "       \n",
    "sub_pts = structure[list2] \n",
    "\n",
    "base=geology.plot(column=c_l['c'],figsize=(10,10),edgecolor='#000000',linewidth=0.2)\n",
    "sub_pts.plot(ax=base,edgecolor='black')\n",
    "faults_clip.plot(ax=base, column=c_l['f'],edgecolor='black')"
   ]
  },
  {
   "cell_type": "markdown",
   "metadata": {
    "scrolled": false
   },
   "source": [
    "## Join geology and structures, save fold axial traces"
   ]
  },
  {
   "cell_type": "code",
   "execution_count": null,
   "metadata": {
    "ExecuteTime": {
     "end_time": "2020-06-02T06:36:40.957911Z",
     "start_time": "2020-06-02T06:36:38.733913Z"
    },
    "pycharm": {
     "is_executing": false
    },
    "scrolled": false
   },
   "outputs": [],
   "source": [
    "geol_clip = m2l_utils.explode(geology)\n",
    "geol_clip.crs = dst_crs\n",
    "pd.set_option('display.max_columns', None)\n",
    "pd.set_option('display.max_rows',None)\n",
    "structure_code = gpd.sjoin(sub_pts, geol_clip, how=\"left\", op=\"within\")\n",
    "\n",
    "y_point_list = [miny, miny, maxy, maxy, miny]\n",
    "x_point_list = [minx, maxx, maxx, minx, minx]\n",
    "\n",
    "bbox_geom = Polygon(zip(x_point_list, y_point_list))\n",
    "\n",
    "polygo = gpd.GeoDataFrame(index=[0], crs=dst_crs, geometry=[bbox_geom]) \n",
    "is_bed=structure_code[c_l['sf']].str.contains(c_l['bedding'], regex=False) \n",
    "    \n",
    "structure_clip = structure_code[is_bed]\n",
    "structure_clip.crs = dst_crs\n",
    "\n",
    "\n",
    "if(c_l['otype']=='strike'):\n",
    "    structure_clip['azimuth2'] = structure_clip.apply(lambda row: row[c_l['dd']]+90.0, axis = 1)\n",
    "    c_l['dd']='azimuth2'\n",
    "    c_l['otype']='dip direction'\n",
    "    \n",
    "structure_clip=structure_clip[~structure_clip[c_l['o']].isnull()]\n",
    "\n",
    "structure_clip.to_file(tmp_path+'structure_clip.shp')\n"
   ]
  },
  {
   "cell_type": "markdown",
   "metadata": {},
   "source": [
    "## Create possible stratigraphy sets per group\n",
    "mj: <font color='red'>Uses first of each possible set of toplogies per unit and per group, which is arbitrary. </font>On the other hand we are not checking relative ages again to see if this helps reduce ambiguity, which I think it would."
   ]
  },
  {
   "cell_type": "code",
   "execution_count": null,
   "metadata": {
    "ExecuteTime": {
     "end_time": "2020-06-02T06:36:41.820914Z",
     "start_time": "2020-06-02T06:36:40.962912Z"
    },
    "pycharm": {
     "is_executing": false
    },
    "scrolled": false
   },
   "outputs": [],
   "source": [
    "m2l_topology.save_group(G,tmp_path,glabels,geol_clip,c_l)"
   ]
  },
  {
   "cell_type": "markdown",
   "metadata": {},
   "source": [
    "## Calculate cover depth grid and contacts    \n",
    "Grid is assumed to be of depth below surface   \n",
    "\n",
    "Also need to cater for case when we only have grid, no shapefile, so need to add a fake horizontal orientation in the middle of the map at average depth."
   ]
  },
  {
   "cell_type": "code",
   "execution_count": null,
   "metadata": {
    "ExecuteTime": {
     "end_time": "2020-06-02T06:36:41.845914Z",
     "start_time": "2020-06-02T06:36:41.826915Z"
    }
   },
   "outputs": [],
   "source": [
    "if(workflow['cover_map']):\n",
    "\n",
    "    dtm = rasterio.open(dtm_reproj_file)\n",
    "    dtb_raw = rasterio.open(dtb_grid)\n",
    "\n",
    "    cover=gpd.read_file(cover_map_path)\n",
    "\n",
    "    with fiona.open(cover_map_path, \"r\") as shapefile:\n",
    "        shapes = [feature[\"geometry\"] for feature in shapefile]\n",
    "\n",
    "    with rasterio.open(dtb_grid) as src:\n",
    "        out_image, out_transform = rasterio.mask.mask(src, shapes, crop=True)\n",
    "        out_meta = src.meta.copy()\n",
    "\n",
    "    out_meta.update({\"driver\": \"GTiff\",\n",
    "                     \"height\": out_image.shape[1],\n",
    "                     \"width\": out_image.shape[2],\n",
    "                     \"transform\": out_transform})\n",
    "\n",
    "    with rasterio.open(dtb_clip, \"w\", **out_meta) as dest:\n",
    "        dest.write(out_image)  \n",
    "\n",
    "    dtb = rasterio.open(dtb_clip)\n",
    "    \n",
    "    m2l_geometry.process_cover(output_path,dtm,dtb,dtb_null,cover,workflow['cover_map'],cover_dip,bbox,dst_crs,cover_spacing,contact_decimate=3,use_vector=True,use_grid=True)    \n",
    "    \n",
    "    super_groups.append('cover')"
   ]
  },
  {
   "cell_type": "markdown",
   "metadata": {
    "scrolled": false
   },
   "source": [
    "## Export orientation data in csv  format\n"
   ]
  },
  {
   "cell_type": "code",
   "execution_count": null,
   "metadata": {
    "ExecuteTime": {
     "end_time": "2020-06-02T06:36:42.781913Z",
     "start_time": "2020-06-02T06:36:41.851916Z"
    },
    "pycharm": {
     "is_executing": false
    },
    "scrolled": false
   },
   "outputs": [],
   "source": [
    "m2l_geometry.save_orientations(structure_clip,output_path,c_l,orientation_decimate,dtm,dtb,dtb_null,workflow['cover_map'])\n",
    "\n",
    "m2l_utils.plot_points(output_path+'orientations.csv',geol_clip, 'formation','X','Y',True,'alpha')"
   ]
  },
  {
   "cell_type": "markdown",
   "metadata": {
    "scrolled": false
   },
   "source": [
    "## Find those series that don't have any orientation or contact point data  then create arbitrary point for series with no orientation data\n",
    "Not sure if gempy needs this but geomodeller does. Currently just gives a point dipping 45 degrees to North, but could use dip direction normal to basal surface)"
   ]
  },
  {
   "cell_type": "code",
   "execution_count": null,
   "metadata": {
    "ExecuteTime": {
     "end_time": "2020-06-02T06:36:43.885916Z",
     "start_time": "2020-06-02T06:36:43.632913Z"
    },
    "pycharm": {
     "is_executing": false
    },
    "scrolled": false
   },
   "outputs": [],
   "source": [
    "m2l_geometry.create_orientations( tmp_path, output_path, dtm,dtb,dtb_null,workflow['cover_map'],geol_clip,structure_clip,c_l)"
   ]
  },
  {
   "cell_type": "markdown",
   "metadata": {
    "scrolled": false
   },
   "source": [
    "## Export contact information subset of each polygon to gempy format\n",
    "mj: Orientation data needs calculated height as file does not provide it, taken from SRTM data already downloaded. Need to reduce number of points whilst retaining useful info (Ranee's job!)'\n",
    "To calculate which are the basal units contact for a polygon find the polygons which are older than the selected polygon, in the example below the central polygon has relative age 23 so its basal contact is with the polygons whose ages are 26 & 28. If there are no older units for a polygon it has no basal content. We keep every nth node based on the decimate term (simple count along polyline). gempy seems to need at least two points per surface, so we always take the first two points.\n",
    "\n",
    "\n",
    "<img src='../graphics/base.png'>"
   ]
  },
  {
   "cell_type": "code",
   "execution_count": null,
   "metadata": {
    "ExecuteTime": {
     "end_time": "2020-06-02T06:36:47.910041Z",
     "start_time": "2020-06-02T06:36:43.890916Z"
    },
    "pycharm": {
     "is_executing": false
    },
    "scrolled": true
   },
   "outputs": [],
   "source": [
    "ls_dict,ls_dict_decimate=m2l_geometry.save_basal_contacts(tmp_path,dtm,dtb,dtb_null,workflow['cover_map'],geol_clip,contact_decimate,c_l,intrusion_mode)"
   ]
  },
  {
   "cell_type": "markdown",
   "metadata": {},
   "source": [
    "## Remove all basal contacts that are defined by faults and save to shapefile (no decimation)"
   ]
  },
  {
   "cell_type": "code",
   "execution_count": null,
   "metadata": {
    "ExecuteTime": {
     "end_time": "2020-06-02T06:36:48.679043Z",
     "start_time": "2020-06-02T06:36:47.916041Z"
    },
    "pycharm": {
     "is_executing": false
    }
   },
   "outputs": [],
   "source": [
    "m2l_geometry.save_basal_no_faults(tmp_path+'basal_contacts.shp',tmp_path+'faults_clip.shp',ls_dict,10,c_l,dst_crs)"
   ]
  },
  {
   "cell_type": "markdown",
   "metadata": {},
   "source": [
    "## Remove faults from decimated basal contacts as save as csv file"
   ]
  },
  {
   "cell_type": "code",
   "execution_count": null,
   "metadata": {
    "ExecuteTime": {
     "end_time": "2020-06-02T06:36:51.131041Z",
     "start_time": "2020-06-02T06:36:48.687041Z"
    },
    "pycharm": {
     "is_executing": false
    }
   },
   "outputs": [],
   "source": [
    "contacts=gpd.read_file(tmp_path+'basal_contacts.shp')\n",
    "\n",
    "m2l_geometry.save_basal_contacts_csv(contacts,output_path,dtm,dtb,dtb_null,workflow['cover_map'],contact_decimate,c_l)\n",
    "\n",
    "m2l_utils.plot_points(output_path+'contacts4.csv',geol_clip, 'formation','X','Y',False,'alpha')\n"
   ]
  },
  {
   "cell_type": "markdown",
   "metadata": {},
   "source": [
    "## Orientation and contact interpolation\n",
    "Interpolates a regular grid of orientations from an  shapefile of arbitrarily-located points and saves out four csv files of l,m & n direction cosines and dip dip direction data\n",
    "\n",
    "Can choose between various RBF and IDW options   \n",
    "  \n",
    "The purpose of these interpolations and associated code is to help in three cases:\n",
    "- Providing estimated dips and contacts in fault-bounded domains where no structural data are available\n",
    "- Needed to estimate true thickness of formations\n",
    "- Possibly useful for populating parts of maps where little structural data is available"
   ]
  },
  {
   "cell_type": "code",
   "execution_count": null,
   "metadata": {
    "ExecuteTime": {
     "end_time": "2020-06-02T06:36:56.182700Z",
     "start_time": "2020-06-02T06:36:51.139045Z"
    }
   },
   "outputs": [],
   "source": [
    "basal_contacts=tmp_path+'basal_contacts.shp'\n",
    "\n",
    "orientation_interp,contact_interp,combo_interp=m2l_interpolation.interpolation_grids(geology_file,structure_file,basal_contacts,bbox,spacing,dst_crs,scheme,super_groups,c_l)\n",
    "\n",
    "\n",
    "f=open(tmp_path+'interpolated_orientations.csv','w')\n",
    "f.write('X,Y,l,m,n,dip,dip_dir\\n')\n",
    "for row in orientation_interp:\n",
    "    ostr='{},{},{},{},{},{},{}\\n'.format(row[0],row[1],row[2],row[3],row[4],row[5],row[6])\n",
    "    f.write(ostr)\n",
    "f.close()\n",
    "f=open(tmp_path+'interpolated_contacts.csv','w')\n",
    "f.write('X,Y,l,m,angle\\n')\n",
    "for row in contact_interp:\n",
    "    ostr='{},{},{},{},{}\\n'.format(row[0],row[1],row[2],row[3],row[4])\n",
    "    f.write(ostr)\n",
    "f.close()\n",
    "f=open(tmp_path+'interpolated_combined.csv','w')\n",
    "f.write('X,Y,l,m,n,dip,dip_dir\\n')\n",
    "for row in combo_interp:\n",
    "    ostr='{},{},{},{},{},{},{}\\n'.format(row[0],row[1],row[2],row[3],row[4],row[5],row[6])\n",
    "    f.write(ostr)\n",
    "f.close()"
   ]
  },
  {
   "cell_type": "code",
   "execution_count": null,
   "metadata": {
    "ExecuteTime": {
     "end_time": "2020-06-02T06:36:56.860703Z",
     "start_time": "2020-06-02T06:36:56.191699Z"
    }
   },
   "outputs": [],
   "source": [
    "if(spacing<0):\n",
    "    spacing=-(bbox[2]-bbox[0])/spacing\n",
    "x=int((bbox[2]-bbox[0])/spacing)+1\n",
    "y=int((bbox[3]-bbox[1])/spacing)+1\n",
    "print(x,y)\n",
    "dip_grid=np.ones((y,x))\n",
    "dip_grid=dip_grid*-999\n",
    "dip_dir_grid=np.ones((y,x))\n",
    "dip_dir_grid=dip_dir_grid*-999\n",
    "contact_grid=np.ones((y,x))\n",
    "contact_grid=dip_dir_grid*-999\n",
    "for row in combo_interp:\n",
    "    r=int((row[1]-bbox[1])/spacing)\n",
    "    c=int((row[0]-bbox[0])/spacing)\n",
    "    dip_grid[r,c]=float(row[5])\n",
    "    dip_dir_grid[r,c]=float(row[6])\n",
    "\n",
    "for row in contact_interp:\n",
    "    r=int((row[1]-bbox[1])/spacing)\n",
    "    c=int((row[0]-bbox[0])/spacing)\n",
    "    contact_grid[r,c]=float(row[4])\n",
    "\n",
    "print('interpolated dips')\n",
    "plt.imshow(dip_grid, cmap=\"hsv\",origin='lower',vmin=-90,vmax=90)  \n",
    "plt.show()"
   ]
  },
  {
   "cell_type": "code",
   "execution_count": null,
   "metadata": {
    "ExecuteTime": {
     "end_time": "2020-06-02T06:36:57.360703Z",
     "start_time": "2020-06-02T06:36:56.869698Z"
    }
   },
   "outputs": [],
   "source": [
    "print('interpolated dip directions')\n",
    "       \n",
    "plt.imshow(dip_dir_grid, cmap=\"hsv\",origin='lower',vmin=0,vmax=360)    \n",
    "plt.show()"
   ]
  },
  {
   "cell_type": "code",
   "execution_count": null,
   "metadata": {
    "ExecuteTime": {
     "end_time": "2020-06-02T06:36:57.848448Z",
     "start_time": "2020-06-02T06:36:57.367700Z"
    }
   },
   "outputs": [],
   "source": [
    "print('interpolated contacts')\n",
    "       \n",
    "plt.imshow(contact_grid, cmap=\"hsv\",origin='lower',vmin=-360,vmax=360)    \n",
    "plt.show()"
   ]
  },
  {
   "cell_type": "markdown",
   "metadata": {},
   "source": [
    "## Process fault geometry\n",
    "Save Faults as decimated points and representative orientation  \n",
    "Then, for each  fault string:\n",
    "- incementally advance along polyline every at each inter-node (no point in doing more?)\n",
    "- find local stratigraphy 10m to left and right of fault\n",
    "  \n",
    "Once full fault has been traversed:\n",
    "- Find list of contacts left \n",
    "- Find equivalent contacts on right\n",
    "- use interpolated orientations to estimate minimum true offset assuming vertical displacement and store \n",
    "- if no equivalent found, flag as domain fault and find min strat offset for contact, use cumulative minimum thickness estimate and store with flag (not implemented)\n",
    "- estimate median & sd of minimum fault offset and store with flag (not implemented)\n",
    "\n",
    "Local Orientations\n",
    "Since much of the code is the same, we benefit by calculating local orientation data either side of fault so that geomodeller/gempy have satisfied fault compartment orientation data\n"
   ]
  },
  {
   "cell_type": "code",
   "execution_count": null,
   "metadata": {
    "ExecuteTime": {
     "end_time": "2020-06-02T06:36:58.310449Z",
     "start_time": "2020-06-02T06:36:57.855445Z"
    },
    "pycharm": {
     "is_executing": false
    }
   },
   "outputs": [],
   "source": [
    "m2l_geometry.save_faults(tmp_path+'faults_clip.shp',output_path,dtm,dtb,dtb_null,workflow['cover_map'],c_l,fault_decimate,min_fault_length,fault_dip)\n"
   ]
  },
  {
   "cell_type": "code",
   "execution_count": null,
   "metadata": {
    "ExecuteTime": {
     "end_time": "2020-06-02T06:37:52.854783Z",
     "start_time": "2020-06-02T06:36:58.316449Z"
    },
    "pycharm": {
     "is_executing": false,
     "name": "#%%\n"
    },
    "scrolled": false
   },
   "outputs": [],
   "source": [
    "import warnings\n",
    "warnings.filterwarnings('ignore')\n",
    "\n",
    "if(os.path.exists(fault_file)):\n",
    "    faults=pd.read_csv(output_path+'faults.csv')\n",
    "    faults_len=len(faults)\n",
    "\n",
    "    if(faults_len>0):\n",
    "        m2l_interpolation.process_fault_throw_and_near_faults_from_grid(tmp_path,output_path,dtm_reproj_file,dtb,dtb_null,workflow['cover_map'],c_l,dst_crs,bbox,\n",
    "                                                                scheme,dip_grid,dip_dir_grid,x,y,spacing)\n"
   ]
  },
  {
   "cell_type": "markdown",
   "metadata": {},
   "source": [
    "## Process plutons\n",
    "\n",
    "For each instruve but not sill polygon, find older neighbours and store decimated contact points. Also store dipping contact orientations (user defined, just because) with four possible sub-surface configurations:\n",
    "\n",
    "<b>saucers: \\\\_+++_/ <br>\n",
    "batholiths: +++/__ __ _\\\\+++  <br> \n",
    "domes: /‾+++‾\\\\ <br>\n",
    "pendants: +++\\\\_  _/+++ <br>\n",
    "</b>\n",
    "  \n",
    "Saves out orientations and contact points, as well as updated group level stratigraphic column.<br>\n"
   ]
  },
  {
   "cell_type": "code",
   "execution_count": null,
   "metadata": {
    "ExecuteTime": {
     "end_time": "2020-06-02T06:37:52.975329Z",
     "start_time": "2020-06-02T06:37:52.875786Z"
    },
    "pycharm": {
     "is_executing": false
    }
   },
   "outputs": [],
   "source": [
    "bbox=(minx,miny,maxx,maxy)\n",
    "\n",
    "pluton_dip=str(pluton_dip)\n",
    "\n",
    "dist_buffer=10\n",
    "\n",
    "m2l_geometry.process_plutons(tmp_path,output_path,geol_clip,local_paths,dtm,dtb,dtb_null,workflow['cover_map'],pluton_form,pluton_dip,contact_decimate,c_l)\n",
    "\n"
   ]
  },
  {
   "cell_type": "markdown",
   "metadata": {},
   "source": [
    "## Extract faults and basal contacts of groups from seismic section"
   ]
  },
  {
   "cell_type": "code",
   "execution_count": null,
   "metadata": {
    "ExecuteTime": {
     "end_time": "2020-06-02T06:37:53.024318Z",
     "start_time": "2020-06-02T06:37:52.984324Z"
    },
    "pycharm": {
     "is_executing": false
    },
    "scrolled": true
   },
   "outputs": [],
   "source": [
    "if(workflow['seismic_section']):\n",
    "    seismic_line_file=data_path+'seismic_line_10GA-CP1_rev.shp'   #input geology file (if local)\n",
    "    seismic_line = gpd.read_file(seismic_line_file) #import map\n",
    "    seismic_line.plot(figsize=(10,10),edgecolor='#000000',linewidth=0.2) #display map\n",
    "    display(seismic_line)\n",
    "\n",
    "\n",
    "    seismic_bbox_file=data_path+'seismic_bbox.shp'   #input geology file (if local)\n",
    "    seismic_bbox = gpd.read_file(seismic_bbox_file) #import map\n",
    "    seismic_bbox.set_index('POSITION',inplace=True)\n",
    "\n",
    "    seismic_interp_file=data_path+'seismic_interp.shp'   #input geology file (if local)\n",
    "    seismic_interp = gpd.read_file(seismic_interp_file) #import map\n",
    "    seismic_interp.plot(column='FEATURE',figsize=(10,10),edgecolor='#000000',linewidth=0.5) #display map\n",
    "    display(seismic_interp)\n",
    "\n",
    "    surface_cut=2000\n",
    "\n",
    "    m2l_geometry.extract_section(tmp_path,output_path,seismic_line,seismic_bbox,seismic_interp,dtm,dtb,dtb_null,workflow['cover_map'],surface_cut)\n",
    "\n",
    "    contacts=pd.read_csv(output_path+'contacts4.csv',\",\")\n",
    "    seismic_contacts=pd.read_csv(output_path+'seismic_base.csv',\",\")\n",
    "    all_contacts=pd.concat([contacts,seismic_contacts],sort=False)\n",
    "    all_contacts.to_csv (output_path+'contacts4.csv', index = None, header=True)\n",
    "\n",
    "    faults=pd.read_csv(output_path+'faults.csv',\",\")\n",
    "    seismic_faults=pd.read_csv(output_path+'seismic_faults.csv',\",\")\n",
    "    all_faults=pd.concat([faults,seismic_faults],sort=False)\n",
    "    all_faults.to_csv (output_path+'faults.csv', index = None, header=True)\n"
   ]
  },
  {
   "cell_type": "markdown",
   "metadata": {},
   "source": [
    "## Propagate dips along contacts\n"
   ]
  },
  {
   "cell_type": "code",
   "execution_count": null,
   "metadata": {
    "ExecuteTime": {
     "end_time": "2020-06-02T06:37:57.153856Z",
     "start_time": "2020-06-02T06:37:53.039322Z"
    },
    "pycharm": {
     "is_executing": false
    }
   },
   "outputs": [],
   "source": [
    "if(workflow['contact_dips']):\n",
    "    orientations=pd.read_csv(output_path+'orientations.csv',\",\")\n",
    "    contact_dip=-999\n",
    "    contact_orientation_decimate=5\n",
    "    m2l_geometry.save_basal_contacts_orientations_csv(contacts,orientations,geol_clip,tmp_path,output_path,dtm,dtb,\n",
    "                            dtb_null,workflow['cover_map'],contact_orientation_decimate,c_l,contact_dip,dip_grid,spacing,bbox)"
   ]
  },
  {
   "cell_type": "markdown",
   "metadata": {},
   "source": [
    "## Estimate formation thickness and normalised formation thickness"
   ]
  },
  {
   "cell_type": "code",
   "execution_count": null,
   "metadata": {
    "ExecuteTime": {
     "end_time": "2020-06-02T06:38:05.469082Z",
     "start_time": "2020-06-02T06:37:57.161852Z"
    },
    "pycharm": {
     "is_executing": false
    }
   },
   "outputs": [],
   "source": [
    "if(workflow['formation_thickness']):\n",
    "\n",
    "    geology_file=tmp_path+'basal_contacts.shp'\n",
    "    contact_decimate=5\n",
    "    null_scheme='null'\n",
    "    m2l_interpolation.save_contact_vectors(geology_file,tmp_path,dtm,dtb,dtb_null,workflow['cover_map'],bbox,c_l,null_scheme,contact_decimate)\n",
    "    \n",
    "    buffer =5000\n",
    "    max_thickness_allowed=10000\n",
    "\n",
    "    m2l_geometry.calc_thickness_with_grid(tmp_path,output_path,buffer,max_thickness_allowed,\n",
    "                                          c_l,bbox,dip_grid,dip_dir_grid,x,y,spacing)\n",
    "    \n",
    "    m2l_geometry.calc_min_thickness_with_grid(tmp_path,output_path,buffer,max_thickness_allowed,\n",
    "                                          c_l,bbox,dip_grid,dip_dir_grid,x,y,spacing)\n",
    "    m2l_geometry.normalise_thickness(output_path)\n",
    "    \n",
    "    m2l_utils.plot_points(output_path+'formation_thicknesses_norm.csv',geol_clip,'norm_th','x','y',True,'numeric')\n"
   ]
  },
  {
   "cell_type": "markdown",
   "metadata": {},
   "source": [
    "## Creates fold axial trace points"
   ]
  },
  {
   "cell_type": "code",
   "execution_count": null,
   "metadata": {
    "ExecuteTime": {
     "end_time": "2020-06-02T06:38:05.498083Z",
     "start_time": "2020-06-02T06:38:05.479082Z"
    },
    "pycharm": {
     "is_executing": false
    }
   },
   "outputs": [],
   "source": [
    "if(workflow['fold_axial_traces']   and  os.path.exists(fold_file)):\n",
    "    folds_clip = gpd.read_file(fold_file)\n",
    "    if(len(folds_clip)>0):\n",
    "        \n",
    "        m2l_geometry.save_fold_axial_traces(fold_file,output_path,dtm,dtb,dtb_null,workflow['cover_map'],c_l,fold_decimate)\n",
    "\n",
    "        #Save fold axial trace near-hinge orientations\n",
    "        fat_step=750         # how much to step out normal to fold axial trace\n",
    "        close_dip=-999       #dip to assign to all new orientations (-999= use local interpolated dip)\n",
    "\n",
    "        m2l_geometry.save_fold_axial_traces_orientations(fold_file,output_path,tmp_path,dtm,dtb,dtb_null,workflow['cover_map'],c_l,dst_crs,\n",
    "                                                         fold_decimate,fat_step,close_dip,scheme,bbox,spacing,dip_grid,dip_dir_grid)\n"
   ]
  },
  {
   "cell_type": "markdown",
   "metadata": {},
   "source": [
    "## Preprocess data to ensure it meets modelling requirements"
   ]
  },
  {
   "cell_type": "code",
   "execution_count": null,
   "metadata": {
    "ExecuteTime": {
     "end_time": "2020-06-02T06:38:08.027612Z",
     "start_time": "2020-06-02T06:38:05.533086Z"
    },
    "pycharm": {
     "is_executing": false
    },
    "scrolled": true
   },
   "outputs": [],
   "source": [
    "m2l_geometry.tidy_data(output_path,tmp_path,clut_path,use_gcode3,use_interpolations,use_fat,pluton_form,inputs,workflow,c_l)\n",
    "model_top=round(np.amax(dtm.read(1)),-2)\n",
    "dtm.close()\n",
    "if(workflow['cover_map']):\n",
    "    dtb.close()"
   ]
  },
  {
   "cell_type": "markdown",
   "metadata": {},
   "source": [
    "## Calculate polarity of original bedding orientation data (not used yet in final calc)"
   ]
  },
  {
   "cell_type": "code",
   "execution_count": null,
   "metadata": {
    "ExecuteTime": {
     "end_time": "2020-06-02T06:38:08.045611Z",
     "start_time": "2020-06-02T06:38:08.033612Z"
    },
    "pycharm": {
     "is_executing": false
    }
   },
   "outputs": [],
   "source": [
    "if(workflow['polarity']):\n",
    "    m2l_geometry.save_orientations_with_polarity(output_path+'orientations.csv',output_path,c_l,tmp_path+'basal_contacts.shp',tmp_path+'all_sorts.csv',)\n",
    "\n",
    "    m2l_utils.plot_points(output_path+'orientations_polarity.csv',geol_clip,'polarity','X','Y',True,'alpha')\n"
   ]
  },
  {
   "cell_type": "markdown",
   "metadata": {},
   "source": [
    "## Calculate minimum fault offset from stratigraphy and stratigraphic fault offset"
   ]
  },
  {
   "cell_type": "code",
   "execution_count": null,
   "metadata": {
    "ExecuteTime": {
     "end_time": "2020-06-02T06:38:14.593318Z",
     "start_time": "2020-06-02T06:38:08.052612Z"
    },
    "pycharm": {
     "is_executing": false
    }
   },
   "outputs": [],
   "source": [
    "if(workflow['strat_offset'] and os.path.exists(fault_file)):\n",
    "    fault_test=pd.read_csv(output_path+'fault_dimensions.csv',',')\n",
    "    if(len(fault_test)>0):\n",
    "\n",
    "        m2l_geometry.fault_strat_offset(output_path,c_l,dst_crs,output_path+'formation_summary_thicknesses.csv', tmp_path+'all_sorts.csv',tmp_path+'faults_clip.shp',tmp_path+'geol_clip.shp',output_path+'fault_dimensions.csv')\n",
    "\n",
    "\n",
    "        m2l_utils.plot_points(output_path+'fault_strat_offset3.csv',geol_clip,'min_offset','X','Y',True,'numeric')\n",
    "        m2l_utils.plot_points(output_path+'fault_strat_offset3.csv',geol_clip,'strat_offset','X','Y',True,'numeric')"
   ]
  },
  {
   "cell_type": "markdown",
   "metadata": {},
   "source": [
    "## Analyse fault-fault topology"
   ]
  },
  {
   "cell_type": "code",
   "execution_count": null,
   "metadata": {
    "ExecuteTime": {
     "end_time": "2020-06-02T06:38:15.206377Z",
     "start_time": "2020-06-02T06:38:14.598316Z"
    },
    "pycharm": {
     "is_executing": false
    }
   },
   "outputs": [],
   "source": [
    "if(os.path.exists(fault_file)):\n",
    "    m2l_topology.parse_fault_relationships(graph_path,tmp_path,output_path)"
   ]
  },
  {
   "cell_type": "markdown",
   "metadata": {
    "scrolled": false
   },
   "source": [
    "# loop2gemodeller test \n",
    "\n"
   ]
  },
  {
   "cell_type": "code",
   "execution_count": null,
   "metadata": {
    "ExecuteTime": {
     "end_time": "2020-06-02T06:38:31.275540Z",
     "start_time": "2020-06-02T06:38:15.211380Z"
    },
    "pycharm": {
     "is_executing": false
    },
    "scrolled": false
   },
   "outputs": [],
   "source": [
    "if(workflow['model_engine']=='geomodeller'):\n",
    "    from datetime import datetime\n",
    "    import shutil\n",
    "   \n",
    "    \n",
    "    m2l_topology.check_near_fault_contacts(tmp_path+'faults_clip.shp',tmp_path+'all_sorts_clean.csv',\n",
    "                                           output_path+'fault_dimensions.csv',output_path+'group-fault-relationships.csv',\n",
    "                                           output_path+'contacts_clean.csv',c_l,dst_crs)\n",
    "\n",
    "    nowtime=datetime.now().isoformat(timespec='minutes')   \n",
    "    model_name=test_data_name+'_'+nowtime.replace(\":\",\"-\").replace(\"T\",\"-\")\n",
    "    os.mkdir(test_data_path+'/'+model_name)\n",
    "    save_faults=True\n",
    "    compute_etc=True\n",
    "    t1 = time.time()\n",
    "    m2l_export.loop2geomodeller(model_name,test_data_path,tmp_path,output_path,'../dtm/dtm_rp.tif',bbox,\n",
    "                                model_top,model_base,save_faults,compute_etc,workflow)\n",
    "    t2 = time.time()\n",
    "    os.chdir(test_data_path+'/'+model_name)\n",
    "    %system geomodellerbatch.exe -batch m2l.taskfile\n",
    "    t3 = time.time()\n",
    "    #%system geomodellerbatch.exe -batch m2l_compute.taskfile\n",
    "    t4 = time.time()\n",
    "    print(\"m2l\",(t1-t0)/60.0,\"export process\",(t2-t1)/60.0,\"batch process\",(t3-t2)/60.0,\"batch calculate\",(t4-t3)/60.0,\"minutes\")\n",
    "    #shutil.copy('../tmp','.')\n",
    "    #shutil.copy('../output','.')\n",
    "    #shutil.copy('../graph','.')\n",
    "    #shutil.copy('../dtm','.')\n",
    "    os.chdir('..')"
   ]
  },
  {
   "cell_type": "markdown",
   "metadata": {},
   "source": [
    "# loopstructural test"
   ]
  },
  {
   "cell_type": "code",
   "execution_count": null,
   "metadata": {
    "scrolled": false
   },
   "outputs": [],
   "source": [
    "if(workflow['model_engine']=='loopstructural'):\n",
    "    #model_base=-8200\n",
    "\n",
    "    import random\n",
    "    \n",
    "    from LoopStructural import GeologicalModel\n",
    "    import lavavu\n",
    "    from LoopStructural.visualisation import LavaVuModelViewer\n",
    "    from LoopStructural import GeologicalModel\n",
    "    #import surfepy\n",
    "    import logging\n",
    "    logging.getLogger().setLevel(logging.ERROR)\n",
    "    # ##############################\n",
    "    # uncomment next line and point to your compiled surfe library if you have one and want to use surfe\n",
    "    # os.environ['SURFE'] = 'C:/Users/00073294/Dropbox/1_Jupyter_notebooks/surfe/Release/'\n",
    "    # ##############################\n",
    "    f=open(tmp_path+'bbox.csv','w')\n",
    "    f.write('minx,miny,maxx,maxy,lower,upper\\n')\n",
    "    ostr='{},{},{},{},{},{}\\n'.format(minx,miny,maxx,maxy,model_base,model_top)\n",
    "    f.write(ostr)\n",
    "    f.close()\n",
    "    t1 = time.time()\n",
    "    fault_params = {'interpolatortype':'FDI',\n",
    "                    'nelements':3e4,\n",
    "                    'data_region':.1,\n",
    "                    'solver':'pyamg',\n",
    "    #                 overprints:overprints,\n",
    "                    'cpw':10,\n",
    "                    'npw':10}\n",
    "    foliation_params = {'interpolatortype':'PLI' , # 'interpolatortype':'PLI','FDI','surfe'\n",
    "                        'nelements':1e5,  # how many tetras/voxels\n",
    "                        'buffer':0.8,  # how much to extend nterpolation around box\n",
    "                        'solver':'pyamg',\n",
    "                        'damp':True}\n",
    "    if(not os.path.exists(fault_file)):\n",
    "        f=open(output_path + '/fault_displacements3.csv','w')\n",
    "        f.write('X,Y,fname,apparent_displacement,vertical_displacement,downthrow_dir\\n')\n",
    "        f.close()\n",
    "        f=open(output_path + '/fault_orientations.csv','w')\n",
    "        f.write('X,Y,Z,DipDirection,dip,DipPolarity,formation\\n')\n",
    "        f.close()\n",
    "        f=open(output_path + '/faults.csv','w')\n",
    "        f.write('X,Y,Z,formation\\n')\n",
    "        f.close()\n",
    "        f=open(output_path + '/fault-fault-relationships.csv','w')\n",
    "        f.write('fault_id\\n')\n",
    "        f.close()\n",
    "        f=open(output_path + '/group-fault-relationships.csv','w')\n",
    "        f.write('group\\n')\n",
    "        f.close()\n",
    "\n",
    "        model, m2l_data = GeologicalModel.from_map2loop_directory(test_data_path,\n",
    "                                                              skip_faults=True,\n",
    "                                                              fault_params=fault_params,\n",
    "                                                              foliation_params=foliation_params)\n",
    "    else:\n",
    "        model, m2l_data = GeologicalModel.from_map2loop_directory(test_data_path,\n",
    "                                                              skip_faults=False,\n",
    "                                                              fault_params=fault_params,\n",
    "                                                              foliation_params=foliation_params)\n",
    "  \n",
    "    view = LavaVuModelViewer(model,vertical_exaggeration=2) \n",
    "    view.nsteps = np.array([200,200,200])\n",
    "    #view.set_zscale(2)\n",
    "    for sg in model.feature_name_index:\n",
    "        if( 'super' in sg ):\n",
    "            view.add_data(model.features[model.feature_name_index[sg]])\n",
    "    view.add_model(cmap='tab20')\n",
    "    view.nsteps=np.array([50,50,50])\n",
    "\n",
    "    filename=vtk_path+'surface_name_{}.vtk'\n",
    "    view.add_model_surfaces(filename=filename)\n",
    "    \n",
    "    #view.add_model_surfaces()\n",
    "    view.interactive()  \n",
    "    \n",
    "    for sg in model.feature_name_index:\n",
    "        if( 'super' in sg ):\n",
    "            view.add_data(model.features[model.feature_name_index[sg]])\n",
    "\n",
    "    t2 = time.time()\n",
    "    print(\"m2l\",(t1-t0)/60.0,\"LoopStructural\",(t2-t1)/60.0,\"Total\",(t2-t0)/60.0,\"minutes\")"
   ]
  },
  {
   "cell_type": "markdown",
   "metadata": {},
   "source": [
    "## Overlay map over model"
   ]
  },
  {
   "cell_type": "code",
   "execution_count": null,
   "metadata": {},
   "outputs": [],
   "source": [
    "if(workflow['model_engine']=='loopstructural'):  \n",
    "    dtm = rasterio.open(dtm_reproj_file)\n",
    "    if(os.path.exists(fault_file)):\n",
    "        f_clip=faults_clip[faults_clip[c_l['f']].str.contains(c_l['fault'])]\n",
    "        m2l_export.display_LS_map(model,dtm,geol_clip,f_clip,dst_crs,use_topo=True,use_faults=True)\n",
    "    else:\n",
    "        f_clip=[]\n",
    "        m2l_export.display_LS_map(model,dtm,geol_clip,f_clip,dst_crs,use_topo=True,use_faults=False)\n",
    "\n",
    "    dtm.close()\n"
   ]
  },
  {
   "cell_type": "code",
   "execution_count": null,
   "metadata": {
    "scrolled": false
   },
   "outputs": [],
   "source": [
    "import matplotlib.colors as colors\n",
    "colours = []\n",
    "boundaries = []\n",
    "data = []\n",
    "all_sorts=pd.read_csv(tmp_path+'all_sorts_clean.csv')\n",
    "for ind,a_s in all_sorts.iterrows():\n",
    "    colours.append(m2l_utils.hextofloats(a_s['colour']))\n",
    "    \n",
    "test = colors.ListedColormap(colours)\n",
    "geology = gpd.read_file(tmp_path+'geol_clip.shp')\n",
    "geology.plot(column='UNITNAME',figsize=(10,10),edgecolor='#000000',linewidth=2,cmap=test)\n"
   ]
  },
  {
   "cell_type": "markdown",
   "metadata": {},
   "source": [
    "## Save out voxel model"
   ]
  },
  {
   "cell_type": "code",
   "execution_count": null,
   "metadata": {},
   "outputs": [],
   "source": [
    "if(workflow['model_engine']=='loopstructural'):  \n",
    "    voxel_size=500\n",
    "    sizex=int((maxx-minx)/voxel_size)\n",
    "    sizey=int((maxy-miny)/voxel_size)\n",
    "    sizez=int((model_top-model_base)/voxel_size)\n",
    "    print('voxel_size=',voxel_size,', saved in Z,Y,X order, Z=',sizez,', Y=',sizey,', X=',sizex)\n",
    "    print('lower south west corner: west=',minx,', south=',miny,', lower=',model_base)\n",
    "    voxels=model.evaluate_model(model.regular_grid(nsteps=(sizey,sizex,sizez),shuffle=False))\n",
    "    np.savetxt(tmp_path+'voxels.raw', voxels, fmt='%d',delimiter='\\t',newline='')\n",
    "    print('voxels saved as',tmp_path+'voxels.raw')\n",
    "    print(\"ImageJ ordering Width=\",sizez,', Height=',sizex,', Number of Images=',sizey)"
   ]
  },
  {
   "cell_type": "markdown",
   "metadata": {},
   "source": [
    "# gempy test"
   ]
  },
  {
   "cell_type": "code",
   "execution_count": null,
   "metadata": {
    "ExecuteTime": {
     "end_time": "2020-06-02T06:38:31.327540Z",
     "start_time": "2020-06-02T06:38:31.303541Z"
    },
    "pycharm": {
     "is_executing": false
    },
    "scrolled": false
   },
   "outputs": [],
   "source": [
    "if(workflow['model_engine']=='gempy'):\n",
    "\n",
    "    t1 = time.time()\n",
    "    import importlib\n",
    "    importlib.reload(m2l_export)\n",
    "\n",
    "\n",
    "    vtk = True\n",
    "    if  vtk:\n",
    "        vtkexp = gp._plot.export_to_vtk(geo_model, path=vtk_path, name=test_data_name + '.vtk', voxels=False, block=None,\n",
    "        surfaces=True)\n",
    "    else:\n",
    "        m2l_export.loop2gempy(test_data_name,tmp_path,vtk_path,output_path+'orientations_clean.csv',\n",
    "                                output_path+'contacts_clean.csv',tmp_path+'groups_clean.csv',\n",
    "                                bbox,model_base, model_top,vtk,dtm_reproj_file)\n"
   ]
  },
  {
   "cell_type": "markdown",
   "metadata": {},
   "source": [
    "# noddy test"
   ]
  },
  {
   "cell_type": "code",
   "execution_count": null,
   "metadata": {
    "ExecuteTime": {
     "end_time": "2020-06-02T06:38:31.378548Z",
     "start_time": "2020-06-02T06:38:31.335540Z"
    },
    "pycharm": {
     "is_executing": false
    }
   },
   "outputs": [],
   "source": [
    "if(workflow['model_engine']=='noddy'):\n",
    "\n",
    "    import pynoddy.history\n",
    "    import networkx as nx\n",
    "    #Read a csv file with the vertices of the faults\n",
    "    #see notes in the bottom of the notebook for instructions on how to generate such vertices files\n",
    "    t1 = time.time()\n",
    "    \n",
    "    scale=1.5 #  scales mdoel to fit predefined volume (complete hack)\n",
    "    \n",
    "    # load fault coordinates\n",
    "    faultsxy=pd.read_csv(output_path+'faults.csv')\n",
    "\n",
    "    #load fault graph, remove cyclic loops and find (non-unique) age-ordered list \n",
    "    G=nx.read_gml(tmp_path+\"fault_network.gml\")\n",
    "    cycles=list(nx.simple_cycles(G))\n",
    "    for c in cycles:\n",
    "        G.remove_edge(c[0], c[1])\n",
    "    faults=nx.topological_sort(G)\n",
    "\n",
    "    # write out Noe format format file\n",
    "    file=open(tmp_path+'faults_for_noe.csv','w')\n",
    "    file.write('id,DipDirecti,X,Y\\n')\n",
    "    for f in faults:\n",
    "            fxy=faultsxy[faultsxy[\"formation\"]==f.replace(\"\\n\",\"\")]\n",
    "            #display(f.replace(\"\\n\",\"\"))\n",
    "            for ind,xy in fxy.iterrows():\n",
    "                ostr=f.replace('\\n','')+',West,'+str(xy['X']/scale)+','+str(xy['Y']/scale)+'\\n'\n",
    "                file.write(ostr)\n",
    "    file.close()\n",
    "    \n",
    "    csvfile = tmp_path+'faults_for_noe.csv'\n",
    "    CsvFaultData = pd.read_csv(csvfile)\n",
    "\n",
    "    #how much does the fault slip relative to the fault length\n",
    "    SlipParam = 0.1\n",
    "\n",
    "    #the xyz origin of the model you will be generating\n",
    "    xy_origin=[minx/scale,miny/scale, 1200-4000]\n",
    "\n",
    "    #Get information about each parameter in Noddy format\n",
    "    #The output from the function is a dictionary with lists of the fault parameters\n",
    "    noddyFormattedFaultData =  pynoddy.history.setUpFaultRepresentation(CsvFaultData,\n",
    "                                                        xy_origin=xy_origin, \n",
    "                                                        SlipParam=SlipParam)\n",
    "\n",
    "    #Create a dictionary with the stratigraphy information\n",
    "    StratDict = {}\n",
    "    StratDict['Heights'] = [2000, 2500, 3000, 3700]\n",
    "    StratDict['Names'] = ['Intrusive', 'Felsic', 'Mafic','Sed'] \n",
    "    StratDict['Density'] =  [2.65, 2.5, 2.4, 2.3] \n",
    "    StratDict['MagSus'] = [0.0015, 0.0012, 0.0018, 0.001]\n",
    "\n",
    "    #Now make the history file\n",
    "    filename = output_path+'faultmodel.his'\n",
    "    noddyFormattedFaultData =  pynoddy.history.createPyNoddyHistoryFile(noddyFormattedFaultData, StratDict, filename=filename)\n"
   ]
  },
  {
   "cell_type": "code",
   "execution_count": null,
   "metadata": {
    "ExecuteTime": {
     "end_time": "2020-06-02T06:38:31.412547Z",
     "start_time": "2020-06-02T06:38:31.390541Z"
    },
    "pycharm": {
     "is_executing": false
    }
   },
   "outputs": [],
   "source": [
    "if(workflow['model_engine']=='noddy'):\n",
    "    import vtkplotter as vtkP\n",
    "    import itkwidgets\n",
    "    import k3d\n",
    "    import pynoddy.output\n",
    "    import pynoddy.history\n",
    "\n",
    "    modelfile = output_path+'faultmodel.his'\n",
    "\n",
    "    # Determine the path to the noddy executable\n",
    "    noddy_path = '../../pynoddy-new/noddyapp/noddy_win64.exe'\n",
    "\n",
    "    # Where you would like to place all your output files\n",
    "    outputfolder = tmp_path\n",
    "\n",
    "    # choose what software to use for visualizing the model\n",
    "    #you can also choose to change to itkwidgets, k3d, False (popup), or panel\n",
    "    #you might need to install packages depending on what you choose\n",
    "    vtkP.settings.embedWindow('k3d') \n",
    "\n",
    "    # create a plot in vtkplotter\n",
    "    plot = vtkP.Plotter(axes=1, bg='white', interactive=1)\n",
    "\n",
    "    # call the plotting function\n",
    "    points = pynoddy.output.CalculatePlotStructure(modelfile, plot, noddy_path, \n",
    "                                           outputfolder=outputfolder,\n",
    "                                           LithologyOpacity=0.2, outputOption=0)\n",
    "    plot.show(viewup='z')\n",
    "    t2 = time.time()\n",
    "\n",
    "    print(\"m2l\",(t1-t0)/60.0,\"noddy\",(t2-t1)/60.0,\"Total\",(t2-t0)/60.0,\"minutes\")\n"
   ]
  },
  {
   "cell_type": "code",
   "execution_count": null,
   "metadata": {},
   "outputs": [],
   "source": []
  }
 ],
 "metadata": {
  "hide_input": false,
  "kernelspec": {
   "display_name": "Python 3",
   "language": "python",
   "name": "python3"
  },
  "language_info": {
   "codemirror_mode": {
    "name": "ipython",
    "version": 3
   },
   "file_extension": ".py",
   "mimetype": "text/x-python",
   "name": "python",
   "nbconvert_exporter": "python",
   "pygments_lexer": "ipython3",
   "version": "3.7.5"
  },
  "pycharm": {
   "stem_cell": {
    "cell_type": "raw",
    "metadata": {
     "collapsed": false
    },
    "source": []
   }
  },
  "toc": {
   "base_numbering": 1,
   "nav_menu": {},
   "number_sections": true,
   "sideBar": true,
   "skip_h1_title": false,
   "title_cell": "Table of Contents",
   "title_sidebar": "Contents",
   "toc_cell": true,
   "toc_position": {},
   "toc_section_display": true,
   "toc_window_display": false
  }
 },
 "nbformat": 4,
 "nbformat_minor": 2
}
